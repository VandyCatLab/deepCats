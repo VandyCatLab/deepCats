{
 "cells": [
  {
   "cell_type": "code",
   "execution_count": 1,
   "metadata": {},
   "outputs": [
    {
     "name": "stderr",
     "output_type": "stream",
     "text": [
      "2023-05-14 23:14:01.914623: I tensorflow/core/platform/cpu_feature_guard.cc:193] This TensorFlow binary is optimized with oneAPI Deep Neural Network Library (oneDNN) to use the following CPU instructions in performance-critical operations:  AVX2 FMA\n",
      "To enable them in other operations, rebuild TensorFlow with the appropriate compiler flags.\n",
      "2023-05-14 23:14:02.551956: W tensorflow/compiler/xla/stream_executor/platform/default/dso_loader.cc:64] Could not load dynamic library 'libnvinfer.so.7'; dlerror: libnvinfer.so.7: cannot open shared object file: No such file or directory\n",
      "2023-05-14 23:14:02.552007: W tensorflow/compiler/xla/stream_executor/platform/default/dso_loader.cc:64] Could not load dynamic library 'libnvinfer_plugin.so.7'; dlerror: libnvinfer_plugin.so.7: cannot open shared object file: No such file or directory\n",
      "2023-05-14 23:14:02.552014: W tensorflow/compiler/tf2tensorrt/utils/py_utils.cc:38] TF-TRT Warning: Cannot dlopen some TensorRT libraries. If you would like to use Nvidia GPU with TensorRT, please make sure the missing libraries mentioned above are installed properly.\n"
     ]
    }
   ],
   "source": [
    "import tensorflow as tf\n",
    "import numpy as np\n",
    "import pandas as pd\n",
    "import matplotlib.pyplot as plt\n",
    "from sklearn.manifold import MDS\n",
    "from PIL import Image\n",
    "import os\n",
    "\n",
    "import ecoset\n",
    "import categorization as cat\n",
    "import utils"
   ]
  },
  {
   "attachments": {},
   "cell_type": "markdown",
   "metadata": {},
   "source": [
    "# Dataset\n",
    "100 images from Ecoset + CUB200.\n",
    "* Superordinate: 50 vehicles and 50 animals\n",
    "* Basic: 25 cars, 25 busses, 25 dogs, 25 birds\n",
    "* Subordinate: 5 species of birds\n",
    "\n",
    "Images preprocessed by centering the features and resizing to 224x224."
   ]
  },
  {
   "cell_type": "code",
   "execution_count": 2,
   "metadata": {},
   "outputs": [
    {
     "data": {
      "text/html": [
       "<div>\n",
       "<style scoped>\n",
       "    .dataframe tbody tr th:only-of-type {\n",
       "        vertical-align: middle;\n",
       "    }\n",
       "\n",
       "    .dataframe tbody tr th {\n",
       "        vertical-align: top;\n",
       "    }\n",
       "\n",
       "    .dataframe thead th {\n",
       "        text-align: right;\n",
       "    }\n",
       "</style>\n",
       "<table border=\"1\" class=\"dataframe\">\n",
       "  <thead>\n",
       "    <tr style=\"text-align: right;\">\n",
       "      <th></th>\n",
       "      <th>path</th>\n",
       "      <th>name</th>\n",
       "      <th>cat1</th>\n",
       "      <th>cat2</th>\n",
       "      <th>cat3</th>\n",
       "    </tr>\n",
       "  </thead>\n",
       "  <tbody>\n",
       "    <tr>\n",
       "      <th>0</th>\n",
       "      <td>./images/deepCats/animal/bird/CUB_005.Crested_...</td>\n",
       "      <td>Crested_Auklet_0021_794938.jpg</td>\n",
       "      <td>animal</td>\n",
       "      <td>bird</td>\n",
       "      <td>CUB_005.Crested_Auklet</td>\n",
       "    </tr>\n",
       "    <tr>\n",
       "      <th>1</th>\n",
       "      <td>./images/deepCats/animal/bird/CUB_005.Crested_...</td>\n",
       "      <td>Crested_Auklet_0028_794951.jpg</td>\n",
       "      <td>animal</td>\n",
       "      <td>bird</td>\n",
       "      <td>CUB_005.Crested_Auklet</td>\n",
       "    </tr>\n",
       "    <tr>\n",
       "      <th>2</th>\n",
       "      <td>./images/deepCats/animal/bird/CUB_005.Crested_...</td>\n",
       "      <td>Crested_Auklet_0036_794905.jpg</td>\n",
       "      <td>animal</td>\n",
       "      <td>bird</td>\n",
       "      <td>CUB_005.Crested_Auklet</td>\n",
       "    </tr>\n",
       "    <tr>\n",
       "      <th>3</th>\n",
       "      <td>./images/deepCats/animal/bird/CUB_005.Crested_...</td>\n",
       "      <td>Crested_Auklet_0011_794927.jpg</td>\n",
       "      <td>animal</td>\n",
       "      <td>bird</td>\n",
       "      <td>CUB_005.Crested_Auklet</td>\n",
       "    </tr>\n",
       "    <tr>\n",
       "      <th>4</th>\n",
       "      <td>./images/deepCats/animal/bird/CUB_005.Crested_...</td>\n",
       "      <td>Crested_Auklet_0006_1813.jpg</td>\n",
       "      <td>animal</td>\n",
       "      <td>bird</td>\n",
       "      <td>CUB_005.Crested_Auklet</td>\n",
       "    </tr>\n",
       "  </tbody>\n",
       "</table>\n",
       "</div>"
      ],
      "text/plain": [
       "                                                path  \\\n",
       "0  ./images/deepCats/animal/bird/CUB_005.Crested_...   \n",
       "1  ./images/deepCats/animal/bird/CUB_005.Crested_...   \n",
       "2  ./images/deepCats/animal/bird/CUB_005.Crested_...   \n",
       "3  ./images/deepCats/animal/bird/CUB_005.Crested_...   \n",
       "4  ./images/deepCats/animal/bird/CUB_005.Crested_...   \n",
       "\n",
       "                             name    cat1  cat2                    cat3  \n",
       "0  Crested_Auklet_0021_794938.jpg  animal  bird  CUB_005.Crested_Auklet  \n",
       "1  Crested_Auklet_0028_794951.jpg  animal  bird  CUB_005.Crested_Auklet  \n",
       "2  Crested_Auklet_0036_794905.jpg  animal  bird  CUB_005.Crested_Auklet  \n",
       "3  Crested_Auklet_0011_794927.jpg  animal  bird  CUB_005.Crested_Auklet  \n",
       "4    Crested_Auklet_0006_1813.jpg  animal  bird  CUB_005.Crested_Auklet  "
      ]
     },
     "execution_count": 2,
     "metadata": {},
     "output_type": "execute_result"
    }
   ],
   "source": [
    "# Load csv\n",
    "df = pd.read_csv(\"./deepCatsImages.csv\")\n",
    "df.head()\n"
   ]
  },
  {
   "cell_type": "code",
   "execution_count": 6,
   "metadata": {},
   "outputs": [
    {
     "name": "stdout",
     "output_type": "stream",
     "text": [
      "Loading images from file...\n",
      "(100, 224, 224, 3)\n"
     ]
    }
   ],
   "source": [
    "imgFile = \"./images/deepCatsImages.npy\"\n",
    "\n",
    "if not os.path.exists(imgFile):\n",
    "    # Preallocate array for images\n",
    "    images = np.zeros((df.shape[0], 224, 224, 3), dtype=np.float32)\n",
    "\n",
    "    # Loop through images\n",
    "    for i, row in df.iterrows():\n",
    "        # Load image\n",
    "        img = Image.open(row[\"path\"])\n",
    "\n",
    "        # Preprocess image\n",
    "        img = ecoset.preprocess_alexnet(img)\n",
    "\n",
    "        # Add image to array\n",
    "        images[i] = img\n",
    "\n",
    "    # Save images as a npy\n",
    "    np.save(imgFile, images)\n",
    "else:\n",
    "    # Load images from npy\n",
    "    print(\"Loading images from file...\")\n",
    "    images = np.load(imgFile)\n",
    "\n",
    "print(images.shape)"
   ]
  },
  {
   "attachments": {},
   "cell_type": "markdown",
   "metadata": {},
   "source": [
    "# Models and representations\n",
    "Generate representations from AlexNet trained in Mehrer et al 2022. \n",
    "* 10 models are traiend on Ecoset (basic-level categories)\n",
    "* 10 models are traiend on ImageNet (mixed levels of abstraction)"
   ]
  },
  {
   "cell_type": "code",
   "execution_count": null,
   "metadata": {},
   "outputs": [],
   "source": []
  }
 ],
 "metadata": {
  "kernelspec": {
   "display_name": "research2",
   "language": "python",
   "name": "python3"
  },
  "language_info": {
   "codemirror_mode": {
    "name": "ipython",
    "version": 3
   },
   "file_extension": ".py",
   "mimetype": "text/x-python",
   "name": "python",
   "nbconvert_exporter": "python",
   "pygments_lexer": "ipython3",
   "version": "3.8.10"
  },
  "orig_nbformat": 4
 },
 "nbformat": 4,
 "nbformat_minor": 2
}
