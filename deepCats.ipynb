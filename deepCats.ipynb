{
 "cells": [
  {
   "cell_type": "code",
   "execution_count": 1,
   "metadata": {
    "notebookRunGroups": {
     "groupValue": "12"
    }
   },
   "outputs": [
    {
     "name": "stderr",
     "output_type": "stream",
     "text": [
      "2022-08-19 11:04:26.374506: I tensorflow/stream_executor/platform/default/dso_loader.cc:53] Successfully opened dynamic library libcudart.so.11.0\n"
     ]
    }
   ],
   "source": [
    "import tensorflow as tf\n",
    "from tensorflow.keras import layers\n",
    "import numpy as np\n",
    "import tensorflow_addons as tfa\n",
    "import os\n",
    "from PIL import Image\n",
    "import pandas as pd\n",
    "from sklearn.manifold import MDS\n",
    "import matplotlib.pyplot as plt\n",
    "\n",
    "import ecoset\n",
    "import categorization as cat\n",
    "import utils"
   ]
  },
  {
   "cell_type": "markdown",
   "metadata": {},
   "source": [
    "# Setup Ecoset models"
   ]
  },
  {
   "cell_type": "code",
   "execution_count": 2,
   "metadata": {
    "notebookRunGroups": {
     "groupValue": "1"
    }
   },
   "outputs": [
    {
     "name": "stderr",
     "output_type": "stream",
     "text": [
      "2022-08-19 11:04:27.863613: I tensorflow/stream_executor/platform/default/dso_loader.cc:53] Successfully opened dynamic library libcuda.so.1\n",
      "2022-08-19 11:04:27.896753: I tensorflow/stream_executor/cuda/cuda_gpu_executor.cc:937] successful NUMA node read from SysFS had negative value (-1), but there must be at least one NUMA node, so returning NUMA node zero\n",
      "2022-08-19 11:04:27.897265: I tensorflow/core/common_runtime/gpu/gpu_device.cc:1733] Found device 0 with properties: \n",
      "pciBusID: 0000:01:00.0 name: NVIDIA GeForce GTX 970 computeCapability: 5.2\n",
      "coreClock: 1.253GHz coreCount: 13 deviceMemorySize: 3.94GiB deviceMemoryBandwidth: 208.91GiB/s\n",
      "2022-08-19 11:04:27.897303: I tensorflow/stream_executor/platform/default/dso_loader.cc:53] Successfully opened dynamic library libcudart.so.11.0\n",
      "2022-08-19 11:04:27.900350: I tensorflow/stream_executor/platform/default/dso_loader.cc:53] Successfully opened dynamic library libcublas.so.11\n",
      "2022-08-19 11:04:27.900397: I tensorflow/stream_executor/platform/default/dso_loader.cc:53] Successfully opened dynamic library libcublasLt.so.11\n",
      "2022-08-19 11:04:27.901909: I tensorflow/stream_executor/platform/default/dso_loader.cc:53] Successfully opened dynamic library libcufft.so.10\n",
      "2022-08-19 11:04:27.902127: I tensorflow/stream_executor/platform/default/dso_loader.cc:53] Successfully opened dynamic library libcurand.so.10\n",
      "2022-08-19 11:04:27.902593: I tensorflow/stream_executor/platform/default/dso_loader.cc:53] Successfully opened dynamic library libcusolver.so.11\n",
      "2022-08-19 11:04:27.903244: I tensorflow/stream_executor/platform/default/dso_loader.cc:53] Successfully opened dynamic library libcusparse.so.11\n",
      "2022-08-19 11:04:27.903363: I tensorflow/stream_executor/platform/default/dso_loader.cc:53] Successfully opened dynamic library libcudnn.so.8\n",
      "2022-08-19 11:04:27.903462: I tensorflow/stream_executor/cuda/cuda_gpu_executor.cc:937] successful NUMA node read from SysFS had negative value (-1), but there must be at least one NUMA node, so returning NUMA node zero\n",
      "2022-08-19 11:04:27.903796: I tensorflow/stream_executor/cuda/cuda_gpu_executor.cc:937] successful NUMA node read from SysFS had negative value (-1), but there must be at least one NUMA node, so returning NUMA node zero\n",
      "2022-08-19 11:04:27.904038: I tensorflow/core/common_runtime/gpu/gpu_device.cc:1871] Adding visible gpu devices: 0\n",
      "2022-08-19 11:04:27.904463: I tensorflow/core/platform/cpu_feature_guard.cc:142] This TensorFlow binary is optimized with oneAPI Deep Neural Network Library (oneDNN) to use the following CPU instructions in performance-critical operations:  AVX2 FMA\n",
      "To enable them in other operations, rebuild TensorFlow with the appropriate compiler flags.\n",
      "2022-08-19 11:04:27.904680: I tensorflow/stream_executor/cuda/cuda_gpu_executor.cc:937] successful NUMA node read from SysFS had negative value (-1), but there must be at least one NUMA node, so returning NUMA node zero\n",
      "2022-08-19 11:04:27.904936: I tensorflow/core/common_runtime/gpu/gpu_device.cc:1733] Found device 0 with properties: \n",
      "pciBusID: 0000:01:00.0 name: NVIDIA GeForce GTX 970 computeCapability: 5.2\n",
      "coreClock: 1.253GHz coreCount: 13 deviceMemorySize: 3.94GiB deviceMemoryBandwidth: 208.91GiB/s\n",
      "2022-08-19 11:04:27.905001: I tensorflow/stream_executor/cuda/cuda_gpu_executor.cc:937] successful NUMA node read from SysFS had negative value (-1), but there must be at least one NUMA node, so returning NUMA node zero\n",
      "2022-08-19 11:04:27.905284: I tensorflow/stream_executor/cuda/cuda_gpu_executor.cc:937] successful NUMA node read from SysFS had negative value (-1), but there must be at least one NUMA node, so returning NUMA node zero\n",
      "2022-08-19 11:04:27.905530: I tensorflow/core/common_runtime/gpu/gpu_device.cc:1871] Adding visible gpu devices: 0\n",
      "2022-08-19 11:04:27.905555: I tensorflow/stream_executor/platform/default/dso_loader.cc:53] Successfully opened dynamic library libcudart.so.11.0\n",
      "2022-08-19 11:04:28.287553: I tensorflow/core/common_runtime/gpu/gpu_device.cc:1258] Device interconnect StreamExecutor with strength 1 edge matrix:\n",
      "2022-08-19 11:04:28.287578: I tensorflow/core/common_runtime/gpu/gpu_device.cc:1264]      0 \n",
      "2022-08-19 11:04:28.287584: I tensorflow/core/common_runtime/gpu/gpu_device.cc:1277] 0:   N \n",
      "2022-08-19 11:04:28.287750: I tensorflow/stream_executor/cuda/cuda_gpu_executor.cc:937] successful NUMA node read from SysFS had negative value (-1), but there must be at least one NUMA node, so returning NUMA node zero\n",
      "2022-08-19 11:04:28.288055: I tensorflow/stream_executor/cuda/cuda_gpu_executor.cc:937] successful NUMA node read from SysFS had negative value (-1), but there must be at least one NUMA node, so returning NUMA node zero\n",
      "2022-08-19 11:04:28.288338: I tensorflow/stream_executor/cuda/cuda_gpu_executor.cc:937] successful NUMA node read from SysFS had negative value (-1), but there must be at least one NUMA node, so returning NUMA node zero\n",
      "2022-08-19 11:04:28.288590: I tensorflow/core/common_runtime/gpu/gpu_device.cc:1418] Created TensorFlow device (/job:localhost/replica:0/task:0/device:GPU:0 with 3300 MB memory) -> physical GPU (device: 0, name: NVIDIA GeForce GTX 970, pci bus id: 0000:01:00.0, compute capability: 5.2)\n"
     ]
    },
    {
     "name": "stdout",
     "output_type": "stream",
     "text": [
      "Weights from ./models/AlexNet/ecoset_training_seeds_01_to_10/training_seed_01/model.ckpt_epoch89 loaded successfully.\n",
      "Weights from ./models/AlexNet/ILSVRC_training_seeds_01_to_10/training_seed_01/model.ckpt_epoch89 loaded successfully.\n",
      "Model: \"model\"\n",
      "_________________________________________________________________\n",
      "Layer (type)                 Output Shape              Param #   \n",
      "=================================================================\n",
      "input_1 (InputLayer)         [(None, 224, 224, 3)]     0         \n",
      "_________________________________________________________________\n",
      "conv1 (Conv2D)               (None, 54, 54, 64)        23296     \n",
      "_________________________________________________________________\n",
      "pool1 (MaxPooling2D)         (None, 26, 26, 64)        0         \n",
      "_________________________________________________________________\n",
      "conv2 (Conv2D)               (None, 26, 26, 192)       307392    \n",
      "_________________________________________________________________\n",
      "pool2 (MaxPooling2D)         (None, 12, 12, 192)       0         \n",
      "_________________________________________________________________\n",
      "conv3 (Conv2D)               (None, 12, 12, 384)       663936    \n",
      "_________________________________________________________________\n",
      "conv4 (Conv2D)               (None, 12, 12, 384)       1327488   \n",
      "_________________________________________________________________\n",
      "conv5 (Conv2D)               (None, 12, 12, 256)       884992    \n",
      "_________________________________________________________________\n",
      "pool5 (MaxPooling2D)         (None, 5, 5, 256)         0         \n",
      "_________________________________________________________________\n",
      "fc6 (Conv2D)                 (None, 5, 5, 4096)        26218496  \n",
      "_________________________________________________________________\n",
      "dropout (Dropout)            (None, 5, 5, 4096)        0         \n",
      "_________________________________________________________________\n",
      "fc7 (Conv2D)                 (None, 5, 5, 4096)        16781312  \n",
      "_________________________________________________________________\n",
      "dropout_1 (Dropout)          (None, 5, 5, 4096)        0         \n",
      "_________________________________________________________________\n",
      "fc8 (Conv2D)                 (None, 5, 5, 565)         2314805   \n",
      "_________________________________________________________________\n",
      "global_average_pooling2d (Gl (None, 565)               0         \n",
      "_________________________________________________________________\n",
      "flatten (Flatten)            (None, 565)               0         \n",
      "=================================================================\n",
      "Total params: 48,521,717\n",
      "Trainable params: 48,521,717\n",
      "Non-trainable params: 0\n",
      "_________________________________________________________________\n"
     ]
    }
   ],
   "source": [
    "# Load model\n",
    "ecosetModel = ecoset.make_alex_net_v2(\n",
    "    weights_path='./models/AlexNet/ecoset_training_seeds_01_to_10/training_seed_01/model.ckpt_epoch89',\n",
    ")\n",
    "imagenetModel = ecoset.make_alex_net_v2(\n",
    "    output_shape=1000, \n",
    "    weights_path='./models/AlexNet/ILSVRC_training_seeds_01_to_10/training_seed_01/model.ckpt_epoch89',\n",
    ")\n",
    "ecosetModel.summary()"
   ]
  },
  {
   "cell_type": "code",
   "execution_count": 3,
   "metadata": {
    "notebookRunGroups": {
     "groupValue": "1"
    }
   },
   "outputs": [],
   "source": [
    "ecosetModel = utils.make_output_model(ecosetModel)\n",
    "imagenetModel = utils.make_output_model(imagenetModel)"
   ]
  },
  {
   "cell_type": "code",
   "execution_count": 4,
   "metadata": {
    "notebookRunGroups": {
     "groupValue": "2"
    }
   },
   "outputs": [],
   "source": [
    "# model = ecoset.make_vNet(\n",
    "#     weights_path='./models/vNET/ecoset_training_seeds_01_to_10/training_seed_01/model.ckpt_epoch79',\n",
    "#     softmax=True,)\n",
    "# model = Imagenet.make_vNet(\n",
    "#     output_shape=1000, \n",
    "#     weights_path='./models/vNET/ILSVRC_training_seeds_01_to_10/training_seed_01/model.ckpt_epoch79',\n",
    "#     softmax=True,\n",
    "# )\n",
    "# model.summary()"
   ]
  },
  {
   "cell_type": "markdown",
   "metadata": {},
   "source": [
    "# Setup Categorization Stimuli"
   ]
  },
  {
   "cell_type": "code",
   "execution_count": 4,
   "metadata": {
    "notebookRunGroups": {
     "groupValue": "1"
    }
   },
   "outputs": [],
   "source": [
    "trainCats, trainCounts = cat.build_categories_from_ecoset(\n",
    "    './images/train', \n",
    "    includeSub=False,\n",
    "    maxImgs=100\n",
    "    )\n",
    "testCats, testCounts = cat.build_categories_from_ecoset(\n",
    "    './images/val+test',\n",
    "    includeSub=False,\n",
    "    maxImgs=100\n",
    ")\n",
    "\n",
    "trainImages = cat.get_images_from_cat(trainCats, preprocFun=ecoset.preprocess_alexnet)\n",
    "testImages = cat.get_images_from_cat(testCats, preprocFun=ecoset.preprocess_alexnet)"
   ]
  },
  {
   "cell_type": "code",
   "execution_count": 5,
   "metadata": {
    "notebookRunGroups": {
     "groupValue": "1"
    }
   },
   "outputs": [
    {
     "name": "stderr",
     "output_type": "stream",
     "text": [
      "2022-08-19 11:04:33.078778: I tensorflow/compiler/mlir/mlir_graph_optimization_pass.cc:176] None of the MLIR Optimization Passes are enabled (registered 2)\n",
      "2022-08-19 11:04:33.097563: I tensorflow/core/platform/profile_utils/cpu_utils.cc:114] CPU Frequency: 3499995000 Hz\n",
      "2022-08-19 11:04:33.209508: I tensorflow/stream_executor/platform/default/dso_loader.cc:53] Successfully opened dynamic library libcudnn.so.8\n",
      "2022-08-19 11:04:33.488857: I tensorflow/stream_executor/cuda/cuda_dnn.cc:359] Loaded cuDNN version 8202\n",
      "2022-08-19 11:04:33.722284: E tensorflow/core/platform/default/subprocess.cc:304] Start cannot spawn child process: No such file or directory\n",
      "2022-08-19 11:04:33.722311: W tensorflow/stream_executor/gpu/asm_compiler.cc:56] Couldn't invoke ptxas --version\n",
      "2022-08-19 11:04:33.722597: E tensorflow/core/platform/default/subprocess.cc:304] Start cannot spawn child process: No such file or directory\n",
      "2022-08-19 11:04:33.722640: W tensorflow/stream_executor/gpu/redzone_allocator.cc:314] Internal: Failed to launch ptxas\n",
      "Relying on driver to perform ptx compilation. \n",
      "Modify $PATH to customize ptxas location.\n",
      "This message will be only logged once.\n",
      "2022-08-19 11:04:33.834398: I tensorflow/stream_executor/platform/default/dso_loader.cc:53] Successfully opened dynamic library libcublas.so.11\n",
      "2022-08-19 11:04:34.087948: I tensorflow/stream_executor/platform/default/dso_loader.cc:53] Successfully opened dynamic library libcublasLt.so.11\n",
      "2022-08-19 11:04:34.955447: W tensorflow/core/common_runtime/bfc_allocator.cc:271] Allocator (GPU_0_bfc) ran out of memory trying to allocate 2.38GiB with freed_by_count=0. The caller indicates that this is not a failure, but may mean that there could be performance gains if more memory were available.\n",
      "2022-08-19 11:04:35.032931: W tensorflow/core/common_runtime/bfc_allocator.cc:271] Allocator (GPU_0_bfc) ran out of memory trying to allocate 2.31GiB with freed_by_count=0. The caller indicates that this is not a failure, but may mean that there could be performance gains if more memory were available.\n",
      "2022-08-19 11:04:35.389024: W tensorflow/core/common_runtime/bfc_allocator.cc:271] Allocator (GPU_0_bfc) ran out of memory trying to allocate 2.37GiB with freed_by_count=0. The caller indicates that this is not a failure, but may mean that there could be performance gains if more memory were available.\n"
     ]
    }
   ],
   "source": [
    "birdTrainReps = ecosetModel.predict(trainImages['animal']['0085_bird'])[-1]\n",
    "dogTrainReps = ecosetModel.predict(trainImages['animal']['0039_dog'])[-1]\n",
    "carTrainReps = ecosetModel.predict(trainImages['vehicle']['0009_car'])[-1]\n",
    "busTrainReps = ecosetModel.predict(trainImages['vehicle']['0089_bus'])[-1]\n",
    "\n",
    "animalTrainReps = np.concatenate((birdTrainReps, dogTrainReps))\n",
    "vehicleTrainReps = np.concatenate((carTrainReps, busTrainReps))\n",
    "\n",
    "birdTestReps = ecosetModel.predict(testImages['animal']['0085_bird'])[-1]\n",
    "dogTestReps = ecosetModel.predict(testImages['animal']['0039_dog'])[-1]\n",
    "carTestReps = ecosetModel.predict(testImages['vehicle']['0009_car'])[-1]\n",
    "busTestReps = ecosetModel.predict(testImages['vehicle']['0089_bus'])[-1]\n",
    "\n",
    "animalTestReps = np.concatenate((birdTestReps, dogTestReps))\n",
    "vehicleTestReps = np.concatenate((carTestReps, busTestReps))"
   ]
  },
  {
   "cell_type": "code",
   "execution_count": 6,
   "metadata": {
    "notebookRunGroups": {
     "groupValue": "1"
    }
   },
   "outputs": [
    {
     "data": {
      "text/plain": [
       "<matplotlib.collections.PathCollection at 0x7f88d04f5c10>"
      ]
     },
     "execution_count": 6,
     "metadata": {},
     "output_type": "execute_result"
    },
    {
     "data": {
      "image/png": "[encoded data removed]",
      "image/svg+xml": "<?xml version=\"1.0\" encoding=\"utf-8\" standalone=\"no\"?>\n<!DOCTYPE svg PUBLIC \"-//W3C//DTD SVG 1.1//EN\"\n  \"http://www.w3.org/Graphics/SVG/1.1/DTD/svg11.dtd\">\n<!-- Created with matplotlib (https://matplotlib.org/) -->\n<svg height=\"248.518125pt\" version=\"1.1\" viewBox=\"0 0 377.304687 248.518125\" width=\"377.304687pt\" xmlns=\"http://www.w3.org/2000/svg\" xmlns:xlink=\"http://www.w3.org/1999/xlink\">\n <metadata>\n  <rdf:RDF xmlns:cc=\"http://creativecommons.org/ns#\" xmlns:dc=\"http://purl.org/dc/elements/1.1/\" xmlns:rdf=\"http://www.w3.org/1999/02/22-rdf-syntax-ns#\">\n   <cc:Work>\n    <dc:type rdf:resource=\"http://purl.org/dc/dcmitype/StillImage\"/>\n    <dc:date>2022-08-19T11:04:40.455070</dc:date>\n    <dc:format>image/svg+xml</dc:format>\n    <dc:creator>\n     <cc:Agent>\n      <dc:title>Matplotlib v3.3.2, https://matplotlib.org/</dc:title>\n     </cc:Agent>\n    </dc:creator>\n   </cc:Work>\n  </rdf:RDF>\n </metadata>\n <defs>\n  <style type=\"text/css\">*{stroke-linecap:butt;stroke-linejoin:round;}</style>\n </defs>\n <g id=\"figure_1\">\n  <g id=\"patch_1\">\n   <path d=\"M 0 248.518125 \nL 377.304687 248.518125 \nL 377.304687 0 \nL 0 0 \nz\n\" style=\"fill:none;\"/>\n  </g>\n  <g id=\"axes_1\">\n   <g id=\"patch_2\">\n    <path d=\"M 35.304688 224.64 \nL 370.104688 224.64 \nL 370.104688 7.2 \nL 35.304688 7.2 \nz\n\" style=\"fill:#ffffff;\"/>\n   </g>\n   <g id=\"PathCollection_1\">\n    <defs>\n     <path d=\"M 0 3 \nC 0.795609 3 1.55874 2.683901 2.12132 2.12132 \nC 2.683901 1.55874 3 0.795609 3 0 \nC 3 -0.795609 2.683901 -1.55874 2.12132 -2.12132 \nC 1.55874 -2.683901 0.795609 -3 0 -3 \nC -0.795609 -3 -1.55874 -2.683901 -2.12132 -2.12132 \nC -2.683901 -1.55874 -3 -0.795609 -3 0 \nC -3 0.795609 -2.683901 1.55874 -2.12132 2.12132 \nC -1.55874 2.683901 -0.795609 3 0 3 \nz\n\" id=\"m0a3b944ed9\" style=\"stroke:#0000ff;\"/>\n    </defs>\n    <g clip-path=\"url(#p9f16cf888d)\">\n     <use style=\"fill:#0000ff;stroke:#0000ff;\" x=\"312.973931\" xlink:href=\"#m0a3b944ed9\" y=\"78.354633\"/>\n     <use style=\"fill:#0000ff;stroke:#0000ff;\" x=\"276.94283\" xlink:href=\"#m0a3b944ed9\" y=\"73.620468\"/>\n     <use style=\"fill:#0000ff;stroke:#0000ff;\" x=\"253.668817\" xlink:href=\"#m0a3b944ed9\" y=\"103.99276\"/>\n     <use style=\"fill:#0000ff;stroke:#0000ff;\" x=\"200.628824\" xlink:href=\"#m0a3b944ed9\" y=\"75.605657\"/>\n     <use style=\"fill:#0000ff;stroke:#0000ff;\" x=\"297.185679\" xlink:href=\"#m0a3b944ed9\" y=\"92.390935\"/>\n     <use style=\"fill:#0000ff;stroke:#0000ff;\" x=\"263.515982\" xlink:href=\"#m0a3b944ed9\" y=\"68.589736\"/>\n     <use style=\"fill:#0000ff;stroke:#0000ff;\" x=\"104.759666\" xlink:href=\"#m0a3b944ed9\" y=\"113.523836\"/>\n     <use style=\"fill:#0000ff;stroke:#0000ff;\" x=\"230.580731\" xlink:href=\"#m0a3b944ed9\" y=\"59.758381\"/>\n     <use style=\"fill:#0000ff;stroke:#0000ff;\" x=\"258.697623\" xlink:href=\"#m0a3b944ed9\" y=\"81.37622\"/>\n     <use style=\"fill:#0000ff;stroke:#0000ff;\" x=\"63.337235\" xlink:href=\"#m0a3b944ed9\" y=\"92.968251\"/>\n     <use style=\"fill:#0000ff;stroke:#0000ff;\" x=\"237.693413\" xlink:href=\"#m0a3b944ed9\" y=\"47.439203\"/>\n     <use style=\"fill:#0000ff;stroke:#0000ff;\" x=\"217.137442\" xlink:href=\"#m0a3b944ed9\" y=\"28.911631\"/>\n     <use style=\"fill:#0000ff;stroke:#0000ff;\" x=\"287.903984\" xlink:href=\"#m0a3b944ed9\" y=\"101.931651\"/>\n     <use style=\"fill:#0000ff;stroke:#0000ff;\" x=\"230.59391\" xlink:href=\"#m0a3b944ed9\" y=\"80.592475\"/>\n     <use style=\"fill:#0000ff;stroke:#0000ff;\" x=\"335.315539\" xlink:href=\"#m0a3b944ed9\" y=\"85.210688\"/>\n     <use style=\"fill:#0000ff;stroke:#0000ff;\" x=\"195.273163\" xlink:href=\"#m0a3b944ed9\" y=\"71.215377\"/>\n     <use style=\"fill:#0000ff;stroke:#0000ff;\" x=\"264.93787\" xlink:href=\"#m0a3b944ed9\" y=\"104.84107\"/>\n     <use style=\"fill:#0000ff;stroke:#0000ff;\" x=\"220.673643\" xlink:href=\"#m0a3b944ed9\" y=\"80.085095\"/>\n     <use style=\"fill:#0000ff;stroke:#0000ff;\" x=\"194.754877\" xlink:href=\"#m0a3b944ed9\" y=\"69.721504\"/>\n     <use style=\"fill:#0000ff;stroke:#0000ff;\" x=\"252.837096\" xlink:href=\"#m0a3b944ed9\" y=\"68.81086\"/>\n     <use style=\"fill:#0000ff;stroke:#0000ff;\" x=\"188.357958\" xlink:href=\"#m0a3b944ed9\" y=\"87.240201\"/>\n     <use style=\"fill:#0000ff;stroke:#0000ff;\" x=\"216.626857\" xlink:href=\"#m0a3b944ed9\" y=\"90.135789\"/>\n     <use style=\"fill:#0000ff;stroke:#0000ff;\" x=\"222.547954\" xlink:href=\"#m0a3b944ed9\" y=\"91.690208\"/>\n     <use style=\"fill:#0000ff;stroke:#0000ff;\" x=\"265.642959\" xlink:href=\"#m0a3b944ed9\" y=\"97.955655\"/>\n     <use style=\"fill:#0000ff;stroke:#0000ff;\" x=\"251.241521\" xlink:href=\"#m0a3b944ed9\" y=\"61.728748\"/>\n     <use style=\"fill:#0000ff;stroke:#0000ff;\" x=\"247.338137\" xlink:href=\"#m0a3b944ed9\" y=\"39.640473\"/>\n     <use style=\"fill:#0000ff;stroke:#0000ff;\" x=\"220.941102\" xlink:href=\"#m0a3b944ed9\" y=\"98.827838\"/>\n     <use style=\"fill:#0000ff;stroke:#0000ff;\" x=\"224.974118\" xlink:href=\"#m0a3b944ed9\" y=\"41.397697\"/>\n     <use style=\"fill:#0000ff;stroke:#0000ff;\" x=\"219.023376\" xlink:href=\"#m0a3b944ed9\" y=\"85.030626\"/>\n     <use style=\"fill:#0000ff;stroke:#0000ff;\" x=\"244.389635\" xlink:href=\"#m0a3b944ed9\" y=\"85.439227\"/>\n     <use style=\"fill:#0000ff;stroke:#0000ff;\" x=\"72.325624\" xlink:href=\"#m0a3b944ed9\" y=\"106.774327\"/>\n     <use style=\"fill:#0000ff;stroke:#0000ff;\" x=\"284.244204\" xlink:href=\"#m0a3b944ed9\" y=\"105.067169\"/>\n     <use style=\"fill:#0000ff;stroke:#0000ff;\" x=\"232.788065\" xlink:href=\"#m0a3b944ed9\" y=\"63.936634\"/>\n     <use style=\"fill:#0000ff;stroke:#0000ff;\" x=\"274.970825\" xlink:href=\"#m0a3b944ed9\" y=\"106.774666\"/>\n     <use style=\"fill:#0000ff;stroke:#0000ff;\" x=\"307.467715\" xlink:href=\"#m0a3b944ed9\" y=\"84.133208\"/>\n     <use style=\"fill:#0000ff;stroke:#0000ff;\" x=\"241.368753\" xlink:href=\"#m0a3b944ed9\" y=\"107.522882\"/>\n     <use style=\"fill:#0000ff;stroke:#0000ff;\" x=\"299.934474\" xlink:href=\"#m0a3b944ed9\" y=\"103.472829\"/>\n     <use style=\"fill:#0000ff;stroke:#0000ff;\" x=\"280.068848\" xlink:href=\"#m0a3b944ed9\" y=\"69.928456\"/>\n     <use style=\"fill:#0000ff;stroke:#0000ff;\" x=\"228.558598\" xlink:href=\"#m0a3b944ed9\" y=\"76.247881\"/>\n     <use style=\"fill:#0000ff;stroke:#0000ff;\" x=\"235.100303\" xlink:href=\"#m0a3b944ed9\" y=\"92.828258\"/>\n     <use style=\"fill:#0000ff;stroke:#0000ff;\" x=\"223.990007\" xlink:href=\"#m0a3b944ed9\" y=\"62.267121\"/>\n     <use style=\"fill:#0000ff;stroke:#0000ff;\" x=\"354.886506\" xlink:href=\"#m0a3b944ed9\" y=\"94.262718\"/>\n     <use style=\"fill:#0000ff;stroke:#0000ff;\" x=\"179.138789\" xlink:href=\"#m0a3b944ed9\" y=\"72.807262\"/>\n     <use style=\"fill:#0000ff;stroke:#0000ff;\" x=\"202.220537\" xlink:href=\"#m0a3b944ed9\" y=\"35.798037\"/>\n     <use style=\"fill:#0000ff;stroke:#0000ff;\" x=\"194.288342\" xlink:href=\"#m0a3b944ed9\" y=\"118.799204\"/>\n     <use style=\"fill:#0000ff;stroke:#0000ff;\" x=\"201.403404\" xlink:href=\"#m0a3b944ed9\" y=\"23.922942\"/>\n     <use style=\"fill:#0000ff;stroke:#0000ff;\" x=\"129.624611\" xlink:href=\"#m0a3b944ed9\" y=\"74.460927\"/>\n     <use style=\"fill:#0000ff;stroke:#0000ff;\" x=\"277.141487\" xlink:href=\"#m0a3b944ed9\" y=\"79.050854\"/>\n     <use style=\"fill:#0000ff;stroke:#0000ff;\" x=\"295.866354\" xlink:href=\"#m0a3b944ed9\" y=\"86.376037\"/>\n     <use style=\"fill:#0000ff;stroke:#0000ff;\" x=\"213.471199\" xlink:href=\"#m0a3b944ed9\" y=\"28.594426\"/>\n     <use style=\"fill:#0000ff;stroke:#0000ff;\" x=\"272.382389\" xlink:href=\"#m0a3b944ed9\" y=\"43.511964\"/>\n     <use style=\"fill:#0000ff;stroke:#0000ff;\" x=\"285.859621\" xlink:href=\"#m0a3b944ed9\" y=\"62.696349\"/>\n     <use style=\"fill:#0000ff;stroke:#0000ff;\" x=\"241.217983\" xlink:href=\"#m0a3b944ed9\" y=\"72.245106\"/>\n     <use style=\"fill:#0000ff;stroke:#0000ff;\" x=\"293.811286\" xlink:href=\"#m0a3b944ed9\" y=\"79.955876\"/>\n     <use style=\"fill:#0000ff;stroke:#0000ff;\" x=\"73.764819\" xlink:href=\"#m0a3b944ed9\" y=\"101.644501\"/>\n     <use style=\"fill:#0000ff;stroke:#0000ff;\" x=\"250.258202\" xlink:href=\"#m0a3b944ed9\" y=\"94.238996\"/>\n     <use style=\"fill:#0000ff;stroke:#0000ff;\" x=\"296.46018\" xlink:href=\"#m0a3b944ed9\" y=\"50.146073\"/>\n     <use style=\"fill:#0000ff;stroke:#0000ff;\" x=\"302.608107\" xlink:href=\"#m0a3b944ed9\" y=\"50.584426\"/>\n     <use style=\"fill:#0000ff;stroke:#0000ff;\" x=\"257.872169\" xlink:href=\"#m0a3b944ed9\" y=\"77.254349\"/>\n     <use style=\"fill:#0000ff;stroke:#0000ff;\" x=\"233.873418\" xlink:href=\"#m0a3b944ed9\" y=\"99.214757\"/>\n     <use style=\"fill:#0000ff;stroke:#0000ff;\" x=\"207.9743\" xlink:href=\"#m0a3b944ed9\" y=\"53.524056\"/>\n     <use style=\"fill:#0000ff;stroke:#0000ff;\" x=\"236.042188\" xlink:href=\"#m0a3b944ed9\" y=\"41.209312\"/>\n     <use style=\"fill:#0000ff;stroke:#0000ff;\" x=\"262.074079\" xlink:href=\"#m0a3b944ed9\" y=\"80.274265\"/>\n     <use style=\"fill:#0000ff;stroke:#0000ff;\" x=\"275.128761\" xlink:href=\"#m0a3b944ed9\" y=\"58.474145\"/>\n     <use style=\"fill:#0000ff;stroke:#0000ff;\" x=\"188.606966\" xlink:href=\"#m0a3b944ed9\" y=\"56.285165\"/>\n     <use style=\"fill:#0000ff;stroke:#0000ff;\" x=\"260.066468\" xlink:href=\"#m0a3b944ed9\" y=\"114.33472\"/>\n     <use style=\"fill:#0000ff;stroke:#0000ff;\" x=\"195.306193\" xlink:href=\"#m0a3b944ed9\" y=\"49.454723\"/>\n     <use style=\"fill:#0000ff;stroke:#0000ff;\" x=\"202.093855\" xlink:href=\"#m0a3b944ed9\" y=\"48.426238\"/>\n     <use style=\"fill:#0000ff;stroke:#0000ff;\" x=\"259.006252\" xlink:href=\"#m0a3b944ed9\" y=\"63.87861\"/>\n     <use style=\"fill:#0000ff;stroke:#0000ff;\" x=\"235.603451\" xlink:href=\"#m0a3b944ed9\" y=\"75.995863\"/>\n     <use style=\"fill:#0000ff;stroke:#0000ff;\" x=\"283.33067\" xlink:href=\"#m0a3b944ed9\" y=\"109.161348\"/>\n     <use style=\"fill:#0000ff;stroke:#0000ff;\" x=\"244.18191\" xlink:href=\"#m0a3b944ed9\" y=\"78.060041\"/>\n     <use style=\"fill:#0000ff;stroke:#0000ff;\" x=\"182.170398\" xlink:href=\"#m0a3b944ed9\" y=\"67.792174\"/>\n     <use style=\"fill:#0000ff;stroke:#0000ff;\" x=\"273.810221\" xlink:href=\"#m0a3b944ed9\" y=\"80.060217\"/>\n     <use style=\"fill:#0000ff;stroke:#0000ff;\" x=\"192.165739\" xlink:href=\"#m0a3b944ed9\" y=\"104.369898\"/>\n     <use style=\"fill:#0000ff;stroke:#0000ff;\" x=\"265.73068\" xlink:href=\"#m0a3b944ed9\" y=\"118.186964\"/>\n     <use style=\"fill:#0000ff;stroke:#0000ff;\" x=\"280.769094\" xlink:href=\"#m0a3b944ed9\" y=\"96.651818\"/>\n     <use style=\"fill:#0000ff;stroke:#0000ff;\" x=\"269.339456\" xlink:href=\"#m0a3b944ed9\" y=\"94.846396\"/>\n     <use style=\"fill:#0000ff;stroke:#0000ff;\" x=\"202.91316\" xlink:href=\"#m0a3b944ed9\" y=\"54.662995\"/>\n     <use style=\"fill:#0000ff;stroke:#0000ff;\" x=\"190.952038\" xlink:href=\"#m0a3b944ed9\" y=\"54.182185\"/>\n     <use style=\"fill:#0000ff;stroke:#0000ff;\" x=\"292.157891\" xlink:href=\"#m0a3b944ed9\" y=\"33.072987\"/>\n     <use style=\"fill:#0000ff;stroke:#0000ff;\" x=\"246.399856\" xlink:href=\"#m0a3b944ed9\" y=\"56.567929\"/>\n     <use style=\"fill:#0000ff;stroke:#0000ff;\" x=\"328.778855\" xlink:href=\"#m0a3b944ed9\" y=\"100.372956\"/>\n     <use style=\"fill:#0000ff;stroke:#0000ff;\" x=\"224.35506\" xlink:href=\"#m0a3b944ed9\" y=\"57.639704\"/>\n     <use style=\"fill:#0000ff;stroke:#0000ff;\" x=\"250.130312\" xlink:href=\"#m0a3b944ed9\" y=\"103.896794\"/>\n     <use style=\"fill:#0000ff;stroke:#0000ff;\" x=\"246.123594\" xlink:href=\"#m0a3b944ed9\" y=\"36.758839\"/>\n     <use style=\"fill:#0000ff;stroke:#0000ff;\" x=\"317.251409\" xlink:href=\"#m0a3b944ed9\" y=\"89.001101\"/>\n     <use style=\"fill:#0000ff;stroke:#0000ff;\" x=\"229.047196\" xlink:href=\"#m0a3b944ed9\" y=\"72.117989\"/>\n     <use style=\"fill:#0000ff;stroke:#0000ff;\" x=\"268.73559\" xlink:href=\"#m0a3b944ed9\" y=\"75.881317\"/>\n     <use style=\"fill:#0000ff;stroke:#0000ff;\" x=\"160.805827\" xlink:href=\"#m0a3b944ed9\" y=\"63.980094\"/>\n     <use style=\"fill:#0000ff;stroke:#0000ff;\" x=\"259.319659\" xlink:href=\"#m0a3b944ed9\" y=\"94.500081\"/>\n     <use style=\"fill:#0000ff;stroke:#0000ff;\" x=\"207.470442\" xlink:href=\"#m0a3b944ed9\" y=\"56.410521\"/>\n     <use style=\"fill:#0000ff;stroke:#0000ff;\" x=\"215.293958\" xlink:href=\"#m0a3b944ed9\" y=\"61.861329\"/>\n     <use style=\"fill:#0000ff;stroke:#0000ff;\" x=\"124.979487\" xlink:href=\"#m0a3b944ed9\" y=\"63.441308\"/>\n     <use style=\"fill:#0000ff;stroke:#0000ff;\" x=\"244.462748\" xlink:href=\"#m0a3b944ed9\" y=\"56.572623\"/>\n     <use style=\"fill:#0000ff;stroke:#0000ff;\" x=\"205.494111\" xlink:href=\"#m0a3b944ed9\" y=\"75.278181\"/>\n     <use style=\"fill:#0000ff;stroke:#0000ff;\" x=\"313.82338\" xlink:href=\"#m0a3b944ed9\" y=\"110.489841\"/>\n     <use style=\"fill:#0000ff;stroke:#0000ff;\" x=\"291.596018\" xlink:href=\"#m0a3b944ed9\" y=\"77.268329\"/>\n     <use style=\"fill:#0000ff;stroke:#0000ff;\" x=\"295.415978\" xlink:href=\"#m0a3b944ed9\" y=\"83.549711\"/>\n     <use style=\"fill:#0000ff;stroke:#0000ff;\" x=\"249.127136\" xlink:href=\"#m0a3b944ed9\" y=\"77.689647\"/>\n    </g>\n   </g>\n   <g id=\"PathCollection_2\">\n    <defs>\n     <path d=\"M 0 3 \nC 0.795609 3 1.55874 2.683901 2.12132 2.12132 \nC 2.683901 1.55874 3 0.795609 3 0 \nC 3 -0.795609 2.683901 -1.55874 2.12132 -2.12132 \nC 1.55874 -2.683901 0.795609 -3 0 -3 \nC -0.795609 -3 -1.55874 -2.683901 -2.12132 -2.12132 \nC -2.683901 -1.55874 -3 -0.795609 -3 0 \nC -3 0.795609 -2.683901 1.55874 -2.12132 2.12132 \nC -1.55874 2.683901 -0.795609 3 0 3 \nz\n\" id=\"mf9b6ae68bd\" style=\"stroke:#ff0000;\"/>\n    </defs>\n    <g clip-path=\"url(#p9f16cf888d)\">\n     <use style=\"fill:#ff0000;stroke:#ff0000;\" x=\"73.750572\" xlink:href=\"#mf9b6ae68bd\" y=\"95.177031\"/>\n     <use style=\"fill:#ff0000;stroke:#ff0000;\" x=\"50.522869\" xlink:href=\"#mf9b6ae68bd\" y=\"72.987173\"/>\n     <use style=\"fill:#ff0000;stroke:#ff0000;\" x=\"249.176081\" xlink:href=\"#mf9b6ae68bd\" y=\"89.936273\"/>\n     <use style=\"fill:#ff0000;stroke:#ff0000;\" x=\"151.966427\" xlink:href=\"#mf9b6ae68bd\" y=\"84.743539\"/>\n     <use style=\"fill:#ff0000;stroke:#ff0000;\" x=\"89.492318\" xlink:href=\"#mf9b6ae68bd\" y=\"88.926542\"/>\n     <use style=\"fill:#ff0000;stroke:#ff0000;\" x=\"146.730031\" xlink:href=\"#mf9b6ae68bd\" y=\"72.272661\"/>\n     <use style=\"fill:#ff0000;stroke:#ff0000;\" x=\"126.11655\" xlink:href=\"#mf9b6ae68bd\" y=\"73.553074\"/>\n     <use style=\"fill:#ff0000;stroke:#ff0000;\" x=\"170.28637\" xlink:href=\"#mf9b6ae68bd\" y=\"105.694918\"/>\n     <use style=\"fill:#ff0000;stroke:#ff0000;\" x=\"124.290571\" xlink:href=\"#mf9b6ae68bd\" y=\"43.570985\"/>\n     <use style=\"fill:#ff0000;stroke:#ff0000;\" x=\"116.639737\" xlink:href=\"#mf9b6ae68bd\" y=\"35.747272\"/>\n     <use style=\"fill:#ff0000;stroke:#ff0000;\" x=\"182.070558\" xlink:href=\"#mf9b6ae68bd\" y=\"82.439262\"/>\n     <use style=\"fill:#ff0000;stroke:#ff0000;\" x=\"109.908473\" xlink:href=\"#mf9b6ae68bd\" y=\"94.444129\"/>\n     <use style=\"fill:#ff0000;stroke:#ff0000;\" x=\"127.96575\" xlink:href=\"#mf9b6ae68bd\" y=\"81.92792\"/>\n     <use style=\"fill:#ff0000;stroke:#ff0000;\" x=\"150.003913\" xlink:href=\"#mf9b6ae68bd\" y=\"45.874435\"/>\n     <use style=\"fill:#ff0000;stroke:#ff0000;\" x=\"150.567748\" xlink:href=\"#mf9b6ae68bd\" y=\"50.572449\"/>\n     <use style=\"fill:#ff0000;stroke:#ff0000;\" x=\"171.897716\" xlink:href=\"#mf9b6ae68bd\" y=\"80.115184\"/>\n     <use style=\"fill:#ff0000;stroke:#ff0000;\" x=\"116.079486\" xlink:href=\"#mf9b6ae68bd\" y=\"110.608407\"/>\n     <use style=\"fill:#ff0000;stroke:#ff0000;\" x=\"135.057564\" xlink:href=\"#mf9b6ae68bd\" y=\"47.951253\"/>\n     <use style=\"fill:#ff0000;stroke:#ff0000;\" x=\"98.008992\" xlink:href=\"#mf9b6ae68bd\" y=\"64.090529\"/>\n     <use style=\"fill:#ff0000;stroke:#ff0000;\" x=\"245.725134\" xlink:href=\"#mf9b6ae68bd\" y=\"125.923864\"/>\n     <use style=\"fill:#ff0000;stroke:#ff0000;\" x=\"173.938575\" xlink:href=\"#mf9b6ae68bd\" y=\"33.478209\"/>\n     <use style=\"fill:#ff0000;stroke:#ff0000;\" x=\"133.48289\" xlink:href=\"#mf9b6ae68bd\" y=\"87.889361\"/>\n     <use style=\"fill:#ff0000;stroke:#ff0000;\" x=\"101.037381\" xlink:href=\"#mf9b6ae68bd\" y=\"86.930824\"/>\n     <use style=\"fill:#ff0000;stroke:#ff0000;\" x=\"91.586393\" xlink:href=\"#mf9b6ae68bd\" y=\"85.807544\"/>\n     <use style=\"fill:#ff0000;stroke:#ff0000;\" x=\"214.566414\" xlink:href=\"#mf9b6ae68bd\" y=\"113.296842\"/>\n     <use style=\"fill:#ff0000;stroke:#ff0000;\" x=\"113.853826\" xlink:href=\"#mf9b6ae68bd\" y=\"89.47743\"/>\n     <use style=\"fill:#ff0000;stroke:#ff0000;\" x=\"226.547724\" xlink:href=\"#mf9b6ae68bd\" y=\"96.868275\"/>\n     <use style=\"fill:#ff0000;stroke:#ff0000;\" x=\"187.731027\" xlink:href=\"#mf9b6ae68bd\" y=\"74.180358\"/>\n     <use style=\"fill:#ff0000;stroke:#ff0000;\" x=\"186.628713\" xlink:href=\"#mf9b6ae68bd\" y=\"103.293707\"/>\n     <use style=\"fill:#ff0000;stroke:#ff0000;\" x=\"118.435459\" xlink:href=\"#mf9b6ae68bd\" y=\"63.505289\"/>\n     <use style=\"fill:#ff0000;stroke:#ff0000;\" x=\"144.301508\" xlink:href=\"#mf9b6ae68bd\" y=\"50.138831\"/>\n     <use style=\"fill:#ff0000;stroke:#ff0000;\" x=\"114.797634\" xlink:href=\"#mf9b6ae68bd\" y=\"84.241488\"/>\n     <use style=\"fill:#ff0000;stroke:#ff0000;\" x=\"186.393899\" xlink:href=\"#mf9b6ae68bd\" y=\"17.083636\"/>\n     <use style=\"fill:#ff0000;stroke:#ff0000;\" x=\"148.309352\" xlink:href=\"#mf9b6ae68bd\" y=\"69.231778\"/>\n     <use style=\"fill:#ff0000;stroke:#ff0000;\" x=\"203.913139\" xlink:href=\"#mf9b6ae68bd\" y=\"118.056461\"/>\n     <use style=\"fill:#ff0000;stroke:#ff0000;\" x=\"126.102041\" xlink:href=\"#mf9b6ae68bd\" y=\"77.565819\"/>\n     <use style=\"fill:#ff0000;stroke:#ff0000;\" x=\"157.411245\" xlink:href=\"#mf9b6ae68bd\" y=\"51.195275\"/>\n     <use style=\"fill:#ff0000;stroke:#ff0000;\" x=\"166.018216\" xlink:href=\"#mf9b6ae68bd\" y=\"101.524815\"/>\n     <use style=\"fill:#ff0000;stroke:#ff0000;\" x=\"120.942722\" xlink:href=\"#mf9b6ae68bd\" y=\"83.159007\"/>\n     <use style=\"fill:#ff0000;stroke:#ff0000;\" x=\"159.630961\" xlink:href=\"#mf9b6ae68bd\" y=\"71.58924\"/>\n     <use style=\"fill:#ff0000;stroke:#ff0000;\" x=\"155.321627\" xlink:href=\"#mf9b6ae68bd\" y=\"83.619803\"/>\n     <use style=\"fill:#ff0000;stroke:#ff0000;\" x=\"129.191694\" xlink:href=\"#mf9b6ae68bd\" y=\"65.465178\"/>\n     <use style=\"fill:#ff0000;stroke:#ff0000;\" x=\"101.533805\" xlink:href=\"#mf9b6ae68bd\" y=\"94.05583\"/>\n     <use style=\"fill:#ff0000;stroke:#ff0000;\" x=\"129.562162\" xlink:href=\"#mf9b6ae68bd\" y=\"93.230095\"/>\n     <use style=\"fill:#ff0000;stroke:#ff0000;\" x=\"165.810987\" xlink:href=\"#mf9b6ae68bd\" y=\"49.459629\"/>\n     <use style=\"fill:#ff0000;stroke:#ff0000;\" x=\"136.60255\" xlink:href=\"#mf9b6ae68bd\" y=\"79.832314\"/>\n     <use style=\"fill:#ff0000;stroke:#ff0000;\" x=\"112.895964\" xlink:href=\"#mf9b6ae68bd\" y=\"111.934684\"/>\n     <use style=\"fill:#ff0000;stroke:#ff0000;\" x=\"171.799974\" xlink:href=\"#mf9b6ae68bd\" y=\"93.789169\"/>\n     <use style=\"fill:#ff0000;stroke:#ff0000;\" x=\"148.791124\" xlink:href=\"#mf9b6ae68bd\" y=\"103.015594\"/>\n     <use style=\"fill:#ff0000;stroke:#ff0000;\" x=\"129.646209\" xlink:href=\"#mf9b6ae68bd\" y=\"101.895414\"/>\n     <use style=\"fill:#ff0000;stroke:#ff0000;\" x=\"134.466818\" xlink:href=\"#mf9b6ae68bd\" y=\"70.179301\"/>\n     <use style=\"fill:#ff0000;stroke:#ff0000;\" x=\"148.505185\" xlink:href=\"#mf9b6ae68bd\" y=\"62.202349\"/>\n     <use style=\"fill:#ff0000;stroke:#ff0000;\" x=\"310.131087\" xlink:href=\"#mf9b6ae68bd\" y=\"89.17599\"/>\n     <use style=\"fill:#ff0000;stroke:#ff0000;\" x=\"191.958774\" xlink:href=\"#mf9b6ae68bd\" y=\"77.908143\"/>\n     <use style=\"fill:#ff0000;stroke:#ff0000;\" x=\"113.005062\" xlink:href=\"#mf9b6ae68bd\" y=\"67.727648\"/>\n     <use style=\"fill:#ff0000;stroke:#ff0000;\" x=\"73.592181\" xlink:href=\"#mf9b6ae68bd\" y=\"69.280027\"/>\n     <use style=\"fill:#ff0000;stroke:#ff0000;\" x=\"169.497839\" xlink:href=\"#mf9b6ae68bd\" y=\"63.207871\"/>\n     <use style=\"fill:#ff0000;stroke:#ff0000;\" x=\"176.307254\" xlink:href=\"#mf9b6ae68bd\" y=\"102.137204\"/>\n     <use style=\"fill:#ff0000;stroke:#ff0000;\" x=\"151.116486\" xlink:href=\"#mf9b6ae68bd\" y=\"96.494656\"/>\n     <use style=\"fill:#ff0000;stroke:#ff0000;\" x=\"109.840956\" xlink:href=\"#mf9b6ae68bd\" y=\"26.07613\"/>\n     <use style=\"fill:#ff0000;stroke:#ff0000;\" x=\"163.0888\" xlink:href=\"#mf9b6ae68bd\" y=\"83.393432\"/>\n     <use style=\"fill:#ff0000;stroke:#ff0000;\" x=\"288.233038\" xlink:href=\"#mf9b6ae68bd\" y=\"122.904389\"/>\n     <use style=\"fill:#ff0000;stroke:#ff0000;\" x=\"178.726727\" xlink:href=\"#mf9b6ae68bd\" y=\"97.438988\"/>\n     <use style=\"fill:#ff0000;stroke:#ff0000;\" x=\"109.908837\" xlink:href=\"#mf9b6ae68bd\" y=\"76.513758\"/>\n     <use style=\"fill:#ff0000;stroke:#ff0000;\" x=\"60.285098\" xlink:href=\"#mf9b6ae68bd\" y=\"69.971117\"/>\n     <use style=\"fill:#ff0000;stroke:#ff0000;\" x=\"273.924357\" xlink:href=\"#mf9b6ae68bd\" y=\"119.82056\"/>\n     <use style=\"fill:#ff0000;stroke:#ff0000;\" x=\"184.791701\" xlink:href=\"#mf9b6ae68bd\" y=\"65.995106\"/>\n     <use style=\"fill:#ff0000;stroke:#ff0000;\" x=\"198.291114\" xlink:href=\"#mf9b6ae68bd\" y=\"85.797037\"/>\n     <use style=\"fill:#ff0000;stroke:#ff0000;\" x=\"135.671428\" xlink:href=\"#mf9b6ae68bd\" y=\"106.387508\"/>\n     <use style=\"fill:#ff0000;stroke:#ff0000;\" x=\"101.534932\" xlink:href=\"#mf9b6ae68bd\" y=\"70.016937\"/>\n     <use style=\"fill:#ff0000;stroke:#ff0000;\" x=\"137.435194\" xlink:href=\"#mf9b6ae68bd\" y=\"82.663516\"/>\n     <use style=\"fill:#ff0000;stroke:#ff0000;\" x=\"151.025976\" xlink:href=\"#mf9b6ae68bd\" y=\"78.73114\"/>\n     <use style=\"fill:#ff0000;stroke:#ff0000;\" x=\"192.367318\" xlink:href=\"#mf9b6ae68bd\" y=\"114.434552\"/>\n     <use style=\"fill:#ff0000;stroke:#ff0000;\" x=\"119.811905\" xlink:href=\"#mf9b6ae68bd\" y=\"58.310821\"/>\n     <use style=\"fill:#ff0000;stroke:#ff0000;\" x=\"141.087571\" xlink:href=\"#mf9b6ae68bd\" y=\"57.361963\"/>\n     <use style=\"fill:#ff0000;stroke:#ff0000;\" x=\"144.078181\" xlink:href=\"#mf9b6ae68bd\" y=\"85.178008\"/>\n     <use style=\"fill:#ff0000;stroke:#ff0000;\" x=\"126.404938\" xlink:href=\"#mf9b6ae68bd\" y=\"98.983335\"/>\n     <use style=\"fill:#ff0000;stroke:#ff0000;\" x=\"196.686778\" xlink:href=\"#mf9b6ae68bd\" y=\"103.285404\"/>\n     <use style=\"fill:#ff0000;stroke:#ff0000;\" x=\"153.898708\" xlink:href=\"#mf9b6ae68bd\" y=\"54.37513\"/>\n     <use style=\"fill:#ff0000;stroke:#ff0000;\" x=\"179.884931\" xlink:href=\"#mf9b6ae68bd\" y=\"53.414268\"/>\n     <use style=\"fill:#ff0000;stroke:#ff0000;\" x=\"133.848693\" xlink:href=\"#mf9b6ae68bd\" y=\"52.905351\"/>\n     <use style=\"fill:#ff0000;stroke:#ff0000;\" x=\"113.627568\" xlink:href=\"#mf9b6ae68bd\" y=\"80.267648\"/>\n     <use style=\"fill:#ff0000;stroke:#ff0000;\" x=\"168.870983\" xlink:href=\"#mf9b6ae68bd\" y=\"75.088264\"/>\n     <use style=\"fill:#ff0000;stroke:#ff0000;\" x=\"84.621203\" xlink:href=\"#mf9b6ae68bd\" y=\"59.409582\"/>\n     <use style=\"fill:#ff0000;stroke:#ff0000;\" x=\"215.417814\" xlink:href=\"#mf9b6ae68bd\" y=\"81.090359\"/>\n     <use style=\"fill:#ff0000;stroke:#ff0000;\" x=\"146.360512\" xlink:href=\"#mf9b6ae68bd\" y=\"93.725812\"/>\n     <use style=\"fill:#ff0000;stroke:#ff0000;\" x=\"121.734056\" xlink:href=\"#mf9b6ae68bd\" y=\"50.269879\"/>\n     <use style=\"fill:#ff0000;stroke:#ff0000;\" x=\"100.424631\" xlink:href=\"#mf9b6ae68bd\" y=\"76.33178\"/>\n     <use style=\"fill:#ff0000;stroke:#ff0000;\" x=\"174.732594\" xlink:href=\"#mf9b6ae68bd\" y=\"80.264238\"/>\n     <use style=\"fill:#ff0000;stroke:#ff0000;\" x=\"208.58707\" xlink:href=\"#mf9b6ae68bd\" y=\"69.582003\"/>\n     <use style=\"fill:#ff0000;stroke:#ff0000;\" x=\"67.41171\" xlink:href=\"#mf9b6ae68bd\" y=\"50.384583\"/>\n     <use style=\"fill:#ff0000;stroke:#ff0000;\" x=\"161.989778\" xlink:href=\"#mf9b6ae68bd\" y=\"70.863822\"/>\n     <use style=\"fill:#ff0000;stroke:#ff0000;\" x=\"86.621204\" xlink:href=\"#mf9b6ae68bd\" y=\"95.114687\"/>\n     <use style=\"fill:#ff0000;stroke:#ff0000;\" x=\"133.476519\" xlink:href=\"#mf9b6ae68bd\" y=\"128.807247\"/>\n     <use style=\"fill:#ff0000;stroke:#ff0000;\" x=\"176.335776\" xlink:href=\"#mf9b6ae68bd\" y=\"58.344311\"/>\n     <use style=\"fill:#ff0000;stroke:#ff0000;\" x=\"109.478169\" xlink:href=\"#mf9b6ae68bd\" y=\"71.852918\"/>\n     <use style=\"fill:#ff0000;stroke:#ff0000;\" x=\"154.676816\" xlink:href=\"#mf9b6ae68bd\" y=\"63.452641\"/>\n     <use style=\"fill:#ff0000;stroke:#ff0000;\" x=\"155.470927\" xlink:href=\"#mf9b6ae68bd\" y=\"86.187431\"/>\n     <use style=\"fill:#ff0000;stroke:#ff0000;\" x=\"140.033217\" xlink:href=\"#mf9b6ae68bd\" y=\"105.22527\"/>\n     <use style=\"fill:#ff0000;stroke:#ff0000;\" x=\"213.60806\" xlink:href=\"#mf9b6ae68bd\" y=\"74.240606\"/>\n    </g>\n   </g>\n   <g id=\"PathCollection_3\">\n    <defs>\n     <path d=\"M 0 3 \nC 0.795609 3 1.55874 2.683901 2.12132 2.12132 \nC 2.683901 1.55874 3 0.795609 3 0 \nC 3 -0.795609 2.683901 -1.55874 2.12132 -2.12132 \nC 1.55874 -2.683901 0.795609 -3 0 -3 \nC -0.795609 -3 -1.55874 -2.683901 -2.12132 -2.12132 \nC -2.683901 -1.55874 -3 -0.795609 -3 0 \nC -3 0.795609 -2.683901 1.55874 -2.12132 2.12132 \nC -1.55874 2.683901 -0.795609 3 0 3 \nz\n\" id=\"m75b44f3660\" style=\"stroke:#008000;\"/>\n    </defs>\n    <g clip-path=\"url(#p9f16cf888d)\">\n     <use style=\"fill:#008000;stroke:#008000;\" x=\"226.303693\" xlink:href=\"#m75b44f3660\" y=\"151.589427\"/>\n     <use style=\"fill:#008000;stroke:#008000;\" x=\"233.701294\" xlink:href=\"#m75b44f3660\" y=\"133.876631\"/>\n     <use style=\"fill:#008000;stroke:#008000;\" x=\"206.956582\" xlink:href=\"#m75b44f3660\" y=\"162.247908\"/>\n     <use style=\"fill:#008000;stroke:#008000;\" x=\"196.055755\" xlink:href=\"#m75b44f3660\" y=\"157.492718\"/>\n     <use style=\"fill:#008000;stroke:#008000;\" x=\"183.019671\" xlink:href=\"#m75b44f3660\" y=\"165.00727\"/>\n     <use style=\"fill:#008000;stroke:#008000;\" x=\"238.200843\" xlink:href=\"#m75b44f3660\" y=\"171.170225\"/>\n     <use style=\"fill:#008000;stroke:#008000;\" x=\"283.860058\" xlink:href=\"#m75b44f3660\" y=\"143.921748\"/>\n     <use style=\"fill:#008000;stroke:#008000;\" x=\"166.30914\" xlink:href=\"#m75b44f3660\" y=\"122.93788\"/>\n     <use style=\"fill:#008000;stroke:#008000;\" x=\"113.580616\" xlink:href=\"#m75b44f3660\" y=\"147.600213\"/>\n     <use style=\"fill:#008000;stroke:#008000;\" x=\"258.886341\" xlink:href=\"#m75b44f3660\" y=\"166.412873\"/>\n     <use style=\"fill:#008000;stroke:#008000;\" x=\"236.516434\" xlink:href=\"#m75b44f3660\" y=\"188.218763\"/>\n     <use style=\"fill:#008000;stroke:#008000;\" x=\"194.263806\" xlink:href=\"#m75b44f3660\" y=\"165.506843\"/>\n     <use style=\"fill:#008000;stroke:#008000;\" x=\"294.787607\" xlink:href=\"#m75b44f3660\" y=\"151.23689\"/>\n     <use style=\"fill:#008000;stroke:#008000;\" x=\"249.334104\" xlink:href=\"#m75b44f3660\" y=\"176.400127\"/>\n     <use style=\"fill:#008000;stroke:#008000;\" x=\"238.438841\" xlink:href=\"#m75b44f3660\" y=\"183.615438\"/>\n     <use style=\"fill:#008000;stroke:#008000;\" x=\"206.842692\" xlink:href=\"#m75b44f3660\" y=\"142.156834\"/>\n     <use style=\"fill:#008000;stroke:#008000;\" x=\"228.475172\" xlink:href=\"#m75b44f3660\" y=\"143.533218\"/>\n     <use style=\"fill:#008000;stroke:#008000;\" x=\"172.584187\" xlink:href=\"#m75b44f3660\" y=\"133.336518\"/>\n     <use style=\"fill:#008000;stroke:#008000;\" x=\"225.791912\" xlink:href=\"#m75b44f3660\" y=\"201.279468\"/>\n     <use style=\"fill:#008000;stroke:#008000;\" x=\"231.742952\" xlink:href=\"#m75b44f3660\" y=\"180.672262\"/>\n     <use style=\"fill:#008000;stroke:#008000;\" x=\"217.132116\" xlink:href=\"#m75b44f3660\" y=\"131.818862\"/>\n     <use style=\"fill:#008000;stroke:#008000;\" x=\"113.636232\" xlink:href=\"#m75b44f3660\" y=\"119.09097\"/>\n     <use style=\"fill:#008000;stroke:#008000;\" x=\"114.550765\" xlink:href=\"#m75b44f3660\" y=\"131.897885\"/>\n     <use style=\"fill:#008000;stroke:#008000;\" x=\"219.152516\" xlink:href=\"#m75b44f3660\" y=\"170.095988\"/>\n     <use style=\"fill:#008000;stroke:#008000;\" x=\"261.071447\" xlink:href=\"#m75b44f3660\" y=\"159.539672\"/>\n     <use style=\"fill:#008000;stroke:#008000;\" x=\"235.065905\" xlink:href=\"#m75b44f3660\" y=\"171.433764\"/>\n     <use style=\"fill:#008000;stroke:#008000;\" x=\"243.332454\" xlink:href=\"#m75b44f3660\" y=\"168.563492\"/>\n     <use style=\"fill:#008000;stroke:#008000;\" x=\"227.09085\" xlink:href=\"#m75b44f3660\" y=\"185.254076\"/>\n     <use style=\"fill:#008000;stroke:#008000;\" x=\"204.621734\" xlink:href=\"#m75b44f3660\" y=\"166.328616\"/>\n     <use style=\"fill:#008000;stroke:#008000;\" x=\"99.682172\" xlink:href=\"#m75b44f3660\" y=\"159.061311\"/>\n     <use style=\"fill:#008000;stroke:#008000;\" x=\"186.18737\" xlink:href=\"#m75b44f3660\" y=\"163.195997\"/>\n     <use style=\"fill:#008000;stroke:#008000;\" x=\"215.449483\" xlink:href=\"#m75b44f3660\" y=\"164.651021\"/>\n     <use style=\"fill:#008000;stroke:#008000;\" x=\"205.963337\" xlink:href=\"#m75b44f3660\" y=\"156.963314\"/>\n     <use style=\"fill:#008000;stroke:#008000;\" x=\"259.173376\" xlink:href=\"#m75b44f3660\" y=\"187.216498\"/>\n     <use style=\"fill:#008000;stroke:#008000;\" x=\"191.110177\" xlink:href=\"#m75b44f3660\" y=\"194.329768\"/>\n     <use style=\"fill:#008000;stroke:#008000;\" x=\"200.05013\" xlink:href=\"#m75b44f3660\" y=\"154.662691\"/>\n     <use style=\"fill:#008000;stroke:#008000;\" x=\"233.456396\" xlink:href=\"#m75b44f3660\" y=\"150.524505\"/>\n     <use style=\"fill:#008000;stroke:#008000;\" x=\"296.050415\" xlink:href=\"#m75b44f3660\" y=\"164.629418\"/>\n     <use style=\"fill:#008000;stroke:#008000;\" x=\"237.66279\" xlink:href=\"#m75b44f3660\" y=\"159.138896\"/>\n     <use style=\"fill:#008000;stroke:#008000;\" x=\"104.243122\" xlink:href=\"#m75b44f3660\" y=\"156.651073\"/>\n     <use style=\"fill:#008000;stroke:#008000;\" x=\"215.394832\" xlink:href=\"#m75b44f3660\" y=\"171.780396\"/>\n     <use style=\"fill:#008000;stroke:#008000;\" x=\"241.595909\" xlink:href=\"#m75b44f3660\" y=\"162.570556\"/>\n     <use style=\"fill:#008000;stroke:#008000;\" x=\"257.550484\" xlink:href=\"#m75b44f3660\" y=\"162.838091\"/>\n     <use style=\"fill:#008000;stroke:#008000;\" x=\"259.802885\" xlink:href=\"#m75b44f3660\" y=\"170.735907\"/>\n     <use style=\"fill:#008000;stroke:#008000;\" x=\"183.159222\" xlink:href=\"#m75b44f3660\" y=\"204.356988\"/>\n     <use style=\"fill:#008000;stroke:#008000;\" x=\"174.333138\" xlink:href=\"#m75b44f3660\" y=\"140.627504\"/>\n     <use style=\"fill:#008000;stroke:#008000;\" x=\"193.201924\" xlink:href=\"#m75b44f3660\" y=\"172.279712\"/>\n     <use style=\"fill:#008000;stroke:#008000;\" x=\"237.282151\" xlink:href=\"#m75b44f3660\" y=\"176.056177\"/>\n     <use style=\"fill:#008000;stroke:#008000;\" x=\"263.882686\" xlink:href=\"#m75b44f3660\" y=\"175.634304\"/>\n     <use style=\"fill:#008000;stroke:#008000;\" x=\"199.996395\" xlink:href=\"#m75b44f3660\" y=\"195.983853\"/>\n     <use style=\"fill:#008000;stroke:#008000;\" x=\"144.58565\" xlink:href=\"#m75b44f3660\" y=\"149.977564\"/>\n     <use style=\"fill:#008000;stroke:#008000;\" x=\"222.930867\" xlink:href=\"#m75b44f3660\" y=\"163.724319\"/>\n     <use style=\"fill:#008000;stroke:#008000;\" x=\"229.562012\" xlink:href=\"#m75b44f3660\" y=\"154.225207\"/>\n     <use style=\"fill:#008000;stroke:#008000;\" x=\"238.953603\" xlink:href=\"#m75b44f3660\" y=\"152.399371\"/>\n     <use style=\"fill:#008000;stroke:#008000;\" x=\"222.51158\" xlink:href=\"#m75b44f3660\" y=\"135.031258\"/>\n     <use style=\"fill:#008000;stroke:#008000;\" x=\"260.101545\" xlink:href=\"#m75b44f3660\" y=\"179.433944\"/>\n     <use style=\"fill:#008000;stroke:#008000;\" x=\"170.475976\" xlink:href=\"#m75b44f3660\" y=\"140.885641\"/>\n     <use style=\"fill:#008000;stroke:#008000;\" x=\"167.400228\" xlink:href=\"#m75b44f3660\" y=\"154.406648\"/>\n     <use style=\"fill:#008000;stroke:#008000;\" x=\"229.363797\" xlink:href=\"#m75b44f3660\" y=\"167.060065\"/>\n     <use style=\"fill:#008000;stroke:#008000;\" x=\"252.166554\" xlink:href=\"#m75b44f3660\" y=\"153.018584\"/>\n     <use style=\"fill:#008000;stroke:#008000;\" x=\"218.644162\" xlink:href=\"#m75b44f3660\" y=\"166.022839\"/>\n     <use style=\"fill:#008000;stroke:#008000;\" x=\"276.840115\" xlink:href=\"#m75b44f3660\" y=\"165.059913\"/>\n     <use style=\"fill:#008000;stroke:#008000;\" x=\"201.616728\" xlink:href=\"#m75b44f3660\" y=\"166.33448\"/>\n     <use style=\"fill:#008000;stroke:#008000;\" x=\"229.421414\" xlink:href=\"#m75b44f3660\" y=\"183.342084\"/>\n     <use style=\"fill:#008000;stroke:#008000;\" x=\"210.298792\" xlink:href=\"#m75b44f3660\" y=\"140.876389\"/>\n     <use style=\"fill:#008000;stroke:#008000;\" x=\"240.650973\" xlink:href=\"#m75b44f3660\" y=\"171.294455\"/>\n     <use style=\"fill:#008000;stroke:#008000;\" x=\"191.704544\" xlink:href=\"#m75b44f3660\" y=\"137.08993\"/>\n     <use style=\"fill:#008000;stroke:#008000;\" x=\"248.125815\" xlink:href=\"#m75b44f3660\" y=\"156.589883\"/>\n     <use style=\"fill:#008000;stroke:#008000;\" x=\"253.507366\" xlink:href=\"#m75b44f3660\" y=\"135.562144\"/>\n     <use style=\"fill:#008000;stroke:#008000;\" x=\"246.815543\" xlink:href=\"#m75b44f3660\" y=\"182.445803\"/>\n     <use style=\"fill:#008000;stroke:#008000;\" x=\"188.025375\" xlink:href=\"#m75b44f3660\" y=\"145.642781\"/>\n     <use style=\"fill:#008000;stroke:#008000;\" x=\"254.753153\" xlink:href=\"#m75b44f3660\" y=\"168.522538\"/>\n     <use style=\"fill:#008000;stroke:#008000;\" x=\"207.275514\" xlink:href=\"#m75b44f3660\" y=\"148.764946\"/>\n     <use style=\"fill:#008000;stroke:#008000;\" x=\"214.529006\" xlink:href=\"#m75b44f3660\" y=\"184.383617\"/>\n     <use style=\"fill:#008000;stroke:#008000;\" x=\"192.754934\" xlink:href=\"#m75b44f3660\" y=\"154.893003\"/>\n     <use style=\"fill:#008000;stroke:#008000;\" x=\"246.176253\" xlink:href=\"#m75b44f3660\" y=\"144.937311\"/>\n     <use style=\"fill:#008000;stroke:#008000;\" x=\"140.340512\" xlink:href=\"#m75b44f3660\" y=\"144.764961\"/>\n     <use style=\"fill:#008000;stroke:#008000;\" x=\"212.701854\" xlink:href=\"#m75b44f3660\" y=\"179.354677\"/>\n     <use style=\"fill:#008000;stroke:#008000;\" x=\"249.564625\" xlink:href=\"#m75b44f3660\" y=\"171.812168\"/>\n     <use style=\"fill:#008000;stroke:#008000;\" x=\"160.598716\" xlink:href=\"#m75b44f3660\" y=\"151.683704\"/>\n     <use style=\"fill:#008000;stroke:#008000;\" x=\"186.303836\" xlink:href=\"#m75b44f3660\" y=\"191.563009\"/>\n     <use style=\"fill:#008000;stroke:#008000;\" x=\"264.628664\" xlink:href=\"#m75b44f3660\" y=\"161.135092\"/>\n     <use style=\"fill:#008000;stroke:#008000;\" x=\"88.396254\" xlink:href=\"#m75b44f3660\" y=\"148.187244\"/>\n     <use style=\"fill:#008000;stroke:#008000;\" x=\"258.110472\" xlink:href=\"#m75b44f3660\" y=\"175.22659\"/>\n     <use style=\"fill:#008000;stroke:#008000;\" x=\"262.548737\" xlink:href=\"#m75b44f3660\" y=\"169.464056\"/>\n     <use style=\"fill:#008000;stroke:#008000;\" x=\"167.752913\" xlink:href=\"#m75b44f3660\" y=\"169.189369\"/>\n     <use style=\"fill:#008000;stroke:#008000;\" x=\"236.935292\" xlink:href=\"#m75b44f3660\" y=\"145.833183\"/>\n     <use style=\"fill:#008000;stroke:#008000;\" x=\"168.066419\" xlink:href=\"#m75b44f3660\" y=\"174.061066\"/>\n     <use style=\"fill:#008000;stroke:#008000;\" x=\"252.887113\" xlink:href=\"#m75b44f3660\" y=\"164.805336\"/>\n     <use style=\"fill:#008000;stroke:#008000;\" x=\"224.295363\" xlink:href=\"#m75b44f3660\" y=\"176.21999\"/>\n     <use style=\"fill:#008000;stroke:#008000;\" x=\"232.247424\" xlink:href=\"#m75b44f3660\" y=\"160.102298\"/>\n     <use style=\"fill:#008000;stroke:#008000;\" x=\"228.867285\" xlink:href=\"#m75b44f3660\" y=\"163.047621\"/>\n     <use style=\"fill:#008000;stroke:#008000;\" x=\"254.180934\" xlink:href=\"#m75b44f3660\" y=\"141.796415\"/>\n     <use style=\"fill:#008000;stroke:#008000;\" x=\"220.471207\" xlink:href=\"#m75b44f3660\" y=\"190.005784\"/>\n     <use style=\"fill:#008000;stroke:#008000;\" x=\"271.582736\" xlink:href=\"#m75b44f3660\" y=\"141.459812\"/>\n     <use style=\"fill:#008000;stroke:#008000;\" x=\"220.875162\" xlink:href=\"#m75b44f3660\" y=\"162.242895\"/>\n     <use style=\"fill:#008000;stroke:#008000;\" x=\"242.040774\" xlink:href=\"#m75b44f3660\" y=\"170.160642\"/>\n     <use style=\"fill:#008000;stroke:#008000;\" x=\"171.417666\" xlink:href=\"#m75b44f3660\" y=\"181.633887\"/>\n     <use style=\"fill:#008000;stroke:#008000;\" x=\"242.553161\" xlink:href=\"#m75b44f3660\" y=\"188.893873\"/>\n     <use style=\"fill:#008000;stroke:#008000;\" x=\"87.659741\" xlink:href=\"#m75b44f3660\" y=\"159.805107\"/>\n    </g>\n   </g>\n   <g id=\"PathCollection_4\">\n    <defs>\n     <path d=\"M 0 3 \nC 0.795609 3 1.55874 2.683901 2.12132 2.12132 \nC 2.683901 1.55874 3 0.795609 3 0 \nC 3 -0.795609 2.683901 -1.55874 2.12132 -2.12132 \nC 1.55874 -2.683901 0.795609 -3 0 -3 \nC -0.795609 -3 -1.55874 -2.683901 -2.12132 -2.12132 \nC -2.683901 -1.55874 -3 -0.795609 -3 0 \nC -3 0.795609 -2.683901 1.55874 -2.12132 2.12132 \nC -1.55874 2.683901 -0.795609 3 0 3 \nz\n\" id=\"m8ccd777a36\" style=\"stroke:#ffa500;\"/>\n    </defs>\n    <g clip-path=\"url(#p9f16cf888d)\">\n     <use style=\"fill:#ffa500;stroke:#ffa500;\" x=\"205.533106\" xlink:href=\"#m8ccd777a36\" y=\"175.160667\"/>\n     <use style=\"fill:#ffa500;stroke:#ffa500;\" x=\"138.429119\" xlink:href=\"#m8ccd777a36\" y=\"158.188294\"/>\n     <use style=\"fill:#ffa500;stroke:#ffa500;\" x=\"154.792682\" xlink:href=\"#m8ccd777a36\" y=\"191.739697\"/>\n     <use style=\"fill:#ffa500;stroke:#ffa500;\" x=\"154.629359\" xlink:href=\"#m8ccd777a36\" y=\"183.053623\"/>\n     <use style=\"fill:#ffa500;stroke:#ffa500;\" x=\"112.53863\" xlink:href=\"#m8ccd777a36\" y=\"149.67702\"/>\n     <use style=\"fill:#ffa500;stroke:#ffa500;\" x=\"185.743816\" xlink:href=\"#m8ccd777a36\" y=\"178.657019\"/>\n     <use style=\"fill:#ffa500;stroke:#ffa500;\" x=\"135.99556\" xlink:href=\"#m8ccd777a36\" y=\"214.756364\"/>\n     <use style=\"fill:#ffa500;stroke:#ffa500;\" x=\"145.862177\" xlink:href=\"#m8ccd777a36\" y=\"179.457492\"/>\n     <use style=\"fill:#ffa500;stroke:#ffa500;\" x=\"119.650912\" xlink:href=\"#m8ccd777a36\" y=\"166.796988\"/>\n     <use style=\"fill:#ffa500;stroke:#ffa500;\" x=\"103.718775\" xlink:href=\"#m8ccd777a36\" y=\"148.747358\"/>\n     <use style=\"fill:#ffa500;stroke:#ffa500;\" x=\"123.614858\" xlink:href=\"#m8ccd777a36\" y=\"161.049876\"/>\n     <use style=\"fill:#ffa500;stroke:#ffa500;\" x=\"222.830088\" xlink:href=\"#m8ccd777a36\" y=\"189.635615\"/>\n     <use style=\"fill:#ffa500;stroke:#ffa500;\" x=\"188.110018\" xlink:href=\"#m8ccd777a36\" y=\"172.81219\"/>\n     <use style=\"fill:#ffa500;stroke:#ffa500;\" x=\"163.68576\" xlink:href=\"#m8ccd777a36\" y=\"156.475595\"/>\n     <use style=\"fill:#ffa500;stroke:#ffa500;\" x=\"161.096752\" xlink:href=\"#m8ccd777a36\" y=\"163.247622\"/>\n     <use style=\"fill:#ffa500;stroke:#ffa500;\" x=\"86.161024\" xlink:href=\"#m8ccd777a36\" y=\"172.205179\"/>\n     <use style=\"fill:#ffa500;stroke:#ffa500;\" x=\"117.155966\" xlink:href=\"#m8ccd777a36\" y=\"175.498622\"/>\n     <use style=\"fill:#ffa500;stroke:#ffa500;\" x=\"79.21629\" xlink:href=\"#m8ccd777a36\" y=\"177.195737\"/>\n     <use style=\"fill:#ffa500;stroke:#ffa500;\" x=\"174.509851\" xlink:href=\"#m8ccd777a36\" y=\"174.783426\"/>\n     <use style=\"fill:#ffa500;stroke:#ffa500;\" x=\"112.280485\" xlink:href=\"#m8ccd777a36\" y=\"177.220067\"/>\n     <use style=\"fill:#ffa500;stroke:#ffa500;\" x=\"157.677122\" xlink:href=\"#m8ccd777a36\" y=\"188.716204\"/>\n     <use style=\"fill:#ffa500;stroke:#ffa500;\" x=\"159.172819\" xlink:href=\"#m8ccd777a36\" y=\"204.371731\"/>\n     <use style=\"fill:#ffa500;stroke:#ffa500;\" x=\"162.232095\" xlink:href=\"#m8ccd777a36\" y=\"183.449069\"/>\n     <use style=\"fill:#ffa500;stroke:#ffa500;\" x=\"148.498249\" xlink:href=\"#m8ccd777a36\" y=\"212.308213\"/>\n     <use style=\"fill:#ffa500;stroke:#ffa500;\" x=\"143.693135\" xlink:href=\"#m8ccd777a36\" y=\"177.159104\"/>\n     <use style=\"fill:#ffa500;stroke:#ffa500;\" x=\"146.476036\" xlink:href=\"#m8ccd777a36\" y=\"156.657201\"/>\n     <use style=\"fill:#ffa500;stroke:#ffa500;\" x=\"172.642033\" xlink:href=\"#m8ccd777a36\" y=\"170.556146\"/>\n     <use style=\"fill:#ffa500;stroke:#ffa500;\" x=\"166.943039\" xlink:href=\"#m8ccd777a36\" y=\"160.348845\"/>\n     <use style=\"fill:#ffa500;stroke:#ffa500;\" x=\"175.241467\" xlink:href=\"#m8ccd777a36\" y=\"160.000574\"/>\n     <use style=\"fill:#ffa500;stroke:#ffa500;\" x=\"112.277283\" xlink:href=\"#m8ccd777a36\" y=\"187.955444\"/>\n     <use style=\"fill:#ffa500;stroke:#ffa500;\" x=\"146.743527\" xlink:href=\"#m8ccd777a36\" y=\"169.037461\"/>\n     <use style=\"fill:#ffa500;stroke:#ffa500;\" x=\"179.240067\" xlink:href=\"#m8ccd777a36\" y=\"184.80426\"/>\n     <use style=\"fill:#ffa500;stroke:#ffa500;\" x=\"207.721023\" xlink:href=\"#m8ccd777a36\" y=\"200.624914\"/>\n     <use style=\"fill:#ffa500;stroke:#ffa500;\" x=\"208.313488\" xlink:href=\"#m8ccd777a36\" y=\"184.770008\"/>\n     <use style=\"fill:#ffa500;stroke:#ffa500;\" x=\"261.831636\" xlink:href=\"#m8ccd777a36\" y=\"151.632642\"/>\n     <use style=\"fill:#ffa500;stroke:#ffa500;\" x=\"179.795763\" xlink:href=\"#m8ccd777a36\" y=\"173.061216\"/>\n     <use style=\"fill:#ffa500;stroke:#ffa500;\" x=\"118.336015\" xlink:href=\"#m8ccd777a36\" y=\"186.189478\"/>\n     <use style=\"fill:#ffa500;stroke:#ffa500;\" x=\"120.638254\" xlink:href=\"#m8ccd777a36\" y=\"184.63092\"/>\n     <use style=\"fill:#ffa500;stroke:#ffa500;\" x=\"108.067657\" xlink:href=\"#m8ccd777a36\" y=\"134.220114\"/>\n     <use style=\"fill:#ffa500;stroke:#ffa500;\" x=\"153.220769\" xlink:href=\"#m8ccd777a36\" y=\"143.077549\"/>\n     <use style=\"fill:#ffa500;stroke:#ffa500;\" x=\"133.589427\" xlink:href=\"#m8ccd777a36\" y=\"180.287138\"/>\n     <use style=\"fill:#ffa500;stroke:#ffa500;\" x=\"104.936516\" xlink:href=\"#m8ccd777a36\" y=\"187.83187\"/>\n     <use style=\"fill:#ffa500;stroke:#ffa500;\" x=\"114.929626\" xlink:href=\"#m8ccd777a36\" y=\"168.826242\"/>\n     <use style=\"fill:#ffa500;stroke:#ffa500;\" x=\"142.16248\" xlink:href=\"#m8ccd777a36\" y=\"162.658224\"/>\n     <use style=\"fill:#ffa500;stroke:#ffa500;\" x=\"105.975778\" xlink:href=\"#m8ccd777a36\" y=\"164.906948\"/>\n     <use style=\"fill:#ffa500;stroke:#ffa500;\" x=\"184.570642\" xlink:href=\"#m8ccd777a36\" y=\"152.09445\"/>\n     <use style=\"fill:#ffa500;stroke:#ffa500;\" x=\"124.1127\" xlink:href=\"#m8ccd777a36\" y=\"154.19761\"/>\n     <use style=\"fill:#ffa500;stroke:#ffa500;\" x=\"128.025047\" xlink:href=\"#m8ccd777a36\" y=\"143.939929\"/>\n     <use style=\"fill:#ffa500;stroke:#ffa500;\" x=\"214.875962\" xlink:href=\"#m8ccd777a36\" y=\"190.32345\"/>\n     <use style=\"fill:#ffa500;stroke:#ffa500;\" x=\"191.966718\" xlink:href=\"#m8ccd777a36\" y=\"180.673096\"/>\n     <use style=\"fill:#ffa500;stroke:#ffa500;\" x=\"126.656245\" xlink:href=\"#m8ccd777a36\" y=\"175.518022\"/>\n     <use style=\"fill:#ffa500;stroke:#ffa500;\" x=\"139.085313\" xlink:href=\"#m8ccd777a36\" y=\"190.223099\"/>\n     <use style=\"fill:#ffa500;stroke:#ffa500;\" x=\"193.163396\" xlink:href=\"#m8ccd777a36\" y=\"199.756841\"/>\n     <use style=\"fill:#ffa500;stroke:#ffa500;\" x=\"144.138747\" xlink:href=\"#m8ccd777a36\" y=\"194.497778\"/>\n     <use style=\"fill:#ffa500;stroke:#ffa500;\" x=\"171.345468\" xlink:href=\"#m8ccd777a36\" y=\"162.394649\"/>\n     <use style=\"fill:#ffa500;stroke:#ffa500;\" x=\"136.130178\" xlink:href=\"#m8ccd777a36\" y=\"171.329371\"/>\n     <use style=\"fill:#ffa500;stroke:#ffa500;\" x=\"134.128421\" xlink:href=\"#m8ccd777a36\" y=\"158.732104\"/>\n     <use style=\"fill:#ffa500;stroke:#ffa500;\" x=\"146.458581\" xlink:href=\"#m8ccd777a36\" y=\"175.869602\"/>\n     <use style=\"fill:#ffa500;stroke:#ffa500;\" x=\"111.124561\" xlink:href=\"#m8ccd777a36\" y=\"150.931723\"/>\n     <use style=\"fill:#ffa500;stroke:#ffa500;\" x=\"139.490254\" xlink:href=\"#m8ccd777a36\" y=\"163.069173\"/>\n     <use style=\"fill:#ffa500;stroke:#ffa500;\" x=\"123.103328\" xlink:href=\"#m8ccd777a36\" y=\"197.615485\"/>\n     <use style=\"fill:#ffa500;stroke:#ffa500;\" x=\"154.131603\" xlink:href=\"#m8ccd777a36\" y=\"171.402542\"/>\n     <use style=\"fill:#ffa500;stroke:#ffa500;\" x=\"125.602713\" xlink:href=\"#m8ccd777a36\" y=\"168.536313\"/>\n     <use style=\"fill:#ffa500;stroke:#ffa500;\" x=\"111.570916\" xlink:href=\"#m8ccd777a36\" y=\"167.824449\"/>\n     <use style=\"fill:#ffa500;stroke:#ffa500;\" x=\"101.513623\" xlink:href=\"#m8ccd777a36\" y=\"180.677297\"/>\n     <use style=\"fill:#ffa500;stroke:#ffa500;\" x=\"184.865198\" xlink:href=\"#m8ccd777a36\" y=\"157.823172\"/>\n     <use style=\"fill:#ffa500;stroke:#ffa500;\" x=\"126.622473\" xlink:href=\"#m8ccd777a36\" y=\"147.928032\"/>\n     <use style=\"fill:#ffa500;stroke:#ffa500;\" x=\"129.012822\" xlink:href=\"#m8ccd777a36\" y=\"198.277031\"/>\n     <use style=\"fill:#ffa500;stroke:#ffa500;\" x=\"152.583853\" xlink:href=\"#m8ccd777a36\" y=\"177.024944\"/>\n     <use style=\"fill:#ffa500;stroke:#ffa500;\" x=\"139.98807\" xlink:href=\"#m8ccd777a36\" y=\"164.572888\"/>\n     <use style=\"fill:#ffa500;stroke:#ffa500;\" x=\"126.632345\" xlink:href=\"#m8ccd777a36\" y=\"151.731086\"/>\n     <use style=\"fill:#ffa500;stroke:#ffa500;\" x=\"208.568842\" xlink:href=\"#m8ccd777a36\" y=\"158.431926\"/>\n     <use style=\"fill:#ffa500;stroke:#ffa500;\" x=\"149.683247\" xlink:href=\"#m8ccd777a36\" y=\"186.370283\"/>\n     <use style=\"fill:#ffa500;stroke:#ffa500;\" x=\"114.95839\" xlink:href=\"#m8ccd777a36\" y=\"179.88535\"/>\n     <use style=\"fill:#ffa500;stroke:#ffa500;\" x=\"156.84431\" xlink:href=\"#m8ccd777a36\" y=\"145.479169\"/>\n     <use style=\"fill:#ffa500;stroke:#ffa500;\" x=\"145.975391\" xlink:href=\"#m8ccd777a36\" y=\"185.32463\"/>\n     <use style=\"fill:#ffa500;stroke:#ffa500;\" x=\"132.257515\" xlink:href=\"#m8ccd777a36\" y=\"153.929944\"/>\n     <use style=\"fill:#ffa500;stroke:#ffa500;\" x=\"138.29992\" xlink:href=\"#m8ccd777a36\" y=\"175.374772\"/>\n     <use style=\"fill:#ffa500;stroke:#ffa500;\" x=\"175.126103\" xlink:href=\"#m8ccd777a36\" y=\"149.792138\"/>\n     <use style=\"fill:#ffa500;stroke:#ffa500;\" x=\"183.974905\" xlink:href=\"#m8ccd777a36\" y=\"183.780375\"/>\n     <use style=\"fill:#ffa500;stroke:#ffa500;\" x=\"142.770546\" xlink:href=\"#m8ccd777a36\" y=\"153.418497\"/>\n     <use style=\"fill:#ffa500;stroke:#ffa500;\" x=\"197.59023\" xlink:href=\"#m8ccd777a36\" y=\"173.344232\"/>\n     <use style=\"fill:#ffa500;stroke:#ffa500;\" x=\"107.163013\" xlink:href=\"#m8ccd777a36\" y=\"174.522973\"/>\n     <use style=\"fill:#ffa500;stroke:#ffa500;\" x=\"122.35226\" xlink:href=\"#m8ccd777a36\" y=\"174.150558\"/>\n     <use style=\"fill:#ffa500;stroke:#ffa500;\" x=\"227.978361\" xlink:href=\"#m8ccd777a36\" y=\"172.993024\"/>\n     <use style=\"fill:#ffa500;stroke:#ffa500;\" x=\"127.247588\" xlink:href=\"#m8ccd777a36\" y=\"183.70737\"/>\n     <use style=\"fill:#ffa500;stroke:#ffa500;\" x=\"103.857315\" xlink:href=\"#m8ccd777a36\" y=\"158.884652\"/>\n     <use style=\"fill:#ffa500;stroke:#ffa500;\" x=\"102.567794\" xlink:href=\"#m8ccd777a36\" y=\"170.352413\"/>\n     <use style=\"fill:#ffa500;stroke:#ffa500;\" x=\"158.395824\" xlink:href=\"#m8ccd777a36\" y=\"153.409255\"/>\n     <use style=\"fill:#ffa500;stroke:#ffa500;\" x=\"103.416613\" xlink:href=\"#m8ccd777a36\" y=\"197.656779\"/>\n     <use style=\"fill:#ffa500;stroke:#ffa500;\" x=\"121.558494\" xlink:href=\"#m8ccd777a36\" y=\"159.338378\"/>\n     <use style=\"fill:#ffa500;stroke:#ffa500;\" x=\"140.783436\" xlink:href=\"#m8ccd777a36\" y=\"168.176603\"/>\n     <use style=\"fill:#ffa500;stroke:#ffa500;\" x=\"161.287061\" xlink:href=\"#m8ccd777a36\" y=\"169.202819\"/>\n     <use style=\"fill:#ffa500;stroke:#ffa500;\" x=\"114.569121\" xlink:href=\"#m8ccd777a36\" y=\"165.155746\"/>\n     <use style=\"fill:#ffa500;stroke:#ffa500;\" x=\"72.42613\" xlink:href=\"#m8ccd777a36\" y=\"158.111515\"/>\n     <use style=\"fill:#ffa500;stroke:#ffa500;\" x=\"197.870621\" xlink:href=\"#m8ccd777a36\" y=\"155.698855\"/>\n     <use style=\"fill:#ffa500;stroke:#ffa500;\" x=\"161.945564\" xlink:href=\"#m8ccd777a36\" y=\"197.458542\"/>\n     <use style=\"fill:#ffa500;stroke:#ffa500;\" x=\"113.519697\" xlink:href=\"#m8ccd777a36\" y=\"194.607353\"/>\n     <use style=\"fill:#ffa500;stroke:#ffa500;\" x=\"188.4871\" xlink:href=\"#m8ccd777a36\" y=\"186.856565\"/>\n     <use style=\"fill:#ffa500;stroke:#ffa500;\" x=\"176.256435\" xlink:href=\"#m8ccd777a36\" y=\"143.142048\"/>\n    </g>\n   </g>\n   <g id=\"matplotlib.axis_1\">\n    <g id=\"xtick_1\">\n     <g id=\"line2d_1\">\n      <defs>\n       <path d=\"M 0 0 \nL 0 3.5 \n\" id=\"m345f32c7c8\" style=\"stroke:#000000;stroke-width:0.8;\"/>\n      </defs>\n      <g>\n       <use style=\"stroke:#000000;stroke-width:0.8;\" x=\"63.216069\" xlink:href=\"#m345f32c7c8\" y=\"224.64\"/>\n      </g>\n     </g>\n     <g id=\"text_1\">\n      <!-- −30 -->\n      <g transform=\"translate(52.663725 239.238437)scale(0.1 -0.1)\">\n       <defs>\n        <path d=\"M 10.59375 35.5 \nL 73.1875 35.5 \nL 73.1875 27.203125 \nL 10.59375 27.203125 \nz\n\" id=\"DejaVuSans-8722\"/>\n        <path d=\"M 40.578125 39.3125 \nQ 47.65625 37.796875 51.625 33 \nQ 55.609375 28.21875 55.609375 21.1875 \nQ 55.609375 10.40625 48.1875 4.484375 \nQ 40.765625 -1.421875 27.09375 -1.421875 \nQ 22.515625 -1.421875 17.65625 -0.515625 \nQ 12.796875 0.390625 7.625 2.203125 \nL 7.625 11.71875 \nQ 11.71875 9.328125 16.59375 8.109375 \nQ 21.484375 6.890625 26.8125 6.890625 \nQ 36.078125 6.890625 40.9375 10.546875 \nQ 45.796875 14.203125 45.796875 21.1875 \nQ 45.796875 27.640625 41.28125 31.265625 \nQ 36.765625 34.90625 28.71875 34.90625 \nL 20.21875 34.90625 \nL 20.21875 43.015625 \nL 29.109375 43.015625 \nQ 36.375 43.015625 40.234375 45.921875 \nQ 44.09375 48.828125 44.09375 54.296875 \nQ 44.09375 59.90625 40.109375 62.90625 \nQ 36.140625 65.921875 28.71875 65.921875 \nQ 24.65625 65.921875 20.015625 65.03125 \nQ 15.375 64.15625 9.8125 62.3125 \nL 9.8125 71.09375 \nQ 15.4375 72.65625 20.34375 73.4375 \nQ 25.25 74.21875 29.59375 74.21875 \nQ 40.828125 74.21875 47.359375 69.109375 \nQ 53.90625 64.015625 53.90625 55.328125 \nQ 53.90625 49.265625 50.4375 45.09375 \nQ 46.96875 40.921875 40.578125 39.3125 \nz\n\" id=\"DejaVuSans-51\"/>\n        <path d=\"M 31.78125 66.40625 \nQ 24.171875 66.40625 20.328125 58.90625 \nQ 16.5 51.421875 16.5 36.375 \nQ 16.5 21.390625 20.328125 13.890625 \nQ 24.171875 6.390625 31.78125 6.390625 \nQ 39.453125 6.390625 43.28125 13.890625 \nQ 47.125 21.390625 47.125 36.375 \nQ 47.125 51.421875 43.28125 58.90625 \nQ 39.453125 66.40625 31.78125 66.40625 \nz\nM 31.78125 74.21875 \nQ 44.046875 74.21875 50.515625 64.515625 \nQ 56.984375 54.828125 56.984375 36.375 \nQ 56.984375 17.96875 50.515625 8.265625 \nQ 44.046875 -1.421875 31.78125 -1.421875 \nQ 19.53125 -1.421875 13.0625 8.265625 \nQ 6.59375 17.96875 6.59375 36.375 \nQ 6.59375 54.828125 13.0625 64.515625 \nQ 19.53125 74.21875 31.78125 74.21875 \nz\n\" id=\"DejaVuSans-48\"/>\n       </defs>\n       <use xlink:href=\"#DejaVuSans-8722\"/>\n       <use x=\"83.789062\" xlink:href=\"#DejaVuSans-51\"/>\n       <use x=\"147.412109\" xlink:href=\"#DejaVuSans-48\"/>\n      </g>\n     </g>\n    </g>\n    <g id=\"xtick_2\">\n     <g id=\"line2d_2\">\n      <g>\n       <use style=\"stroke:#000000;stroke-width:0.8;\" x=\"104.682979\" xlink:href=\"#m345f32c7c8\" y=\"224.64\"/>\n      </g>\n     </g>\n     <g id=\"text_2\">\n      <!-- −20 -->\n      <g transform=\"translate(94.130635 239.238437)scale(0.1 -0.1)\">\n       <defs>\n        <path d=\"M 19.1875 8.296875 \nL 53.609375 8.296875 \nL 53.609375 0 \nL 7.328125 0 \nL 7.328125 8.296875 \nQ 12.9375 14.109375 22.625 23.890625 \nQ 32.328125 33.6875 34.8125 36.53125 \nQ 39.546875 41.84375 41.421875 45.53125 \nQ 43.3125 49.21875 43.3125 52.78125 \nQ 43.3125 58.59375 39.234375 62.25 \nQ 35.15625 65.921875 28.609375 65.921875 \nQ 23.96875 65.921875 18.8125 64.3125 \nQ 13.671875 62.703125 7.8125 59.421875 \nL 7.8125 69.390625 \nQ 13.765625 71.78125 18.9375 73 \nQ 24.125 74.21875 28.421875 74.21875 \nQ 39.75 74.21875 46.484375 68.546875 \nQ 53.21875 62.890625 53.21875 53.421875 \nQ 53.21875 48.921875 51.53125 44.890625 \nQ 49.859375 40.875 45.40625 35.40625 \nQ 44.1875 33.984375 37.640625 27.21875 \nQ 31.109375 20.453125 19.1875 8.296875 \nz\n\" id=\"DejaVuSans-50\"/>\n       </defs>\n       <use xlink:href=\"#DejaVuSans-8722\"/>\n       <use x=\"83.789062\" xlink:href=\"#DejaVuSans-50\"/>\n       <use x=\"147.412109\" xlink:href=\"#DejaVuSans-48\"/>\n      </g>\n     </g>\n    </g>\n    <g id=\"xtick_3\">\n     <g id=\"line2d_3\">\n      <g>\n       <use style=\"stroke:#000000;stroke-width:0.8;\" x=\"146.149889\" xlink:href=\"#m345f32c7c8\" y=\"224.64\"/>\n      </g>\n     </g>\n     <g id=\"text_3\">\n      <!-- −10 -->\n      <g transform=\"translate(135.597545 239.238437)scale(0.1 -0.1)\">\n       <defs>\n        <path d=\"M 12.40625 8.296875 \nL 28.515625 8.296875 \nL 28.515625 63.921875 \nL 10.984375 60.40625 \nL 10.984375 69.390625 \nL 28.421875 72.90625 \nL 38.28125 72.90625 \nL 38.28125 8.296875 \nL 54.390625 8.296875 \nL 54.390625 0 \nL 12.40625 0 \nz\n\" id=\"DejaVuSans-49\"/>\n       </defs>\n       <use xlink:href=\"#DejaVuSans-8722\"/>\n       <use x=\"83.789062\" xlink:href=\"#DejaVuSans-49\"/>\n       <use x=\"147.412109\" xlink:href=\"#DejaVuSans-48\"/>\n      </g>\n     </g>\n    </g>\n    <g id=\"xtick_4\">\n     <g id=\"line2d_4\">\n      <g>\n       <use style=\"stroke:#000000;stroke-width:0.8;\" x=\"187.616799\" xlink:href=\"#m345f32c7c8\" y=\"224.64\"/>\n      </g>\n     </g>\n     <g id=\"text_4\">\n      <!-- 0 -->\n      <g transform=\"translate(184.435549 239.238437)scale(0.1 -0.1)\">\n       <use xlink:href=\"#DejaVuSans-48\"/>\n      </g>\n     </g>\n    </g>\n    <g id=\"xtick_5\">\n     <g id=\"line2d_5\">\n      <g>\n       <use style=\"stroke:#000000;stroke-width:0.8;\" x=\"229.083709\" xlink:href=\"#m345f32c7c8\" y=\"224.64\"/>\n      </g>\n     </g>\n     <g id=\"text_5\">\n      <!-- 10 -->\n      <g transform=\"translate(222.721209 239.238437)scale(0.1 -0.1)\">\n       <use xlink:href=\"#DejaVuSans-49\"/>\n       <use x=\"63.623047\" xlink:href=\"#DejaVuSans-48\"/>\n      </g>\n     </g>\n    </g>\n    <g id=\"xtick_6\">\n     <g id=\"line2d_6\">\n      <g>\n       <use style=\"stroke:#000000;stroke-width:0.8;\" x=\"270.550619\" xlink:href=\"#m345f32c7c8\" y=\"224.64\"/>\n      </g>\n     </g>\n     <g id=\"text_6\">\n      <!-- 20 -->\n      <g transform=\"translate(264.188119 239.238437)scale(0.1 -0.1)\">\n       <use xlink:href=\"#DejaVuSans-50\"/>\n       <use x=\"63.623047\" xlink:href=\"#DejaVuSans-48\"/>\n      </g>\n     </g>\n    </g>\n    <g id=\"xtick_7\">\n     <g id=\"line2d_7\">\n      <g>\n       <use style=\"stroke:#000000;stroke-width:0.8;\" x=\"312.017529\" xlink:href=\"#m345f32c7c8\" y=\"224.64\"/>\n      </g>\n     </g>\n     <g id=\"text_7\">\n      <!-- 30 -->\n      <g transform=\"translate(305.655029 239.238437)scale(0.1 -0.1)\">\n       <use xlink:href=\"#DejaVuSans-51\"/>\n       <use x=\"63.623047\" xlink:href=\"#DejaVuSans-48\"/>\n      </g>\n     </g>\n    </g>\n    <g id=\"xtick_8\">\n     <g id=\"line2d_8\">\n      <g>\n       <use style=\"stroke:#000000;stroke-width:0.8;\" x=\"353.484439\" xlink:href=\"#m345f32c7c8\" y=\"224.64\"/>\n      </g>\n     </g>\n     <g id=\"text_8\">\n      <!-- 40 -->\n      <g transform=\"translate(347.121939 239.238437)scale(0.1 -0.1)\">\n       <defs>\n        <path d=\"M 37.796875 64.3125 \nL 12.890625 25.390625 \nL 37.796875 25.390625 \nz\nM 35.203125 72.90625 \nL 47.609375 72.90625 \nL 47.609375 25.390625 \nL 58.015625 25.390625 \nL 58.015625 17.1875 \nL 47.609375 17.1875 \nL 47.609375 0 \nL 37.796875 0 \nL 37.796875 17.1875 \nL 4.890625 17.1875 \nL 4.890625 26.703125 \nz\n\" id=\"DejaVuSans-52\"/>\n       </defs>\n       <use xlink:href=\"#DejaVuSans-52\"/>\n       <use x=\"63.623047\" xlink:href=\"#DejaVuSans-48\"/>\n      </g>\n     </g>\n    </g>\n   </g>\n   <g id=\"matplotlib.axis_2\">\n    <g id=\"ytick_1\">\n     <g id=\"line2d_9\">\n      <defs>\n       <path d=\"M 0 0 \nL -3.5 0 \n\" id=\"mfe90b65ac5\" style=\"stroke:#000000;stroke-width:0.8;\"/>\n      </defs>\n      <g>\n       <use style=\"stroke:#000000;stroke-width:0.8;\" x=\"35.304688\" xlink:href=\"#mfe90b65ac5\" y=\"217.567894\"/>\n      </g>\n     </g>\n     <g id=\"text_9\">\n      <!-- −40 -->\n      <g transform=\"translate(7.2 221.367113)scale(0.1 -0.1)\">\n       <use xlink:href=\"#DejaVuSans-8722\"/>\n       <use x=\"83.789062\" xlink:href=\"#DejaVuSans-52\"/>\n       <use x=\"147.412109\" xlink:href=\"#DejaVuSans-48\"/>\n      </g>\n     </g>\n    </g>\n    <g id=\"ytick_2\">\n     <g id=\"line2d_10\">\n      <g>\n       <use style=\"stroke:#000000;stroke-width:0.8;\" x=\"35.304688\" xlink:href=\"#mfe90b65ac5\" y=\"170.013109\"/>\n      </g>\n     </g>\n     <g id=\"text_10\">\n      <!-- −20 -->\n      <g transform=\"translate(7.2 173.812328)scale(0.1 -0.1)\">\n       <use xlink:href=\"#DejaVuSans-8722\"/>\n       <use x=\"83.789062\" xlink:href=\"#DejaVuSans-50\"/>\n       <use x=\"147.412109\" xlink:href=\"#DejaVuSans-48\"/>\n      </g>\n     </g>\n    </g>\n    <g id=\"ytick_3\">\n     <g id=\"line2d_11\">\n      <g>\n       <use style=\"stroke:#000000;stroke-width:0.8;\" x=\"35.304688\" xlink:href=\"#mfe90b65ac5\" y=\"122.458325\"/>\n      </g>\n     </g>\n     <g id=\"text_11\">\n      <!-- 0 -->\n      <g transform=\"translate(21.942188 126.257544)scale(0.1 -0.1)\">\n       <use xlink:href=\"#DejaVuSans-48\"/>\n      </g>\n     </g>\n    </g>\n    <g id=\"ytick_4\">\n     <g id=\"line2d_12\">\n      <g>\n       <use style=\"stroke:#000000;stroke-width:0.8;\" x=\"35.304688\" xlink:href=\"#mfe90b65ac5\" y=\"74.903541\"/>\n      </g>\n     </g>\n     <g id=\"text_12\">\n      <!-- 20 -->\n      <g transform=\"translate(15.579688 78.702759)scale(0.1 -0.1)\">\n       <use xlink:href=\"#DejaVuSans-50\"/>\n       <use x=\"63.623047\" xlink:href=\"#DejaVuSans-48\"/>\n      </g>\n     </g>\n    </g>\n    <g id=\"ytick_5\">\n     <g id=\"line2d_13\">\n      <g>\n       <use style=\"stroke:#000000;stroke-width:0.8;\" x=\"35.304688\" xlink:href=\"#mfe90b65ac5\" y=\"27.348756\"/>\n      </g>\n     </g>\n     <g id=\"text_13\">\n      <!-- 40 -->\n      <g transform=\"translate(15.579688 31.147975)scale(0.1 -0.1)\">\n       <use xlink:href=\"#DejaVuSans-52\"/>\n       <use x=\"63.623047\" xlink:href=\"#DejaVuSans-48\"/>\n      </g>\n     </g>\n    </g>\n   </g>\n   <g id=\"patch_3\">\n    <path d=\"M 35.304688 224.64 \nL 35.304688 7.2 \n\" style=\"fill:none;stroke:#000000;stroke-linecap:square;stroke-linejoin:miter;stroke-width:0.8;\"/>\n   </g>\n   <g id=\"patch_4\">\n    <path d=\"M 370.104688 224.64 \nL 370.104688 7.2 \n\" style=\"fill:none;stroke:#000000;stroke-linecap:square;stroke-linejoin:miter;stroke-width:0.8;\"/>\n   </g>\n   <g id=\"patch_5\">\n    <path d=\"M 35.304687 224.64 \nL 370.104687 224.64 \n\" style=\"fill:none;stroke:#000000;stroke-linecap:square;stroke-linejoin:miter;stroke-width:0.8;\"/>\n   </g>\n   <g id=\"patch_6\">\n    <path d=\"M 35.304687 7.2 \nL 370.104687 7.2 \n\" style=\"fill:none;stroke:#000000;stroke-linecap:square;stroke-linejoin:miter;stroke-width:0.8;\"/>\n   </g>\n  </g>\n </g>\n <defs>\n  <clipPath id=\"p9f16cf888d\">\n   <rect height=\"217.44\" width=\"334.8\" x=\"35.304688\" y=\"7.2\"/>\n  </clipPath>\n </defs>\n</svg>\n",
      "text/plain": [
       "<Figure size 432x288 with 1 Axes>"
      ]
     },
     "metadata": {
      "needs_background": "light"
     },
     "output_type": "display_data"
    }
   ],
   "source": [
    "embedding = MDS(n_components=2)\n",
    "solution = embedding.fit_transform(np.concatenate((birdTestReps, dogTestReps, carTestReps, busTestReps)))\n",
    "plt.scatter(solution[0:100, 0], solution[0:100, 1], c='blue')\n",
    "plt.scatter(solution[100:200, 0], solution[100:200, 1], c='red')\n",
    "plt.scatter(solution[200:300, 0], solution[200:300, 1], c='green')\n",
    "plt.scatter(solution[300:400, 0], solution[300:400, 1], c='orange')"
   ]
  },
  {
   "cell_type": "markdown",
   "metadata": {},
   "source": [
    "# Category Verification Ecoset Model + GCM"
   ]
  },
  {
   "cell_type": "code",
   "execution_count": 7,
   "metadata": {},
   "outputs": [],
   "source": [
    "# Reimplementation of task to confirmation task\n",
    "maxExem = birdTrainReps.shape[0]\n",
    "criterion = 25\n",
    "\n",
    "verifData = pd.DataFrame(columns=['level', 'cat', 'resp', 'rt'])\n",
    "for rep in birdTestReps:\n",
    "    evidence = cat.get_evidence(rep, birdTrainReps, cat.gcm_sim, maxExem)\n",
    "    drift = evidence / (evidence + criterion)\n",
    "    resp, rt = cat.LBA_deterministic(drift, 1 - drift, b=.5)\n",
    "    resp = 'yes' if resp == 1 else 'no'\n",
    "    \n",
    "    # Add row\n",
    "    verifData = verifData.append({\n",
    "        'level': 'basic',\n",
    "        'cat': 'bird',\n",
    "        'resp': resp,\n",
    "        'rt': rt\n",
    "    }, ignore_index=True)\n",
    "\n",
    "for rep in dogTestReps:\n",
    "    evidence = cat.get_evidence(rep, dogTrainReps, cat.gcm_sim, maxExem)\n",
    "    drift = evidence / (evidence + criterion)\n",
    "    resp, rt = cat.LBA_deterministic(drift, 1 - drift, b=.5)\n",
    "    resp = 'yes' if resp == 1 else 'no'\n",
    "    \n",
    "    # Add row\n",
    "    verifData = verifData.append({\n",
    "        'level': 'basic',\n",
    "        'cat': 'dog',\n",
    "        'resp': resp,\n",
    "        'rt': rt\n",
    "    }, ignore_index=True)\n",
    "\n",
    "for rep in carTestReps:\n",
    "    evidence = cat.get_evidence(rep, carTrainReps, cat.gcm_sim, maxExem)\n",
    "    drift = evidence / (evidence + criterion)\n",
    "    resp, rt = cat.LBA_deterministic(drift, 1 - drift, b=.5)\n",
    "    resp = 'yes' if resp == 1 else 'no'\n",
    "    \n",
    "    # Add row\n",
    "    verifData = verifData.append({\n",
    "        'level': 'basic',\n",
    "        'cat': 'car',\n",
    "        'resp': resp,\n",
    "        'rt': rt\n",
    "    }, ignore_index=True)\n",
    "\n",
    "for rep in busTestReps:\n",
    "    evidence = cat.get_evidence(rep, busTrainReps, cat.gcm_sim, maxExem)\n",
    "    drift = evidence / (evidence + criterion)\n",
    "    resp, rt = cat.LBA_deterministic(drift, 1 - drift, b=.5)\n",
    "    resp = 'yes' if resp == 1 else 'no'\n",
    "    \n",
    "    # Add row\n",
    "    verifData = verifData.append({\n",
    "        'level': 'basic',\n",
    "        'cat': 'bus',\n",
    "        'resp': resp,\n",
    "        'rt': rt\n",
    "    }, ignore_index=True)\n",
    "\n",
    "for rep in animalTestReps:\n",
    "    evidence = cat.get_evidence(rep, animalTrainReps, cat.gcm_sim, maxExem)\n",
    "    drift = evidence / (evidence + criterion)\n",
    "    resp, rt = cat.LBA_deterministic(drift, 1 - drift, b=.5)\n",
    "    resp = 'yes' if resp == 1 else 'no'\n",
    "    \n",
    "    # Add row\n",
    "    verifData = verifData.append({\n",
    "        'level': 'super',\n",
    "        'cat': 'animal',\n",
    "        'resp': resp,\n",
    "        'rt': rt\n",
    "    }, ignore_index=True)\n",
    "\n",
    "for rep in vehicleTestReps:\n",
    "    evidence = cat.get_evidence(rep, vehicleTrainReps, cat.gcm_sim, maxExem)\n",
    "    drift = evidence / (evidence + criterion)\n",
    "    resp, rt = cat.LBA_deterministic(drift, 1 - drift, b=.5)\n",
    "    resp = 'yes' if resp == 1 else 'no'\n",
    "    \n",
    "    # Add row\n",
    "    verifData = verifData.append({\n",
    "        'level': 'super',\n",
    "        'cat': 'vehicle',\n",
    "        'resp': resp,\n",
    "        'rt': rt\n",
    "    }, ignore_index=True)"
   ]
  },
  {
   "cell_type": "code",
   "execution_count": 8,
   "metadata": {},
   "outputs": [
    {
     "data": {
      "text/plain": [
       "level  resp\n",
       "basic  yes     379\n",
       "       no       21\n",
       "super  yes     356\n",
       "       no       44\n",
       "Name: resp, dtype: int64"
      ]
     },
     "execution_count": 8,
     "metadata": {},
     "output_type": "execute_result"
    }
   ],
   "source": [
    "# Group data basic on level and count responses\n",
    "verifData.groupby(['level'])['resp'].value_counts()"
   ]
  },
  {
   "cell_type": "code",
   "execution_count": 9,
   "metadata": {},
   "outputs": [
    {
     "data": {
      "text/plain": [
       "level\n",
       "basic    0.869541\n",
       "super    0.894877\n",
       "Name: rt, dtype: float64"
      ]
     },
     "execution_count": 9,
     "metadata": {},
     "output_type": "execute_result"
    }
   ],
   "source": [
    "verifData.groupby(['level'])['rt'].mean()"
   ]
  },
  {
   "cell_type": "markdown",
   "metadata": {},
   "source": [
    "# Category Verification VGG16 Model + GCM Similarity"
   ]
  },
  {
   "cell_type": "code",
   "execution_count": 10,
   "metadata": {},
   "outputs": [
    {
     "name": "stdout",
     "output_type": "stream",
     "text": [
      "Model: \"model_4\"\n",
      "_________________________________________________________________\n",
      "Layer (type)                 Output Shape              Param #   \n",
      "=================================================================\n",
      "input_3 (InputLayer)         [(None, 224, 224, 3)]     0         \n",
      "_________________________________________________________________\n",
      "block1_conv1 (Conv2D)        (None, 224, 224, 64)      1792      \n",
      "_________________________________________________________________\n",
      "block1_conv2 (Conv2D)        (None, 224, 224, 64)      36928     \n",
      "_________________________________________________________________\n",
      "block1_pool (MaxPooling2D)   (None, 112, 112, 64)      0         \n",
      "_________________________________________________________________\n",
      "block2_conv1 (Conv2D)        (None, 112, 112, 128)     73856     \n",
      "_________________________________________________________________\n",
      "block2_conv2 (Conv2D)        (None, 112, 112, 128)     147584    \n",
      "_________________________________________________________________\n",
      "block2_pool (MaxPooling2D)   (None, 56, 56, 128)       0         \n",
      "_________________________________________________________________\n",
      "block3_conv1 (Conv2D)        (None, 56, 56, 256)       295168    \n",
      "_________________________________________________________________\n",
      "block3_conv2 (Conv2D)        (None, 56, 56, 256)       590080    \n",
      "_________________________________________________________________\n",
      "block3_conv3 (Conv2D)        (None, 56, 56, 256)       590080    \n",
      "_________________________________________________________________\n",
      "block3_pool (MaxPooling2D)   (None, 28, 28, 256)       0         \n",
      "_________________________________________________________________\n",
      "block4_conv1 (Conv2D)        (None, 28, 28, 512)       1180160   \n",
      "_________________________________________________________________\n",
      "block4_conv2 (Conv2D)        (None, 28, 28, 512)       2359808   \n",
      "_________________________________________________________________\n",
      "block4_conv3 (Conv2D)        (None, 28, 28, 512)       2359808   \n",
      "_________________________________________________________________\n",
      "block4_pool (MaxPooling2D)   (None, 14, 14, 512)       0         \n",
      "_________________________________________________________________\n",
      "block5_conv1 (Conv2D)        (None, 14, 14, 512)       2359808   \n",
      "_________________________________________________________________\n",
      "block5_conv2 (Conv2D)        (None, 14, 14, 512)       2359808   \n",
      "_________________________________________________________________\n",
      "block5_conv3 (Conv2D)        (None, 14, 14, 512)       2359808   \n",
      "_________________________________________________________________\n",
      "block5_pool (MaxPooling2D)   (None, 7, 7, 512)         0         \n",
      "_________________________________________________________________\n",
      "flatten (Flatten)            (None, 25088)             0         \n",
      "_________________________________________________________________\n",
      "fc1 (Dense)                  (None, 4096)              102764544 \n",
      "_________________________________________________________________\n",
      "fc2 (Dense)                  (None, 4096)              16781312  \n",
      "=================================================================\n",
      "Total params: 134,260,544\n",
      "Trainable params: 134,260,544\n",
      "Non-trainable params: 0\n",
      "_________________________________________________________________\n"
     ]
    },
    {
     "name": "stderr",
     "output_type": "stream",
     "text": [
      "2022-08-19 11:04:45.966233: W tensorflow/core/framework/cpu_allocator_impl.cc:80] Allocation of 411041792 exceeds 10% of free system memory.\n"
     ]
    }
   ],
   "source": [
    "model = tf.keras.applications.vgg16.VGG16(include_top=True)\n",
    "\n",
    "# Get output from penultimate layer\n",
    "model = tf.keras.Model(inputs=model.input, outputs=model.layers[-2].output)\n",
    "\n",
    "model.summary()"
   ]
  },
  {
   "cell_type": "code",
   "execution_count": 11,
   "metadata": {},
   "outputs": [],
   "source": [
    "trainCats, trainCounts = cat.build_categories_from_ecoset(\n",
    "    './images/train', \n",
    "    includeSub=False,\n",
    "    maxImgs=100\n",
    "    )\n",
    "testCats, testCounts = cat.build_categories_from_ecoset(\n",
    "    './images/val+test',\n",
    "    includeSub=False,\n",
    "    maxImgs=100\n",
    ")\n",
    "\n",
    "def vggPreprocess(img):\n",
    "    if isinstance(img, Image.Image):\n",
    "        img = img.convert(\"RGB\")\n",
    "    img = np.array(img)\n",
    "    img = tf.keras.preprocessing.image.smart_resize(img, (224, 224))\n",
    "    img = tf.keras.applications.vgg16.preprocess_input(img)\n",
    "    img = np.expand_dims(img, axis=0)\n",
    "    return img\n",
    "    \n",
    "trainVGGImages = cat.get_images_from_cat(trainCats, preprocFun = vggPreprocess)\n",
    "testVGGImages = cat.get_images_from_cat(testCats, preprocFun = vggPreprocess)"
   ]
  },
  {
   "cell_type": "code",
   "execution_count": 12,
   "metadata": {},
   "outputs": [
    {
     "name": "stderr",
     "output_type": "stream",
     "text": [
      "2022-08-19 11:04:51.839231: W tensorflow/core/common_runtime/bfc_allocator.cc:271] Allocator (GPU_0_bfc) ran out of memory trying to allocate 1.02GiB with freed_by_count=0. The caller indicates that this is not a failure, but may mean that there could be performance gains if more memory were available.\n",
      "2022-08-19 11:04:51.863648: W tensorflow/core/common_runtime/bfc_allocator.cc:271] Allocator (GPU_0_bfc) ran out of memory trying to allocate 939.37MiB with freed_by_count=0. The caller indicates that this is not a failure, but may mean that there could be performance gains if more memory were available.\n",
      "2022-08-19 11:04:52.015468: W tensorflow/core/common_runtime/bfc_allocator.cc:271] Allocator (GPU_0_bfc) ran out of memory trying to allocate 3.46GiB with freed_by_count=0. The caller indicates that this is not a failure, but may mean that there could be performance gains if more memory were available.\n",
      "2022-08-19 11:04:52.015542: W tensorflow/core/common_runtime/bfc_allocator.cc:271] Allocator (GPU_0_bfc) ran out of memory trying to allocate 3.04GiB with freed_by_count=0. The caller indicates that this is not a failure, but may mean that there could be performance gains if more memory were available.\n",
      "2022-08-19 11:04:52.038955: W tensorflow/core/common_runtime/bfc_allocator.cc:271] Allocator (GPU_0_bfc) ran out of memory trying to allocate 67.00MiB with freed_by_count=0. The caller indicates that this is not a failure, but may mean that there could be performance gains if more memory were available.\n",
      "2022-08-19 11:04:52.039021: W tensorflow/core/common_runtime/bfc_allocator.cc:271] Allocator (GPU_0_bfc) ran out of memory trying to allocate 1.74GiB with freed_by_count=0. The caller indicates that this is not a failure, but may mean that there could be performance gains if more memory were available.\n",
      "2022-08-19 11:04:52.112818: W tensorflow/core/common_runtime/bfc_allocator.cc:271] Allocator (GPU_0_bfc) ran out of memory trying to allocate 898.00MiB with freed_by_count=0. The caller indicates that this is not a failure, but may mean that there could be performance gains if more memory were available.\n"
     ]
    }
   ],
   "source": [
    "birdTrainVGGReps = model.predict(trainVGGImages['animal']['0085_bird'])\n",
    "dogTrainVGGReps = model.predict(trainVGGImages['animal']['0039_dog'])\n",
    "carTrainVGGReps = model.predict(trainVGGImages['vehicle']['0009_car'])\n",
    "busTrainVGGReps = model.predict(trainVGGImages['vehicle']['0089_bus'])\n",
    "\n",
    "animalTrainVGGReps = np.concatenate((birdTrainVGGReps, dogTrainVGGReps))\n",
    "vehicleTrainVGGReps = np.concatenate((carTrainVGGReps, busTrainVGGReps))\n",
    "\n",
    "birdTestVGGReps = model.predict(testVGGImages['animal']['0085_bird'])\n",
    "dogTestVGGReps = model.predict(testVGGImages['animal']['0039_dog'])\n",
    "carTestVGGReps = model.predict(testVGGImages['vehicle']['0009_car'])\n",
    "busTestVGGReps = model.predict(testVGGImages['vehicle']['0089_bus'])\n",
    "\n",
    "animalTestVGGReps = np.concatenate((birdTestVGGReps, dogTestVGGReps))\n",
    "vehicleTestVGGReps = np.concatenate((carTestVGGReps, busTestVGGReps))"
   ]
  },
  {
   "cell_type": "code",
   "execution_count": 13,
   "metadata": {},
   "outputs": [],
   "source": [
    "# Reimplementation of task to confirmation task\n",
    "maxExem = birdTrainVGGReps.shape[0]\n",
    "criterion = 25\n",
    "\n",
    "verifVGGData = pd.DataFrame(columns=['level', 'cat', 'resp', 'rt'])\n",
    "for rep in birdTestVGGReps:\n",
    "    evidence = cat.get_evidence(rep, birdTrainVGGReps, cat.gcm_sim, maxExem)\n",
    "    drift = evidence / (evidence + criterion)\n",
    "    resp, rt = cat.LBA_deterministic(drift, 1 - drift, b=.5)\n",
    "    resp = 'yes' if resp == 1 else 'no'\n",
    "    \n",
    "    # Add row\n",
    "    verifVGGData = verifVGGData.append({\n",
    "        'level': 'basic',\n",
    "        'cat': 'bird',\n",
    "        'resp': resp,\n",
    "        'rt': rt\n",
    "    }, ignore_index=True)\n",
    "\n",
    "for rep in dogTestVGGReps:\n",
    "    evidence = cat.get_evidence(rep, dogTrainVGGReps, cat.gcm_sim, maxExem)\n",
    "    drift = evidence / (evidence + criterion)\n",
    "    resp, rt = cat.LBA_deterministic(drift, 1 - drift, b=.5)\n",
    "    resp = 'yes' if resp == 1 else 'no'\n",
    "    \n",
    "    # Add row\n",
    "    verifVGGData = verifVGGData.append({\n",
    "        'level': 'basic',\n",
    "        'cat': 'dog',\n",
    "        'resp': resp,\n",
    "        'rt': rt\n",
    "    }, ignore_index=True)\n",
    "\n",
    "for rep in carTestVGGReps:\n",
    "    evidence = cat.get_evidence(rep, carTrainVGGReps, cat.gcm_sim, maxExem)\n",
    "    drift = evidence / (evidence + criterion)\n",
    "    resp, rt = cat.LBA_deterministic(drift, 1 - drift, b=.5)\n",
    "    resp = 'yes' if resp == 1 else 'no'\n",
    "    \n",
    "    # Add row\n",
    "    verifVGGData = verifVGGData.append({\n",
    "        'level': 'basic',\n",
    "        'cat': 'car',\n",
    "        'resp': resp,\n",
    "        'rt': rt\n",
    "    }, ignore_index=True)\n",
    "\n",
    "for rep in busTestVGGReps:\n",
    "    evidence = cat.get_evidence(rep, busTrainVGGReps, cat.gcm_sim, maxExem)\n",
    "    drift = evidence / (evidence + criterion)\n",
    "    resp, rt = cat.LBA_deterministic(drift, 1 - drift, b=.5)\n",
    "    resp = 'yes' if resp == 1 else 'no'\n",
    "    \n",
    "    # Add row\n",
    "    verifVGGData = verifVGGData.append({\n",
    "        'level': 'basic',\n",
    "        'cat': 'bus',\n",
    "        'resp': resp,\n",
    "        'rt': rt\n",
    "    }, ignore_index=True)\n",
    "\n",
    "for rep in animalTestVGGReps:\n",
    "    evidence = cat.get_evidence(rep, animalTrainVGGReps, cat.gcm_sim, maxExem)\n",
    "    drift = evidence / (evidence + criterion)\n",
    "    resp, rt = cat.LBA_deterministic(drift, 1 - drift, b=.5)\n",
    "    resp = 'yes' if resp == 1 else 'no'\n",
    "    \n",
    "    # Add row\n",
    "    verifVGGData = verifVGGData.append({\n",
    "        'level': 'super',\n",
    "        'cat': 'animal',\n",
    "        'resp': resp,\n",
    "        'rt': rt\n",
    "    }, ignore_index=True)\n",
    "\n",
    "for rep in vehicleTestVGGReps:\n",
    "    evidence = cat.get_evidence(rep, vehicleTrainVGGReps, cat.gcm_sim, maxExem)\n",
    "    drift = evidence / (evidence + criterion)\n",
    "    resp, rt = cat.LBA_deterministic(drift, 1 - drift, b=.5)\n",
    "    resp = 'yes' if resp == 1 else 'no'\n",
    "    \n",
    "    # Add row\n",
    "    verifVGGData = verifVGGData.append({\n",
    "        'level': 'super',\n",
    "        'cat': 'vehicle',\n",
    "        'resp': resp,\n",
    "        'rt': rt\n",
    "    }, ignore_index=True)"
   ]
  },
  {
   "cell_type": "code",
   "execution_count": 14,
   "metadata": {},
   "outputs": [
    {
     "data": {
      "text/plain": [
       "level  resp\n",
       "basic  no      212\n",
       "       yes     188\n",
       "super  no      249\n",
       "       yes     151\n",
       "Name: resp, dtype: int64"
      ]
     },
     "execution_count": 14,
     "metadata": {},
     "output_type": "execute_result"
    }
   ],
   "source": [
    "# Group data basic on level and count responses\n",
    "verifVGGData.groupby(['level'])['resp'].value_counts()"
   ]
  },
  {
   "cell_type": "code",
   "execution_count": 15,
   "metadata": {},
   "outputs": [
    {
     "data": {
      "text/plain": [
       "level\n",
       "basic    0.893288\n",
       "super    0.895871\n",
       "Name: rt, dtype: float64"
      ]
     },
     "execution_count": 15,
     "metadata": {},
     "output_type": "execute_result"
    }
   ],
   "source": [
    "verifVGGData.groupby(['level'])['rt'].mean()"
   ]
  },
  {
   "cell_type": "markdown",
   "metadata": {},
   "source": [
    "# Category Choice Ecoset Model + GCM Sim"
   ]
  },
  {
   "cell_type": "code",
   "execution_count": 7,
   "metadata": {},
   "outputs": [],
   "source": [
    "# Perform cat comparing against only the most similar category\n",
    "withinCatEcosetData = pd.DataFrame(columns=['level', 'cat', 'resp', 'rt'])\n",
    "\n",
    "for rep in birdTestReps:\n",
    "    probs = cat.sim_prob(rep, birdTrainReps, dogTrainReps, cat.gcm_sim)\n",
    "    resp, rt = cat.LBA_deterministic(probs[0], probs[1])\n",
    "    resp = 'yes' if resp == 1 else 'no'\n",
    "    \n",
    "    # Add row\n",
    "    withinCatEcosetData = withinCatEcosetData.append({\n",
    "        'level': 'basic',\n",
    "        'cat': 'bird',\n",
    "        'resp': resp,\n",
    "        'rt': rt\n",
    "    }, ignore_index=True)\n",
    "\n",
    "for rep in dogTestReps:\n",
    "    probs = cat.sim_prob(rep, dogTrainReps, birdTrainReps, cat.gcm_sim)\n",
    "    resp, rt = cat.LBA_deterministic(probs[0], probs[1])\n",
    "    resp = 'yes' if resp == 1 else 'no'\n",
    "\n",
    "    # Add row\n",
    "    withinCatEcosetData = withinCatEcosetData.append({\n",
    "        'level': 'basic',\n",
    "        'cat': 'dog',\n",
    "        'resp': resp,\n",
    "        'rt': rt\n",
    "    }, ignore_index=True)\n",
    "\n",
    "for rep in carTestReps:\n",
    "    probs = cat.sim_prob(rep, carTrainReps, busTrainReps, cat.gcm_sim)\n",
    "    resp, rt = cat.LBA_deterministic(probs[0], probs[1])\n",
    "    resp = 'yes' if resp == 1 else 'no'\n",
    "\n",
    "    # Add row\n",
    "    withinCatEcosetData = withinCatEcosetData.append({\n",
    "        'level': 'basic',\n",
    "        'cat': 'car',\n",
    "        'resp': resp,\n",
    "        'rt': rt\n",
    "    }, ignore_index=True)\n",
    "\n",
    "for rep in busTestReps:\n",
    "    probs = cat.sim_prob(rep, busTrainReps, carTrainReps, cat.gcm_sim)\n",
    "    resp, rt = cat.LBA_deterministic(probs[0], probs[1])\n",
    "    resp = 'yes' if resp == 1 else 'no'\n",
    "\n",
    "    # Add row\n",
    "    withinCatEcosetData = withinCatEcosetData.append({\n",
    "        'level': 'basic',\n",
    "        'cat': 'bus',\n",
    "        'resp': resp,\n",
    "        'rt': rt\n",
    "    }, ignore_index=True)\n",
    "\n",
    "for rep in np.concatenate((birdTestReps, dogTestReps)):\n",
    "    probs = cat.sim_prob(rep, [birdTrainReps, dogTrainReps], [carTrainReps, busTrainReps], cat.gcm_sim)\n",
    "    resp, rt = cat.LBA_deterministic(probs[0], probs[1])\n",
    "    resp = 'yes' if resp == 1 else 'no'\n",
    "\n",
    "    # Add row\n",
    "    withinCatEcosetData = withinCatEcosetData.append({\n",
    "        'level': 'super',\n",
    "        'cat': 'animal',\n",
    "        'resp': resp,\n",
    "        'rt': rt\n",
    "    }, ignore_index=True)\n",
    "\n",
    "for rep in np.concatenate((carTrainReps, busTrainReps)):\n",
    "    probs = cat.sim_prob(rep, [carTrainReps, busTrainReps], [birdTrainReps, dogTrainReps], cat.gcm_sim)\n",
    "    resp, rt = cat.LBA_deterministic(probs[0], probs[1])\n",
    "    resp = 'yes' if resp == 1 else 'no'\n",
    "\n",
    "    # Add row\n",
    "    withinCatEcosetData = withinCatEcosetData.append({\n",
    "        'level': 'super',\n",
    "        'cat': 'vehicle',\n",
    "        'resp': resp,\n",
    "        'rt': rt\n",
    "    }, ignore_index=True)"
   ]
  },
  {
   "cell_type": "code",
   "execution_count": 8,
   "metadata": {},
   "outputs": [
    {
     "data": {
      "text/plain": [
       "level  resp\n",
       "basic  yes     369\n",
       "       no       31\n",
       "super  yes     396\n",
       "       no        4\n",
       "Name: resp, dtype: int64"
      ]
     },
     "execution_count": 8,
     "metadata": {},
     "output_type": "execute_result"
    }
   ],
   "source": [
    "# Group data basic on level and count responses\n",
    "withinCatEcosetData.groupby(['level'])['resp'].value_counts()"
   ]
  },
  {
   "cell_type": "code",
   "execution_count": 9,
   "metadata": {},
   "outputs": [
    {
     "data": {
      "text/plain": [
       "level\n",
       "basic    1.828109\n",
       "super    1.549011\n",
       "Name: rt, dtype: float64"
      ]
     },
     "execution_count": 9,
     "metadata": {},
     "output_type": "execute_result"
    }
   ],
   "source": [
    "# Group data basic on level and get mean RTs\n",
    "withinCatEcosetData.groupby(['level'])['rt'].mean()"
   ]
  },
  {
   "cell_type": "code",
   "execution_count": 11,
   "metadata": {},
   "outputs": [],
   "source": [
    "# Perform cat comparing against all other categories\n",
    "betweenCatEcosetData = pd.DataFrame(columns=['level', 'cat', 'resp', 'rt'])\n",
    "\n",
    "for rep in birdTestReps:\n",
    "    probs = cat.sim_prob(rep, birdTrainReps, [dogTrainReps, carTrainReps, busTrainReps], cat.gcm_sim, equalize=True)\n",
    "    resp, rt = cat.LBA_deterministic(probs[0], probs[1])\n",
    "    resp = 'yes' if resp == 1 else 'no'\n",
    "    \n",
    "    # Add row\n",
    "    betweenCatEcosetData = betweenCatEcosetData.append({\n",
    "        'level': 'basic',\n",
    "        'cat': 'bird',\n",
    "        'resp': resp,\n",
    "        'rt': rt\n",
    "    }, ignore_index=True)\n",
    "\n",
    "for rep in dogTestReps:\n",
    "    probs = cat.sim_prob(rep, dogTrainReps, [birdTrainReps, carTrainReps, busTrainReps], cat.gcm_sim, equalize=True)\n",
    "    resp, rt = cat.LBA_deterministic(probs[0], probs[1])\n",
    "    resp = 'yes' if resp == 1 else 'no'\n",
    "\n",
    "    # Add row\n",
    "    betweenCatEcosetData = betweenCatEcosetData.append({\n",
    "        'level': 'basic',\n",
    "        'cat': 'dog',\n",
    "        'resp': resp,\n",
    "        'rt': rt\n",
    "    }, ignore_index=True)\n",
    "\n",
    "for rep in carTestReps:\n",
    "    probs = cat.sim_prob(rep, carTrainReps, [busTrainReps, dogTrainReps, birdTrainReps], cat.gcm_sim, equalize=True)\n",
    "    resp, rt = cat.LBA_deterministic(probs[0], probs[1])\n",
    "    resp = 'yes' if resp == 1 else 'no'\n",
    "\n",
    "    # Add row\n",
    "    betweenCatEcosetData = betweenCatEcosetData.append({\n",
    "        'level': 'basic',\n",
    "        'cat': 'car',\n",
    "        'resp': resp,\n",
    "        'rt': rt\n",
    "    }, ignore_index=True)\n",
    "\n",
    "for rep in busTestReps:\n",
    "    probs = cat.sim_prob(rep, busTrainReps, [carTrainReps, dogTrainReps, birdTrainReps], cat.gcm_sim, equalize=True)\n",
    "    resp, rt = cat.LBA_deterministic(probs[0], probs[1])\n",
    "    resp = 'yes' if resp == 1 else 'no'\n",
    "\n",
    "    # Add row\n",
    "    betweenCatEcosetData = betweenCatEcosetData.append({\n",
    "        'level': 'basic',\n",
    "        'cat': 'bus',\n",
    "        'resp': resp,\n",
    "        'rt': rt\n",
    "    }, ignore_index=True)\n",
    "\n",
    "for rep in np.concatenate((birdTestReps, dogTestReps)):\n",
    "    probs = cat.sim_prob(rep, [birdTrainReps, dogTrainReps], [carTrainReps, busTrainReps], cat.gcm_sim)\n",
    "    resp, rt = cat.LBA_deterministic(probs[0], probs[1])\n",
    "    resp = 'yes' if resp == 1 else 'no'\n",
    "\n",
    "    # Add row\n",
    "    betweenCatEcosetData = betweenCatEcosetData.append({\n",
    "        'level': 'super',\n",
    "        'cat': 'animal',\n",
    "        'resp': resp,\n",
    "        'rt': rt\n",
    "    }, ignore_index=True)\n",
    "\n",
    "for rep in np.concatenate((carTrainReps, busTrainReps)):\n",
    "    probs = cat.sim_prob(rep, [carTrainReps, busTrainReps], [birdTrainReps, dogTrainReps], cat.gcm_sim)\n",
    "    resp, rt = cat.LBA_deterministic(probs[0], probs[1])\n",
    "    resp = 'yes' if resp == 1 else 'no'\n",
    "\n",
    "    # Add row\n",
    "    betweenCatEcosetData = betweenCatEcosetData.append({\n",
    "        'level': 'super',\n",
    "        'cat': 'vehicle',\n",
    "        'resp': resp,\n",
    "        'rt': rt\n",
    "    }, ignore_index=True)"
   ]
  },
  {
   "cell_type": "code",
   "execution_count": 12,
   "metadata": {},
   "outputs": [
    {
     "data": {
      "text/plain": [
       "level  resp\n",
       "basic  yes     398\n",
       "       no        2\n",
       "super  yes     396\n",
       "       no        4\n",
       "Name: resp, dtype: int64"
      ]
     },
     "execution_count": 12,
     "metadata": {},
     "output_type": "execute_result"
    }
   ],
   "source": [
    "# Group data basic on level and count responses\n",
    "betweenCatEcosetData.groupby(['level'])['resp'].value_counts()"
   ]
  },
  {
   "cell_type": "code",
   "execution_count": 13,
   "metadata": {},
   "outputs": [
    {
     "data": {
      "text/plain": [
       "level\n",
       "basic    1.360280\n",
       "super    1.218595\n",
       "Name: rt, dtype: float64"
      ]
     },
     "execution_count": 13,
     "metadata": {},
     "output_type": "execute_result"
    }
   ],
   "source": [
    "# Group data basic on level and get mean RTs\n",
    "betweenCatEcosetData.groupby(['level'])['rt'].mean()"
   ]
  },
  {
   "cell_type": "markdown",
   "metadata": {},
   "source": [
    "# Category Choice Ecoset Model + Redist Sim"
   ]
  },
  {
   "cell_type": "code",
   "execution_count": 54,
   "metadata": {},
   "outputs": [],
   "source": [
    "# Perform cat comparing against all other categories\n",
    "withinCatEcosetRedistData = pd.DataFrame(columns=['level', 'cat', 'resp', 'rt'])\n",
    "simFun = lambda x, y: cat.gcm_sim(x, y, p=1)\n",
    "\n",
    "for rep in birdTestReps:\n",
    "    birdEvidence = cat.redist_evidence(rep, birdTrainReps, dogTrainReps, simFun, dist_penalty=False)\n",
    "    dogEvidence = cat.redist_evidence(rep, dogTrainReps, birdTrainReps, simFun, dist_penalty=False)\n",
    "    birdProb = birdEvidence / (birdEvidence + dogEvidence)\n",
    "    dogProb = dogEvidence / (birdEvidence + dogEvidence)\n",
    "    resp, rt = cat.LBA_deterministic(birdProb, dogProb)\n",
    "    resp = 'yes' if resp == 1 else 'no'\n",
    "    \n",
    "    # Add row\n",
    "    withinCatEcosetRedistData = withinCatEcosetRedistData.append({\n",
    "        'level': 'basic',\n",
    "        'cat': 'bird',\n",
    "        'resp': resp,\n",
    "        'rt': rt\n",
    "    }, ignore_index=True)\n",
    "\n",
    "for rep in dogTestReps:\n",
    "    birdEvidence = cat.redist_evidence(rep, birdTrainReps, dogTrainReps, simFun, dist_penalty=False)\n",
    "    dogEvidence = cat.redist_evidence(rep, dogTrainReps, birdTrainReps, simFun, dist_penalty=False)\n",
    "    birdProb = birdEvidence / (birdEvidence + dogEvidence)\n",
    "    dogProb = dogEvidence / (birdEvidence + dogEvidence)\n",
    "\n",
    "    resp, rt = cat.LBA_deterministic(dogProb, birdProb)\n",
    "    resp = 'yes' if resp == 1 else 'no'\n",
    "\n",
    "    # Add row\n",
    "    withinCatEcosetRedistData = withinCatEcosetRedistData.append({\n",
    "        'level': 'basic',\n",
    "        'cat': 'dog',\n",
    "        'resp': resp,\n",
    "        'rt': rt\n",
    "    }, ignore_index=True)\n",
    "\n",
    "for rep in carTestReps:\n",
    "    carEvidence = cat.redist_evidence(rep, carTrainReps, busTrainReps, simFun, dist_penalty=False)\n",
    "    busEvidence = cat.redist_evidence(rep, busTrainReps, carTrainReps, simFun, dist_penalty=False)\n",
    "    carProb = carEvidence / (carEvidence + busEvidence)\n",
    "    busProb = busEvidence / (carEvidence + busEvidence)\n",
    "\n",
    "    resp, rt = cat.LBA_deterministic(carProb, busProb)\n",
    "    resp = 'yes' if resp == 1 else 'no'\n",
    "\n",
    "    # Add row\n",
    "    withinCatEcosetRedistData = withinCatEcosetRedistData.append({\n",
    "        'level': 'basic',\n",
    "        'cat': 'car',\n",
    "        'resp': resp,\n",
    "        'rt': rt\n",
    "    }, ignore_index=True)\n",
    "\n",
    "for rep in busTestReps:\n",
    "    carEvidence = cat.redist_evidence(rep, carTrainReps, busTrainReps, simFun, dist_penalty=False)\n",
    "    busEvidence = cat.redist_evidence(rep, busTrainReps, carTrainReps, simFun, dist_penalty=False)\n",
    "    carProb = carEvidence / (carEvidence + busEvidence)\n",
    "    busProb = busEvidence / (carEvidence + busEvidence)\n",
    "\n",
    "    resp, rt = cat.LBA_deterministic(busProb, carProb)\n",
    "    resp = 'yes' if resp == 1 else 'no'\n",
    "\n",
    "    # Add row\n",
    "    withinCatEcosetRedistData = withinCatEcosetRedistData.append({\n",
    "        'level': 'basic',\n",
    "        'cat': 'bus',\n",
    "        'resp': resp,\n",
    "        'rt': rt\n",
    "    }, ignore_index=True)\n",
    "\n",
    "for rep in np.concatenate((birdTestReps, dogTestReps)):\n",
    "    animalEvidence = cat.redist_evidence(rep, animalTrainReps, vehicleTrainReps, simFun, dist_penalty=False)\n",
    "    vehicleEvidence = cat.redist_evidence(rep, vehicleTrainReps, animalTrainReps, simFun, dist_penalty=False)\n",
    "    animalProb = animalEvidence / (animalEvidence + vehicleEvidence)\n",
    "    vehicleProb = vehicleEvidence / (animalEvidence + vehicleEvidence)\n",
    "\n",
    "    resp, rt = cat.LBA_deterministic(animalProb, vehicleProb)\n",
    "    resp = 'yes' if resp == 1 else 'no'\n",
    "\n",
    "    # Add row\n",
    "    withinCatEcosetRedistData = withinCatEcosetRedistData.append({\n",
    "        'level': 'super',\n",
    "        'cat': 'animal',\n",
    "        'resp': resp,\n",
    "        'rt': rt\n",
    "    }, ignore_index=True)\n",
    "\n",
    "for rep in np.concatenate((carTrainReps, busTrainReps)):\n",
    "    animalEvidence = cat.redist_evidence(rep, animalTrainReps, vehicleTrainReps, simFun, dist_penalty=False)\n",
    "    vehicleEvidence = cat.redist_evidence(rep, vehicleTrainReps, animalTrainReps, simFun, dist_penalty=False)\n",
    "    animalProb = animalEvidence / (animalEvidence + vehicleEvidence)\n",
    "    vehicleProb = vehicleEvidence / (animalEvidence + vehicleEvidence)\n",
    "\n",
    "    resp, rt = cat.LBA_deterministic(vehicleProb, animalProb)\n",
    "    resp = 'yes' if resp == 1 else 'no'\n",
    "\n",
    "    # Add row\n",
    "    withinCatEcosetRedistData = withinCatEcosetRedistData.append({\n",
    "        'level': 'super',\n",
    "        'cat': 'vehicle',\n",
    "        'resp': resp,\n",
    "        'rt': rt\n",
    "    }, ignore_index=True)"
   ]
  },
  {
   "cell_type": "code",
   "execution_count": 55,
   "metadata": {},
   "outputs": [
    {
     "data": {
      "text/plain": [
       "level  resp\n",
       "basic  yes     375\n",
       "       no       25\n",
       "super  yes     392\n",
       "       no        8\n",
       "Name: resp, dtype: int64"
      ]
     },
     "execution_count": 55,
     "metadata": {},
     "output_type": "execute_result"
    }
   ],
   "source": [
    "# Group data basic on level and count responses\n",
    "withinCatEcosetRedistData.groupby(['level'])['resp'].value_counts()"
   ]
  },
  {
   "cell_type": "code",
   "execution_count": 56,
   "metadata": {},
   "outputs": [
    {
     "data": {
      "text/plain": [
       "level\n",
       "basic    1.908248\n",
       "super    1.848217\n",
       "Name: rt, dtype: float64"
      ]
     },
     "execution_count": 56,
     "metadata": {},
     "output_type": "execute_result"
    }
   ],
   "source": [
    "# Group data basic on level and get mean RTs\n",
    "withinCatEcosetRedistData.groupby(['level'])['rt'].mean()"
   ]
  },
  {
   "cell_type": "markdown",
   "metadata": {},
   "source": [
    "# Category Choice Ecoset Model + Prod Sim"
   ]
  },
  {
   "cell_type": "code",
   "execution_count": 14,
   "metadata": {},
   "outputs": [],
   "source": [
    "# Perform cat comparing against only the most similar category\n",
    "withinCatEcosetProdData = pd.DataFrame(columns=['level', 'cat', 'resp', 'rt'])\n",
    "\n",
    "for rep in birdTestReps:\n",
    "    probs = cat.sim_prob(rep, birdTrainReps, dogTrainReps, cat.prod_sim)\n",
    "    resp, rt = cat.LBA_deterministic(probs[0], probs[1])\n",
    "    resp = 'yes' if resp == 1 else 'no'\n",
    "    \n",
    "    # Add row\n",
    "    withinCatEcosetProdData = withinCatEcosetProdData.append({\n",
    "        'level': 'basic',\n",
    "        'cat': 'bird',\n",
    "        'resp': resp,\n",
    "        'rt': rt\n",
    "    }, ignore_index=True)\n",
    "\n",
    "for rep in dogTestReps:\n",
    "    probs = cat.sim_prob(rep, dogTrainReps, birdTrainReps, cat.prod_sim)\n",
    "    resp, rt = cat.LBA_deterministic(probs[0], probs[1])\n",
    "    resp = 'yes' if resp == 1 else 'no'\n",
    "\n",
    "    # Add row\n",
    "    withinCatEcosetProdData = withinCatEcosetProdData.append({\n",
    "        'level': 'basic',\n",
    "        'cat': 'dog',\n",
    "        'resp': resp,\n",
    "        'rt': rt\n",
    "    }, ignore_index=True)\n",
    "\n",
    "for rep in carTestReps:\n",
    "    probs = cat.sim_prob(rep, carTrainReps, busTrainReps, cat.prod_sim)\n",
    "    resp, rt = cat.LBA_deterministic(probs[0], probs[1])\n",
    "    resp = 'yes' if resp == 1 else 'no'\n",
    "\n",
    "    # Add row\n",
    "    withinCatEcosetProdData = withinCatEcosetProdData.append({\n",
    "        'level': 'basic',\n",
    "        'cat': 'car',\n",
    "        'resp': resp,\n",
    "        'rt': rt\n",
    "    }, ignore_index=True)\n",
    "\n",
    "for rep in busTestReps:\n",
    "    probs = cat.sim_prob(rep, busTrainReps, carTrainReps, cat.prod_sim)\n",
    "    resp, rt = cat.LBA_deterministic(probs[0], probs[1])\n",
    "    resp = 'yes' if resp == 1 else 'no'\n",
    "\n",
    "    # Add row\n",
    "    withinCatEcosetProdData = withinCatEcosetProdData.append({\n",
    "        'level': 'basic',\n",
    "        'cat': 'bus',\n",
    "        'resp': resp,\n",
    "        'rt': rt\n",
    "    }, ignore_index=True)\n",
    "\n",
    "for rep in np.concatenate((birdTestReps, dogTestReps)):\n",
    "    probs = cat.sim_prob(rep, [birdTrainReps, dogTrainReps], [carTrainReps, busTrainReps], cat.prod_sim)\n",
    "    resp, rt = cat.LBA_deterministic(probs[0], probs[1])\n",
    "    resp = 'yes' if resp == 1 else 'no'\n",
    "\n",
    "    # Add row\n",
    "    withinCatEcosetProdData = withinCatEcosetProdData.append({\n",
    "        'level': 'super',\n",
    "        'cat': 'animal',\n",
    "        'resp': resp,\n",
    "        'rt': rt\n",
    "    }, ignore_index=True)\n",
    "\n",
    "for rep in np.concatenate((carTrainReps, busTrainReps)):\n",
    "    probs = cat.sim_prob(rep, [carTrainReps, busTrainReps], [birdTrainReps, dogTrainReps], cat.prod_sim)\n",
    "    resp, rt = cat.LBA_deterministic(probs[0], probs[1])\n",
    "    resp = 'yes' if resp == 1 else 'no'\n",
    "\n",
    "    # Add row\n",
    "    withinCatEcosetProdData = withinCatEcosetProdData.append({\n",
    "        'level': 'super',\n",
    "        'cat': 'vehicle',\n",
    "        'resp': resp,\n",
    "        'rt': rt\n",
    "    }, ignore_index=True)"
   ]
  },
  {
   "cell_type": "code",
   "execution_count": 15,
   "metadata": {},
   "outputs": [
    {
     "data": {
      "text/plain": [
       "level  resp\n",
       "basic  yes     361\n",
       "       no       39\n",
       "super  yes     390\n",
       "       no       10\n",
       "Name: resp, dtype: int64"
      ]
     },
     "execution_count": 15,
     "metadata": {},
     "output_type": "execute_result"
    }
   ],
   "source": [
    "# Group data basic on level and count responses\n",
    "withinCatEcosetProdData.groupby(['level'])['resp'].value_counts()"
   ]
  },
  {
   "cell_type": "code",
   "execution_count": 16,
   "metadata": {},
   "outputs": [
    {
     "data": {
      "text/plain": [
       "level\n",
       "basic    1.858523\n",
       "super    1.585520\n",
       "Name: rt, dtype: float64"
      ]
     },
     "execution_count": 16,
     "metadata": {},
     "output_type": "execute_result"
    }
   ],
   "source": [
    "# Group data basic on level and get mean RTs\n",
    "withinCatEcosetProdData.groupby(['level'])['rt'].mean()"
   ]
  },
  {
   "cell_type": "markdown",
   "metadata": {},
   "source": [
    "# Category Choice VGG16 Model + GCM Sim"
   ]
  },
  {
   "cell_type": "code",
   "execution_count": 2,
   "metadata": {},
   "outputs": [
    {
     "name": "stderr",
     "output_type": "stream",
     "text": [
      "2022-07-05 21:04:02.931333: I tensorflow/stream_executor/platform/default/dso_loader.cc:53] Successfully opened dynamic library libcuda.so.1\n",
      "2022-07-05 21:04:02.964976: I tensorflow/stream_executor/cuda/cuda_gpu_executor.cc:937] successful NUMA node read from SysFS had negative value (-1), but there must be at least one NUMA node, so returning NUMA node zero\n",
      "2022-07-05 21:04:02.965526: I tensorflow/core/common_runtime/gpu/gpu_device.cc:1733] Found device 0 with properties: \n",
      "pciBusID: 0000:01:00.0 name: NVIDIA GeForce GTX 970 computeCapability: 5.2\n",
      "coreClock: 1.253GHz coreCount: 13 deviceMemorySize: 3.95GiB deviceMemoryBandwidth: 208.91GiB/s\n",
      "2022-07-05 21:04:02.965543: I tensorflow/stream_executor/platform/default/dso_loader.cc:53] Successfully opened dynamic library libcudart.so.11.0\n",
      "2022-07-05 21:04:02.968642: I tensorflow/stream_executor/platform/default/dso_loader.cc:53] Successfully opened dynamic library libcublas.so.11\n",
      "2022-07-05 21:04:02.968685: I tensorflow/stream_executor/platform/default/dso_loader.cc:53] Successfully opened dynamic library libcublasLt.so.11\n",
      "2022-07-05 21:04:02.970206: I tensorflow/stream_executor/platform/default/dso_loader.cc:53] Successfully opened dynamic library libcufft.so.10\n",
      "2022-07-05 21:04:02.970433: I tensorflow/stream_executor/platform/default/dso_loader.cc:53] Successfully opened dynamic library libcurand.so.10\n",
      "2022-07-05 21:04:02.970867: I tensorflow/stream_executor/platform/default/dso_loader.cc:53] Successfully opened dynamic library libcusolver.so.11\n",
      "2022-07-05 21:04:02.971520: I tensorflow/stream_executor/platform/default/dso_loader.cc:53] Successfully opened dynamic library libcusparse.so.11\n",
      "2022-07-05 21:04:02.971629: I tensorflow/stream_executor/platform/default/dso_loader.cc:53] Successfully opened dynamic library libcudnn.so.8\n",
      "2022-07-05 21:04:02.971731: I tensorflow/stream_executor/cuda/cuda_gpu_executor.cc:937] successful NUMA node read from SysFS had negative value (-1), but there must be at least one NUMA node, so returning NUMA node zero\n",
      "2022-07-05 21:04:02.972349: I tensorflow/stream_executor/cuda/cuda_gpu_executor.cc:937] successful NUMA node read from SysFS had negative value (-1), but there must be at least one NUMA node, so returning NUMA node zero\n",
      "2022-07-05 21:04:02.972753: I tensorflow/core/common_runtime/gpu/gpu_device.cc:1871] Adding visible gpu devices: 0\n",
      "2022-07-05 21:04:02.973042: I tensorflow/core/platform/cpu_feature_guard.cc:142] This TensorFlow binary is optimized with oneAPI Deep Neural Network Library (oneDNN) to use the following CPU instructions in performance-critical operations:  AVX2 FMA\n",
      "To enable them in other operations, rebuild TensorFlow with the appropriate compiler flags.\n",
      "2022-07-05 21:04:02.973272: I tensorflow/stream_executor/cuda/cuda_gpu_executor.cc:937] successful NUMA node read from SysFS had negative value (-1), but there must be at least one NUMA node, so returning NUMA node zero\n",
      "2022-07-05 21:04:02.973820: I tensorflow/core/common_runtime/gpu/gpu_device.cc:1733] Found device 0 with properties: \n",
      "pciBusID: 0000:01:00.0 name: NVIDIA GeForce GTX 970 computeCapability: 5.2\n",
      "coreClock: 1.253GHz coreCount: 13 deviceMemorySize: 3.95GiB deviceMemoryBandwidth: 208.91GiB/s\n",
      "2022-07-05 21:04:02.973896: I tensorflow/stream_executor/cuda/cuda_gpu_executor.cc:937] successful NUMA node read from SysFS had negative value (-1), but there must be at least one NUMA node, so returning NUMA node zero\n",
      "2022-07-05 21:04:02.974387: I tensorflow/stream_executor/cuda/cuda_gpu_executor.cc:937] successful NUMA node read from SysFS had negative value (-1), but there must be at least one NUMA node, so returning NUMA node zero\n",
      "2022-07-05 21:04:02.974778: I tensorflow/core/common_runtime/gpu/gpu_device.cc:1871] Adding visible gpu devices: 0\n",
      "2022-07-05 21:04:02.974815: I tensorflow/stream_executor/platform/default/dso_loader.cc:53] Successfully opened dynamic library libcudart.so.11.0\n",
      "2022-07-05 21:04:03.363060: I tensorflow/core/common_runtime/gpu/gpu_device.cc:1258] Device interconnect StreamExecutor with strength 1 edge matrix:\n",
      "2022-07-05 21:04:03.363084: I tensorflow/core/common_runtime/gpu/gpu_device.cc:1264]      0 \n",
      "2022-07-05 21:04:03.363090: I tensorflow/core/common_runtime/gpu/gpu_device.cc:1277] 0:   N \n",
      "2022-07-05 21:04:03.363256: I tensorflow/stream_executor/cuda/cuda_gpu_executor.cc:937] successful NUMA node read from SysFS had negative value (-1), but there must be at least one NUMA node, so returning NUMA node zero\n",
      "2022-07-05 21:04:03.363560: I tensorflow/stream_executor/cuda/cuda_gpu_executor.cc:937] successful NUMA node read from SysFS had negative value (-1), but there must be at least one NUMA node, so returning NUMA node zero\n",
      "2022-07-05 21:04:03.363841: I tensorflow/stream_executor/cuda/cuda_gpu_executor.cc:937] successful NUMA node read from SysFS had negative value (-1), but there must be at least one NUMA node, so returning NUMA node zero\n",
      "2022-07-05 21:04:03.364091: I tensorflow/core/common_runtime/gpu/gpu_device.cc:1418] Created TensorFlow device (/job:localhost/replica:0/task:0/device:GPU:0 with 3344 MB memory) -> physical GPU (device: 0, name: NVIDIA GeForce GTX 970, pci bus id: 0000:01:00.0, compute capability: 5.2)\n"
     ]
    },
    {
     "name": "stdout",
     "output_type": "stream",
     "text": [
      "Model: \"model\"\n",
      "_________________________________________________________________\n",
      "Layer (type)                 Output Shape              Param #   \n",
      "=================================================================\n",
      "input_1 (InputLayer)         [(None, 224, 224, 3)]     0         \n",
      "_________________________________________________________________\n",
      "block1_conv1 (Conv2D)        (None, 224, 224, 64)      1792      \n",
      "_________________________________________________________________\n",
      "block1_conv2 (Conv2D)        (None, 224, 224, 64)      36928     \n",
      "_________________________________________________________________\n",
      "block1_pool (MaxPooling2D)   (None, 112, 112, 64)      0         \n",
      "_________________________________________________________________\n",
      "block2_conv1 (Conv2D)        (None, 112, 112, 128)     73856     \n",
      "_________________________________________________________________\n",
      "block2_conv2 (Conv2D)        (None, 112, 112, 128)     147584    \n",
      "_________________________________________________________________\n",
      "block2_pool (MaxPooling2D)   (None, 56, 56, 128)       0         \n",
      "_________________________________________________________________\n",
      "block3_conv1 (Conv2D)        (None, 56, 56, 256)       295168    \n",
      "_________________________________________________________________\n",
      "block3_conv2 (Conv2D)        (None, 56, 56, 256)       590080    \n",
      "_________________________________________________________________\n",
      "block3_conv3 (Conv2D)        (None, 56, 56, 256)       590080    \n",
      "_________________________________________________________________\n",
      "block3_pool (MaxPooling2D)   (None, 28, 28, 256)       0         \n",
      "_________________________________________________________________\n",
      "block4_conv1 (Conv2D)        (None, 28, 28, 512)       1180160   \n",
      "_________________________________________________________________\n",
      "block4_conv2 (Conv2D)        (None, 28, 28, 512)       2359808   \n",
      "_________________________________________________________________\n",
      "block4_conv3 (Conv2D)        (None, 28, 28, 512)       2359808   \n",
      "_________________________________________________________________\n",
      "block4_pool (MaxPooling2D)   (None, 14, 14, 512)       0         \n",
      "_________________________________________________________________\n",
      "block5_conv1 (Conv2D)        (None, 14, 14, 512)       2359808   \n",
      "_________________________________________________________________\n",
      "block5_conv2 (Conv2D)        (None, 14, 14, 512)       2359808   \n",
      "_________________________________________________________________\n",
      "block5_conv3 (Conv2D)        (None, 14, 14, 512)       2359808   \n",
      "_________________________________________________________________\n",
      "block5_pool (MaxPooling2D)   (None, 7, 7, 512)         0         \n",
      "_________________________________________________________________\n",
      "flatten (Flatten)            (None, 25088)             0         \n",
      "_________________________________________________________________\n",
      "fc1 (Dense)                  (None, 4096)              102764544 \n",
      "_________________________________________________________________\n",
      "fc2 (Dense)                  (None, 4096)              16781312  \n",
      "=================================================================\n",
      "Total params: 134,260,544\n",
      "Trainable params: 134,260,544\n",
      "Non-trainable params: 0\n",
      "_________________________________________________________________\n"
     ]
    },
    {
     "name": "stderr",
     "output_type": "stream",
     "text": [
      "2022-07-05 21:04:04.472638: W tensorflow/core/framework/cpu_allocator_impl.cc:80] Allocation of 411041792 exceeds 10% of free system memory.\n"
     ]
    }
   ],
   "source": [
    "model = tf.keras.applications.vgg16.VGG16(include_top=True)\n",
    "\n",
    "# Get output from penultimate layer\n",
    "model = tf.keras.Model(inputs=model.input, outputs=model.layers[-2].output)\n",
    "\n",
    "model.summary()"
   ]
  },
  {
   "cell_type": "code",
   "execution_count": 26,
   "metadata": {},
   "outputs": [],
   "source": [
    "trainCats, trainCounts = cat.build_categories_from_ecoset(\n",
    "    './images/train', \n",
    "    includeSub=False,\n",
    "    maxImgs=100\n",
    "    )\n",
    "testCats, testCounts = cat.build_categories_from_ecoset(\n",
    "    './images/val+test',\n",
    "    includeSub=False,\n",
    "    maxImgs=100\n",
    ")\n",
    "\n",
    "def vggPreprocess(img):\n",
    "    if isinstance(img, Image.Image):\n",
    "        img = img.convert(\"RGB\")\n",
    "    img = np.array(img)\n",
    "    img = tf.keras.preprocessing.image.smart_resize(img, (224, 224))\n",
    "    img = tf.keras.applications.vgg16.preprocess_input(img)\n",
    "    img = np.expand_dims(img, axis=0)\n",
    "    return img\n",
    "    \n",
    "trainImages = cat.get_images_from_cat(trainCats, preprocFun = vggPreprocess)\n",
    "testImages = cat.get_images_from_cat(testCats, preprocFun = vggPreprocess)"
   ]
  },
  {
   "cell_type": "code",
   "execution_count": 32,
   "metadata": {},
   "outputs": [],
   "source": [
    "birdTrainReps = model.predict(trainImages['animal']['0085_bird'])\n",
    "dogTrainReps = model.predict(trainImages['animal']['0039_dog'])\n",
    "carTrainReps = model.predict(trainImages['vehicle']['0009_car'])\n",
    "busTrainReps = model.predict(trainImages['vehicle']['0089_bus'])\n",
    "\n",
    "birdTestReps = model.predict(testImages['animal']['0085_bird'])\n",
    "dogTestReps = model.predict(testImages['animal']['0039_dog'])\n",
    "carTestReps = model.predict(testImages['vehicle']['0009_car'])\n",
    "busTestReps = model.predict(testImages['vehicle']['0089_bus'])"
   ]
  },
  {
   "cell_type": "code",
   "execution_count": 36,
   "metadata": {},
   "outputs": [],
   "source": [
    "# Perform cat comparing against only the most similar category\n",
    "withinCatVGGData = pd.DataFrame(columns=['level', 'cat', 'resp', 'rt'])\n",
    "\n",
    "for rep in birdTestReps:\n",
    "    probs = cat.sim_prob(rep, birdTrainReps, dogTrainReps, cat.gcm_sim)\n",
    "    resp, rt = cat.LBA_deterministic(probs[0], probs[1])\n",
    "    resp = 'yes' if resp == 1 else 'no'\n",
    "    \n",
    "    # Add row\n",
    "    withinCatVGGData = withinCatVGGData.append({\n",
    "        'level': 'basic',\n",
    "        'cat': 'bird',\n",
    "        'resp': resp,\n",
    "        'rt': rt\n",
    "    }, ignore_index=True)\n",
    "\n",
    "for rep in dogTestReps:\n",
    "    probs = cat.sim_prob(rep, dogTrainReps, birdTrainReps, cat.gcm_sim)\n",
    "    resp, rt = cat.LBA_deterministic(probs[0], probs[1])\n",
    "    resp = 'yes' if resp == 1 else 'no'\n",
    "\n",
    "    # Add row\n",
    "    withinCatVGGData = withinCatVGGData.append({\n",
    "        'level': 'basic',\n",
    "        'cat': 'dog',\n",
    "        'resp': resp,\n",
    "        'rt': rt\n",
    "    }, ignore_index=True)\n",
    "\n",
    "for rep in carTestReps:\n",
    "    probs = cat.sim_prob(rep, carTrainReps, busTrainReps, cat.gcm_sim)\n",
    "    resp, rt = cat.LBA_deterministic(probs[0], probs[1])\n",
    "    resp = 'yes' if resp == 1 else 'no'\n",
    "\n",
    "    # Add row\n",
    "    withinCatVGGData = withinCatVGGData.append({\n",
    "        'level': 'basic',\n",
    "        'cat': 'car',\n",
    "        'resp': resp,\n",
    "        'rt': rt\n",
    "    }, ignore_index=True)\n",
    "\n",
    "for rep in busTestReps:\n",
    "    probs = cat.sim_prob(rep, busTrainReps, carTrainReps, cat.gcm_sim)\n",
    "    resp, rt = cat.LBA_deterministic(probs[0], probs[1])\n",
    "    resp = 'yes' if resp == 1 else 'no'\n",
    "\n",
    "    # Add row\n",
    "    withinCatVGGData = withinCatVGGData.append({\n",
    "        'level': 'basic',\n",
    "        'cat': 'bus',\n",
    "        'resp': resp,\n",
    "        'rt': rt\n",
    "    }, ignore_index=True)\n",
    "\n",
    "for rep in np.concatenate((birdTestReps, dogTestReps)):\n",
    "    probs = cat.sim_prob(rep, [birdTrainReps, dogTrainReps], [carTrainReps, busTrainReps], cat.gcm_sim)\n",
    "    resp, rt = cat.LBA_deterministic(probs[0], probs[1])\n",
    "    resp = 'yes' if resp == 1 else 'no'\n",
    "\n",
    "    # Add row\n",
    "    withinCatVGGData = withinCatVGGData.append({\n",
    "        'level': 'super',\n",
    "        'cat': 'animal',\n",
    "        'resp': resp,\n",
    "        'rt': rt\n",
    "    }, ignore_index=True)\n",
    "\n",
    "for rep in np.concatenate((carTrainReps, busTrainReps)):\n",
    "    probs = cat.sim_prob(rep, [carTrainReps, busTrainReps], [birdTrainReps, dogTrainReps], cat.gcm_sim)\n",
    "    resp, rt = cat.LBA_deterministic(probs[0], probs[1])\n",
    "    resp = 'yes' if resp == 1 else 'no'\n",
    "\n",
    "    # Add row\n",
    "    withinCatVGGData = withinCatVGGData.append({\n",
    "        'level': 'super',\n",
    "        'cat': 'vehicle',\n",
    "        'resp': resp,\n",
    "        'rt': rt\n",
    "    }, ignore_index=True)"
   ]
  },
  {
   "cell_type": "code",
   "execution_count": 37,
   "metadata": {},
   "outputs": [
    {
     "data": {
      "text/plain": [
       "level  resp\n",
       "basic  yes     381\n",
       "       no       19\n",
       "super  yes     267\n",
       "       no      133\n",
       "Name: resp, dtype: int64"
      ]
     },
     "execution_count": 37,
     "metadata": {},
     "output_type": "execute_result"
    }
   ],
   "source": [
    "# Group data basic on level and count responses\n",
    "withinCatVGGData.groupby(['level'])['resp'].value_counts()"
   ]
  },
  {
   "cell_type": "code",
   "execution_count": 38,
   "metadata": {},
   "outputs": [
    {
     "data": {
      "text/plain": [
       "level\n",
       "basic    1.602942\n",
       "super    1.588251\n",
       "Name: rt, dtype: float64"
      ]
     },
     "execution_count": 38,
     "metadata": {},
     "output_type": "execute_result"
    }
   ],
   "source": [
    "withinCatVGGData.groupby(['level'])['rt'].mean()"
   ]
  },
  {
   "cell_type": "code",
   "execution_count": 39,
   "metadata": {},
   "outputs": [
    {
     "data": {
      "text/plain": [
       "<matplotlib.collections.PathCollection at 0x7f7c86038850>"
      ]
     },
     "execution_count": 39,
     "metadata": {},
     "output_type": "execute_result"
    },
    {
     "data": {
      "image/png": "[encoded data removed]",
      "image/svg+xml": "<?xml version=\"1.0\" encoding=\"utf-8\" standalone=\"no\"?>\n<!DOCTYPE svg PUBLIC \"-//W3C//DTD SVG 1.1//EN\"\n  \"http://www.w3.org/Graphics/SVG/1.1/DTD/svg11.dtd\">\n<!-- Created with matplotlib (https://matplotlib.org/) -->\n<svg height=\"248.518125pt\" version=\"1.1\" viewBox=\"0 0 387.636749 248.518125\" width=\"387.636749pt\" xmlns=\"http://www.w3.org/2000/svg\" xmlns:xlink=\"http://www.w3.org/1999/xlink\">\n <metadata>\n  <rdf:RDF xmlns:cc=\"http://creativecommons.org/ns#\" xmlns:dc=\"http://purl.org/dc/elements/1.1/\" xmlns:rdf=\"http://www.w3.org/1999/02/22-rdf-syntax-ns#\">\n   <cc:Work>\n    <dc:type rdf:resource=\"http://purl.org/dc/dcmitype/StillImage\"/>\n    <dc:date>2022-07-05T21:15:27.223985</dc:date>\n    <dc:format>image/svg+xml</dc:format>\n    <dc:creator>\n     <cc:Agent>\n      <dc:title>Matplotlib v3.3.2, https://matplotlib.org/</dc:title>\n     </cc:Agent>\n    </dc:creator>\n   </cc:Work>\n  </rdf:RDF>\n </metadata>\n <defs>\n  <style type=\"text/css\">*{stroke-linecap:butt;stroke-linejoin:round;}</style>\n </defs>\n <g id=\"figure_1\">\n  <g id=\"patch_1\">\n   <path d=\"M 0 248.518125 \nL 387.636749 248.518125 \nL 387.636749 0 \nL 0 0 \nz\n\" style=\"fill:none;\"/>\n  </g>\n  <g id=\"axes_1\">\n   <g id=\"patch_2\">\n    <path d=\"M 41.667188 224.64 \nL 376.467188 224.64 \nL 376.467188 7.2 \nL 41.667188 7.2 \nz\n\" style=\"fill:#ffffff;\"/>\n   </g>\n   <g id=\"PathCollection_1\">\n    <defs>\n     <path d=\"M 0 3 \nC 0.795609 3 1.55874 2.683901 2.12132 2.12132 \nC 2.683901 1.55874 3 0.795609 3 0 \nC 3 -0.795609 2.683901 -1.55874 2.12132 -2.12132 \nC 1.55874 -2.683901 0.795609 -3 0 -3 \nC -0.795609 -3 -1.55874 -2.683901 -2.12132 -2.12132 \nC -2.683901 -1.55874 -3 -0.795609 -3 0 \nC -3 0.795609 -2.683901 1.55874 -2.12132 2.12132 \nC -1.55874 2.683901 -0.795609 3 0 3 \nz\n\" id=\"me390a31b77\" style=\"stroke:#0000ff;\"/>\n    </defs>\n    <g clip-path=\"url(#p800b546988)\">\n     <use style=\"fill:#0000ff;stroke:#0000ff;\" x=\"207.850335\" xlink:href=\"#me390a31b77\" y=\"72.584845\"/>\n     <use style=\"fill:#0000ff;stroke:#0000ff;\" x=\"204.843642\" xlink:href=\"#me390a31b77\" y=\"102.019503\"/>\n     <use style=\"fill:#0000ff;stroke:#0000ff;\" x=\"238.65925\" xlink:href=\"#me390a31b77\" y=\"100.658885\"/>\n     <use style=\"fill:#0000ff;stroke:#0000ff;\" x=\"148.797006\" xlink:href=\"#me390a31b77\" y=\"82.687349\"/>\n     <use style=\"fill:#0000ff;stroke:#0000ff;\" x=\"274.72076\" xlink:href=\"#me390a31b77\" y=\"110.503501\"/>\n     <use style=\"fill:#0000ff;stroke:#0000ff;\" x=\"215.082299\" xlink:href=\"#me390a31b77\" y=\"41.104398\"/>\n     <use style=\"fill:#0000ff;stroke:#0000ff;\" x=\"296.675157\" xlink:href=\"#me390a31b77\" y=\"112.754286\"/>\n     <use style=\"fill:#0000ff;stroke:#0000ff;\" x=\"176.170927\" xlink:href=\"#me390a31b77\" y=\"104.901773\"/>\n     <use style=\"fill:#0000ff;stroke:#0000ff;\" x=\"175.840101\" xlink:href=\"#me390a31b77\" y=\"114.888096\"/>\n     <use style=\"fill:#0000ff;stroke:#0000ff;\" x=\"146.845164\" xlink:href=\"#me390a31b77\" y=\"93.266055\"/>\n     <use style=\"fill:#0000ff;stroke:#0000ff;\" x=\"115.149171\" xlink:href=\"#me390a31b77\" y=\"81.968344\"/>\n     <use style=\"fill:#0000ff;stroke:#0000ff;\" x=\"194.784666\" xlink:href=\"#me390a31b77\" y=\"101.840115\"/>\n     <use style=\"fill:#0000ff;stroke:#0000ff;\" x=\"280.450441\" xlink:href=\"#me390a31b77\" y=\"82.116857\"/>\n     <use style=\"fill:#0000ff;stroke:#0000ff;\" x=\"182.35242\" xlink:href=\"#me390a31b77\" y=\"93.74557\"/>\n     <use style=\"fill:#0000ff;stroke:#0000ff;\" x=\"209.029837\" xlink:href=\"#me390a31b77\" y=\"80.916055\"/>\n     <use style=\"fill:#0000ff;stroke:#0000ff;\" x=\"361.249006\" xlink:href=\"#me390a31b77\" y=\"91.177352\"/>\n     <use style=\"fill:#0000ff;stroke:#0000ff;\" x=\"254.256499\" xlink:href=\"#me390a31b77\" y=\"121.085139\"/>\n     <use style=\"fill:#0000ff;stroke:#0000ff;\" x=\"229.291291\" xlink:href=\"#me390a31b77\" y=\"108.680083\"/>\n     <use style=\"fill:#0000ff;stroke:#0000ff;\" x=\"213.756953\" xlink:href=\"#me390a31b77\" y=\"121.43816\"/>\n     <use style=\"fill:#0000ff;stroke:#0000ff;\" x=\"247.663148\" xlink:href=\"#me390a31b77\" y=\"121.304287\"/>\n     <use style=\"fill:#0000ff;stroke:#0000ff;\" x=\"250.982187\" xlink:href=\"#me390a31b77\" y=\"110.65707\"/>\n     <use style=\"fill:#0000ff;stroke:#0000ff;\" x=\"183.118658\" xlink:href=\"#me390a31b77\" y=\"17.083636\"/>\n     <use style=\"fill:#0000ff;stroke:#0000ff;\" x=\"234.709353\" xlink:href=\"#me390a31b77\" y=\"120.16558\"/>\n     <use style=\"fill:#0000ff;stroke:#0000ff;\" x=\"234.746598\" xlink:href=\"#me390a31b77\" y=\"98.648386\"/>\n     <use style=\"fill:#0000ff;stroke:#0000ff;\" x=\"233.595724\" xlink:href=\"#me390a31b77\" y=\"109.913778\"/>\n     <use style=\"fill:#0000ff;stroke:#0000ff;\" x=\"258.751974\" xlink:href=\"#me390a31b77\" y=\"106.912617\"/>\n     <use style=\"fill:#0000ff;stroke:#0000ff;\" x=\"201.657963\" xlink:href=\"#me390a31b77\" y=\"113.581603\"/>\n     <use style=\"fill:#0000ff;stroke:#0000ff;\" x=\"233.354305\" xlink:href=\"#me390a31b77\" y=\"88.501158\"/>\n     <use style=\"fill:#0000ff;stroke:#0000ff;\" x=\"347.941264\" xlink:href=\"#me390a31b77\" y=\"99.796883\"/>\n     <use style=\"fill:#0000ff;stroke:#0000ff;\" x=\"155.081752\" xlink:href=\"#me390a31b77\" y=\"90.398396\"/>\n     <use style=\"fill:#0000ff;stroke:#0000ff;\" x=\"291.554988\" xlink:href=\"#me390a31b77\" y=\"113.842505\"/>\n     <use style=\"fill:#0000ff;stroke:#0000ff;\" x=\"196.81813\" xlink:href=\"#me390a31b77\" y=\"122.91588\"/>\n     <use style=\"fill:#0000ff;stroke:#0000ff;\" x=\"164.273615\" xlink:href=\"#me390a31b77\" y=\"107.949658\"/>\n     <use style=\"fill:#0000ff;stroke:#0000ff;\" x=\"244.975497\" xlink:href=\"#me390a31b77\" y=\"95.739396\"/>\n     <use style=\"fill:#0000ff;stroke:#0000ff;\" x=\"262.050161\" xlink:href=\"#me390a31b77\" y=\"86.945848\"/>\n     <use style=\"fill:#0000ff;stroke:#0000ff;\" x=\"264.20047\" xlink:href=\"#me390a31b77\" y=\"117.741028\"/>\n     <use style=\"fill:#0000ff;stroke:#0000ff;\" x=\"131.884568\" xlink:href=\"#me390a31b77\" y=\"89.384287\"/>\n     <use style=\"fill:#0000ff;stroke:#0000ff;\" x=\"198.744914\" xlink:href=\"#me390a31b77\" y=\"91.273732\"/>\n     <use style=\"fill:#0000ff;stroke:#0000ff;\" x=\"127.463536\" xlink:href=\"#me390a31b77\" y=\"113.514497\"/>\n     <use style=\"fill:#0000ff;stroke:#0000ff;\" x=\"234.841217\" xlink:href=\"#me390a31b77\" y=\"113.067515\"/>\n     <use style=\"fill:#0000ff;stroke:#0000ff;\" x=\"206.686865\" xlink:href=\"#me390a31b77\" y=\"94.690467\"/>\n     <use style=\"fill:#0000ff;stroke:#0000ff;\" x=\"205.257156\" xlink:href=\"#me390a31b77\" y=\"110.41358\"/>\n     <use style=\"fill:#0000ff;stroke:#0000ff;\" x=\"239.216469\" xlink:href=\"#me390a31b77\" y=\"125.02246\"/>\n     <use style=\"fill:#0000ff;stroke:#0000ff;\" x=\"186.68986\" xlink:href=\"#me390a31b77\" y=\"102.284747\"/>\n     <use style=\"fill:#0000ff;stroke:#0000ff;\" x=\"215.107576\" xlink:href=\"#me390a31b77\" y=\"128.222707\"/>\n     <use style=\"fill:#0000ff;stroke:#0000ff;\" x=\"217.648919\" xlink:href=\"#me390a31b77\" y=\"100.446757\"/>\n     <use style=\"fill:#0000ff;stroke:#0000ff;\" x=\"230.9303\" xlink:href=\"#me390a31b77\" y=\"127.919156\"/>\n     <use style=\"fill:#0000ff;stroke:#0000ff;\" x=\"188.160892\" xlink:href=\"#me390a31b77\" y=\"114.460893\"/>\n     <use style=\"fill:#0000ff;stroke:#0000ff;\" x=\"208.058974\" xlink:href=\"#me390a31b77\" y=\"98.422841\"/>\n     <use style=\"fill:#0000ff;stroke:#0000ff;\" x=\"99.036033\" xlink:href=\"#me390a31b77\" y=\"101.062266\"/>\n     <use style=\"fill:#0000ff;stroke:#0000ff;\" x=\"174.561142\" xlink:href=\"#me390a31b77\" y=\"75.251156\"/>\n     <use style=\"fill:#0000ff;stroke:#0000ff;\" x=\"123.030207\" xlink:href=\"#me390a31b77\" y=\"58.296091\"/>\n     <use style=\"fill:#0000ff;stroke:#0000ff;\" x=\"164.135679\" xlink:href=\"#me390a31b77\" y=\"82.256397\"/>\n     <use style=\"fill:#0000ff;stroke:#0000ff;\" x=\"110.215553\" xlink:href=\"#me390a31b77\" y=\"104.283634\"/>\n     <use style=\"fill:#0000ff;stroke:#0000ff;\" x=\"242.125971\" xlink:href=\"#me390a31b77\" y=\"110.118345\"/>\n     <use style=\"fill:#0000ff;stroke:#0000ff;\" x=\"224.097116\" xlink:href=\"#me390a31b77\" y=\"121.956945\"/>\n     <use style=\"fill:#0000ff;stroke:#0000ff;\" x=\"214.673196\" xlink:href=\"#me390a31b77\" y=\"111.489747\"/>\n     <use style=\"fill:#0000ff;stroke:#0000ff;\" x=\"182.269288\" xlink:href=\"#me390a31b77\" y=\"82.753534\"/>\n     <use style=\"fill:#0000ff;stroke:#0000ff;\" x=\"251.293371\" xlink:href=\"#me390a31b77\" y=\"85.53823\"/>\n     <use style=\"fill:#0000ff;stroke:#0000ff;\" x=\"139.366677\" xlink:href=\"#me390a31b77\" y=\"87.384688\"/>\n     <use style=\"fill:#0000ff;stroke:#0000ff;\" x=\"157.944898\" xlink:href=\"#me390a31b77\" y=\"98.868648\"/>\n     <use style=\"fill:#0000ff;stroke:#0000ff;\" x=\"181.234013\" xlink:href=\"#me390a31b77\" y=\"100.596519\"/>\n     <use style=\"fill:#0000ff;stroke:#0000ff;\" x=\"171.711344\" xlink:href=\"#me390a31b77\" y=\"95.438739\"/>\n     <use style=\"fill:#0000ff;stroke:#0000ff;\" x=\"269.162313\" xlink:href=\"#me390a31b77\" y=\"93.042258\"/>\n     <use style=\"fill:#0000ff;stroke:#0000ff;\" x=\"197.291762\" xlink:href=\"#me390a31b77\" y=\"87.33278\"/>\n     <use style=\"fill:#0000ff;stroke:#0000ff;\" x=\"217.323082\" xlink:href=\"#me390a31b77\" y=\"133.68302\"/>\n     <use style=\"fill:#0000ff;stroke:#0000ff;\" x=\"273.018409\" xlink:href=\"#me390a31b77\" y=\"117.847398\"/>\n     <use style=\"fill:#0000ff;stroke:#0000ff;\" x=\"203.40284\" xlink:href=\"#me390a31b77\" y=\"69.942707\"/>\n     <use style=\"fill:#0000ff;stroke:#0000ff;\" x=\"276.417448\" xlink:href=\"#me390a31b77\" y=\"95.116118\"/>\n     <use style=\"fill:#0000ff;stroke:#0000ff;\" x=\"194.696411\" xlink:href=\"#me390a31b77\" y=\"117.304177\"/>\n     <use style=\"fill:#0000ff;stroke:#0000ff;\" x=\"225.109874\" xlink:href=\"#me390a31b77\" y=\"128.561113\"/>\n     <use style=\"fill:#0000ff;stroke:#0000ff;\" x=\"201.005243\" xlink:href=\"#me390a31b77\" y=\"121.641704\"/>\n     <use style=\"fill:#0000ff;stroke:#0000ff;\" x=\"220.696835\" xlink:href=\"#me390a31b77\" y=\"108.860855\"/>\n     <use style=\"fill:#0000ff;stroke:#0000ff;\" x=\"236.716533\" xlink:href=\"#me390a31b77\" y=\"80.06552\"/>\n     <use style=\"fill:#0000ff;stroke:#0000ff;\" x=\"56.885369\" xlink:href=\"#me390a31b77\" y=\"73.61699\"/>\n     <use style=\"fill:#0000ff;stroke:#0000ff;\" x=\"206.815393\" xlink:href=\"#me390a31b77\" y=\"128.662064\"/>\n     <use style=\"fill:#0000ff;stroke:#0000ff;\" x=\"155.798592\" xlink:href=\"#me390a31b77\" y=\"111.619489\"/>\n     <use style=\"fill:#0000ff;stroke:#0000ff;\" x=\"251.743408\" xlink:href=\"#me390a31b77\" y=\"103.08341\"/>\n     <use style=\"fill:#0000ff;stroke:#0000ff;\" x=\"214.862876\" xlink:href=\"#me390a31b77\" y=\"81.480582\"/>\n     <use style=\"fill:#0000ff;stroke:#0000ff;\" x=\"192.853688\" xlink:href=\"#me390a31b77\" y=\"80.262856\"/>\n     <use style=\"fill:#0000ff;stroke:#0000ff;\" x=\"190.493343\" xlink:href=\"#me390a31b77\" y=\"93.849061\"/>\n     <use style=\"fill:#0000ff;stroke:#0000ff;\" x=\"291.719661\" xlink:href=\"#me390a31b77\" y=\"90.07563\"/>\n     <use style=\"fill:#0000ff;stroke:#0000ff;\" x=\"255.916945\" xlink:href=\"#me390a31b77\" y=\"111.415114\"/>\n     <use style=\"fill:#0000ff;stroke:#0000ff;\" x=\"172.749224\" xlink:href=\"#me390a31b77\" y=\"77.946944\"/>\n     <use style=\"fill:#0000ff;stroke:#0000ff;\" x=\"166.827068\" xlink:href=\"#me390a31b77\" y=\"113.731436\"/>\n     <use style=\"fill:#0000ff;stroke:#0000ff;\" x=\"184.693009\" xlink:href=\"#me390a31b77\" y=\"110.683728\"/>\n     <use style=\"fill:#0000ff;stroke:#0000ff;\" x=\"163.099328\" xlink:href=\"#me390a31b77\" y=\"96.498992\"/>\n     <use style=\"fill:#0000ff;stroke:#0000ff;\" x=\"256.395863\" xlink:href=\"#me390a31b77\" y=\"104.750078\"/>\n     <use style=\"fill:#0000ff;stroke:#0000ff;\" x=\"296.935239\" xlink:href=\"#me390a31b77\" y=\"89.021834\"/>\n     <use style=\"fill:#0000ff;stroke:#0000ff;\" x=\"205.614017\" xlink:href=\"#me390a31b77\" y=\"119.909231\"/>\n     <use style=\"fill:#0000ff;stroke:#0000ff;\" x=\"249.850467\" xlink:href=\"#me390a31b77\" y=\"126.843842\"/>\n     <use style=\"fill:#0000ff;stroke:#0000ff;\" x=\"193.30461\" xlink:href=\"#me390a31b77\" y=\"135.11656\"/>\n     <use style=\"fill:#0000ff;stroke:#0000ff;\" x=\"207.065521\" xlink:href=\"#me390a31b77\" y=\"106.621371\"/>\n     <use style=\"fill:#0000ff;stroke:#0000ff;\" x=\"138.218508\" xlink:href=\"#me390a31b77\" y=\"105.912374\"/>\n     <use style=\"fill:#0000ff;stroke:#0000ff;\" x=\"219.553657\" xlink:href=\"#me390a31b77\" y=\"91.574309\"/>\n     <use style=\"fill:#0000ff;stroke:#0000ff;\" x=\"196.198162\" xlink:href=\"#me390a31b77\" y=\"110.062897\"/>\n     <use style=\"fill:#0000ff;stroke:#0000ff;\" x=\"123.99081\" xlink:href=\"#me390a31b77\" y=\"96.159037\"/>\n     <use style=\"fill:#0000ff;stroke:#0000ff;\" x=\"218.926075\" xlink:href=\"#me390a31b77\" y=\"118.737304\"/>\n     <use style=\"fill:#0000ff;stroke:#0000ff;\" x=\"275.01468\" xlink:href=\"#me390a31b77\" y=\"64.971569\"/>\n     <use style=\"fill:#0000ff;stroke:#0000ff;\" x=\"133.3723\" xlink:href=\"#me390a31b77\" y=\"102.450388\"/>\n    </g>\n   </g>\n   <g id=\"PathCollection_2\">\n    <defs>\n     <path d=\"M 0 3 \nC 0.795609 3 1.55874 2.683901 2.12132 2.12132 \nC 2.683901 1.55874 3 0.795609 3 0 \nC 3 -0.795609 2.683901 -1.55874 2.12132 -2.12132 \nC 1.55874 -2.683901 0.795609 -3 0 -3 \nC -0.795609 -3 -1.55874 -2.683901 -2.12132 -2.12132 \nC -2.683901 -1.55874 -3 -0.795609 -3 0 \nC -3 0.795609 -2.683901 1.55874 -2.12132 2.12132 \nC -1.55874 2.683901 -0.795609 3 0 3 \nz\n\" id=\"m6907c70a13\" style=\"stroke:#ff0000;\"/>\n    </defs>\n    <g clip-path=\"url(#p800b546988)\">\n     <use style=\"fill:#ff0000;stroke:#ff0000;\" x=\"259.657355\" xlink:href=\"#m6907c70a13\" y=\"131.212176\"/>\n     <use style=\"fill:#ff0000;stroke:#ff0000;\" x=\"211.901896\" xlink:href=\"#m6907c70a13\" y=\"133.935538\"/>\n     <use style=\"fill:#ff0000;stroke:#ff0000;\" x=\"248.825118\" xlink:href=\"#m6907c70a13\" y=\"130.550794\"/>\n     <use style=\"fill:#ff0000;stroke:#ff0000;\" x=\"129.719915\" xlink:href=\"#m6907c70a13\" y=\"127.570404\"/>\n     <use style=\"fill:#ff0000;stroke:#ff0000;\" x=\"97.049562\" xlink:href=\"#m6907c70a13\" y=\"135.56636\"/>\n     <use style=\"fill:#ff0000;stroke:#ff0000;\" x=\"92.956959\" xlink:href=\"#m6907c70a13\" y=\"129.320757\"/>\n     <use style=\"fill:#ff0000;stroke:#ff0000;\" x=\"258.920855\" xlink:href=\"#m6907c70a13\" y=\"147.326514\"/>\n     <use style=\"fill:#ff0000;stroke:#ff0000;\" x=\"112.49842\" xlink:href=\"#m6907c70a13\" y=\"141.815654\"/>\n     <use style=\"fill:#ff0000;stroke:#ff0000;\" x=\"124.251562\" xlink:href=\"#m6907c70a13\" y=\"121.004191\"/>\n     <use style=\"fill:#ff0000;stroke:#ff0000;\" x=\"124.123222\" xlink:href=\"#m6907c70a13\" y=\"140.751353\"/>\n     <use style=\"fill:#ff0000;stroke:#ff0000;\" x=\"121.335159\" xlink:href=\"#m6907c70a13\" y=\"125.85617\"/>\n     <use style=\"fill:#ff0000;stroke:#ff0000;\" x=\"170.167408\" xlink:href=\"#m6907c70a13\" y=\"129.488459\"/>\n     <use style=\"fill:#ff0000;stroke:#ff0000;\" x=\"291.286208\" xlink:href=\"#m6907c70a13\" y=\"154.949194\"/>\n     <use style=\"fill:#ff0000;stroke:#ff0000;\" x=\"154.64294\" xlink:href=\"#m6907c70a13\" y=\"121.644863\"/>\n     <use style=\"fill:#ff0000;stroke:#ff0000;\" x=\"171.656127\" xlink:href=\"#m6907c70a13\" y=\"124.184698\"/>\n     <use style=\"fill:#ff0000;stroke:#ff0000;\" x=\"136.964094\" xlink:href=\"#m6907c70a13\" y=\"138.705648\"/>\n     <use style=\"fill:#ff0000;stroke:#ff0000;\" x=\"266.892589\" xlink:href=\"#m6907c70a13\" y=\"138.022225\"/>\n     <use style=\"fill:#ff0000;stroke:#ff0000;\" x=\"152.546173\" xlink:href=\"#m6907c70a13\" y=\"135.627088\"/>\n     <use style=\"fill:#ff0000;stroke:#ff0000;\" x=\"145.054095\" xlink:href=\"#m6907c70a13\" y=\"124.793723\"/>\n     <use style=\"fill:#ff0000;stroke:#ff0000;\" x=\"233.092298\" xlink:href=\"#m6907c70a13\" y=\"138.223986\"/>\n     <use style=\"fill:#ff0000;stroke:#ff0000;\" x=\"149.009335\" xlink:href=\"#m6907c70a13\" y=\"130.087834\"/>\n     <use style=\"fill:#ff0000;stroke:#ff0000;\" x=\"336.031618\" xlink:href=\"#m6907c70a13\" y=\"144.561758\"/>\n     <use style=\"fill:#ff0000;stroke:#ff0000;\" x=\"79.012348\" xlink:href=\"#m6907c70a13\" y=\"149.180965\"/>\n     <use style=\"fill:#ff0000;stroke:#ff0000;\" x=\"286.390835\" xlink:href=\"#m6907c70a13\" y=\"160.82192\"/>\n     <use style=\"fill:#ff0000;stroke:#ff0000;\" x=\"303.117469\" xlink:href=\"#m6907c70a13\" y=\"144.349251\"/>\n     <use style=\"fill:#ff0000;stroke:#ff0000;\" x=\"120.254989\" xlink:href=\"#m6907c70a13\" y=\"128.178307\"/>\n     <use style=\"fill:#ff0000;stroke:#ff0000;\" x=\"111.54495\" xlink:href=\"#m6907c70a13\" y=\"129.246908\"/>\n     <use style=\"fill:#ff0000;stroke:#ff0000;\" x=\"200.346906\" xlink:href=\"#m6907c70a13\" y=\"138.62088\"/>\n     <use style=\"fill:#ff0000;stroke:#ff0000;\" x=\"262.76771\" xlink:href=\"#m6907c70a13\" y=\"133.80555\"/>\n     <use style=\"fill:#ff0000;stroke:#ff0000;\" x=\"236.084758\" xlink:href=\"#m6907c70a13\" y=\"133.200916\"/>\n     <use style=\"fill:#ff0000;stroke:#ff0000;\" x=\"325.537477\" xlink:href=\"#m6907c70a13\" y=\"164.923378\"/>\n     <use style=\"fill:#ff0000;stroke:#ff0000;\" x=\"69.711246\" xlink:href=\"#m6907c70a13\" y=\"134.76857\"/>\n     <use style=\"fill:#ff0000;stroke:#ff0000;\" x=\"222.318685\" xlink:href=\"#m6907c70a13\" y=\"136.425807\"/>\n     <use style=\"fill:#ff0000;stroke:#ff0000;\" x=\"244.309443\" xlink:href=\"#m6907c70a13\" y=\"135.058256\"/>\n     <use style=\"fill:#ff0000;stroke:#ff0000;\" x=\"147.952158\" xlink:href=\"#m6907c70a13\" y=\"121.46979\"/>\n     <use style=\"fill:#ff0000;stroke:#ff0000;\" x=\"302.378986\" xlink:href=\"#m6907c70a13\" y=\"173.702445\"/>\n     <use style=\"fill:#ff0000;stroke:#ff0000;\" x=\"321.778331\" xlink:href=\"#m6907c70a13\" y=\"182.887083\"/>\n     <use style=\"fill:#ff0000;stroke:#ff0000;\" x=\"213.875697\" xlink:href=\"#m6907c70a13\" y=\"134.588909\"/>\n     <use style=\"fill:#ff0000;stroke:#ff0000;\" x=\"301.873835\" xlink:href=\"#m6907c70a13\" y=\"129.318083\"/>\n     <use style=\"fill:#ff0000;stroke:#ff0000;\" x=\"250.921344\" xlink:href=\"#m6907c70a13\" y=\"141.100851\"/>\n     <use style=\"fill:#ff0000;stroke:#ff0000;\" x=\"261.844198\" xlink:href=\"#m6907c70a13\" y=\"142.706881\"/>\n     <use style=\"fill:#ff0000;stroke:#ff0000;\" x=\"158.612252\" xlink:href=\"#m6907c70a13\" y=\"128.185312\"/>\n     <use style=\"fill:#ff0000;stroke:#ff0000;\" x=\"352.296176\" xlink:href=\"#m6907c70a13\" y=\"178.894377\"/>\n     <use style=\"fill:#ff0000;stroke:#ff0000;\" x=\"328.792504\" xlink:href=\"#m6907c70a13\" y=\"135.344928\"/>\n     <use style=\"fill:#ff0000;stroke:#ff0000;\" x=\"113.752358\" xlink:href=\"#m6907c70a13\" y=\"117.96092\"/>\n     <use style=\"fill:#ff0000;stroke:#ff0000;\" x=\"304.589181\" xlink:href=\"#m6907c70a13\" y=\"157.874846\"/>\n     <use style=\"fill:#ff0000;stroke:#ff0000;\" x=\"246.135084\" xlink:href=\"#m6907c70a13\" y=\"137.524187\"/>\n     <use style=\"fill:#ff0000;stroke:#ff0000;\" x=\"263.801418\" xlink:href=\"#m6907c70a13\" y=\"125.537407\"/>\n     <use style=\"fill:#ff0000;stroke:#ff0000;\" x=\"133.950547\" xlink:href=\"#m6907c70a13\" y=\"121.312399\"/>\n     <use style=\"fill:#ff0000;stroke:#ff0000;\" x=\"123.744823\" xlink:href=\"#m6907c70a13\" y=\"134.653983\"/>\n     <use style=\"fill:#ff0000;stroke:#ff0000;\" x=\"186.551375\" xlink:href=\"#m6907c70a13\" y=\"135.676512\"/>\n     <use style=\"fill:#ff0000;stroke:#ff0000;\" x=\"116.115475\" xlink:href=\"#m6907c70a13\" y=\"139.426793\"/>\n     <use style=\"fill:#ff0000;stroke:#ff0000;\" x=\"179.442439\" xlink:href=\"#m6907c70a13\" y=\"118.840287\"/>\n     <use style=\"fill:#ff0000;stroke:#ff0000;\" x=\"179.24087\" xlink:href=\"#m6907c70a13\" y=\"135.317502\"/>\n     <use style=\"fill:#ff0000;stroke:#ff0000;\" x=\"171.289638\" xlink:href=\"#m6907c70a13\" y=\"133.95373\"/>\n     <use style=\"fill:#ff0000;stroke:#ff0000;\" x=\"105.51046\" xlink:href=\"#m6907c70a13\" y=\"122.340999\"/>\n     <use style=\"fill:#ff0000;stroke:#ff0000;\" x=\"167.612681\" xlink:href=\"#m6907c70a13\" y=\"117.773094\"/>\n     <use style=\"fill:#ff0000;stroke:#ff0000;\" x=\"98.781269\" xlink:href=\"#m6907c70a13\" y=\"143.578672\"/>\n     <use style=\"fill:#ff0000;stroke:#ff0000;\" x=\"179.289274\" xlink:href=\"#m6907c70a13\" y=\"128.257672\"/>\n     <use style=\"fill:#ff0000;stroke:#ff0000;\" x=\"293.512267\" xlink:href=\"#m6907c70a13\" y=\"137.871622\"/>\n     <use style=\"fill:#ff0000;stroke:#ff0000;\" x=\"300.998188\" xlink:href=\"#m6907c70a13\" y=\"164.256546\"/>\n     <use style=\"fill:#ff0000;stroke:#ff0000;\" x=\"289.610954\" xlink:href=\"#m6907c70a13\" y=\"128.010316\"/>\n     <use style=\"fill:#ff0000;stroke:#ff0000;\" x=\"152.526974\" xlink:href=\"#m6907c70a13\" y=\"130.51123\"/>\n     <use style=\"fill:#ff0000;stroke:#ff0000;\" x=\"109.042383\" xlink:href=\"#m6907c70a13\" y=\"134.485099\"/>\n     <use style=\"fill:#ff0000;stroke:#ff0000;\" x=\"274.033877\" xlink:href=\"#m6907c70a13\" y=\"159.903881\"/>\n     <use style=\"fill:#ff0000;stroke:#ff0000;\" x=\"200.737918\" xlink:href=\"#m6907c70a13\" y=\"131.165474\"/>\n     <use style=\"fill:#ff0000;stroke:#ff0000;\" x=\"277.272743\" xlink:href=\"#m6907c70a13\" y=\"155.128171\"/>\n     <use style=\"fill:#ff0000;stroke:#ff0000;\" x=\"138.843878\" xlink:href=\"#m6907c70a13\" y=\"117.77801\"/>\n     <use style=\"fill:#ff0000;stroke:#ff0000;\" x=\"303.414464\" xlink:href=\"#m6907c70a13\" y=\"161.834519\"/>\n     <use style=\"fill:#ff0000;stroke:#ff0000;\" x=\"102.512445\" xlink:href=\"#m6907c70a13\" y=\"137.533292\"/>\n     <use style=\"fill:#ff0000;stroke:#ff0000;\" x=\"304.276557\" xlink:href=\"#m6907c70a13\" y=\"214.756364\"/>\n     <use style=\"fill:#ff0000;stroke:#ff0000;\" x=\"271.409229\" xlink:href=\"#m6907c70a13\" y=\"132.002345\"/>\n     <use style=\"fill:#ff0000;stroke:#ff0000;\" x=\"266.578842\" xlink:href=\"#m6907c70a13\" y=\"148.154143\"/>\n     <use style=\"fill:#ff0000;stroke:#ff0000;\" x=\"302.898879\" xlink:href=\"#m6907c70a13\" y=\"152.082929\"/>\n     <use style=\"fill:#ff0000;stroke:#ff0000;\" x=\"309.060008\" xlink:href=\"#m6907c70a13\" y=\"129.840018\"/>\n     <use style=\"fill:#ff0000;stroke:#ff0000;\" x=\"277.931276\" xlink:href=\"#m6907c70a13\" y=\"163.573019\"/>\n     <use style=\"fill:#ff0000;stroke:#ff0000;\" x=\"183.902495\" xlink:href=\"#m6907c70a13\" y=\"126.505421\"/>\n     <use style=\"fill:#ff0000;stroke:#ff0000;\" x=\"284.556074\" xlink:href=\"#m6907c70a13\" y=\"132.052993\"/>\n     <use style=\"fill:#ff0000;stroke:#ff0000;\" x=\"329.877188\" xlink:href=\"#m6907c70a13\" y=\"143.397623\"/>\n     <use style=\"fill:#ff0000;stroke:#ff0000;\" x=\"201.929849\" xlink:href=\"#m6907c70a13\" y=\"136.225097\"/>\n     <use style=\"fill:#ff0000;stroke:#ff0000;\" x=\"307.1079\" xlink:href=\"#m6907c70a13\" y=\"146.568967\"/>\n     <use style=\"fill:#ff0000;stroke:#ff0000;\" x=\"282.103245\" xlink:href=\"#m6907c70a13\" y=\"140.442231\"/>\n     <use style=\"fill:#ff0000;stroke:#ff0000;\" x=\"95.946769\" xlink:href=\"#m6907c70a13\" y=\"125.982735\"/>\n     <use style=\"fill:#ff0000;stroke:#ff0000;\" x=\"139.427479\" xlink:href=\"#m6907c70a13\" y=\"137.446866\"/>\n     <use style=\"fill:#ff0000;stroke:#ff0000;\" x=\"156.877461\" xlink:href=\"#m6907c70a13\" y=\"133.483352\"/>\n     <use style=\"fill:#ff0000;stroke:#ff0000;\" x=\"158.657133\" xlink:href=\"#m6907c70a13\" y=\"124.043938\"/>\n     <use style=\"fill:#ff0000;stroke:#ff0000;\" x=\"96.568795\" xlink:href=\"#m6907c70a13\" y=\"147.191228\"/>\n     <use style=\"fill:#ff0000;stroke:#ff0000;\" x=\"278.093939\" xlink:href=\"#m6907c70a13\" y=\"146.217553\"/>\n     <use style=\"fill:#ff0000;stroke:#ff0000;\" x=\"286.377382\" xlink:href=\"#m6907c70a13\" y=\"141.814293\"/>\n     <use style=\"fill:#ff0000;stroke:#ff0000;\" x=\"191.228468\" xlink:href=\"#m6907c70a13\" y=\"130.415594\"/>\n     <use style=\"fill:#ff0000;stroke:#ff0000;\" x=\"286.516496\" xlink:href=\"#m6907c70a13\" y=\"151.923653\"/>\n     <use style=\"fill:#ff0000;stroke:#ff0000;\" x=\"274.914066\" xlink:href=\"#m6907c70a13\" y=\"142.18638\"/>\n     <use style=\"fill:#ff0000;stroke:#ff0000;\" x=\"253.846871\" xlink:href=\"#m6907c70a13\" y=\"143.369976\"/>\n     <use style=\"fill:#ff0000;stroke:#ff0000;\" x=\"214.327745\" xlink:href=\"#m6907c70a13\" y=\"201.536536\"/>\n     <use style=\"fill:#ff0000;stroke:#ff0000;\" x=\"276.407947\" xlink:href=\"#m6907c70a13\" y=\"129.887609\"/>\n     <use style=\"fill:#ff0000;stroke:#ff0000;\" x=\"138.495188\" xlink:href=\"#m6907c70a13\" y=\"127.582119\"/>\n     <use style=\"fill:#ff0000;stroke:#ff0000;\" x=\"276.592917\" xlink:href=\"#m6907c70a13\" y=\"149.110552\"/>\n     <use style=\"fill:#ff0000;stroke:#ff0000;\" x=\"95.015465\" xlink:href=\"#m6907c70a13\" y=\"124.325328\"/>\n     <use style=\"fill:#ff0000;stroke:#ff0000;\" x=\"74.544063\" xlink:href=\"#m6907c70a13\" y=\"140.157907\"/>\n     <use style=\"fill:#ff0000;stroke:#ff0000;\" x=\"137.104577\" xlink:href=\"#m6907c70a13\" y=\"111.575408\"/>\n    </g>\n   </g>\n   <g id=\"PathCollection_3\">\n    <defs>\n     <path d=\"M 0 3 \nC 0.795609 3 1.55874 2.683901 2.12132 2.12132 \nC 2.683901 1.55874 3 0.795609 3 0 \nC 3 -0.795609 2.683901 -1.55874 2.12132 -2.12132 \nC 1.55874 -2.683901 0.795609 -3 0 -3 \nC -0.795609 -3 -1.55874 -2.683901 -2.12132 -2.12132 \nC -2.683901 -1.55874 -3 -0.795609 -3 0 \nC -3 0.795609 -2.683901 1.55874 -2.12132 2.12132 \nC -1.55874 2.683901 -0.795609 3 0 3 \nz\n\" id=\"m9394dc5985\" style=\"stroke:#008000;\"/>\n    </defs>\n    <g clip-path=\"url(#p800b546988)\">\n     <use style=\"fill:#008000;stroke:#008000;\" x=\"245.250646\" xlink:href=\"#m9394dc5985\" y=\"190.065595\"/>\n     <use style=\"fill:#008000;stroke:#008000;\" x=\"113.87818\" xlink:href=\"#m9394dc5985\" y=\"154.718283\"/>\n     <use style=\"fill:#008000;stroke:#008000;\" x=\"228.731474\" xlink:href=\"#m9394dc5985\" y=\"160.998764\"/>\n     <use style=\"fill:#008000;stroke:#008000;\" x=\"214.168216\" xlink:href=\"#m9394dc5985\" y=\"184.674756\"/>\n     <use style=\"fill:#008000;stroke:#008000;\" x=\"208.938563\" xlink:href=\"#m9394dc5985\" y=\"160.773832\"/>\n     <use style=\"fill:#008000;stroke:#008000;\" x=\"216.483542\" xlink:href=\"#m9394dc5985\" y=\"152.167135\"/>\n     <use style=\"fill:#008000;stroke:#008000;\" x=\"150.753982\" xlink:href=\"#m9394dc5985\" y=\"148.111418\"/>\n     <use style=\"fill:#008000;stroke:#008000;\" x=\"236.376052\" xlink:href=\"#m9394dc5985\" y=\"203.039342\"/>\n     <use style=\"fill:#008000;stroke:#008000;\" x=\"255.470056\" xlink:href=\"#m9394dc5985\" y=\"184.975408\"/>\n     <use style=\"fill:#008000;stroke:#008000;\" x=\"243.658718\" xlink:href=\"#m9394dc5985\" y=\"163.341513\"/>\n     <use style=\"fill:#008000;stroke:#008000;\" x=\"204.994043\" xlink:href=\"#m9394dc5985\" y=\"171.677069\"/>\n     <use style=\"fill:#008000;stroke:#008000;\" x=\"216.343422\" xlink:href=\"#m9394dc5985\" y=\"191.326916\"/>\n     <use style=\"fill:#008000;stroke:#008000;\" x=\"275.757181\" xlink:href=\"#m9394dc5985\" y=\"189.191714\"/>\n     <use style=\"fill:#008000;stroke:#008000;\" x=\"252.788262\" xlink:href=\"#m9394dc5985\" y=\"170.922389\"/>\n     <use style=\"fill:#008000;stroke:#008000;\" x=\"224.204961\" xlink:href=\"#m9394dc5985\" y=\"155.931101\"/>\n     <use style=\"fill:#008000;stroke:#008000;\" x=\"230.862277\" xlink:href=\"#m9394dc5985\" y=\"168.264391\"/>\n     <use style=\"fill:#008000;stroke:#008000;\" x=\"233.795373\" xlink:href=\"#m9394dc5985\" y=\"149.239055\"/>\n     <use style=\"fill:#008000;stroke:#008000;\" x=\"223.091906\" xlink:href=\"#m9394dc5985\" y=\"149.236151\"/>\n     <use style=\"fill:#008000;stroke:#008000;\" x=\"174.267693\" xlink:href=\"#m9394dc5985\" y=\"143.864186\"/>\n     <use style=\"fill:#008000;stroke:#008000;\" x=\"146.80458\" xlink:href=\"#m9394dc5985\" y=\"153.088085\"/>\n     <use style=\"fill:#008000;stroke:#008000;\" x=\"214.288439\" xlink:href=\"#m9394dc5985\" y=\"173.444713\"/>\n     <use style=\"fill:#008000;stroke:#008000;\" x=\"253.691376\" xlink:href=\"#m9394dc5985\" y=\"162.554053\"/>\n     <use style=\"fill:#008000;stroke:#008000;\" x=\"128.754007\" xlink:href=\"#m9394dc5985\" y=\"153.894396\"/>\n     <use style=\"fill:#008000;stroke:#008000;\" x=\"251.485921\" xlink:href=\"#m9394dc5985\" y=\"197.205793\"/>\n     <use style=\"fill:#008000;stroke:#008000;\" x=\"246.814121\" xlink:href=\"#m9394dc5985\" y=\"181.97993\"/>\n     <use style=\"fill:#008000;stroke:#008000;\" x=\"204.098335\" xlink:href=\"#m9394dc5985\" y=\"160.571736\"/>\n     <use style=\"fill:#008000;stroke:#008000;\" x=\"225.864589\" xlink:href=\"#m9394dc5985\" y=\"170.397549\"/>\n     <use style=\"fill:#008000;stroke:#008000;\" x=\"239.564395\" xlink:href=\"#m9394dc5985\" y=\"176.830308\"/>\n     <use style=\"fill:#008000;stroke:#008000;\" x=\"264.688288\" xlink:href=\"#m9394dc5985\" y=\"189.570627\"/>\n     <use style=\"fill:#008000;stroke:#008000;\" x=\"198.952977\" xlink:href=\"#m9394dc5985\" y=\"164.999732\"/>\n     <use style=\"fill:#008000;stroke:#008000;\" x=\"235.18555\" xlink:href=\"#m9394dc5985\" y=\"194.757822\"/>\n     <use style=\"fill:#008000;stroke:#008000;\" x=\"249.202748\" xlink:href=\"#m9394dc5985\" y=\"175.196045\"/>\n     <use style=\"fill:#008000;stroke:#008000;\" x=\"214.499242\" xlink:href=\"#m9394dc5985\" y=\"182.142754\"/>\n     <use style=\"fill:#008000;stroke:#008000;\" x=\"194.933358\" xlink:href=\"#m9394dc5985\" y=\"151.319728\"/>\n     <use style=\"fill:#008000;stroke:#008000;\" x=\"214.315518\" xlink:href=\"#m9394dc5985\" y=\"162.039515\"/>\n     <use style=\"fill:#008000;stroke:#008000;\" x=\"209.361386\" xlink:href=\"#m9394dc5985\" y=\"191.124308\"/>\n     <use style=\"fill:#008000;stroke:#008000;\" x=\"228.463738\" xlink:href=\"#m9394dc5985\" y=\"190.49846\"/>\n     <use style=\"fill:#008000;stroke:#008000;\" x=\"141.875768\" xlink:href=\"#m9394dc5985\" y=\"148.248513\"/>\n     <use style=\"fill:#008000;stroke:#008000;\" x=\"223.500024\" xlink:href=\"#m9394dc5985\" y=\"198.886717\"/>\n     <use style=\"fill:#008000;stroke:#008000;\" x=\"98.061832\" xlink:href=\"#m9394dc5985\" y=\"162.534419\"/>\n     <use style=\"fill:#008000;stroke:#008000;\" x=\"236.345194\" xlink:href=\"#m9394dc5985\" y=\"164.374323\"/>\n     <use style=\"fill:#008000;stroke:#008000;\" x=\"217.312988\" xlink:href=\"#m9394dc5985\" y=\"170.790522\"/>\n     <use style=\"fill:#008000;stroke:#008000;\" x=\"213.548097\" xlink:href=\"#m9394dc5985\" y=\"158.451296\"/>\n     <use style=\"fill:#008000;stroke:#008000;\" x=\"221.092682\" xlink:href=\"#m9394dc5985\" y=\"183.82288\"/>\n     <use style=\"fill:#008000;stroke:#008000;\" x=\"227.450609\" xlink:href=\"#m9394dc5985\" y=\"175.312011\"/>\n     <use style=\"fill:#008000;stroke:#008000;\" x=\"201.456259\" xlink:href=\"#m9394dc5985\" y=\"174.166708\"/>\n     <use style=\"fill:#008000;stroke:#008000;\" x=\"208.573466\" xlink:href=\"#m9394dc5985\" y=\"170.209456\"/>\n     <use style=\"fill:#008000;stroke:#008000;\" x=\"258.732996\" xlink:href=\"#m9394dc5985\" y=\"179.578263\"/>\n     <use style=\"fill:#008000;stroke:#008000;\" x=\"243.751291\" xlink:href=\"#m9394dc5985\" y=\"157.684796\"/>\n     <use style=\"fill:#008000;stroke:#008000;\" x=\"240.0859\" xlink:href=\"#m9394dc5985\" y=\"156.674041\"/>\n     <use style=\"fill:#008000;stroke:#008000;\" x=\"164.841445\" xlink:href=\"#m9394dc5985\" y=\"148.407842\"/>\n     <use style=\"fill:#008000;stroke:#008000;\" x=\"197.455686\" xlink:href=\"#m9394dc5985\" y=\"162.489918\"/>\n     <use style=\"fill:#008000;stroke:#008000;\" x=\"215.591132\" xlink:href=\"#m9394dc5985\" y=\"168.151802\"/>\n     <use style=\"fill:#008000;stroke:#008000;\" x=\"213.55935\" xlink:href=\"#m9394dc5985\" y=\"179.987883\"/>\n     <use style=\"fill:#008000;stroke:#008000;\" x=\"133.273064\" xlink:href=\"#m9394dc5985\" y=\"150.65616\"/>\n     <use style=\"fill:#008000;stroke:#008000;\" x=\"225.715595\" xlink:href=\"#m9394dc5985\" y=\"193.635341\"/>\n     <use style=\"fill:#008000;stroke:#008000;\" x=\"194.142161\" xlink:href=\"#m9394dc5985\" y=\"153.959096\"/>\n     <use style=\"fill:#008000;stroke:#008000;\" x=\"221.921073\" xlink:href=\"#m9394dc5985\" y=\"158.62481\"/>\n     <use style=\"fill:#008000;stroke:#008000;\" x=\"261.058067\" xlink:href=\"#m9394dc5985\" y=\"195.356819\"/>\n     <use style=\"fill:#008000;stroke:#008000;\" x=\"220.225425\" xlink:href=\"#m9394dc5985\" y=\"157.209208\"/>\n     <use style=\"fill:#008000;stroke:#008000;\" x=\"240.244989\" xlink:href=\"#m9394dc5985\" y=\"166.038359\"/>\n     <use style=\"fill:#008000;stroke:#008000;\" x=\"257.239341\" xlink:href=\"#m9394dc5985\" y=\"162.265997\"/>\n     <use style=\"fill:#008000;stroke:#008000;\" x=\"269.991245\" xlink:href=\"#m9394dc5985\" y=\"182.058604\"/>\n     <use style=\"fill:#008000;stroke:#008000;\" x=\"240.162552\" xlink:href=\"#m9394dc5985\" y=\"170.163463\"/>\n     <use style=\"fill:#008000;stroke:#008000;\" x=\"238.305994\" xlink:href=\"#m9394dc5985\" y=\"154.123067\"/>\n     <use style=\"fill:#008000;stroke:#008000;\" x=\"244.411583\" xlink:href=\"#m9394dc5985\" y=\"192.246285\"/>\n     <use style=\"fill:#008000;stroke:#008000;\" x=\"186.78765\" xlink:href=\"#m9394dc5985\" y=\"150.690408\"/>\n     <use style=\"fill:#008000;stroke:#008000;\" x=\"275.907657\" xlink:href=\"#m9394dc5985\" y=\"184.535191\"/>\n     <use style=\"fill:#008000;stroke:#008000;\" x=\"280.81404\" xlink:href=\"#m9394dc5985\" y=\"179.09262\"/>\n     <use style=\"fill:#008000;stroke:#008000;\" x=\"234.818234\" xlink:href=\"#m9394dc5985\" y=\"171.29857\"/>\n     <use style=\"fill:#008000;stroke:#008000;\" x=\"232.339577\" xlink:href=\"#m9394dc5985\" y=\"171.365683\"/>\n     <use style=\"fill:#008000;stroke:#008000;\" x=\"123.548326\" xlink:href=\"#m9394dc5985\" y=\"156.563774\"/>\n     <use style=\"fill:#008000;stroke:#008000;\" x=\"205.706742\" xlink:href=\"#m9394dc5985\" y=\"158.150196\"/>\n     <use style=\"fill:#008000;stroke:#008000;\" x=\"222.450831\" xlink:href=\"#m9394dc5985\" y=\"201.250296\"/>\n     <use style=\"fill:#008000;stroke:#008000;\" x=\"224.359672\" xlink:href=\"#m9394dc5985\" y=\"176.206405\"/>\n     <use style=\"fill:#008000;stroke:#008000;\" x=\"196.797171\" xlink:href=\"#m9394dc5985\" y=\"146.107636\"/>\n     <use style=\"fill:#008000;stroke:#008000;\" x=\"203.677059\" xlink:href=\"#m9394dc5985\" y=\"151.956075\"/>\n     <use style=\"fill:#008000;stroke:#008000;\" x=\"210.740842\" xlink:href=\"#m9394dc5985\" y=\"150.26712\"/>\n     <use style=\"fill:#008000;stroke:#008000;\" x=\"239.312493\" xlink:href=\"#m9394dc5985\" y=\"188.588929\"/>\n     <use style=\"fill:#008000;stroke:#008000;\" x=\"210.309749\" xlink:href=\"#m9394dc5985\" y=\"152.25454\"/>\n     <use style=\"fill:#008000;stroke:#008000;\" x=\"236.623372\" xlink:href=\"#m9394dc5985\" y=\"160.918559\"/>\n     <use style=\"fill:#008000;stroke:#008000;\" x=\"247.71151\" xlink:href=\"#m9394dc5985\" y=\"168.607949\"/>\n     <use style=\"fill:#008000;stroke:#008000;\" x=\"216.507801\" xlink:href=\"#m9394dc5985\" y=\"155.255312\"/>\n     <use style=\"fill:#008000;stroke:#008000;\" x=\"243.891721\" xlink:href=\"#m9394dc5985\" y=\"170.637563\"/>\n     <use style=\"fill:#008000;stroke:#008000;\" x=\"235.241993\" xlink:href=\"#m9394dc5985\" y=\"180.78274\"/>\n     <use style=\"fill:#008000;stroke:#008000;\" x=\"136.207659\" xlink:href=\"#m9394dc5985\" y=\"152.896051\"/>\n     <use style=\"fill:#008000;stroke:#008000;\" x=\"204.739733\" xlink:href=\"#m9394dc5985\" y=\"146.728874\"/>\n     <use style=\"fill:#008000;stroke:#008000;\" x=\"201.937006\" xlink:href=\"#m9394dc5985\" y=\"154.375012\"/>\n     <use style=\"fill:#008000;stroke:#008000;\" x=\"257.185632\" xlink:href=\"#m9394dc5985\" y=\"176.75463\"/>\n     <use style=\"fill:#008000;stroke:#008000;\" x=\"223.380575\" xlink:href=\"#m9394dc5985\" y=\"164.021962\"/>\n     <use style=\"fill:#008000;stroke:#008000;\" x=\"217.023895\" xlink:href=\"#m9394dc5985\" y=\"174.38192\"/>\n     <use style=\"fill:#008000;stroke:#008000;\" x=\"237.391579\" xlink:href=\"#m9394dc5985\" y=\"190.945215\"/>\n     <use style=\"fill:#008000;stroke:#008000;\" x=\"200.918243\" xlink:href=\"#m9394dc5985\" y=\"159.185022\"/>\n     <use style=\"fill:#008000;stroke:#008000;\" x=\"225.506677\" xlink:href=\"#m9394dc5985\" y=\"150.025479\"/>\n     <use style=\"fill:#008000;stroke:#008000;\" x=\"226.737387\" xlink:href=\"#m9394dc5985\" y=\"180.626999\"/>\n     <use style=\"fill:#008000;stroke:#008000;\" x=\"260.577783\" xlink:href=\"#m9394dc5985\" y=\"191.411706\"/>\n     <use style=\"fill:#008000;stroke:#008000;\" x=\"236.333702\" xlink:href=\"#m9394dc5985\" y=\"192.408736\"/>\n     <use style=\"fill:#008000;stroke:#008000;\" x=\"207.360573\" xlink:href=\"#m9394dc5985\" y=\"155.895978\"/>\n     <use style=\"fill:#008000;stroke:#008000;\" x=\"210.938966\" xlink:href=\"#m9394dc5985\" y=\"166.38027\"/>\n     <use style=\"fill:#008000;stroke:#008000;\" x=\"227.584666\" xlink:href=\"#m9394dc5985\" y=\"156.46496\"/>\n    </g>\n   </g>\n   <g id=\"PathCollection_4\">\n    <defs>\n     <path d=\"M 0 3 \nC 0.795609 3 1.55874 2.683901 2.12132 2.12132 \nC 2.683901 1.55874 3 0.795609 3 0 \nC 3 -0.795609 2.683901 -1.55874 2.12132 -2.12132 \nC 1.55874 -2.683901 0.795609 -3 0 -3 \nC -0.795609 -3 -1.55874 -2.683901 -2.12132 -2.12132 \nC -2.683901 -1.55874 -3 -0.795609 -3 0 \nC -3 0.795609 -2.683901 1.55874 -2.12132 2.12132 \nC -1.55874 2.683901 -0.795609 3 0 3 \nz\n\" id=\"m7d2c8b7503\" style=\"stroke:#ffa500;\"/>\n    </defs>\n    <g clip-path=\"url(#p800b546988)\">\n     <use style=\"fill:#ffa500;stroke:#ffa500;\" x=\"190.15069\" xlink:href=\"#m7d2c8b7503\" y=\"190.107323\"/>\n     <use style=\"fill:#ffa500;stroke:#ffa500;\" x=\"180.524567\" xlink:href=\"#m7d2c8b7503\" y=\"158.767772\"/>\n     <use style=\"fill:#ffa500;stroke:#ffa500;\" x=\"140.093955\" xlink:href=\"#m7d2c8b7503\" y=\"173.152502\"/>\n     <use style=\"fill:#ffa500;stroke:#ffa500;\" x=\"179.036564\" xlink:href=\"#m7d2c8b7503\" y=\"154.916034\"/>\n     <use style=\"fill:#ffa500;stroke:#ffa500;\" x=\"173.396192\" xlink:href=\"#m7d2c8b7503\" y=\"154.177067\"/>\n     <use style=\"fill:#ffa500;stroke:#ffa500;\" x=\"152.224635\" xlink:href=\"#m7d2c8b7503\" y=\"173.154096\"/>\n     <use style=\"fill:#ffa500;stroke:#ffa500;\" x=\"170.330019\" xlink:href=\"#m7d2c8b7503\" y=\"197.962579\"/>\n     <use style=\"fill:#ffa500;stroke:#ffa500;\" x=\"150.602835\" xlink:href=\"#m7d2c8b7503\" y=\"162.546685\"/>\n     <use style=\"fill:#ffa500;stroke:#ffa500;\" x=\"120.377796\" xlink:href=\"#m7d2c8b7503\" y=\"189.996367\"/>\n     <use style=\"fill:#ffa500;stroke:#ffa500;\" x=\"155.561953\" xlink:href=\"#m7d2c8b7503\" y=\"193.042778\"/>\n     <use style=\"fill:#ffa500;stroke:#ffa500;\" x=\"179.576756\" xlink:href=\"#m7d2c8b7503\" y=\"171.395527\"/>\n     <use style=\"fill:#ffa500;stroke:#ffa500;\" x=\"196.709108\" xlink:href=\"#m7d2c8b7503\" y=\"186.72076\"/>\n     <use style=\"fill:#ffa500;stroke:#ffa500;\" x=\"167.567485\" xlink:href=\"#m7d2c8b7503\" y=\"165.427669\"/>\n     <use style=\"fill:#ffa500;stroke:#ffa500;\" x=\"149.526015\" xlink:href=\"#m7d2c8b7503\" y=\"194.108842\"/>\n     <use style=\"fill:#ffa500;stroke:#ffa500;\" x=\"114.723428\" xlink:href=\"#m7d2c8b7503\" y=\"177.60364\"/>\n     <use style=\"fill:#ffa500;stroke:#ffa500;\" x=\"149.41273\" xlink:href=\"#m7d2c8b7503\" y=\"181.091718\"/>\n     <use style=\"fill:#ffa500;stroke:#ffa500;\" x=\"164.084079\" xlink:href=\"#m7d2c8b7503\" y=\"170.518837\"/>\n     <use style=\"fill:#ffa500;stroke:#ffa500;\" x=\"147.87705\" xlink:href=\"#m7d2c8b7503\" y=\"185.328994\"/>\n     <use style=\"fill:#ffa500;stroke:#ffa500;\" x=\"173.055305\" xlink:href=\"#m7d2c8b7503\" y=\"164.707507\"/>\n     <use style=\"fill:#ffa500;stroke:#ffa500;\" x=\"153.620987\" xlink:href=\"#m7d2c8b7503\" y=\"184.051375\"/>\n     <use style=\"fill:#ffa500;stroke:#ffa500;\" x=\"120.492592\" xlink:href=\"#m7d2c8b7503\" y=\"179.406913\"/>\n     <use style=\"fill:#ffa500;stroke:#ffa500;\" x=\"104.673581\" xlink:href=\"#m7d2c8b7503\" y=\"172.092669\"/>\n     <use style=\"fill:#ffa500;stroke:#ffa500;\" x=\"183.341373\" xlink:href=\"#m7d2c8b7503\" y=\"208.169364\"/>\n     <use style=\"fill:#ffa500;stroke:#ffa500;\" x=\"184.565471\" xlink:href=\"#m7d2c8b7503\" y=\"195.218334\"/>\n     <use style=\"fill:#ffa500;stroke:#ffa500;\" x=\"179.630055\" xlink:href=\"#m7d2c8b7503\" y=\"193.426005\"/>\n     <use style=\"fill:#ffa500;stroke:#ffa500;\" x=\"168.353241\" xlink:href=\"#m7d2c8b7503\" y=\"183.67711\"/>\n     <use style=\"fill:#ffa500;stroke:#ffa500;\" x=\"157.210512\" xlink:href=\"#m7d2c8b7503\" y=\"153.482464\"/>\n     <use style=\"fill:#ffa500;stroke:#ffa500;\" x=\"174.391916\" xlink:href=\"#m7d2c8b7503\" y=\"182.138412\"/>\n     <use style=\"fill:#ffa500;stroke:#ffa500;\" x=\"171.323433\" xlink:href=\"#m7d2c8b7503\" y=\"175.833688\"/>\n     <use style=\"fill:#ffa500;stroke:#ffa500;\" x=\"157.180724\" xlink:href=\"#m7d2c8b7503\" y=\"199.196366\"/>\n     <use style=\"fill:#ffa500;stroke:#ffa500;\" x=\"181.773602\" xlink:href=\"#m7d2c8b7503\" y=\"147.994481\"/>\n     <use style=\"fill:#ffa500;stroke:#ffa500;\" x=\"193.481951\" xlink:href=\"#m7d2c8b7503\" y=\"173.080402\"/>\n     <use style=\"fill:#ffa500;stroke:#ffa500;\" x=\"169.160744\" xlink:href=\"#m7d2c8b7503\" y=\"150.007508\"/>\n     <use style=\"fill:#ffa500;stroke:#ffa500;\" x=\"179.588695\" xlink:href=\"#m7d2c8b7503\" y=\"150.880759\"/>\n     <use style=\"fill:#ffa500;stroke:#ffa500;\" x=\"179.576826\" xlink:href=\"#m7d2c8b7503\" y=\"168.827353\"/>\n     <use style=\"fill:#ffa500;stroke:#ffa500;\" x=\"165.634365\" xlink:href=\"#m7d2c8b7503\" y=\"180.936136\"/>\n     <use style=\"fill:#ffa500;stroke:#ffa500;\" x=\"164.491427\" xlink:href=\"#m7d2c8b7503\" y=\"189.016921\"/>\n     <use style=\"fill:#ffa500;stroke:#ffa500;\" x=\"148.739053\" xlink:href=\"#m7d2c8b7503\" y=\"187.927066\"/>\n     <use style=\"fill:#ffa500;stroke:#ffa500;\" x=\"200.291188\" xlink:href=\"#m7d2c8b7503\" y=\"191.92609\"/>\n     <use style=\"fill:#ffa500;stroke:#ffa500;\" x=\"168.297364\" xlink:href=\"#m7d2c8b7503\" y=\"157.050525\"/>\n     <use style=\"fill:#ffa500;stroke:#ffa500;\" x=\"141.129715\" xlink:href=\"#m7d2c8b7503\" y=\"175.616898\"/>\n     <use style=\"fill:#ffa500;stroke:#ffa500;\" x=\"153.315945\" xlink:href=\"#m7d2c8b7503\" y=\"159.670977\"/>\n     <use style=\"fill:#ffa500;stroke:#ffa500;\" x=\"152.812262\" xlink:href=\"#m7d2c8b7503\" y=\"188.660011\"/>\n     <use style=\"fill:#ffa500;stroke:#ffa500;\" x=\"157.744367\" xlink:href=\"#m7d2c8b7503\" y=\"176.698936\"/>\n     <use style=\"fill:#ffa500;stroke:#ffa500;\" x=\"159.926567\" xlink:href=\"#m7d2c8b7503\" y=\"164.120298\"/>\n     <use style=\"fill:#ffa500;stroke:#ffa500;\" x=\"152.763695\" xlink:href=\"#m7d2c8b7503\" y=\"151.485195\"/>\n     <use style=\"fill:#ffa500;stroke:#ffa500;\" x=\"133.684366\" xlink:href=\"#m7d2c8b7503\" y=\"169.488553\"/>\n     <use style=\"fill:#ffa500;stroke:#ffa500;\" x=\"190.063944\" xlink:href=\"#m7d2c8b7503\" y=\"169.806431\"/>\n     <use style=\"fill:#ffa500;stroke:#ffa500;\" x=\"152.811167\" xlink:href=\"#m7d2c8b7503\" y=\"165.327479\"/>\n     <use style=\"fill:#ffa500;stroke:#ffa500;\" x=\"155.647253\" xlink:href=\"#m7d2c8b7503\" y=\"171.918482\"/>\n     <use style=\"fill:#ffa500;stroke:#ffa500;\" x=\"169.43804\" xlink:href=\"#m7d2c8b7503\" y=\"161.67052\"/>\n     <use style=\"fill:#ffa500;stroke:#ffa500;\" x=\"121.480679\" xlink:href=\"#m7d2c8b7503\" y=\"203.32867\"/>\n     <use style=\"fill:#ffa500;stroke:#ffa500;\" x=\"162.662812\" xlink:href=\"#m7d2c8b7503\" y=\"198.280255\"/>\n     <use style=\"fill:#ffa500;stroke:#ffa500;\" x=\"177.00534\" xlink:href=\"#m7d2c8b7503\" y=\"177.344767\"/>\n     <use style=\"fill:#ffa500;stroke:#ffa500;\" x=\"182.905323\" xlink:href=\"#m7d2c8b7503\" y=\"160.629678\"/>\n     <use style=\"fill:#ffa500;stroke:#ffa500;\" x=\"175.045558\" xlink:href=\"#m7d2c8b7503\" y=\"166.203173\"/>\n     <use style=\"fill:#ffa500;stroke:#ffa500;\" x=\"108.678292\" xlink:href=\"#m7d2c8b7503\" y=\"187.902339\"/>\n     <use style=\"fill:#ffa500;stroke:#ffa500;\" x=\"123.443828\" xlink:href=\"#m7d2c8b7503\" y=\"183.523206\"/>\n     <use style=\"fill:#ffa500;stroke:#ffa500;\" x=\"176.408093\" xlink:href=\"#m7d2c8b7503\" y=\"167.764934\"/>\n     <use style=\"fill:#ffa500;stroke:#ffa500;\" x=\"173.70039\" xlink:href=\"#m7d2c8b7503\" y=\"199.460793\"/>\n     <use style=\"fill:#ffa500;stroke:#ffa500;\" x=\"138.58773\" xlink:href=\"#m7d2c8b7503\" y=\"209.889006\"/>\n     <use style=\"fill:#ffa500;stroke:#ffa500;\" x=\"141.245057\" xlink:href=\"#m7d2c8b7503\" y=\"169.349427\"/>\n     <use style=\"fill:#ffa500;stroke:#ffa500;\" x=\"172.497004\" xlink:href=\"#m7d2c8b7503\" y=\"161.795758\"/>\n     <use style=\"fill:#ffa500;stroke:#ffa500;\" x=\"123.815249\" xlink:href=\"#m7d2c8b7503\" y=\"174.913669\"/>\n     <use style=\"fill:#ffa500;stroke:#ffa500;\" x=\"141.422919\" xlink:href=\"#m7d2c8b7503\" y=\"196.297478\"/>\n     <use style=\"fill:#ffa500;stroke:#ffa500;\" x=\"187.298282\" xlink:href=\"#m7d2c8b7503\" y=\"184.847361\"/>\n     <use style=\"fill:#ffa500;stroke:#ffa500;\" x=\"190.153731\" xlink:href=\"#m7d2c8b7503\" y=\"155.964608\"/>\n     <use style=\"fill:#ffa500;stroke:#ffa500;\" x=\"135.566674\" xlink:href=\"#m7d2c8b7503\" y=\"180.97516\"/>\n     <use style=\"fill:#ffa500;stroke:#ffa500;\" x=\"112.76713\" xlink:href=\"#m7d2c8b7503\" y=\"182.79857\"/>\n     <use style=\"fill:#ffa500;stroke:#ffa500;\" x=\"193.713629\" xlink:href=\"#m7d2c8b7503\" y=\"183.069178\"/>\n     <use style=\"fill:#ffa500;stroke:#ffa500;\" x=\"154.568526\" xlink:href=\"#m7d2c8b7503\" y=\"166.83207\"/>\n     <use style=\"fill:#ffa500;stroke:#ffa500;\" x=\"184.192037\" xlink:href=\"#m7d2c8b7503\" y=\"179.460966\"/>\n     <use style=\"fill:#ffa500;stroke:#ffa500;\" x=\"172.850445\" xlink:href=\"#m7d2c8b7503\" y=\"179.001319\"/>\n     <use style=\"fill:#ffa500;stroke:#ffa500;\" x=\"129.78168\" xlink:href=\"#m7d2c8b7503\" y=\"168.81988\"/>\n     <use style=\"fill:#ffa500;stroke:#ffa500;\" x=\"169.50351\" xlink:href=\"#m7d2c8b7503\" y=\"193.99415\"/>\n     <use style=\"fill:#ffa500;stroke:#ffa500;\" x=\"166.312845\" xlink:href=\"#m7d2c8b7503\" y=\"172.793396\"/>\n     <use style=\"fill:#ffa500;stroke:#ffa500;\" x=\"142.269367\" xlink:href=\"#m7d2c8b7503\" y=\"183.77937\"/>\n     <use style=\"fill:#ffa500;stroke:#ffa500;\" x=\"111.446451\" xlink:href=\"#m7d2c8b7503\" y=\"178.554941\"/>\n     <use style=\"fill:#ffa500;stroke:#ffa500;\" x=\"165.594419\" xlink:href=\"#m7d2c8b7503\" y=\"159.150995\"/>\n     <use style=\"fill:#ffa500;stroke:#ffa500;\" x=\"138.239224\" xlink:href=\"#m7d2c8b7503\" y=\"195.46971\"/>\n     <use style=\"fill:#ffa500;stroke:#ffa500;\" x=\"134.394802\" xlink:href=\"#m7d2c8b7503\" y=\"163.450063\"/>\n     <use style=\"fill:#ffa500;stroke:#ffa500;\" x=\"130.275733\" xlink:href=\"#m7d2c8b7503\" y=\"161.453115\"/>\n     <use style=\"fill:#ffa500;stroke:#ffa500;\" x=\"156.930214\" xlink:href=\"#m7d2c8b7503\" y=\"195.897509\"/>\n     <use style=\"fill:#ffa500;stroke:#ffa500;\" x=\"150.039875\" xlink:href=\"#m7d2c8b7503\" y=\"174.92596\"/>\n     <use style=\"fill:#ffa500;stroke:#ffa500;\" x=\"188.869776\" xlink:href=\"#m7d2c8b7503\" y=\"179.154474\"/>\n     <use style=\"fill:#ffa500;stroke:#ffa500;\" x=\"140.720386\" xlink:href=\"#m7d2c8b7503\" y=\"179.180987\"/>\n     <use style=\"fill:#ffa500;stroke:#ffa500;\" x=\"126.251665\" xlink:href=\"#m7d2c8b7503\" y=\"191.118406\"/>\n     <use style=\"fill:#ffa500;stroke:#ffa500;\" x=\"183.30738\" xlink:href=\"#m7d2c8b7503\" y=\"187.371842\"/>\n     <use style=\"fill:#ffa500;stroke:#ffa500;\" x=\"163.435493\" xlink:href=\"#m7d2c8b7503\" y=\"145.65429\"/>\n     <use style=\"fill:#ffa500;stroke:#ffa500;\" x=\"141.026334\" xlink:href=\"#m7d2c8b7503\" y=\"191.928008\"/>\n     <use style=\"fill:#ffa500;stroke:#ffa500;\" x=\"187.675481\" xlink:href=\"#m7d2c8b7503\" y=\"200.973989\"/>\n     <use style=\"fill:#ffa500;stroke:#ffa500;\" x=\"154.639863\" xlink:href=\"#m7d2c8b7503\" y=\"168.330405\"/>\n     <use style=\"fill:#ffa500;stroke:#ffa500;\" x=\"139.094218\" xlink:href=\"#m7d2c8b7503\" y=\"163.421876\"/>\n     <use style=\"fill:#ffa500;stroke:#ffa500;\" x=\"157.998451\" xlink:href=\"#m7d2c8b7503\" y=\"160.4897\"/>\n     <use style=\"fill:#ffa500;stroke:#ffa500;\" x=\"177.344662\" xlink:href=\"#m7d2c8b7503\" y=\"182.572807\"/>\n     <use style=\"fill:#ffa500;stroke:#ffa500;\" x=\"162.90073\" xlink:href=\"#m7d2c8b7503\" y=\"173.170612\"/>\n     <use style=\"fill:#ffa500;stroke:#ffa500;\" x=\"126.679731\" xlink:href=\"#m7d2c8b7503\" y=\"206.860024\"/>\n     <use style=\"fill:#ffa500;stroke:#ffa500;\" x=\"126.006895\" xlink:href=\"#m7d2c8b7503\" y=\"184.810728\"/>\n     <use style=\"fill:#ffa500;stroke:#ffa500;\" x=\"161.09848\" xlink:href=\"#m7d2c8b7503\" y=\"166.282816\"/>\n     <use style=\"fill:#ffa500;stroke:#ffa500;\" x=\"193.578373\" xlink:href=\"#m7d2c8b7503\" y=\"208.336056\"/>\n    </g>\n   </g>\n   <g id=\"matplotlib.axis_1\">\n    <g id=\"xtick_1\">\n     <g id=\"line2d_1\">\n      <defs>\n       <path d=\"M 0 0 \nL 0 3.5 \n\" id=\"md021066a2f\" style=\"stroke:#000000;stroke-width:0.8;\"/>\n      </defs>\n      <g>\n       <use style=\"stroke:#000000;stroke-width:0.8;\" x=\"83.755039\" xlink:href=\"#md021066a2f\" y=\"224.64\"/>\n      </g>\n     </g>\n     <g id=\"text_1\">\n      <!-- −100 -->\n      <g transform=\"translate(70.021446 239.238437)scale(0.1 -0.1)\">\n       <defs>\n        <path d=\"M 10.59375 35.5 \nL 73.1875 35.5 \nL 73.1875 27.203125 \nL 10.59375 27.203125 \nz\n\" id=\"DejaVuSans-8722\"/>\n        <path d=\"M 12.40625 8.296875 \nL 28.515625 8.296875 \nL 28.515625 63.921875 \nL 10.984375 60.40625 \nL 10.984375 69.390625 \nL 28.421875 72.90625 \nL 38.28125 72.90625 \nL 38.28125 8.296875 \nL 54.390625 8.296875 \nL 54.390625 0 \nL 12.40625 0 \nz\n\" id=\"DejaVuSans-49\"/>\n        <path d=\"M 31.78125 66.40625 \nQ 24.171875 66.40625 20.328125 58.90625 \nQ 16.5 51.421875 16.5 36.375 \nQ 16.5 21.390625 20.328125 13.890625 \nQ 24.171875 6.390625 31.78125 6.390625 \nQ 39.453125 6.390625 43.28125 13.890625 \nQ 47.125 21.390625 47.125 36.375 \nQ 47.125 51.421875 43.28125 58.90625 \nQ 39.453125 66.40625 31.78125 66.40625 \nz\nM 31.78125 74.21875 \nQ 44.046875 74.21875 50.515625 64.515625 \nQ 56.984375 54.828125 56.984375 36.375 \nQ 56.984375 17.96875 50.515625 8.265625 \nQ 44.046875 -1.421875 31.78125 -1.421875 \nQ 19.53125 -1.421875 13.0625 8.265625 \nQ 6.59375 17.96875 6.59375 36.375 \nQ 6.59375 54.828125 13.0625 64.515625 \nQ 19.53125 74.21875 31.78125 74.21875 \nz\n\" id=\"DejaVuSans-48\"/>\n       </defs>\n       <use xlink:href=\"#DejaVuSans-8722\"/>\n       <use x=\"83.789062\" xlink:href=\"#DejaVuSans-49\"/>\n       <use x=\"147.412109\" xlink:href=\"#DejaVuSans-48\"/>\n       <use x=\"211.035156\" xlink:href=\"#DejaVuSans-48\"/>\n      </g>\n     </g>\n    </g>\n    <g id=\"xtick_2\">\n     <g id=\"line2d_2\">\n      <g>\n       <use style=\"stroke:#000000;stroke-width:0.8;\" x=\"141.182631\" xlink:href=\"#md021066a2f\" y=\"224.64\"/>\n      </g>\n     </g>\n     <g id=\"text_2\">\n      <!-- −50 -->\n      <g transform=\"translate(130.630288 239.238437)scale(0.1 -0.1)\">\n       <defs>\n        <path d=\"M 10.796875 72.90625 \nL 49.515625 72.90625 \nL 49.515625 64.59375 \nL 19.828125 64.59375 \nL 19.828125 46.734375 \nQ 21.96875 47.46875 24.109375 47.828125 \nQ 26.265625 48.1875 28.421875 48.1875 \nQ 40.625 48.1875 47.75 41.5 \nQ 54.890625 34.8125 54.890625 23.390625 \nQ 54.890625 11.625 47.5625 5.09375 \nQ 40.234375 -1.421875 26.90625 -1.421875 \nQ 22.3125 -1.421875 17.546875 -0.640625 \nQ 12.796875 0.140625 7.71875 1.703125 \nL 7.71875 11.625 \nQ 12.109375 9.234375 16.796875 8.0625 \nQ 21.484375 6.890625 26.703125 6.890625 \nQ 35.15625 6.890625 40.078125 11.328125 \nQ 45.015625 15.765625 45.015625 23.390625 \nQ 45.015625 31 40.078125 35.4375 \nQ 35.15625 39.890625 26.703125 39.890625 \nQ 22.75 39.890625 18.8125 39.015625 \nQ 14.890625 38.140625 10.796875 36.28125 \nz\n\" id=\"DejaVuSans-53\"/>\n       </defs>\n       <use xlink:href=\"#DejaVuSans-8722\"/>\n       <use x=\"83.789062\" xlink:href=\"#DejaVuSans-53\"/>\n       <use x=\"147.412109\" xlink:href=\"#DejaVuSans-48\"/>\n      </g>\n     </g>\n    </g>\n    <g id=\"xtick_3\">\n     <g id=\"line2d_3\">\n      <g>\n       <use style=\"stroke:#000000;stroke-width:0.8;\" x=\"198.610223\" xlink:href=\"#md021066a2f\" y=\"224.64\"/>\n      </g>\n     </g>\n     <g id=\"text_3\">\n      <!-- 0 -->\n      <g transform=\"translate(195.428973 239.238437)scale(0.1 -0.1)\">\n       <use xlink:href=\"#DejaVuSans-48\"/>\n      </g>\n     </g>\n    </g>\n    <g id=\"xtick_4\">\n     <g id=\"line2d_4\">\n      <g>\n       <use style=\"stroke:#000000;stroke-width:0.8;\" x=\"256.037815\" xlink:href=\"#md021066a2f\" y=\"224.64\"/>\n      </g>\n     </g>\n     <g id=\"text_4\">\n      <!-- 50 -->\n      <g transform=\"translate(249.675315 239.238437)scale(0.1 -0.1)\">\n       <use xlink:href=\"#DejaVuSans-53\"/>\n       <use x=\"63.623047\" xlink:href=\"#DejaVuSans-48\"/>\n      </g>\n     </g>\n    </g>\n    <g id=\"xtick_5\">\n     <g id=\"line2d_5\">\n      <g>\n       <use style=\"stroke:#000000;stroke-width:0.8;\" x=\"313.465407\" xlink:href=\"#md021066a2f\" y=\"224.64\"/>\n      </g>\n     </g>\n     <g id=\"text_5\">\n      <!-- 100 -->\n      <g transform=\"translate(303.921657 239.238437)scale(0.1 -0.1)\">\n       <use xlink:href=\"#DejaVuSans-49\"/>\n       <use x=\"63.623047\" xlink:href=\"#DejaVuSans-48\"/>\n       <use x=\"127.246094\" xlink:href=\"#DejaVuSans-48\"/>\n      </g>\n     </g>\n    </g>\n    <g id=\"xtick_6\">\n     <g id=\"line2d_6\">\n      <g>\n       <use style=\"stroke:#000000;stroke-width:0.8;\" x=\"370.892999\" xlink:href=\"#md021066a2f\" y=\"224.64\"/>\n      </g>\n     </g>\n     <g id=\"text_6\">\n      <!-- 150 -->\n      <g transform=\"translate(361.349249 239.238437)scale(0.1 -0.1)\">\n       <use xlink:href=\"#DejaVuSans-49\"/>\n       <use x=\"63.623047\" xlink:href=\"#DejaVuSans-53\"/>\n       <use x=\"127.246094\" xlink:href=\"#DejaVuSans-48\"/>\n      </g>\n     </g>\n    </g>\n   </g>\n   <g id=\"matplotlib.axis_2\">\n    <g id=\"ytick_1\">\n     <g id=\"line2d_7\">\n      <defs>\n       <path d=\"M 0 0 \nL -3.5 0 \n\" id=\"mab9a1b6e91\" style=\"stroke:#000000;stroke-width:0.8;\"/>\n      </defs>\n      <g>\n       <use style=\"stroke:#000000;stroke-width:0.8;\" x=\"41.667188\" xlink:href=\"#mab9a1b6e91\" y=\"211.562173\"/>\n      </g>\n     </g>\n     <g id=\"text_7\">\n      <!-- −100 -->\n      <g transform=\"translate(7.2 215.361391)scale(0.1 -0.1)\">\n       <use xlink:href=\"#DejaVuSans-8722\"/>\n       <use x=\"83.789062\" xlink:href=\"#DejaVuSans-49\"/>\n       <use x=\"147.412109\" xlink:href=\"#DejaVuSans-48\"/>\n       <use x=\"211.035156\" xlink:href=\"#DejaVuSans-48\"/>\n      </g>\n     </g>\n    </g>\n    <g id=\"ytick_2\">\n     <g id=\"line2d_8\">\n      <g>\n       <use style=\"stroke:#000000;stroke-width:0.8;\" x=\"41.667188\" xlink:href=\"#mab9a1b6e91\" y=\"179.038624\"/>\n      </g>\n     </g>\n     <g id=\"text_8\">\n      <!-- −50 -->\n      <g transform=\"translate(13.5625 182.837843)scale(0.1 -0.1)\">\n       <use xlink:href=\"#DejaVuSans-8722\"/>\n       <use x=\"83.789062\" xlink:href=\"#DejaVuSans-53\"/>\n       <use x=\"147.412109\" xlink:href=\"#DejaVuSans-48\"/>\n      </g>\n     </g>\n    </g>\n    <g id=\"ytick_3\">\n     <g id=\"line2d_9\">\n      <g>\n       <use style=\"stroke:#000000;stroke-width:0.8;\" x=\"41.667188\" xlink:href=\"#mab9a1b6e91\" y=\"146.515075\"/>\n      </g>\n     </g>\n     <g id=\"text_9\">\n      <!-- 0 -->\n      <g transform=\"translate(28.304688 150.314294)scale(0.1 -0.1)\">\n       <use xlink:href=\"#DejaVuSans-48\"/>\n      </g>\n     </g>\n    </g>\n    <g id=\"ytick_4\">\n     <g id=\"line2d_10\">\n      <g>\n       <use style=\"stroke:#000000;stroke-width:0.8;\" x=\"41.667188\" xlink:href=\"#mab9a1b6e91\" y=\"113.991526\"/>\n      </g>\n     </g>\n     <g id=\"text_10\">\n      <!-- 50 -->\n      <g transform=\"translate(21.942188 117.790745)scale(0.1 -0.1)\">\n       <use xlink:href=\"#DejaVuSans-53\"/>\n       <use x=\"63.623047\" xlink:href=\"#DejaVuSans-48\"/>\n      </g>\n     </g>\n    </g>\n    <g id=\"ytick_5\">\n     <g id=\"line2d_11\">\n      <g>\n       <use style=\"stroke:#000000;stroke-width:0.8;\" x=\"41.667188\" xlink:href=\"#mab9a1b6e91\" y=\"81.467977\"/>\n      </g>\n     </g>\n     <g id=\"text_11\">\n      <!-- 100 -->\n      <g transform=\"translate(15.579688 85.267196)scale(0.1 -0.1)\">\n       <use xlink:href=\"#DejaVuSans-49\"/>\n       <use x=\"63.623047\" xlink:href=\"#DejaVuSans-48\"/>\n       <use x=\"127.246094\" xlink:href=\"#DejaVuSans-48\"/>\n      </g>\n     </g>\n    </g>\n    <g id=\"ytick_6\">\n     <g id=\"line2d_12\">\n      <g>\n       <use style=\"stroke:#000000;stroke-width:0.8;\" x=\"41.667188\" xlink:href=\"#mab9a1b6e91\" y=\"48.944428\"/>\n      </g>\n     </g>\n     <g id=\"text_12\">\n      <!-- 150 -->\n      <g transform=\"translate(15.579688 52.743647)scale(0.1 -0.1)\">\n       <use xlink:href=\"#DejaVuSans-49\"/>\n       <use x=\"63.623047\" xlink:href=\"#DejaVuSans-53\"/>\n       <use x=\"127.246094\" xlink:href=\"#DejaVuSans-48\"/>\n      </g>\n     </g>\n    </g>\n    <g id=\"ytick_7\">\n     <g id=\"line2d_13\">\n      <g>\n       <use style=\"stroke:#000000;stroke-width:0.8;\" x=\"41.667188\" xlink:href=\"#mab9a1b6e91\" y=\"16.420879\"/>\n      </g>\n     </g>\n     <g id=\"text_13\">\n      <!-- 200 -->\n      <g transform=\"translate(15.579688 20.220098)scale(0.1 -0.1)\">\n       <defs>\n        <path d=\"M 19.1875 8.296875 \nL 53.609375 8.296875 \nL 53.609375 0 \nL 7.328125 0 \nL 7.328125 8.296875 \nQ 12.9375 14.109375 22.625 23.890625 \nQ 32.328125 33.6875 34.8125 36.53125 \nQ 39.546875 41.84375 41.421875 45.53125 \nQ 43.3125 49.21875 43.3125 52.78125 \nQ 43.3125 58.59375 39.234375 62.25 \nQ 35.15625 65.921875 28.609375 65.921875 \nQ 23.96875 65.921875 18.8125 64.3125 \nQ 13.671875 62.703125 7.8125 59.421875 \nL 7.8125 69.390625 \nQ 13.765625 71.78125 18.9375 73 \nQ 24.125 74.21875 28.421875 74.21875 \nQ 39.75 74.21875 46.484375 68.546875 \nQ 53.21875 62.890625 53.21875 53.421875 \nQ 53.21875 48.921875 51.53125 44.890625 \nQ 49.859375 40.875 45.40625 35.40625 \nQ 44.1875 33.984375 37.640625 27.21875 \nQ 31.109375 20.453125 19.1875 8.296875 \nz\n\" id=\"DejaVuSans-50\"/>\n       </defs>\n       <use xlink:href=\"#DejaVuSans-50\"/>\n       <use x=\"63.623047\" xlink:href=\"#DejaVuSans-48\"/>\n       <use x=\"127.246094\" xlink:href=\"#DejaVuSans-48\"/>\n      </g>\n     </g>\n    </g>\n   </g>\n   <g id=\"patch_3\">\n    <path d=\"M 41.667188 224.64 \nL 41.667188 7.2 \n\" style=\"fill:none;stroke:#000000;stroke-linecap:square;stroke-linejoin:miter;stroke-width:0.8;\"/>\n   </g>\n   <g id=\"patch_4\">\n    <path d=\"M 376.467188 224.64 \nL 376.467188 7.2 \n\" style=\"fill:none;stroke:#000000;stroke-linecap:square;stroke-linejoin:miter;stroke-width:0.8;\"/>\n   </g>\n   <g id=\"patch_5\">\n    <path d=\"M 41.667188 224.64 \nL 376.467188 224.64 \n\" style=\"fill:none;stroke:#000000;stroke-linecap:square;stroke-linejoin:miter;stroke-width:0.8;\"/>\n   </g>\n   <g id=\"patch_6\">\n    <path d=\"M 41.667188 7.2 \nL 376.467188 7.2 \n\" style=\"fill:none;stroke:#000000;stroke-linecap:square;stroke-linejoin:miter;stroke-width:0.8;\"/>\n   </g>\n  </g>\n </g>\n <defs>\n  <clipPath id=\"p800b546988\">\n   <rect height=\"217.44\" width=\"334.8\" x=\"41.667188\" y=\"7.2\"/>\n  </clipPath>\n </defs>\n</svg>\n",
      "text/plain": [
       "<Figure size 432x288 with 1 Axes>"
      ]
     },
     "metadata": {
      "needs_background": "light"
     },
     "output_type": "display_data"
    }
   ],
   "source": [
    "embedding = MDS(n_components=2)\n",
    "solution = embedding.fit_transform(np.concatenate((birdTestReps, dogTestReps, carTestReps, busTestReps)))\n",
    "plt.scatter(solution[0:100, 0], solution[0:100, 1], c='blue')\n",
    "plt.scatter(solution[100:200, 0], solution[100:200, 1], c='red')\n",
    "plt.scatter(solution[200:300, 0], solution[200:300, 1], c='green')\n",
    "plt.scatter(solution[300:400, 0], solution[300:400, 1], c='orange')"
   ]
  },
  {
   "cell_type": "markdown",
   "metadata": {},
   "source": [
    "# Sandbox"
   ]
  },
  {
   "cell_type": "code",
   "execution_count": 7,
   "metadata": {},
   "outputs": [],
   "source": [
    "# Reimplementation of task to confirmation task\n",
    "maxExem = birdTrainReps.shape[0]\n",
    "criterion = 25\n",
    "\n",
    "verifData = pd.DataFrame(columns=['level', 'cat', 'resp', 'rt'])\n",
    "for rep in birdTestReps:\n",
    "    evidence = cat.get_evidence(rep, birdTrainReps, cat.gcm_sim, maxExem)\n",
    "    drift = evidence / (evidence + criterion)\n",
    "    resp, rt = cat.LBA_deterministic(drift, 1 - drift, b=.3)\n",
    "    resp = 'yes' if resp == 1 else 'no'\n",
    "    \n",
    "    # Add row\n",
    "    verifData = verifData.append({\n",
    "        'level': 'basic',\n",
    "        'cat': 'bird',\n",
    "        'resp': resp,\n",
    "        'rt': rt\n",
    "    }, ignore_index=True)\n",
    "\n",
    "for rep in dogTestReps:\n",
    "    evidence = cat.get_evidence(rep, dogTrainReps, cat.gcm_sim, maxExem)\n",
    "    drift = evidence / (evidence + criterion)\n",
    "    resp, rt = cat.LBA_deterministic(drift, 1 - drift, b=.3)\n",
    "    resp = 'yes' if resp == 1 else 'no'\n",
    "    \n",
    "    # Add row\n",
    "    verifData = verifData.append({\n",
    "        'level': 'basic',\n",
    "        'cat': 'dog',\n",
    "        'resp': resp,\n",
    "        'rt': rt\n",
    "    }, ignore_index=True)\n",
    "\n",
    "for rep in carTestReps:\n",
    "    evidence = cat.get_evidence(rep, carTrainReps, cat.gcm_sim, maxExem)\n",
    "    drift = evidence / (evidence + criterion)\n",
    "    resp, rt = cat.LBA_deterministic(drift, 1 - drift, b=.3)\n",
    "    resp = 'yes' if resp == 1 else 'no'\n",
    "    \n",
    "    # Add row\n",
    "    verifData = verifData.append({\n",
    "        'level': 'basic',\n",
    "        'cat': 'car',\n",
    "        'resp': resp,\n",
    "        'rt': rt\n",
    "    }, ignore_index=True)\n",
    "\n",
    "for rep in busTestReps:\n",
    "    evidence = cat.get_evidence(rep, busTrainReps, cat.gcm_sim, maxExem)\n",
    "    drift = evidence / (evidence + criterion)\n",
    "    resp, rt = cat.LBA_deterministic(drift, 1 - drift, b=.3)\n",
    "    resp = 'yes' if resp == 1 else 'no'\n",
    "    \n",
    "    # Add row\n",
    "    verifData = verifData.append({\n",
    "        'level': 'basic',\n",
    "        'cat': 'bus',\n",
    "        'resp': resp,\n",
    "        'rt': rt\n",
    "    }, ignore_index=True)\n",
    "\n",
    "for rep in animalTestReps:\n",
    "    evidence = cat.get_evidence(rep, animalTrainReps, cat.gcm_sim, maxExem)\n",
    "    drift = evidence / (evidence + criterion)\n",
    "    resp, rt = cat.LBA_deterministic(drift, 1 - drift, b=.3)\n",
    "    resp = 'yes' if resp == 1 else 'no'\n",
    "    \n",
    "    # Add row\n",
    "    verifData = verifData.append({\n",
    "        'level': 'super',\n",
    "        'cat': 'animal',\n",
    "        'resp': resp,\n",
    "        'rt': rt\n",
    "    }, ignore_index=True)\n",
    "\n",
    "for rep in vehicleTestReps:\n",
    "    evidence = cat.get_evidence(rep, vehicleTrainReps, cat.gcm_sim, maxExem)\n",
    "    drift = evidence / (evidence + criterion)\n",
    "    resp, rt = cat.LBA_deterministic(drift, 1 - drift, b=.3)\n",
    "    resp = 'yes' if resp == 1 else 'no'\n",
    "    \n",
    "    # Add row\n",
    "    verifData = verifData.append({\n",
    "        'level': 'super',\n",
    "        'cat': 'vehicle',\n",
    "        'resp': resp,\n",
    "        'rt': rt\n",
    "    }, ignore_index=True)\n"
   ]
  },
  {
   "cell_type": "code",
   "execution_count": 8,
   "metadata": {},
   "outputs": [
    {
     "data": {
      "text/plain": [
       "level  resp\n",
       "basic  yes     379\n",
       "       no       21\n",
       "super  yes     354\n",
       "       no       46\n",
       "Name: resp, dtype: int64"
      ]
     },
     "execution_count": 8,
     "metadata": {},
     "output_type": "execute_result"
    }
   ],
   "source": [
    "# Group data basic on level and count responses\n",
    "verifData.groupby(['level'])['resp'].value_counts()"
   ]
  },
  {
   "cell_type": "code",
   "execution_count": 9,
   "metadata": {},
   "outputs": [
    {
     "data": {
      "text/plain": [
       "level\n",
       "basic    0.521725\n",
       "super    0.537252\n",
       "Name: rt, dtype: float64"
      ]
     },
     "execution_count": 9,
     "metadata": {},
     "output_type": "execute_result"
    }
   ],
   "source": [
    "verifData.groupby(['level'])['rt'].mean()"
   ]
  }
 ],
 "metadata": {
  "kernelspec": {
   "display_name": "research",
   "language": "python",
   "name": "research"
  },
  "language_info": {
   "codemirror_mode": {
    "name": "ipython",
    "version": 3
   },
   "file_extension": ".py",
   "mimetype": "text/x-python",
   "name": "python",
   "nbconvert_exporter": "python",
   "pygments_lexer": "ipython3",
   "version": "3.8.10"
  },
  "orig_nbformat": 4
 },
 "nbformat": 4,
 "nbformat_minor": 2
}
