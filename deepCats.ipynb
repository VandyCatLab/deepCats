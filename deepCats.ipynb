{
 "cells": [
  {
   "cell_type": "code",
   "execution_count": 1,
   "metadata": {
    "notebookRunGroups": {
     "groupValue": "12"
    }
   },
   "outputs": [
    {
     "name": "stderr",
     "output_type": "stream",
     "text": [
      "2022-06-22 02:26:44.161089: I tensorflow/stream_executor/platform/default/dso_loader.cc:53] Successfully opened dynamic library libcudart.so.11.0\n"
     ]
    }
   ],
   "source": [
    "import tensorflow as tf\n",
    "import numpy as np\n",
    "import ecoset"
   ]
  },
  {
   "cell_type": "code",
   "execution_count": null,
   "metadata": {},
   "outputs": [],
   "source": [
    "# Load model\n",
    "#model = ecoset.make_alex_net_v2(weights_path='./models/AlexNet/ecoset_training_seeds_01_to_10/training_seed_01/model.ckpt_epoch89')\n",
    "model = ecoset.make_alex_net_v2(output_shape=1000, weights_path='./models/AlexNet/ILSVRC_training_seeds_01_to_10/training_seed_01/model.ckpt_epoch89')\n",
    "model.summary()"
   ]
  },
  {
   "cell_type": "code",
   "execution_count": 2,
   "metadata": {
    "notebookRunGroups": {
     "groupValue": "2"
    }
   },
   "outputs": [
    {
     "name": "stderr",
     "output_type": "stream",
     "text": [
      "2022-06-22 02:26:45.133238: I tensorflow/stream_executor/platform/default/dso_loader.cc:53] Successfully opened dynamic library libcuda.so.1\n",
      "2022-06-22 02:26:45.167438: I tensorflow/stream_executor/cuda/cuda_gpu_executor.cc:937] successful NUMA node read from SysFS had negative value (-1), but there must be at least one NUMA node, so returning NUMA node zero\n",
      "2022-06-22 02:26:45.167947: I tensorflow/core/common_runtime/gpu/gpu_device.cc:1733] Found device 0 with properties: \n",
      "pciBusID: 0000:01:00.0 name: NVIDIA GeForce GTX 970 computeCapability: 5.2\n",
      "coreClock: 1.253GHz coreCount: 13 deviceMemorySize: 3.95GiB deviceMemoryBandwidth: 208.91GiB/s\n",
      "2022-06-22 02:26:45.167977: I tensorflow/stream_executor/platform/default/dso_loader.cc:53] Successfully opened dynamic library libcudart.so.11.0\n",
      "2022-06-22 02:26:45.171099: I tensorflow/stream_executor/platform/default/dso_loader.cc:53] Successfully opened dynamic library libcublas.so.11\n",
      "2022-06-22 02:26:45.171136: I tensorflow/stream_executor/platform/default/dso_loader.cc:53] Successfully opened dynamic library libcublasLt.so.11\n",
      "2022-06-22 02:26:45.172647: I tensorflow/stream_executor/platform/default/dso_loader.cc:53] Successfully opened dynamic library libcufft.so.10\n",
      "2022-06-22 02:26:45.172856: I tensorflow/stream_executor/platform/default/dso_loader.cc:53] Successfully opened dynamic library libcurand.so.10\n",
      "2022-06-22 02:26:45.173263: I tensorflow/stream_executor/platform/default/dso_loader.cc:53] Successfully opened dynamic library libcusolver.so.11\n",
      "2022-06-22 02:26:45.173890: I tensorflow/stream_executor/platform/default/dso_loader.cc:53] Successfully opened dynamic library libcusparse.so.11\n",
      "2022-06-22 02:26:45.173990: I tensorflow/stream_executor/platform/default/dso_loader.cc:53] Successfully opened dynamic library libcudnn.so.8\n",
      "2022-06-22 02:26:45.174071: I tensorflow/stream_executor/cuda/cuda_gpu_executor.cc:937] successful NUMA node read from SysFS had negative value (-1), but there must be at least one NUMA node, so returning NUMA node zero\n",
      "2022-06-22 02:26:45.174381: I tensorflow/stream_executor/cuda/cuda_gpu_executor.cc:937] successful NUMA node read from SysFS had negative value (-1), but there must be at least one NUMA node, so returning NUMA node zero\n",
      "2022-06-22 02:26:45.174620: I tensorflow/core/common_runtime/gpu/gpu_device.cc:1871] Adding visible gpu devices: 0\n",
      "2022-06-22 02:26:45.174926: I tensorflow/core/platform/cpu_feature_guard.cc:142] This TensorFlow binary is optimized with oneAPI Deep Neural Network Library (oneDNN) to use the following CPU instructions in performance-critical operations:  AVX2 FMA\n",
      "To enable them in other operations, rebuild TensorFlow with the appropriate compiler flags.\n",
      "2022-06-22 02:26:45.175106: I tensorflow/stream_executor/cuda/cuda_gpu_executor.cc:937] successful NUMA node read from SysFS had negative value (-1), but there must be at least one NUMA node, so returning NUMA node zero\n",
      "2022-06-22 02:26:45.175360: I tensorflow/core/common_runtime/gpu/gpu_device.cc:1733] Found device 0 with properties: \n",
      "pciBusID: 0000:01:00.0 name: NVIDIA GeForce GTX 970 computeCapability: 5.2\n",
      "coreClock: 1.253GHz coreCount: 13 deviceMemorySize: 3.95GiB deviceMemoryBandwidth: 208.91GiB/s\n",
      "2022-06-22 02:26:45.175408: I tensorflow/stream_executor/cuda/cuda_gpu_executor.cc:937] successful NUMA node read from SysFS had negative value (-1), but there must be at least one NUMA node, so returning NUMA node zero\n",
      "2022-06-22 02:26:45.175674: I tensorflow/stream_executor/cuda/cuda_gpu_executor.cc:937] successful NUMA node read from SysFS had negative value (-1), but there must be at least one NUMA node, so returning NUMA node zero\n",
      "2022-06-22 02:26:45.175910: I tensorflow/core/common_runtime/gpu/gpu_device.cc:1871] Adding visible gpu devices: 0\n",
      "2022-06-22 02:26:45.175933: I tensorflow/stream_executor/platform/default/dso_loader.cc:53] Successfully opened dynamic library libcudart.so.11.0\n",
      "2022-06-22 02:26:45.556602: I tensorflow/core/common_runtime/gpu/gpu_device.cc:1258] Device interconnect StreamExecutor with strength 1 edge matrix:\n",
      "2022-06-22 02:26:45.556628: I tensorflow/core/common_runtime/gpu/gpu_device.cc:1264]      0 \n",
      "2022-06-22 02:26:45.556634: I tensorflow/core/common_runtime/gpu/gpu_device.cc:1277] 0:   N \n",
      "2022-06-22 02:26:45.556774: I tensorflow/stream_executor/cuda/cuda_gpu_executor.cc:937] successful NUMA node read from SysFS had negative value (-1), but there must be at least one NUMA node, so returning NUMA node zero\n",
      "2022-06-22 02:26:45.557071: I tensorflow/stream_executor/cuda/cuda_gpu_executor.cc:937] successful NUMA node read from SysFS had negative value (-1), but there must be at least one NUMA node, so returning NUMA node zero\n",
      "2022-06-22 02:26:45.557346: I tensorflow/stream_executor/cuda/cuda_gpu_executor.cc:937] successful NUMA node read from SysFS had negative value (-1), but there must be at least one NUMA node, so returning NUMA node zero\n",
      "2022-06-22 02:26:45.557597: I tensorflow/core/common_runtime/gpu/gpu_device.cc:1418] Created TensorFlow device (/job:localhost/replica:0/task:0/device:GPU:0 with 3344 MB memory) -> physical GPU (device: 0, name: NVIDIA GeForce GTX 970, pci bus id: 0000:01:00.0, compute capability: 5.2)\n"
     ]
    },
    {
     "name": "stdout",
     "output_type": "stream",
     "text": [
      "Model: \"model\"\n",
      "_________________________________________________________________\n",
      "Layer (type)                 Output Shape              Param #   \n",
      "=================================================================\n",
      "input_1 (InputLayer)         [(None, 128, 128, 3)]     0         \n",
      "_________________________________________________________________\n",
      "conv1 (Conv2D)               (None, 128, 128, 128)     18944     \n",
      "_________________________________________________________________\n",
      "group_normalization (GroupNo (None, 128, 128, 128)     256       \n",
      "_________________________________________________________________\n",
      "dropout (Dropout)            (None, 128, 128, 128)     0         \n",
      "_________________________________________________________________\n",
      "re_lu (ReLU)                 (None, 128, 128, 128)     0         \n",
      "_________________________________________________________________\n",
      "conv2 (Conv2D)               (None, 128, 128, 128)     802944    \n",
      "_________________________________________________________________\n",
      "group_normalization_1 (Group (None, 128, 128, 128)     256       \n",
      "_________________________________________________________________\n",
      "dropout_1 (Dropout)          (None, 128, 128, 128)     0         \n",
      "_________________________________________________________________\n",
      "re_lu_1 (ReLU)               (None, 128, 128, 128)     0         \n",
      "_________________________________________________________________\n",
      "pool1 (MaxPooling2D)         (None, 64, 64, 128)       0         \n",
      "_________________________________________________________________\n",
      "conv3 (Conv2D)               (None, 64, 64, 256)       819456    \n",
      "_________________________________________________________________\n",
      "group_normalization_2 (Group (None, 64, 64, 256)       512       \n",
      "_________________________________________________________________\n",
      "dropout_2 (Dropout)          (None, 64, 64, 256)       0         \n",
      "_________________________________________________________________\n",
      "re_lu_2 (ReLU)               (None, 64, 64, 256)       0         \n",
      "_________________________________________________________________\n",
      "pool2 (MaxPooling2D)         (None, 32, 32, 256)       0         \n",
      "_________________________________________________________________\n",
      "conv4 (Conv2D)               (None, 32, 32, 256)       1638656   \n",
      "_________________________________________________________________\n",
      "group_normalization_3 (Group (None, 32, 32, 256)       512       \n",
      "_________________________________________________________________\n",
      "dropout_3 (Dropout)          (None, 32, 32, 256)       0         \n",
      "_________________________________________________________________\n",
      "re_lu_3 (ReLU)               (None, 32, 32, 256)       0         \n",
      "_________________________________________________________________\n",
      "conv5 (Conv2D)               (None, 32, 32, 512)       1180160   \n",
      "_________________________________________________________________\n",
      "group_normalization_4 (Group (None, 32, 32, 512)       1024      \n",
      "_________________________________________________________________\n",
      "dropout_4 (Dropout)          (None, 32, 32, 512)       0         \n",
      "_________________________________________________________________\n",
      "re_lu_4 (ReLU)               (None, 32, 32, 512)       0         \n",
      "_________________________________________________________________\n",
      "conv6 (Conv2D)               (None, 32, 32, 512)       2359808   \n",
      "_________________________________________________________________\n",
      "group_normalization_5 (Group (None, 32, 32, 512)       1024      \n",
      "_________________________________________________________________\n",
      "dropout_5 (Dropout)          (None, 32, 32, 512)       0         \n",
      "_________________________________________________________________\n",
      "re_lu_5 (ReLU)               (None, 32, 32, 512)       0         \n",
      "_________________________________________________________________\n",
      "pool3 (MaxPooling2D)         (None, 16, 16, 512)       0         \n",
      "_________________________________________________________________\n",
      "conv7 (Conv2D)               (None, 16, 16, 1024)      4719616   \n",
      "_________________________________________________________________\n",
      "group_normalization_6 (Group (None, 16, 16, 1024)      2048      \n",
      "_________________________________________________________________\n",
      "dropout_6 (Dropout)          (None, 16, 16, 1024)      0         \n",
      "_________________________________________________________________\n",
      "re_lu_6 (ReLU)               (None, 16, 16, 1024)      0         \n",
      "_________________________________________________________________\n",
      "pool4 (MaxPooling2D)         (None, 8, 8, 1024)        0         \n",
      "_________________________________________________________________\n",
      "conv8 (Conv2D)               (None, 8, 8, 1024)        9438208   \n",
      "_________________________________________________________________\n",
      "group_normalization_7 (Group (None, 8, 8, 1024)        2048      \n",
      "_________________________________________________________________\n",
      "dropout_7 (Dropout)          (None, 8, 8, 1024)        0         \n",
      "_________________________________________________________________\n",
      "re_lu_7 (ReLU)               (None, 8, 8, 1024)        0         \n",
      "_________________________________________________________________\n",
      "pool5 (MaxPooling2D)         (None, 4, 4, 1024)        0         \n",
      "_________________________________________________________________\n",
      "conv9 (Conv2D)               (None, 4, 4, 2048)        2099200   \n",
      "_________________________________________________________________\n",
      "group_normalization_8 (Group (None, 4, 4, 2048)        4096      \n",
      "_________________________________________________________________\n",
      "dropout_8 (Dropout)          (None, 4, 4, 2048)        0         \n",
      "_________________________________________________________________\n",
      "re_lu_8 (ReLU)               (None, 4, 4, 2048)        0         \n",
      "_________________________________________________________________\n",
      "pool6 (MaxPooling2D)         (None, 2, 2, 2048)        0         \n",
      "_________________________________________________________________\n",
      "conv10 (Conv2D)              (None, 2, 2, 2048)        4196352   \n",
      "_________________________________________________________________\n",
      "group_normalization_9 (Group (None, 2, 2, 2048)        4096      \n",
      "_________________________________________________________________\n",
      "dropout_9 (Dropout)          (None, 2, 2, 2048)        0         \n",
      "_________________________________________________________________\n",
      "re_lu_9 (ReLU)               (None, 2, 2, 2048)        0         \n",
      "_________________________________________________________________\n",
      "global_average_pooling2d (Gl (None, 2048)              0         \n",
      "_________________________________________________________________\n",
      "flatten (Flatten)            (None, 2048)              0         \n",
      "_________________________________________________________________\n",
      "readout (Dense)              (None, 565)               1157685   \n",
      "=================================================================\n",
      "Total params: 28,446,901\n",
      "Trainable params: 28,446,901\n",
      "Non-trainable params: 0\n",
      "_________________________________________________________________\n"
     ]
    }
   ],
   "source": [
    "model = ecoset.make_vNet()\n",
    "model.summary()"
   ]
  },
  {
   "cell_type": "code",
   "execution_count": 3,
   "metadata": {},
   "outputs": [
    {
     "data": {
      "text/plain": [
       "{'variables/readout/biases/Adam_1': tf.float32,\n",
       " 'variables/b_layer_l9/group_norm_t0/GroupNorm/gamma/Adam': tf.float32,\n",
       " 'variables/b_layer_l9/group_norm_t0/GroupNorm/gamma': tf.float32,\n",
       " 'variables/b_layer_l9/group_norm_t0/GroupNorm/beta/Adam_1': tf.float32,\n",
       " 'variables/b_layer_l9/group_norm_t0/GroupNorm/beta': tf.float32,\n",
       " 'variables/b_layer_l9/b_weights/Adam_1': tf.float32,\n",
       " 'variables/b_layer_l9/b_weights/Adam': tf.float32,\n",
       " 'variables/b_layer_l8/group_norm_t0/GroupNorm/gamma': tf.float32,\n",
       " 'variables/b_layer_l8/group_norm_t0/GroupNorm/beta/Adam_1': tf.float32,\n",
       " 'variables/b_layer_l8/group_norm_t0/GroupNorm/beta/Adam': tf.float32,\n",
       " 'variables/b_layer_l8/group_norm_t0/GroupNorm/beta': tf.float32,\n",
       " 'variables/b_layer_l4/group_norm_t0/GroupNorm/beta': tf.float32,\n",
       " 'variables/b_layer_l8/group_norm_t0/GroupNorm/gamma/Adam_1': tf.float32,\n",
       " 'variables/b_layer_l4/group_norm_t0/GroupNorm/gamma/Adam': tf.float32,\n",
       " 'variables/b_layer_l1/group_norm_t0/GroupNorm/beta/Adam_1': tf.float32,\n",
       " 'variables/b_layer_l2/group_norm_t0/GroupNorm/beta': tf.float32,\n",
       " 'variables/b_layer_l2/group_norm_t0/GroupNorm/gamma/Adam': tf.float32,\n",
       " 'variables/b_layer_l2/b_weights/Adam': tf.float32,\n",
       " 'variables/b_layer_l0/group_norm_t0/GroupNorm/beta/Adam_1': tf.float32,\n",
       " 'variables/b_layer_l3/b_weights/Adam_1': tf.float32,\n",
       " 'variables/b_layer_l6/group_norm_t0/GroupNorm/gamma/Adam': tf.float32,\n",
       " 'variables/b_layer_l1/group_norm_t0/GroupNorm/gamma': tf.float32,\n",
       " 'variables/b_layer_l3/b_weights/Adam': tf.float32,\n",
       " 'variables/b_layer_l1/group_norm_t0/GroupNorm/beta/Adam': tf.float32,\n",
       " 'variables/b_layer_l0/b_weights': tf.float32,\n",
       " 'variables/readout/biases/Adam': tf.float32,\n",
       " 'variables/b_layer_l1/group_norm_t0/GroupNorm/gamma/Adam_1': tf.float32,\n",
       " 'variables/b_layer_l4/group_norm_t0/GroupNorm/gamma/Adam_1': tf.float32,\n",
       " 'variables/b_layer_l2/b_weights/Adam_1': tf.float32,\n",
       " 'variables/readout/b_weights': tf.float32,\n",
       " 'beta1_power': tf.float32,\n",
       " 'variables/b_layer_l8/group_norm_t0/GroupNorm/gamma/Adam': tf.float32,\n",
       " 'variables/b_layer_l1/group_norm_t0/GroupNorm/gamma/Adam': tf.float32,\n",
       " 'variables/b_layer_l1/b_weights/Adam': tf.float32,\n",
       " 'variables/b_layer_l9/b_weights': tf.float32,\n",
       " 'variables/b_layer_l4/b_weights/Adam_1': tf.float32,\n",
       " 'variables/b_layer_l0/b_weights/Adam': tf.float32,\n",
       " 'variables/b_layer_l2/b_weights': tf.float32,\n",
       " 'variables/b_layer_l1/group_norm_t0/GroupNorm/beta': tf.float32,\n",
       " 'variables/b_layer_l6/b_weights/Adam_1': tf.float32,\n",
       " 'variables/b_layer_l0/b_weights/Adam_1': tf.float32,\n",
       " 'variables/b_layer_l0/group_norm_t0/GroupNorm/gamma/Adam_1': tf.float32,\n",
       " 'variables/b_layer_l2/group_norm_t0/GroupNorm/gamma/Adam_1': tf.float32,\n",
       " 'variables/b_layer_l7/b_weights/Adam_1': tf.float32,\n",
       " 'variables/b_layer_l7/group_norm_t0/GroupNorm/beta/Adam': tf.float32,\n",
       " 'variables/b_layer_l3/b_weights': tf.float32,\n",
       " 'global_step': tf.int32,\n",
       " 'variables/b_layer_l0/group_norm_t0/GroupNorm/gamma': tf.float32,\n",
       " 'variables/b_layer_l9/group_norm_t0/GroupNorm/beta/Adam': tf.float32,\n",
       " 'variables/b_layer_l0/group_norm_t0/GroupNorm/beta': tf.float32,\n",
       " 'variables/b_layer_l1/b_weights': tf.float32,\n",
       " 'variables/b_layer_l0/group_norm_t0/GroupNorm/beta/Adam': tf.float32,\n",
       " 'variables/b_layer_l3/group_norm_t0/GroupNorm/beta/Adam': tf.float32,\n",
       " 'variables/b_layer_l3/group_norm_t0/GroupNorm/gamma/Adam': tf.float32,\n",
       " 'beta2_power': tf.float32,\n",
       " 'variables/b_layer_l5/group_norm_t0/GroupNorm/gamma/Adam_1': tf.float32,\n",
       " 'variables/b_layer_l3/group_norm_t0/GroupNorm/gamma': tf.float32,\n",
       " 'variables/b_layer_l3/group_norm_t0/GroupNorm/gamma/Adam_1': tf.float32,\n",
       " 'variables/b_layer_l9/group_norm_t0/GroupNorm/gamma/Adam_1': tf.float32,\n",
       " 'variables/b_layer_l5/b_weights/Adam': tf.float32,\n",
       " 'variables/b_layer_l6/group_norm_t0/GroupNorm/beta/Adam': tf.float32,\n",
       " 'variables/b_layer_l2/group_norm_t0/GroupNorm/beta/Adam_1': tf.float32,\n",
       " 'variables/b_layer_l4/b_weights/Adam': tf.float32,\n",
       " 'variables/b_layer_l4/group_norm_t0/GroupNorm/beta/Adam': tf.float32,\n",
       " 'variables/b_layer_l6/b_weights/Adam': tf.float32,\n",
       " 'variables/b_layer_l2/group_norm_t0/GroupNorm/beta/Adam': tf.float32,\n",
       " 'variables/b_layer_l5/group_norm_t0/GroupNorm/beta/Adam_1': tf.float32,\n",
       " 'variables/readout/b_weights/Adam_1': tf.float32,\n",
       " 'variables/b_layer_l4/group_norm_t0/GroupNorm/gamma': tf.float32,\n",
       " 'variables/b_layer_l5/b_weights': tf.float32,\n",
       " 'variables/b_layer_l8/b_weights': tf.float32,\n",
       " 'variables/readout/b_weights/Adam': tf.float32,\n",
       " 'variables/b_layer_l1/b_weights/Adam_1': tf.float32,\n",
       " 'variables/b_layer_l5/b_weights/Adam_1': tf.float32,\n",
       " 'variables/b_layer_l7/b_weights': tf.float32,\n",
       " 'variables/b_layer_l3/group_norm_t0/GroupNorm/beta/Adam_1': tf.float32,\n",
       " 'variables/b_layer_l5/group_norm_t0/GroupNorm/beta': tf.float32,\n",
       " 'variables/b_layer_l5/group_norm_t0/GroupNorm/beta/Adam': tf.float32,\n",
       " 'variables/b_layer_l5/group_norm_t0/GroupNorm/gamma': tf.float32,\n",
       " 'variables/b_layer_l5/group_norm_t0/GroupNorm/gamma/Adam': tf.float32,\n",
       " 'variables/b_layer_l7/b_weights/Adam': tf.float32,\n",
       " 'variables/b_layer_l6/b_weights': tf.float32,\n",
       " 'variables/b_layer_l3/group_norm_t0/GroupNorm/beta': tf.float32,\n",
       " 'variables/b_layer_l7/group_norm_t0/GroupNorm/beta/Adam_1': tf.float32,\n",
       " 'variables/b_layer_l6/group_norm_t0/GroupNorm/beta': tf.float32,\n",
       " 'variables/b_layer_l6/group_norm_t0/GroupNorm/beta/Adam_1': tf.float32,\n",
       " 'variables/b_layer_l0/group_norm_t0/GroupNorm/gamma/Adam': tf.float32,\n",
       " 'variables/b_layer_l6/group_norm_t0/GroupNorm/gamma': tf.float32,\n",
       " 'variables/b_layer_l6/group_norm_t0/GroupNorm/gamma/Adam_1': tf.float32,\n",
       " 'variables/b_layer_l8/b_weights/Adam': tf.float32,\n",
       " 'variables/b_layer_l4/b_weights': tf.float32,\n",
       " 'variables/b_layer_l7/group_norm_t0/GroupNorm/beta': tf.float32,\n",
       " 'variables/readout/biases': tf.float32,\n",
       " 'variables/b_layer_l7/group_norm_t0/GroupNorm/gamma': tf.float32,\n",
       " 'variables/b_layer_l2/group_norm_t0/GroupNorm/gamma': tf.float32,\n",
       " 'variables/b_layer_l7/group_norm_t0/GroupNorm/gamma/Adam': tf.float32,\n",
       " 'variables/b_layer_l7/group_norm_t0/GroupNorm/gamma/Adam_1': tf.float32,\n",
       " 'variables/b_layer_l4/group_norm_t0/GroupNorm/beta/Adam_1': tf.float32,\n",
       " 'variables/b_layer_l8/b_weights/Adam_1': tf.float32}"
      ]
     },
     "execution_count": 3,
     "metadata": {},
     "output_type": "execute_result"
    }
   ],
   "source": [
    "reader = tf.train.load_checkpoint('./models/vNET/ecoset_training_seeds_01_to_10/training_seed_01/model.ckpt_epoch79')\n",
    "dtypes = reader.get_variable_to_dtype_map()\n",
    "dtypes"
   ]
  },
  {
   "cell_type": "code",
   "execution_count": 5,
   "metadata": {},
   "outputs": [
    {
     "data": {
      "text/plain": [
       "(565,)"
      ]
     },
     "execution_count": 5,
     "metadata": {},
     "output_type": "execute_result"
    }
   ],
   "source": [
    "reader.get_tensor('variables/readout/biases').shape"
   ]
  }
 ],
 "metadata": {
  "kernelspec": {
   "display_name": "research",
   "language": "python",
   "name": "research"
  },
  "language_info": {
   "codemirror_mode": {
    "name": "ipython",
    "version": 3
   },
   "file_extension": ".py",
   "mimetype": "text/x-python",
   "name": "python",
   "nbconvert_exporter": "python",
   "pygments_lexer": "ipython3",
   "version": "3.8.10"
  },
  "orig_nbformat": 4
 },
 "nbformat": 4,
 "nbformat_minor": 2
}
