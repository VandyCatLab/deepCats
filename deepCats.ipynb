{
 "cells": [
  {
   "cell_type": "code",
   "execution_count": 1,
   "metadata": {
    "notebookRunGroups": {
     "groupValue": "12"
    }
   },
   "outputs": [
    {
     "name": "stderr",
     "output_type": "stream",
     "text": [
      "2022-08-11 15:20:42.953031: I tensorflow/stream_executor/platform/default/dso_loader.cc:53] Successfully opened dynamic library libcudart.so.11.0\n"
     ]
    }
   ],
   "source": [
    "import tensorflow as tf\n",
    "from tensorflow.keras import layers\n",
    "import numpy as np\n",
    "import tensorflow_addons as tfa\n",
    "import os\n",
    "from PIL import Image\n",
    "import pandas as pd\n",
    "from sklearn.manifold import MDS\n",
    "import matplotlib.pyplot as plt\n",
    "\n",
    "import ecoset\n",
    "import categorization as cat\n",
    "import utils"
   ]
  },
  {
   "cell_type": "markdown",
   "metadata": {},
   "source": [
    "# Setup Ecoset models"
   ]
  },
  {
   "cell_type": "code",
   "execution_count": 2,
   "metadata": {
    "notebookRunGroups": {
     "groupValue": "1"
    }
   },
   "outputs": [
    {
     "name": "stderr",
     "output_type": "stream",
     "text": [
      "2022-08-11 15:20:44.348364: I tensorflow/stream_executor/platform/default/dso_loader.cc:53] Successfully opened dynamic library libcuda.so.1\n",
      "2022-08-11 15:20:44.382566: I tensorflow/stream_executor/cuda/cuda_gpu_executor.cc:937] successful NUMA node read from SysFS had negative value (-1), but there must be at least one NUMA node, so returning NUMA node zero\n",
      "2022-08-11 15:20:44.382843: I tensorflow/core/common_runtime/gpu/gpu_device.cc:1733] Found device 0 with properties: \n",
      "pciBusID: 0000:01:00.0 name: NVIDIA GeForce GTX 970 computeCapability: 5.2\n",
      "coreClock: 1.253GHz coreCount: 13 deviceMemorySize: 3.94GiB deviceMemoryBandwidth: 208.91GiB/s\n",
      "2022-08-11 15:20:44.382867: I tensorflow/stream_executor/platform/default/dso_loader.cc:53] Successfully opened dynamic library libcudart.so.11.0\n",
      "2022-08-11 15:20:44.385861: I tensorflow/stream_executor/platform/default/dso_loader.cc:53] Successfully opened dynamic library libcublas.so.11\n",
      "2022-08-11 15:20:44.385909: I tensorflow/stream_executor/platform/default/dso_loader.cc:53] Successfully opened dynamic library libcublasLt.so.11\n",
      "2022-08-11 15:20:44.387419: I tensorflow/stream_executor/platform/default/dso_loader.cc:53] Successfully opened dynamic library libcufft.so.10\n",
      "2022-08-11 15:20:44.387648: I tensorflow/stream_executor/platform/default/dso_loader.cc:53] Successfully opened dynamic library libcurand.so.10\n",
      "2022-08-11 15:20:44.388104: I tensorflow/stream_executor/platform/default/dso_loader.cc:53] Successfully opened dynamic library libcusolver.so.11\n",
      "2022-08-11 15:20:44.388758: I tensorflow/stream_executor/platform/default/dso_loader.cc:53] Successfully opened dynamic library libcusparse.so.11\n",
      "2022-08-11 15:20:44.388875: I tensorflow/stream_executor/platform/default/dso_loader.cc:53] Successfully opened dynamic library libcudnn.so.8\n",
      "2022-08-11 15:20:44.388972: I tensorflow/stream_executor/cuda/cuda_gpu_executor.cc:937] successful NUMA node read from SysFS had negative value (-1), but there must be at least one NUMA node, so returning NUMA node zero\n",
      "2022-08-11 15:20:44.389313: I tensorflow/stream_executor/cuda/cuda_gpu_executor.cc:937] successful NUMA node read from SysFS had negative value (-1), but there must be at least one NUMA node, so returning NUMA node zero\n",
      "2022-08-11 15:20:44.389567: I tensorflow/core/common_runtime/gpu/gpu_device.cc:1871] Adding visible gpu devices: 0\n",
      "2022-08-11 15:20:44.389909: I tensorflow/core/platform/cpu_feature_guard.cc:142] This TensorFlow binary is optimized with oneAPI Deep Neural Network Library (oneDNN) to use the following CPU instructions in performance-critical operations:  AVX2 FMA\n",
      "To enable them in other operations, rebuild TensorFlow with the appropriate compiler flags.\n",
      "2022-08-11 15:20:44.390117: I tensorflow/stream_executor/cuda/cuda_gpu_executor.cc:937] successful NUMA node read from SysFS had negative value (-1), but there must be at least one NUMA node, so returning NUMA node zero\n",
      "2022-08-11 15:20:44.390372: I tensorflow/core/common_runtime/gpu/gpu_device.cc:1733] Found device 0 with properties: \n",
      "pciBusID: 0000:01:00.0 name: NVIDIA GeForce GTX 970 computeCapability: 5.2\n",
      "coreClock: 1.253GHz coreCount: 13 deviceMemorySize: 3.94GiB deviceMemoryBandwidth: 208.91GiB/s\n",
      "2022-08-11 15:20:44.390439: I tensorflow/stream_executor/cuda/cuda_gpu_executor.cc:937] successful NUMA node read from SysFS had negative value (-1), but there must be at least one NUMA node, so returning NUMA node zero\n",
      "2022-08-11 15:20:44.390722: I tensorflow/stream_executor/cuda/cuda_gpu_executor.cc:937] successful NUMA node read from SysFS had negative value (-1), but there must be at least one NUMA node, so returning NUMA node zero\n",
      "2022-08-11 15:20:44.390955: I tensorflow/core/common_runtime/gpu/gpu_device.cc:1871] Adding visible gpu devices: 0\n",
      "2022-08-11 15:20:44.390982: I tensorflow/stream_executor/platform/default/dso_loader.cc:53] Successfully opened dynamic library libcudart.so.11.0\n",
      "2022-08-11 15:20:44.769858: I tensorflow/core/common_runtime/gpu/gpu_device.cc:1258] Device interconnect StreamExecutor with strength 1 edge matrix:\n",
      "2022-08-11 15:20:44.769884: I tensorflow/core/common_runtime/gpu/gpu_device.cc:1264]      0 \n",
      "2022-08-11 15:20:44.769890: I tensorflow/core/common_runtime/gpu/gpu_device.cc:1277] 0:   N \n",
      "2022-08-11 15:20:44.770064: I tensorflow/stream_executor/cuda/cuda_gpu_executor.cc:937] successful NUMA node read from SysFS had negative value (-1), but there must be at least one NUMA node, so returning NUMA node zero\n",
      "2022-08-11 15:20:44.770365: I tensorflow/stream_executor/cuda/cuda_gpu_executor.cc:937] successful NUMA node read from SysFS had negative value (-1), but there must be at least one NUMA node, so returning NUMA node zero\n",
      "2022-08-11 15:20:44.770642: I tensorflow/stream_executor/cuda/cuda_gpu_executor.cc:937] successful NUMA node read from SysFS had negative value (-1), but there must be at least one NUMA node, so returning NUMA node zero\n",
      "2022-08-11 15:20:44.770890: I tensorflow/core/common_runtime/gpu/gpu_device.cc:1418] Created TensorFlow device (/job:localhost/replica:0/task:0/device:GPU:0 with 3300 MB memory) -> physical GPU (device: 0, name: NVIDIA GeForce GTX 970, pci bus id: 0000:01:00.0, compute capability: 5.2)\n"
     ]
    },
    {
     "name": "stdout",
     "output_type": "stream",
     "text": [
      "Weights from ./models/AlexNet/ecoset_training_seeds_01_to_10/training_seed_01/model.ckpt_epoch89 loaded successfully.\n",
      "Weights from ./models/AlexNet/ILSVRC_training_seeds_01_to_10/training_seed_01/model.ckpt_epoch89 loaded successfully.\n",
      "Model: \"model\"\n",
      "_________________________________________________________________\n",
      "Layer (type)                 Output Shape              Param #   \n",
      "=================================================================\n",
      "input_1 (InputLayer)         [(None, 224, 224, 3)]     0         \n",
      "_________________________________________________________________\n",
      "conv1 (Conv2D)               (None, 54, 54, 64)        23296     \n",
      "_________________________________________________________________\n",
      "pool1 (MaxPooling2D)         (None, 26, 26, 64)        0         \n",
      "_________________________________________________________________\n",
      "conv2 (Conv2D)               (None, 26, 26, 192)       307392    \n",
      "_________________________________________________________________\n",
      "pool2 (MaxPooling2D)         (None, 12, 12, 192)       0         \n",
      "_________________________________________________________________\n",
      "conv3 (Conv2D)               (None, 12, 12, 384)       663936    \n",
      "_________________________________________________________________\n",
      "conv4 (Conv2D)               (None, 12, 12, 384)       1327488   \n",
      "_________________________________________________________________\n",
      "conv5 (Conv2D)               (None, 12, 12, 256)       884992    \n",
      "_________________________________________________________________\n",
      "pool5 (MaxPooling2D)         (None, 5, 5, 256)         0         \n",
      "_________________________________________________________________\n",
      "fc6 (Conv2D)                 (None, 5, 5, 4096)        26218496  \n",
      "_________________________________________________________________\n",
      "dropout (Dropout)            (None, 5, 5, 4096)        0         \n",
      "_________________________________________________________________\n",
      "fc7 (Conv2D)                 (None, 5, 5, 4096)        16781312  \n",
      "_________________________________________________________________\n",
      "dropout_1 (Dropout)          (None, 5, 5, 4096)        0         \n",
      "_________________________________________________________________\n",
      "fc8 (Conv2D)                 (None, 5, 5, 565)         2314805   \n",
      "_________________________________________________________________\n",
      "global_average_pooling2d (Gl (None, 565)               0         \n",
      "_________________________________________________________________\n",
      "flatten (Flatten)            (None, 565)               0         \n",
      "=================================================================\n",
      "Total params: 48,521,717\n",
      "Trainable params: 48,521,717\n",
      "Non-trainable params: 0\n",
      "_________________________________________________________________\n"
     ]
    }
   ],
   "source": [
    "# Load model\n",
    "ecosetModel = ecoset.make_alex_net_v2(\n",
    "    weights_path='./models/AlexNet/ecoset_training_seeds_01_to_10/training_seed_01/model.ckpt_epoch89',\n",
    ")\n",
    "imagenetModel = ecoset.make_alex_net_v2(\n",
    "    output_shape=1000, \n",
    "    weights_path='./models/AlexNet/ILSVRC_training_seeds_01_to_10/training_seed_01/model.ckpt_epoch89',\n",
    ")\n",
    "ecosetModel.summary()"
   ]
  },
  {
   "cell_type": "code",
   "execution_count": 3,
   "metadata": {
    "notebookRunGroups": {
     "groupValue": "1"
    }
   },
   "outputs": [],
   "source": [
    "ecosetModel = utils.make_output_model(ecosetModel)\n",
    "imagenetModel = utils.make_output_model(imagenetModel)"
   ]
  },
  {
   "cell_type": "code",
   "execution_count": 4,
   "metadata": {
    "notebookRunGroups": {
     "groupValue": "2"
    }
   },
   "outputs": [],
   "source": [
    "# model = ecoset.make_vNet(\n",
    "#     weights_path='./models/vNET/ecoset_training_seeds_01_to_10/training_seed_01/model.ckpt_epoch79',\n",
    "#     softmax=True,)\n",
    "# model = Imagenet.make_vNet(\n",
    "#     output_shape=1000, \n",
    "#     weights_path='./models/vNET/ILSVRC_training_seeds_01_to_10/training_seed_01/model.ckpt_epoch79',\n",
    "#     softmax=True,\n",
    "# )\n",
    "# model.summary()"
   ]
  },
  {
   "cell_type": "markdown",
   "metadata": {},
   "source": [
    "# Setup Categorization Stimuli"
   ]
  },
  {
   "cell_type": "code",
   "execution_count": 4,
   "metadata": {
    "notebookRunGroups": {
     "groupValue": "1"
    }
   },
   "outputs": [],
   "source": [
    "trainCats, trainCounts = cat.build_categories_from_ecoset(\n",
    "    './images/train', \n",
    "    includeSub=False,\n",
    "    maxImgs=100\n",
    "    )\n",
    "testCats, testCounts = cat.build_categories_from_ecoset(\n",
    "    './images/val+test',\n",
    "    includeSub=False,\n",
    "    maxImgs=100\n",
    ")\n",
    "\n",
    "trainImages = cat.get_images_from_cat(trainCats, preprocFun=ecoset.preprocess_alexnet)\n",
    "testImages = cat.get_images_from_cat(testCats, preprocFun=ecoset.preprocess_alexnet)"
   ]
  },
  {
   "cell_type": "code",
   "execution_count": 5,
   "metadata": {
    "notebookRunGroups": {
     "groupValue": "1"
    }
   },
   "outputs": [
    {
     "name": "stderr",
     "output_type": "stream",
     "text": [
      "2022-08-11 15:20:49.700587: I tensorflow/compiler/mlir/mlir_graph_optimization_pass.cc:176] None of the MLIR Optimization Passes are enabled (registered 2)\n",
      "2022-08-11 15:20:49.717551: I tensorflow/core/platform/profile_utils/cpu_utils.cc:114] CPU Frequency: 3499995000 Hz\n",
      "2022-08-11 15:20:49.835089: I tensorflow/stream_executor/platform/default/dso_loader.cc:53] Successfully opened dynamic library libcudnn.so.8\n",
      "2022-08-11 15:20:50.107456: I tensorflow/stream_executor/cuda/cuda_dnn.cc:359] Loaded cuDNN version 8202\n",
      "2022-08-11 15:20:50.338142: E tensorflow/core/platform/default/subprocess.cc:304] Start cannot spawn child process: No such file or directory\n",
      "2022-08-11 15:20:50.338167: W tensorflow/stream_executor/gpu/asm_compiler.cc:56] Couldn't invoke ptxas --version\n",
      "2022-08-11 15:20:50.338456: E tensorflow/core/platform/default/subprocess.cc:304] Start cannot spawn child process: No such file or directory\n",
      "2022-08-11 15:20:50.338503: W tensorflow/stream_executor/gpu/redzone_allocator.cc:314] Internal: Failed to launch ptxas\n",
      "Relying on driver to perform ptx compilation. \n",
      "Modify $PATH to customize ptxas location.\n",
      "This message will be only logged once.\n",
      "2022-08-11 15:20:50.450515: I tensorflow/stream_executor/platform/default/dso_loader.cc:53] Successfully opened dynamic library libcublas.so.11\n",
      "2022-08-11 15:20:50.700888: I tensorflow/stream_executor/platform/default/dso_loader.cc:53] Successfully opened dynamic library libcublasLt.so.11\n",
      "2022-08-11 15:20:51.586553: W tensorflow/core/common_runtime/bfc_allocator.cc:271] Allocator (GPU_0_bfc) ran out of memory trying to allocate 2.38GiB with freed_by_count=0. The caller indicates that this is not a failure, but may mean that there could be performance gains if more memory were available.\n",
      "2022-08-11 15:20:51.666057: W tensorflow/core/common_runtime/bfc_allocator.cc:271] Allocator (GPU_0_bfc) ran out of memory trying to allocate 2.31GiB with freed_by_count=0. The caller indicates that this is not a failure, but may mean that there could be performance gains if more memory were available.\n",
      "2022-08-11 15:20:52.017993: W tensorflow/core/common_runtime/bfc_allocator.cc:271] Allocator (GPU_0_bfc) ran out of memory trying to allocate 2.37GiB with freed_by_count=0. The caller indicates that this is not a failure, but may mean that there could be performance gains if more memory were available.\n"
     ]
    }
   ],
   "source": [
    "birdTrainReps = ecosetModel.predict(trainImages['animal']['0085_bird'])[-1]\n",
    "dogTrainReps = ecosetModel.predict(trainImages['animal']['0039_dog'])[-1]\n",
    "carTrainReps = ecosetModel.predict(trainImages['vehicle']['0009_car'])[-1]\n",
    "busTrainReps = ecosetModel.predict(trainImages['vehicle']['0089_bus'])[-1]\n",
    "\n",
    "animalTrainReps = np.concatenate((birdTrainReps, dogTrainReps))\n",
    "vehicleTrainReps = np.concatenate((carTrainReps, busTrainReps))\n",
    "\n",
    "birdTestReps = ecosetModel.predict(testImages['animal']['0085_bird'])[-1]\n",
    "dogTestReps = ecosetModel.predict(testImages['animal']['0039_dog'])[-1]\n",
    "carTestReps = ecosetModel.predict(testImages['vehicle']['0009_car'])[-1]\n",
    "busTestReps = ecosetModel.predict(testImages['vehicle']['0089_bus'])[-1]\n",
    "\n",
    "animalTestReps = np.concatenate((birdTestReps, dogTestReps))\n",
    "vehicleTestReps = np.concatenate((carTestReps, busTestReps))"
   ]
  },
  {
   "cell_type": "code",
   "execution_count": 6,
   "metadata": {
    "notebookRunGroups": {
     "groupValue": "1"
    }
   },
   "outputs": [
    {
     "data": {
      "text/plain": [
       "<matplotlib.collections.PathCollection at 0x7f3d04acdd90>"
      ]
     },
     "execution_count": 6,
     "metadata": {},
     "output_type": "execute_result"
    },
    {
     "data": {
      "image/png": "[encoded data removed]",
      "image/svg+xml": "<?xml version=\"1.0\" encoding=\"utf-8\" standalone=\"no\"?>\n<!DOCTYPE svg PUBLIC \"-//W3C//DTD SVG 1.1//EN\"\n  \"http://www.w3.org/Graphics/SVG/1.1/DTD/svg11.dtd\">\n<!-- Created with matplotlib (https://matplotlib.org/) -->\n<svg height=\"248.518125pt\" version=\"1.1\" viewBox=\"0 0 377.304687 248.518125\" width=\"377.304687pt\" xmlns=\"http://www.w3.org/2000/svg\" xmlns:xlink=\"http://www.w3.org/1999/xlink\">\n <metadata>\n  <rdf:RDF xmlns:cc=\"http://creativecommons.org/ns#\" xmlns:dc=\"http://purl.org/dc/elements/1.1/\" xmlns:rdf=\"http://www.w3.org/1999/02/22-rdf-syntax-ns#\">\n   <cc:Work>\n    <dc:type rdf:resource=\"http://purl.org/dc/dcmitype/StillImage\"/>\n    <dc:date>2022-08-11T15:20:57.085080</dc:date>\n    <dc:format>image/svg+xml</dc:format>\n    <dc:creator>\n     <cc:Agent>\n      <dc:title>Matplotlib v3.3.2, https://matplotlib.org/</dc:title>\n     </cc:Agent>\n    </dc:creator>\n   </cc:Work>\n  </rdf:RDF>\n </metadata>\n <defs>\n  <style type=\"text/css\">*{stroke-linecap:butt;stroke-linejoin:round;}</style>\n </defs>\n <g id=\"figure_1\">\n  <g id=\"patch_1\">\n   <path d=\"M 0 248.518125 \nL 377.304687 248.518125 \nL 377.304687 0 \nL 0 0 \nz\n\" style=\"fill:none;\"/>\n  </g>\n  <g id=\"axes_1\">\n   <g id=\"patch_2\">\n    <path d=\"M 35.304688 224.64 \nL 370.104688 224.64 \nL 370.104688 7.2 \nL 35.304688 7.2 \nz\n\" style=\"fill:#ffffff;\"/>\n   </g>\n   <g id=\"PathCollection_1\">\n    <defs>\n     <path d=\"M 0 3 \nC 0.795609 3 1.55874 2.683901 2.12132 2.12132 \nC 2.683901 1.55874 3 0.795609 3 0 \nC 3 -0.795609 2.683901 -1.55874 2.12132 -2.12132 \nC 1.55874 -2.683901 0.795609 -3 0 -3 \nC -0.795609 -3 -1.55874 -2.683901 -2.12132 -2.12132 \nC -2.683901 -1.55874 -3 -0.795609 -3 0 \nC -3 0.795609 -2.683901 1.55874 -2.12132 2.12132 \nC -1.55874 2.683901 -0.795609 3 0 3 \nz\n\" id=\"mdcf772e4a9\" style=\"stroke:#0000ff;\"/>\n    </defs>\n    <g clip-path=\"url(#pf9f2e3f2a3)\">\n     <use style=\"fill:#0000ff;stroke:#0000ff;\" x=\"101.404794\" xlink:href=\"#mdcf772e4a9\" y=\"164.186709\"/>\n     <use style=\"fill:#0000ff;stroke:#0000ff;\" x=\"114.092768\" xlink:href=\"#mdcf772e4a9\" y=\"143.593588\"/>\n     <use style=\"fill:#0000ff;stroke:#0000ff;\" x=\"169.330997\" xlink:href=\"#mdcf772e4a9\" y=\"141.73881\"/>\n     <use style=\"fill:#0000ff;stroke:#0000ff;\" x=\"156.32877\" xlink:href=\"#mdcf772e4a9\" y=\"101.681354\"/>\n     <use style=\"fill:#0000ff;stroke:#0000ff;\" x=\"127.891228\" xlink:href=\"#mdcf772e4a9\" y=\"164.07742\"/>\n     <use style=\"fill:#0000ff;stroke:#0000ff;\" x=\"113.593318\" xlink:href=\"#mdcf772e4a9\" y=\"135.960606\"/>\n     <use style=\"fill:#0000ff;stroke:#0000ff;\" x=\"186.529116\" xlink:href=\"#mdcf772e4a9\" y=\"156.709483\"/>\n     <use style=\"fill:#0000ff;stroke:#0000ff;\" x=\"117.706233\" xlink:href=\"#mdcf772e4a9\" y=\"112.231352\"/>\n     <use style=\"fill:#0000ff;stroke:#0000ff;\" x=\"133.039975\" xlink:href=\"#mdcf772e4a9\" y=\"140.444401\"/>\n     <use style=\"fill:#0000ff;stroke:#0000ff;\" x=\"128.209542\" xlink:href=\"#mdcf772e4a9\" y=\"181.5755\"/>\n     <use style=\"fill:#0000ff;stroke:#0000ff;\" x=\"97.296406\" xlink:href=\"#mdcf772e4a9\" y=\"106.907066\"/>\n     <use style=\"fill:#0000ff;stroke:#0000ff;\" x=\"83.278928\" xlink:href=\"#mdcf772e4a9\" y=\"82.794036\"/>\n     <use style=\"fill:#0000ff;stroke:#0000ff;\" x=\"145.809257\" xlink:href=\"#mdcf772e4a9\" y=\"162.870233\"/>\n     <use style=\"fill:#0000ff;stroke:#0000ff;\" x=\"147.354703\" xlink:href=\"#mdcf772e4a9\" y=\"121.65716\"/>\n     <use style=\"fill:#0000ff;stroke:#0000ff;\" x=\"98.142816\" xlink:href=\"#mdcf772e4a9\" y=\"179.360294\"/>\n     <use style=\"fill:#0000ff;stroke:#0000ff;\" x=\"156.686002\" xlink:href=\"#mdcf772e4a9\" y=\"91.998522\"/>\n     <use style=\"fill:#0000ff;stroke:#0000ff;\" x=\"163.14953\" xlink:href=\"#mdcf772e4a9\" y=\"150.34601\"/>\n     <use style=\"fill:#0000ff;stroke:#0000ff;\" x=\"152.192081\" xlink:href=\"#mdcf772e4a9\" y=\"115.219623\"/>\n     <use style=\"fill:#0000ff;stroke:#0000ff;\" x=\"151.614661\" xlink:href=\"#mdcf772e4a9\" y=\"96.52084\"/>\n     <use style=\"fill:#0000ff;stroke:#0000ff;\" x=\"119.13621\" xlink:href=\"#mdcf772e4a9\" y=\"129.71592\"/>\n     <use style=\"fill:#0000ff;stroke:#0000ff;\" x=\"175.657465\" xlink:href=\"#mdcf772e4a9\" y=\"104.953699\"/>\n     <use style=\"fill:#0000ff;stroke:#0000ff;\" x=\"170.380047\" xlink:href=\"#mdcf772e4a9\" y=\"114.412564\"/>\n     <use style=\"fill:#0000ff;stroke:#0000ff;\" x=\"166.425012\" xlink:href=\"#mdcf772e4a9\" y=\"123.622167\"/>\n     <use style=\"fill:#0000ff;stroke:#0000ff;\" x=\"154.319177\" xlink:href=\"#mdcf772e4a9\" y=\"143.835041\"/>\n     <use style=\"fill:#0000ff;stroke:#0000ff;\" x=\"111.308553\" xlink:href=\"#mdcf772e4a9\" y=\"119.850091\"/>\n     <use style=\"fill:#0000ff;stroke:#0000ff;\" x=\"82.145299\" xlink:href=\"#mdcf772e4a9\" y=\"105.964859\"/>\n     <use style=\"fill:#0000ff;stroke:#0000ff;\" x=\"177.549143\" xlink:href=\"#mdcf772e4a9\" y=\"124.719262\"/>\n     <use style=\"fill:#0000ff;stroke:#0000ff;\" x=\"96.498734\" xlink:href=\"#mdcf772e4a9\" y=\"94.110749\"/>\n     <use style=\"fill:#0000ff;stroke:#0000ff;\" x=\"158.915582\" xlink:href=\"#mdcf772e4a9\" y=\"118.798058\"/>\n     <use style=\"fill:#0000ff;stroke:#0000ff;\" x=\"147.219486\" xlink:href=\"#mdcf772e4a9\" y=\"129.745741\"/>\n     <use style=\"fill:#0000ff;stroke:#0000ff;\" x=\"270.991639\" xlink:href=\"#mdcf772e4a9\" y=\"52.343771\"/>\n     <use style=\"fill:#0000ff;stroke:#0000ff;\" x=\"152.062917\" xlink:href=\"#mdcf772e4a9\" y=\"162.625253\"/>\n     <use style=\"fill:#0000ff;stroke:#0000ff;\" x=\"123.199214\" xlink:href=\"#mdcf772e4a9\" y=\"113.346794\"/>\n     <use style=\"fill:#0000ff;stroke:#0000ff;\" x=\"159.097788\" xlink:href=\"#mdcf772e4a9\" y=\"159.780654\"/>\n     <use style=\"fill:#0000ff;stroke:#0000ff;\" x=\"113.380826\" xlink:href=\"#mdcf772e4a9\" y=\"166.501494\"/>\n     <use style=\"fill:#0000ff;stroke:#0000ff;\" x=\"181.523957\" xlink:href=\"#mdcf772e4a9\" y=\"136.189688\"/>\n     <use style=\"fill:#0000ff;stroke:#0000ff;\" x=\"140.092972\" xlink:href=\"#mdcf772e4a9\" y=\"168.550589\"/>\n     <use style=\"fill:#0000ff;stroke:#0000ff;\" x=\"106.830674\" xlink:href=\"#mdcf772e4a9\" y=\"141.13354\"/>\n     <use style=\"fill:#0000ff;stroke:#0000ff;\" x=\"142.021208\" xlink:href=\"#mdcf772e4a9\" y=\"119.638835\"/>\n     <use style=\"fill:#0000ff;stroke:#0000ff;\" x=\"161.46388\" xlink:href=\"#mdcf772e4a9\" y=\"131.210394\"/>\n     <use style=\"fill:#0000ff;stroke:#0000ff;\" x=\"125.48304\" xlink:href=\"#mdcf772e4a9\" y=\"107.409898\"/>\n     <use style=\"fill:#0000ff;stroke:#0000ff;\" x=\"98.786306\" xlink:href=\"#mdcf772e4a9\" y=\"194.592278\"/>\n     <use style=\"fill:#0000ff;stroke:#0000ff;\" x=\"160.402069\" xlink:href=\"#mdcf772e4a9\" y=\"93.709578\"/>\n     <use style=\"fill:#0000ff;stroke:#0000ff;\" x=\"97.804653\" xlink:href=\"#mdcf772e4a9\" y=\"82.300247\"/>\n     <use style=\"fill:#0000ff;stroke:#0000ff;\" x=\"209.389101\" xlink:href=\"#mdcf772e4a9\" y=\"134.415425\"/>\n     <use style=\"fill:#0000ff;stroke:#0000ff;\" x=\"80.861637\" xlink:href=\"#mdcf772e4a9\" y=\"75.980278\"/>\n     <use style=\"fill:#0000ff;stroke:#0000ff;\" x=\"172.273878\" xlink:href=\"#mdcf772e4a9\" y=\"72.639584\"/>\n     <use style=\"fill:#0000ff;stroke:#0000ff;\" x=\"121.742271\" xlink:href=\"#mdcf772e4a9\" y=\"147.868447\"/>\n     <use style=\"fill:#0000ff;stroke:#0000ff;\" x=\"120.825727\" xlink:href=\"#mdcf772e4a9\" y=\"160.693023\"/>\n     <use style=\"fill:#0000ff;stroke:#0000ff;\" x=\"80.387465\" xlink:href=\"#mdcf772e4a9\" y=\"87.645217\"/>\n     <use style=\"fill:#0000ff;stroke:#0000ff;\" x=\"74.804198\" xlink:href=\"#mdcf772e4a9\" y=\"122.833337\"/>\n     <use style=\"fill:#0000ff;stroke:#0000ff;\" x=\"94.35176\" xlink:href=\"#mdcf772e4a9\" y=\"142.061438\"/>\n     <use style=\"fill:#0000ff;stroke:#0000ff;\" x=\"130.15149\" xlink:href=\"#mdcf772e4a9\" y=\"122.897321\"/>\n     <use style=\"fill:#0000ff;stroke:#0000ff;\" x=\"113.918528\" xlink:href=\"#mdcf772e4a9\" y=\"156.283902\"/>\n     <use style=\"fill:#0000ff;stroke:#0000ff;\" x=\"258.33797\" xlink:href=\"#mdcf772e4a9\" y=\"49.92182\"/>\n     <use style=\"fill:#0000ff;stroke:#0000ff;\" x=\"154.110003\" xlink:href=\"#mdcf772e4a9\" y=\"144.859462\"/>\n     <use style=\"fill:#0000ff;stroke:#0000ff;\" x=\"71.519276\" xlink:href=\"#mdcf772e4a9\" y=\"138.111689\"/>\n     <use style=\"fill:#0000ff;stroke:#0000ff;\" x=\"68.685089\" xlink:href=\"#mdcf772e4a9\" y=\"140.83096\"/>\n     <use style=\"fill:#0000ff;stroke:#0000ff;\" x=\"129.015982\" xlink:href=\"#mdcf772e4a9\" y=\"130.723542\"/>\n     <use style=\"fill:#0000ff;stroke:#0000ff;\" x=\"171.136522\" xlink:href=\"#mdcf772e4a9\" y=\"132.987375\"/>\n     <use style=\"fill:#0000ff;stroke:#0000ff;\" x=\"118.581766\" xlink:href=\"#mdcf772e4a9\" y=\"98.045531\"/>\n     <use style=\"fill:#0000ff;stroke:#0000ff;\" x=\"89.916861\" xlink:href=\"#mdcf772e4a9\" y=\"101.528292\"/>\n     <use style=\"fill:#0000ff;stroke:#0000ff;\" x=\"130.645128\" xlink:href=\"#mdcf772e4a9\" y=\"134.923957\"/>\n     <use style=\"fill:#0000ff;stroke:#0000ff;\" x=\"93.906578\" xlink:href=\"#mdcf772e4a9\" y=\"131.650545\"/>\n     <use style=\"fill:#0000ff;stroke:#0000ff;\" x=\"133.313537\" xlink:href=\"#mdcf772e4a9\" y=\"86.524114\"/>\n     <use style=\"fill:#0000ff;stroke:#0000ff;\" x=\"175.45391\" xlink:href=\"#mdcf772e4a9\" y=\"159.760327\"/>\n     <use style=\"fill:#0000ff;stroke:#0000ff;\" x=\"121.312957\" xlink:href=\"#mdcf772e4a9\" y=\"84.950604\"/>\n     <use style=\"fill:#0000ff;stroke:#0000ff;\" x=\"115.736656\" xlink:href=\"#mdcf772e4a9\" y=\"89.705489\"/>\n     <use style=\"fill:#0000ff;stroke:#0000ff;\" x=\"109.575604\" xlink:href=\"#mdcf772e4a9\" y=\"128.448506\"/>\n     <use style=\"fill:#0000ff;stroke:#0000ff;\" x=\"138.211101\" xlink:href=\"#mdcf772e4a9\" y=\"120.193287\"/>\n     <use style=\"fill:#0000ff;stroke:#0000ff;\" x=\"157.315796\" xlink:href=\"#mdcf772e4a9\" y=\"165.258485\"/>\n     <use style=\"fill:#0000ff;stroke:#0000ff;\" x=\"136.53905\" xlink:href=\"#mdcf772e4a9\" y=\"125.68429\"/>\n     <use style=\"fill:#0000ff;stroke:#0000ff;\" x=\"152.808496\" xlink:href=\"#mdcf772e4a9\" y=\"89.223926\"/>\n     <use style=\"fill:#0000ff;stroke:#0000ff;\" x=\"122.937901\" xlink:href=\"#mdcf772e4a9\" y=\"140.389933\"/>\n     <use style=\"fill:#0000ff;stroke:#0000ff;\" x=\"192.861455\" xlink:href=\"#mdcf772e4a9\" y=\"124.101635\"/>\n     <use style=\"fill:#0000ff;stroke:#0000ff;\" x=\"179.866075\" xlink:href=\"#mdcf772e4a9\" y=\"159.169901\"/>\n     <use style=\"fill:#0000ff;stroke:#0000ff;\" x=\"143.097229\" xlink:href=\"#mdcf772e4a9\" y=\"158.138477\"/>\n     <use style=\"fill:#0000ff;stroke:#0000ff;\" x=\"146.698698\" xlink:href=\"#mdcf772e4a9\" y=\"149.869081\"/>\n     <use style=\"fill:#0000ff;stroke:#0000ff;\" x=\"123.979211\" xlink:href=\"#mdcf772e4a9\" y=\"93.385632\"/>\n     <use style=\"fill:#0000ff;stroke:#0000ff;\" x=\"129.836685\" xlink:href=\"#mdcf772e4a9\" y=\"85.570088\"/>\n     <use style=\"fill:#0000ff;stroke:#0000ff;\" x=\"50.522869\" xlink:href=\"#mdcf772e4a9\" y=\"127.858254\"/>\n     <use style=\"fill:#0000ff;stroke:#0000ff;\" x=\"105.633307\" xlink:href=\"#mdcf772e4a9\" y=\"118.156767\"/>\n     <use style=\"fill:#0000ff;stroke:#0000ff;\" x=\"120.556919\" xlink:href=\"#mdcf772e4a9\" y=\"184.251409\"/>\n     <use style=\"fill:#0000ff;stroke:#0000ff;\" x=\"119.294196\" xlink:href=\"#mdcf772e4a9\" y=\"104.142564\"/>\n     <use style=\"fill:#0000ff;stroke:#0000ff;\" x=\"168.850514\" xlink:href=\"#mdcf772e4a9\" y=\"145.768367\"/>\n     <use style=\"fill:#0000ff;stroke:#0000ff;\" x=\"77.654057\" xlink:href=\"#mdcf772e4a9\" y=\"109.683699\"/>\n     <use style=\"fill:#0000ff;stroke:#0000ff;\" x=\"112.450506\" xlink:href=\"#mdcf772e4a9\" y=\"171.527935\"/>\n     <use style=\"fill:#0000ff;stroke:#0000ff;\" x=\"136.920245\" xlink:href=\"#mdcf772e4a9\" y=\"114.657687\"/>\n     <use style=\"fill:#0000ff;stroke:#0000ff;\" x=\"120.930966\" xlink:href=\"#mdcf772e4a9\" y=\"136.694878\"/>\n     <use style=\"fill:#0000ff;stroke:#0000ff;\" x=\"158.233414\" xlink:href=\"#mdcf772e4a9\" y=\"75.026608\"/>\n     <use style=\"fill:#0000ff;stroke:#0000ff;\" x=\"153.389902\" xlink:href=\"#mdcf772e4a9\" y=\"138.547035\"/>\n     <use style=\"fill:#0000ff;stroke:#0000ff;\" x=\"121.634974\" xlink:href=\"#mdcf772e4a9\" y=\"101.519929\"/>\n     <use style=\"fill:#0000ff;stroke:#0000ff;\" x=\"131.247599\" xlink:href=\"#mdcf772e4a9\" y=\"98.893438\"/>\n     <use style=\"fill:#0000ff;stroke:#0000ff;\" x=\"172.325469\" xlink:href=\"#mdcf772e4a9\" y=\"55.992337\"/>\n     <use style=\"fill:#0000ff;stroke:#0000ff;\" x=\"107.300243\" xlink:href=\"#mdcf772e4a9\" y=\"113.139896\"/>\n     <use style=\"fill:#0000ff;stroke:#0000ff;\" x=\"153.46607\" xlink:href=\"#mdcf772e4a9\" y=\"104.113717\"/>\n     <use style=\"fill:#0000ff;stroke:#0000ff;\" x=\"263.301033\" xlink:href=\"#mdcf772e4a9\" y=\"49.685427\"/>\n     <use style=\"fill:#0000ff;stroke:#0000ff;\" x=\"110.624966\" xlink:href=\"#mdcf772e4a9\" y=\"151.927407\"/>\n     <use style=\"fill:#0000ff;stroke:#0000ff;\" x=\"116.158659\" xlink:href=\"#mdcf772e4a9\" y=\"154.7363\"/>\n     <use style=\"fill:#0000ff;stroke:#0000ff;\" x=\"134.344173\" xlink:href=\"#mdcf772e4a9\" y=\"144.314877\"/>\n    </g>\n   </g>\n   <g id=\"PathCollection_2\">\n    <defs>\n     <path d=\"M 0 3 \nC 0.795609 3 1.55874 2.683901 2.12132 2.12132 \nC 2.683901 1.55874 3 0.795609 3 0 \nC 3 -0.795609 2.683901 -1.55874 2.12132 -2.12132 \nC 1.55874 -2.683901 0.795609 -3 0 -3 \nC -0.795609 -3 -1.55874 -2.683901 -2.12132 -2.12132 \nC -2.683901 -1.55874 -3 -0.795609 -3 0 \nC -3 0.795609 -2.683901 1.55874 -2.12132 2.12132 \nC -1.55874 2.683901 -0.795609 3 0 3 \nz\n\" id=\"mb7ff26f51f\" style=\"stroke:#ff0000;\"/>\n    </defs>\n    <g clip-path=\"url(#pf9f2e3f2a3)\">\n     <use style=\"fill:#ff0000;stroke:#ff0000;\" x=\"243.610718\" xlink:href=\"#mb7ff26f51f\" y=\"46.461257\"/>\n     <use style=\"fill:#ff0000;stroke:#ff0000;\" x=\"208.931169\" xlink:href=\"#mb7ff26f51f\" y=\"20.395248\"/>\n     <use style=\"fill:#ff0000;stroke:#ff0000;\" x=\"148.412406\" xlink:href=\"#mb7ff26f51f\" y=\"140.913733\"/>\n     <use style=\"fill:#ff0000;stroke:#ff0000;\" x=\"192.286214\" xlink:href=\"#mb7ff26f51f\" y=\"81.195776\"/>\n     <use style=\"fill:#ff0000;stroke:#ff0000;\" x=\"233.804622\" xlink:href=\"#mb7ff26f51f\" y=\"50.140441\"/>\n     <use style=\"fill:#ff0000;stroke:#ff0000;\" x=\"205.22678\" xlink:href=\"#mb7ff26f51f\" y=\"57.934324\"/>\n     <use style=\"fill:#ff0000;stroke:#ff0000;\" x=\"196.08082\" xlink:href=\"#mb7ff26f51f\" y=\"58.14736\"/>\n     <use style=\"fill:#ff0000;stroke:#ff0000;\" x=\"229.649061\" xlink:href=\"#mb7ff26f51f\" y=\"88.290301\"/>\n     <use style=\"fill:#ff0000;stroke:#ff0000;\" x=\"146.25018\" xlink:href=\"#mb7ff26f51f\" y=\"43.904215\"/>\n     <use style=\"fill:#ff0000;stroke:#ff0000;\" x=\"132.847605\" xlink:href=\"#mb7ff26f51f\" y=\"38.192109\"/>\n     <use style=\"fill:#ff0000;stroke:#ff0000;\" x=\"177.575197\" xlink:href=\"#mb7ff26f51f\" y=\"93.889756\"/>\n     <use style=\"fill:#ff0000;stroke:#ff0000;\" x=\"234.345326\" xlink:href=\"#mb7ff26f51f\" y=\"62.983266\"/>\n     <use style=\"fill:#ff0000;stroke:#ff0000;\" x=\"200.448336\" xlink:href=\"#mb7ff26f51f\" y=\"66.784845\"/>\n     <use style=\"fill:#ff0000;stroke:#ff0000;\" x=\"137.683505\" xlink:href=\"#mb7ff26f51f\" y=\"59.123209\"/>\n     <use style=\"fill:#ff0000;stroke:#ff0000;\" x=\"139.075506\" xlink:href=\"#mb7ff26f51f\" y=\"65.229199\"/>\n     <use style=\"fill:#ff0000;stroke:#ff0000;\" x=\"176.947277\" xlink:href=\"#mb7ff26f51f\" y=\"89.225654\"/>\n     <use style=\"fill:#ff0000;stroke:#ff0000;\" x=\"215.363246\" xlink:href=\"#mb7ff26f51f\" y=\"107.257837\"/>\n     <use style=\"fill:#ff0000;stroke:#ff0000;\" x=\"143.267864\" xlink:href=\"#mb7ff26f51f\" y=\"54.513132\"/>\n     <use style=\"fill:#ff0000;stroke:#ff0000;\" x=\"196.525052\" xlink:href=\"#mb7ff26f51f\" y=\"39.569493\"/>\n     <use style=\"fill:#ff0000;stroke:#ff0000;\" x=\"259.430075\" xlink:href=\"#mb7ff26f51f\" y=\"88.906288\"/>\n     <use style=\"fill:#ff0000;stroke:#ff0000;\" x=\"108.812972\" xlink:href=\"#mb7ff26f51f\" y=\"64.749576\"/>\n     <use style=\"fill:#ff0000;stroke:#ff0000;\" x=\"214.086748\" xlink:href=\"#mb7ff26f51f\" y=\"68.624303\"/>\n     <use style=\"fill:#ff0000;stroke:#ff0000;\" x=\"218.99164\" xlink:href=\"#mb7ff26f51f\" y=\"56.296824\"/>\n     <use style=\"fill:#ff0000;stroke:#ff0000;\" x=\"225.996764\" xlink:href=\"#mb7ff26f51f\" y=\"50.433547\"/>\n     <use style=\"fill:#ff0000;stroke:#ff0000;\" x=\"225.289994\" xlink:href=\"#mb7ff26f51f\" y=\"103.367719\"/>\n     <use style=\"fill:#ff0000;stroke:#ff0000;\" x=\"222.495679\" xlink:href=\"#mb7ff26f51f\" y=\"62.176019\"/>\n     <use style=\"fill:#ff0000;stroke:#ff0000;\" x=\"213.47926\" xlink:href=\"#mb7ff26f51f\" y=\"82.336199\"/>\n     <use style=\"fill:#ff0000;stroke:#ff0000;\" x=\"149.755875\" xlink:href=\"#mb7ff26f51f\" y=\"110.968701\"/>\n     <use style=\"fill:#ff0000;stroke:#ff0000;\" x=\"197.136571\" xlink:href=\"#mb7ff26f51f\" y=\"115.16128\"/>\n     <use style=\"fill:#ff0000;stroke:#ff0000;\" x=\"212.118093\" xlink:href=\"#mb7ff26f51f\" y=\"44.877385\"/>\n     <use style=\"fill:#ff0000;stroke:#ff0000;\" x=\"148.343181\" xlink:href=\"#mb7ff26f51f\" y=\"57.445519\"/>\n     <use style=\"fill:#ff0000;stroke:#ff0000;\" x=\"209.322053\" xlink:href=\"#mb7ff26f51f\" y=\"61.787853\"/>\n     <use style=\"fill:#ff0000;stroke:#ff0000;\" x=\"77.503344\" xlink:href=\"#mb7ff26f51f\" y=\"64.81023\"/>\n     <use style=\"fill:#ff0000;stroke:#ff0000;\" x=\"174.539482\" xlink:href=\"#mb7ff26f51f\" y=\"69.347471\"/>\n     <use style=\"fill:#ff0000;stroke:#ff0000;\" x=\"236.235133\" xlink:href=\"#mb7ff26f51f\" y=\"102.835137\"/>\n     <use style=\"fill:#ff0000;stroke:#ff0000;\" x=\"190.724039\" xlink:href=\"#mb7ff26f51f\" y=\"65.061563\"/>\n     <use style=\"fill:#ff0000;stroke:#ff0000;\" x=\"143.887528\" xlink:href=\"#mb7ff26f51f\" y=\"64.642107\"/>\n     <use style=\"fill:#ff0000;stroke:#ff0000;\" x=\"206.983951\" xlink:href=\"#mb7ff26f51f\" y=\"99.916959\"/>\n     <use style=\"fill:#ff0000;stroke:#ff0000;\" x=\"203.171002\" xlink:href=\"#mb7ff26f51f\" y=\"64.578718\"/>\n     <use style=\"fill:#ff0000;stroke:#ff0000;\" x=\"166.165215\" xlink:href=\"#mb7ff26f51f\" y=\"81.151129\"/>\n     <use style=\"fill:#ff0000;stroke:#ff0000;\" x=\"188.037397\" xlink:href=\"#mb7ff26f51f\" y=\"83.389248\"/>\n     <use style=\"fill:#ff0000;stroke:#ff0000;\" x=\"178.120309\" xlink:href=\"#mb7ff26f51f\" y=\"57.043382\"/>\n     <use style=\"fill:#ff0000;stroke:#ff0000;\" x=\"230.111747\" xlink:href=\"#mb7ff26f51f\" y=\"60.938709\"/>\n     <use style=\"fill:#ff0000;stroke:#ff0000;\" x=\"216.493272\" xlink:href=\"#mb7ff26f51f\" y=\"74.15756\"/>\n     <use style=\"fill:#ff0000;stroke:#ff0000;\" x=\"135.062707\" xlink:href=\"#mb7ff26f51f\" y=\"69.636524\"/>\n     <use style=\"fill:#ff0000;stroke:#ff0000;\" x=\"188.346613\" xlink:href=\"#mb7ff26f51f\" y=\"72.562423\"/>\n     <use style=\"fill:#ff0000;stroke:#ff0000;\" x=\"242.779544\" xlink:href=\"#mb7ff26f51f\" y=\"84.079045\"/>\n     <use style=\"fill:#ff0000;stroke:#ff0000;\" x=\"212.543993\" xlink:href=\"#mb7ff26f51f\" y=\"83.518758\"/>\n     <use style=\"fill:#ff0000;stroke:#ff0000;\" x=\"238.4567\" xlink:href=\"#mb7ff26f51f\" y=\"76.429163\"/>\n     <use style=\"fill:#ff0000;stroke:#ff0000;\" x=\"196.661607\" xlink:href=\"#mb7ff26f51f\" y=\"105.36226\"/>\n     <use style=\"fill:#ff0000;stroke:#ff0000;\" x=\"176.550628\" xlink:href=\"#mb7ff26f51f\" y=\"65.623487\"/>\n     <use style=\"fill:#ff0000;stroke:#ff0000;\" x=\"158.360589\" xlink:href=\"#mb7ff26f51f\" y=\"69.22292\"/>\n     <use style=\"fill:#ff0000;stroke:#ff0000;\" x=\"226.238013\" xlink:href=\"#mb7ff26f51f\" y=\"38.851552\"/>\n     <use style=\"fill:#ff0000;stroke:#ff0000;\" x=\"162.718144\" xlink:href=\"#mb7ff26f51f\" y=\"100.554554\"/>\n     <use style=\"fill:#ff0000;stroke:#ff0000;\" x=\"184.364246\" xlink:href=\"#mb7ff26f51f\" y=\"51.207532\"/>\n     <use style=\"fill:#ff0000;stroke:#ff0000;\" x=\"211.516518\" xlink:href=\"#mb7ff26f51f\" y=\"30.112239\"/>\n     <use style=\"fill:#ff0000;stroke:#ff0000;\" x=\"152.371477\" xlink:href=\"#mb7ff26f51f\" y=\"79.790219\"/>\n     <use style=\"fill:#ff0000;stroke:#ff0000;\" x=\"205.355473\" xlink:href=\"#mb7ff26f51f\" y=\"103.168777\"/>\n     <use style=\"fill:#ff0000;stroke:#ff0000;\" x=\"212.636806\" xlink:href=\"#mb7ff26f51f\" y=\"85.928509\"/>\n     <use style=\"fill:#ff0000;stroke:#ff0000;\" x=\"123.044457\" xlink:href=\"#mb7ff26f51f\" y=\"28.604596\"/>\n     <use style=\"fill:#ff0000;stroke:#ff0000;\" x=\"185.853258\" xlink:href=\"#mb7ff26f51f\" y=\"85.982848\"/>\n     <use style=\"fill:#ff0000;stroke:#ff0000;\" x=\"172.530267\" xlink:href=\"#mb7ff26f51f\" y=\"181.259705\"/>\n     <use style=\"fill:#ff0000;stroke:#ff0000;\" x=\"183.879297\" xlink:href=\"#mb7ff26f51f\" y=\"120.202088\"/>\n     <use style=\"fill:#ff0000;stroke:#ff0000;\" x=\"187.374607\" xlink:href=\"#mb7ff26f51f\" y=\"58.876468\"/>\n     <use style=\"fill:#ff0000;stroke:#ff0000;\" x=\"228.070785\" xlink:href=\"#mb7ff26f51f\" y=\"23.340205\"/>\n     <use style=\"fill:#ff0000;stroke:#ff0000;\" x=\"258.280159\" xlink:href=\"#mb7ff26f51f\" y=\"68.653499\"/>\n     <use style=\"fill:#ff0000;stroke:#ff0000;\" x=\"152.189407\" xlink:href=\"#mb7ff26f51f\" y=\"86.664684\"/>\n     <use style=\"fill:#ff0000;stroke:#ff0000;\" x=\"191.269824\" xlink:href=\"#mb7ff26f51f\" y=\"87.065372\"/>\n     <use style=\"fill:#ff0000;stroke:#ff0000;\" x=\"218.078603\" xlink:href=\"#mb7ff26f51f\" y=\"96.144683\"/>\n     <use style=\"fill:#ff0000;stroke:#ff0000;\" x=\"191.954055\" xlink:href=\"#mb7ff26f51f\" y=\"46.982135\"/>\n     <use style=\"fill:#ff0000;stroke:#ff0000;\" x=\"194.242728\" xlink:href=\"#mb7ff26f51f\" y=\"73.129266\"/>\n     <use style=\"fill:#ff0000;stroke:#ff0000;\" x=\"183.789648\" xlink:href=\"#mb7ff26f51f\" y=\"77.729352\"/>\n     <use style=\"fill:#ff0000;stroke:#ff0000;\" x=\"220.881282\" xlink:href=\"#mb7ff26f51f\" y=\"112.725778\"/>\n     <use style=\"fill:#ff0000;stroke:#ff0000;\" x=\"168.792157\" xlink:href=\"#mb7ff26f51f\" y=\"49.94503\"/>\n     <use style=\"fill:#ff0000;stroke:#ff0000;\" x=\"158.006415\" xlink:href=\"#mb7ff26f51f\" y=\"60.685483\"/>\n     <use style=\"fill:#ff0000;stroke:#ff0000;\" x=\"202.823088\" xlink:href=\"#mb7ff26f51f\" y=\"73.613254\"/>\n     <use style=\"fill:#ff0000;stroke:#ff0000;\" x=\"228.61421\" xlink:href=\"#mb7ff26f51f\" y=\"75.051298\"/>\n     <use style=\"fill:#ff0000;stroke:#ff0000;\" x=\"194.746345\" xlink:href=\"#mb7ff26f51f\" y=\"118.315409\"/>\n     <use style=\"fill:#ff0000;stroke:#ff0000;\" x=\"143.586164\" xlink:href=\"#mb7ff26f51f\" y=\"69.002232\"/>\n     <use style=\"fill:#ff0000;stroke:#ff0000;\" x=\"133.892526\" xlink:href=\"#mb7ff26f51f\" y=\"79.571944\"/>\n     <use style=\"fill:#ff0000;stroke:#ff0000;\" x=\"156.252033\" xlink:href=\"#mb7ff26f51f\" y=\"53.624859\"/>\n     <use style=\"fill:#ff0000;stroke:#ff0000;\" x=\"196.24269\" xlink:href=\"#mb7ff26f51f\" y=\"61.414837\"/>\n     <use style=\"fill:#ff0000;stroke:#ff0000;\" x=\"170.088691\" xlink:href=\"#mb7ff26f51f\" y=\"85.87152\"/>\n     <use style=\"fill:#ff0000;stroke:#ff0000;\" x=\"187.384409\" xlink:href=\"#mb7ff26f51f\" y=\"31.100677\"/>\n     <use style=\"fill:#ff0000;stroke:#ff0000;\" x=\"156.116261\" xlink:href=\"#mb7ff26f51f\" y=\"113.382591\"/>\n     <use style=\"fill:#ff0000;stroke:#ff0000;\" x=\"207.926088\" xlink:href=\"#mb7ff26f51f\" y=\"83.30099\"/>\n     <use style=\"fill:#ff0000;stroke:#ff0000;\" x=\"154.358647\" xlink:href=\"#mb7ff26f51f\" y=\"47.47445\"/>\n     <use style=\"fill:#ff0000;stroke:#ff0000;\" x=\"201.895184\" xlink:href=\"#mb7ff26f51f\" y=\"50.020738\"/>\n     <use style=\"fill:#ff0000;stroke:#ff0000;\" x=\"173.885376\" xlink:href=\"#mb7ff26f51f\" y=\"92.202817\"/>\n     <use style=\"fill:#ff0000;stroke:#ff0000;\" x=\"145.317354\" xlink:href=\"#mb7ff26f51f\" y=\"99.529914\"/>\n     <use style=\"fill:#ff0000;stroke:#ff0000;\" x=\"179.712557\" xlink:href=\"#mb7ff26f51f\" y=\"17.083636\"/>\n     <use style=\"fill:#ff0000;stroke:#ff0000;\" x=\"168.329068\" xlink:href=\"#mb7ff26f51f\" y=\"78.90074\"/>\n     <use style=\"fill:#ff0000;stroke:#ff0000;\" x=\"235.568427\" xlink:href=\"#mb7ff26f51f\" y=\"54.211371\"/>\n     <use style=\"fill:#ff0000;stroke:#ff0000;\" x=\"215.111315\" xlink:href=\"#mb7ff26f51f\" y=\"154.431366\"/>\n     <use style=\"fill:#ff0000;stroke:#ff0000;\" x=\"142.423668\" xlink:href=\"#mb7ff26f51f\" y=\"80.631416\"/>\n     <use style=\"fill:#ff0000;stroke:#ff0000;\" x=\"182.900748\" xlink:href=\"#mb7ff26f51f\" y=\"54.74061\"/>\n     <use style=\"fill:#ff0000;stroke:#ff0000;\" x=\"164.090364\" xlink:href=\"#mb7ff26f51f\" y=\"68.82338\"/>\n     <use style=\"fill:#ff0000;stroke:#ff0000;\" x=\"196.983626\" xlink:href=\"#mb7ff26f51f\" y=\"80.277623\"/>\n     <use style=\"fill:#ff0000;stroke:#ff0000;\" x=\"230.399755\" xlink:href=\"#mb7ff26f51f\" y=\"84.460154\"/>\n     <use style=\"fill:#ff0000;stroke:#ff0000;\" x=\"147.066631\" xlink:href=\"#mb7ff26f51f\" y=\"107.550546\"/>\n    </g>\n   </g>\n   <g id=\"PathCollection_3\">\n    <defs>\n     <path d=\"M 0 3 \nC 0.795609 3 1.55874 2.683901 2.12132 2.12132 \nC 2.683901 1.55874 3 0.795609 3 0 \nC 3 -0.795609 2.683901 -1.55874 2.12132 -2.12132 \nC 1.55874 -2.683901 0.795609 -3 0 -3 \nC -0.795609 -3 -1.55874 -2.683901 -2.12132 -2.12132 \nC -2.683901 -1.55874 -3 -0.795609 -3 0 \nC -3 0.795609 -2.683901 1.55874 -2.12132 2.12132 \nC -1.55874 2.683901 -0.795609 3 0 3 \nz\n\" id=\"mda109ed0a5\" style=\"stroke:#008000;\"/>\n    </defs>\n    <g clip-path=\"url(#pf9f2e3f2a3)\">\n     <use style=\"fill:#008000;stroke:#008000;\" x=\"283.077117\" xlink:href=\"#mda109ed0a5\" y=\"118.162272\"/>\n     <use style=\"fill:#008000;stroke:#008000;\" x=\"254.417774\" xlink:href=\"#mda109ed0a5\" y=\"112.208577\"/>\n     <use style=\"fill:#008000;stroke:#008000;\" x=\"292.03071\" xlink:href=\"#mda109ed0a5\" y=\"131.401478\"/>\n     <use style=\"fill:#008000;stroke:#008000;\" x=\"275.57453\" xlink:href=\"#mda109ed0a5\" y=\"140.780089\"/>\n     <use style=\"fill:#008000;stroke:#008000;\" x=\"283.820212\" xlink:href=\"#mda109ed0a5\" y=\"149.92342\"/>\n     <use style=\"fill:#008000;stroke:#008000;\" x=\"315.952735\" xlink:href=\"#mda109ed0a5\" y=\"123.526262\"/>\n     <use style=\"fill:#008000;stroke:#008000;\" x=\"200.533814\" xlink:href=\"#mda109ed0a5\" y=\"187.003938\"/>\n     <use style=\"fill:#008000;stroke:#008000;\" x=\"219.079561\" xlink:href=\"#mda109ed0a5\" y=\"134.594476\"/>\n     <use style=\"fill:#008000;stroke:#008000;\" x=\"322.683971\" xlink:href=\"#mda109ed0a5\" y=\"97.184058\"/>\n     <use style=\"fill:#008000;stroke:#008000;\" x=\"317.278308\" xlink:href=\"#mda109ed0a5\" y=\"103.498395\"/>\n     <use style=\"fill:#008000;stroke:#008000;\" x=\"339.10547\" xlink:href=\"#mda109ed0a5\" y=\"134.85464\"/>\n     <use style=\"fill:#008000;stroke:#008000;\" x=\"290.450185\" xlink:href=\"#mda109ed0a5\" y=\"142.571332\"/>\n     <use style=\"fill:#008000;stroke:#008000;\" x=\"309.155988\" xlink:href=\"#mda109ed0a5\" y=\"77.111915\"/>\n     <use style=\"fill:#008000;stroke:#008000;\" x=\"327.601466\" xlink:href=\"#mda109ed0a5\" y=\"117.173755\"/>\n     <use style=\"fill:#008000;stroke:#008000;\" x=\"334.585538\" xlink:href=\"#mda109ed0a5\" y=\"124.29699\"/>\n     <use style=\"fill:#008000;stroke:#008000;\" x=\"260.890053\" xlink:href=\"#mda109ed0a5\" y=\"125.379528\"/>\n     <use style=\"fill:#008000;stroke:#008000;\" x=\"274.101389\" xlink:href=\"#mda109ed0a5\" y=\"110.256549\"/>\n     <use style=\"fill:#008000;stroke:#008000;\" x=\"256.141092\" xlink:href=\"#mda109ed0a5\" y=\"116.3435\"/>\n     <use style=\"fill:#008000;stroke:#008000;\" x=\"354.886506\" xlink:href=\"#mda109ed0a5\" y=\"141.912961\"/>\n     <use style=\"fill:#008000;stroke:#008000;\" x=\"327.054401\" xlink:href=\"#mda109ed0a5\" y=\"129.83921\"/>\n     <use style=\"fill:#008000;stroke:#008000;\" x=\"247.768357\" xlink:href=\"#mda109ed0a5\" y=\"116.796672\"/>\n     <use style=\"fill:#008000;stroke:#008000;\" x=\"184.912593\" xlink:href=\"#mda109ed0a5\" y=\"169.426246\"/>\n     <use style=\"fill:#008000;stroke:#008000;\" x=\"286.539964\" xlink:href=\"#mda109ed0a5\" y=\"87.885696\"/>\n     <use style=\"fill:#008000;stroke:#008000;\" x=\"307.613503\" xlink:href=\"#mda109ed0a5\" y=\"128.802191\"/>\n     <use style=\"fill:#008000;stroke:#008000;\" x=\"310.409323\" xlink:href=\"#mda109ed0a5\" y=\"94.509043\"/>\n     <use style=\"fill:#008000;stroke:#008000;\" x=\"314.598175\" xlink:href=\"#mda109ed0a5\" y=\"125.680048\"/>\n     <use style=\"fill:#008000;stroke:#008000;\" x=\"314.808613\" xlink:href=\"#mda109ed0a5\" y=\"115.699113\"/>\n     <use style=\"fill:#008000;stroke:#008000;\" x=\"331.968067\" xlink:href=\"#mda109ed0a5\" y=\"133.376357\"/>\n     <use style=\"fill:#008000;stroke:#008000;\" x=\"295.993539\" xlink:href=\"#mda109ed0a5\" y=\"136.561569\"/>\n     <use style=\"fill:#008000;stroke:#008000;\" x=\"246.8724\" xlink:href=\"#mda109ed0a5\" y=\"189.839794\"/>\n     <use style=\"fill:#008000;stroke:#008000;\" x=\"284.57899\" xlink:href=\"#mda109ed0a5\" y=\"145.55859\"/>\n     <use style=\"fill:#008000;stroke:#008000;\" x=\"298.319603\" xlink:href=\"#mda109ed0a5\" y=\"131.278992\"/>\n     <use style=\"fill:#008000;stroke:#008000;\" x=\"286.263117\" xlink:href=\"#mda109ed0a5\" y=\"127.459036\"/>\n     <use style=\"fill:#008000;stroke:#008000;\" x=\"348.406233\" xlink:href=\"#mda109ed0a5\" y=\"114.864746\"/>\n     <use style=\"fill:#008000;stroke:#008000;\" x=\"329.343387\" xlink:href=\"#mda109ed0a5\" y=\"160.024363\"/>\n     <use style=\"fill:#008000;stroke:#008000;\" x=\"281.585916\" xlink:href=\"#mda109ed0a5\" y=\"129.231224\"/>\n     <use style=\"fill:#008000;stroke:#008000;\" x=\"278.776166\" xlink:href=\"#mda109ed0a5\" y=\"120.675909\"/>\n     <use style=\"fill:#008000;stroke:#008000;\" x=\"329.461503\" xlink:href=\"#mda109ed0a5\" y=\"81.928636\"/>\n     <use style=\"fill:#008000;stroke:#008000;\" x=\"297.719005\" xlink:href=\"#mda109ed0a5\" y=\"115.279587\"/>\n     <use style=\"fill:#008000;stroke:#008000;\" x=\"329.80503\" xlink:href=\"#mda109ed0a5\" y=\"104.71922\"/>\n     <use style=\"fill:#008000;stroke:#008000;\" x=\"309.358211\" xlink:href=\"#mda109ed0a5\" y=\"121.43754\"/>\n     <use style=\"fill:#008000;stroke:#008000;\" x=\"304.378644\" xlink:href=\"#mda109ed0a5\" y=\"115.377162\"/>\n     <use style=\"fill:#008000;stroke:#008000;\" x=\"310.70658\" xlink:href=\"#mda109ed0a5\" y=\"107.745279\"/>\n     <use style=\"fill:#008000;stroke:#008000;\" x=\"324.158155\" xlink:href=\"#mda109ed0a5\" y=\"108.735138\"/>\n     <use style=\"fill:#008000;stroke:#008000;\" x=\"342.342119\" xlink:href=\"#mda109ed0a5\" y=\"167.557696\"/>\n     <use style=\"fill:#008000;stroke:#008000;\" x=\"254.834188\" xlink:href=\"#mda109ed0a5\" y=\"132.807444\"/>\n     <use style=\"fill:#008000;stroke:#008000;\" x=\"301.040287\" xlink:href=\"#mda109ed0a5\" y=\"143.82236\"/>\n     <use style=\"fill:#008000;stroke:#008000;\" x=\"322.396667\" xlink:href=\"#mda109ed0a5\" y=\"124.186339\"/>\n     <use style=\"fill:#008000;stroke:#008000;\" x=\"333.905855\" xlink:href=\"#mda109ed0a5\" y=\"111.380561\"/>\n     <use style=\"fill:#008000;stroke:#008000;\" x=\"338.63425\" xlink:href=\"#mda109ed0a5\" y=\"151.917563\"/>\n     <use style=\"fill:#008000;stroke:#008000;\" x=\"245.433075\" xlink:href=\"#mda109ed0a5\" y=\"164.470707\"/>\n     <use style=\"fill:#008000;stroke:#008000;\" x=\"299.593724\" xlink:href=\"#mda109ed0a5\" y=\"126.852992\"/>\n     <use style=\"fill:#008000;stroke:#008000;\" x=\"288.852737\" xlink:href=\"#mda109ed0a5\" y=\"115.769149\"/>\n     <use style=\"fill:#008000;stroke:#008000;\" x=\"289.109306\" xlink:href=\"#mda109ed0a5\" y=\"110.499663\"/>\n     <use style=\"fill:#008000;stroke:#008000;\" x=\"245.675518\" xlink:href=\"#mda109ed0a5\" y=\"124.479076\"/>\n     <use style=\"fill:#008000;stroke:#008000;\" x=\"337.437644\" xlink:href=\"#mda109ed0a5\" y=\"111.416769\"/>\n     <use style=\"fill:#008000;stroke:#008000;\" x=\"244.55936\" xlink:href=\"#mda109ed0a5\" y=\"143.216532\"/>\n     <use style=\"fill:#008000;stroke:#008000;\" x=\"266.425281\" xlink:href=\"#mda109ed0a5\" y=\"149.63939\"/>\n     <use style=\"fill:#008000;stroke:#008000;\" x=\"307.888039\" xlink:href=\"#mda109ed0a5\" y=\"103.123475\"/>\n     <use style=\"fill:#008000;stroke:#008000;\" x=\"293.927677\" xlink:href=\"#mda109ed0a5\" y=\"105.529174\"/>\n     <use style=\"fill:#008000;stroke:#008000;\" x=\"303.459201\" xlink:href=\"#mda109ed0a5\" y=\"120.584421\"/>\n     <use style=\"fill:#008000;stroke:#008000;\" x=\"322.170034\" xlink:href=\"#mda109ed0a5\" y=\"94.055183\"/>\n     <use style=\"fill:#008000;stroke:#008000;\" x=\"295.314264\" xlink:href=\"#mda109ed0a5\" y=\"137.471259\"/>\n     <use style=\"fill:#008000;stroke:#008000;\" x=\"328.670957\" xlink:href=\"#mda109ed0a5\" y=\"134.958755\"/>\n     <use style=\"fill:#008000;stroke:#008000;\" x=\"261.341471\" xlink:href=\"#mda109ed0a5\" y=\"122.114834\"/>\n     <use style=\"fill:#008000;stroke:#008000;\" x=\"315.017935\" xlink:href=\"#mda109ed0a5\" y=\"128.577141\"/>\n     <use style=\"fill:#008000;stroke:#008000;\" x=\"225.898656\" xlink:href=\"#mda109ed0a5\" y=\"155.326348\"/>\n     <use style=\"fill:#008000;stroke:#008000;\" x=\"299.874828\" xlink:href=\"#mda109ed0a5\" y=\"104.793217\"/>\n     <use style=\"fill:#008000;stroke:#008000;\" x=\"269.471563\" xlink:href=\"#mda109ed0a5\" y=\"96.042446\"/>\n     <use style=\"fill:#008000;stroke:#008000;\" x=\"335.826605\" xlink:href=\"#mda109ed0a5\" y=\"122.644275\"/>\n     <use style=\"fill:#008000;stroke:#008000;\" x=\"256.439816\" xlink:href=\"#mda109ed0a5\" y=\"138.89892\"/>\n     <use style=\"fill:#008000;stroke:#008000;\" x=\"318.501967\" xlink:href=\"#mda109ed0a5\" y=\"109.916341\"/>\n     <use style=\"fill:#008000;stroke:#008000;\" x=\"267.772939\" xlink:href=\"#mda109ed0a5\" y=\"131.97031\"/>\n     <use style=\"fill:#008000;stroke:#008000;\" x=\"323.641171\" xlink:href=\"#mda109ed0a5\" y=\"144.255015\"/>\n     <use style=\"fill:#008000;stroke:#008000;\" x=\"277.716777\" xlink:href=\"#mda109ed0a5\" y=\"134.777894\"/>\n     <use style=\"fill:#008000;stroke:#008000;\" x=\"285.912345\" xlink:href=\"#mda109ed0a5\" y=\"97.116771\"/>\n     <use style=\"fill:#008000;stroke:#008000;\" x=\"253.672908\" xlink:href=\"#mda109ed0a5\" y=\"149.204061\"/>\n     <use style=\"fill:#008000;stroke:#008000;\" x=\"317.519138\" xlink:href=\"#mda109ed0a5\" y=\"138.81134\"/>\n     <use style=\"fill:#008000;stroke:#008000;\" x=\"321.21638\" xlink:href=\"#mda109ed0a5\" y=\"117.041253\"/>\n     <use style=\"fill:#008000;stroke:#008000;\" x=\"254.57441\" xlink:href=\"#mda109ed0a5\" y=\"156.283388\"/>\n     <use style=\"fill:#008000;stroke:#008000;\" x=\"324.934176\" xlink:href=\"#mda109ed0a5\" y=\"158.874169\"/>\n     <use style=\"fill:#008000;stroke:#008000;\" x=\"310.934954\" xlink:href=\"#mda109ed0a5\" y=\"102.168985\"/>\n     <use style=\"fill:#008000;stroke:#008000;\" x=\"326.794134\" xlink:href=\"#mda109ed0a5\" y=\"91.839405\"/>\n     <use style=\"fill:#008000;stroke:#008000;\" x=\"330.06418\" xlink:href=\"#mda109ed0a5\" y=\"112.363667\"/>\n     <use style=\"fill:#008000;stroke:#008000;\" x=\"323.106295\" xlink:href=\"#mda109ed0a5\" y=\"107.437935\"/>\n     <use style=\"fill:#008000;stroke:#008000;\" x=\"282.585431\" xlink:href=\"#mda109ed0a5\" y=\"161.079495\"/>\n     <use style=\"fill:#008000;stroke:#008000;\" x=\"281.030425\" xlink:href=\"#mda109ed0a5\" y=\"106.719088\"/>\n     <use style=\"fill:#008000;stroke:#008000;\" x=\"291.561102\" xlink:href=\"#mda109ed0a5\" y=\"162.215983\"/>\n     <use style=\"fill:#008000;stroke:#008000;\" x=\"312.692668\" xlink:href=\"#mda109ed0a5\" y=\"109.996893\"/>\n     <use style=\"fill:#008000;stroke:#008000;\" x=\"316.891843\" xlink:href=\"#mda109ed0a5\" y=\"132.27773\"/>\n     <use style=\"fill:#008000;stroke:#008000;\" x=\"296.776395\" xlink:href=\"#mda109ed0a5\" y=\"119.78948\"/>\n     <use style=\"fill:#008000;stroke:#008000;\" x=\"299.970751\" xlink:href=\"#mda109ed0a5\" y=\"124.600155\"/>\n     <use style=\"fill:#008000;stroke:#008000;\" x=\"277.81173\" xlink:href=\"#mda109ed0a5\" y=\"99.680162\"/>\n     <use style=\"fill:#008000;stroke:#008000;\" x=\"336.437262\" xlink:href=\"#mda109ed0a5\" y=\"139.640632\"/>\n     <use style=\"fill:#008000;stroke:#008000;\" x=\"286.733581\" xlink:href=\"#mda109ed0a5\" y=\"85.645234\"/>\n     <use style=\"fill:#008000;stroke:#008000;\" x=\"297.282793\" xlink:href=\"#mda109ed0a5\" y=\"125.460258\"/>\n     <use style=\"fill:#008000;stroke:#008000;\" x=\"316.230357\" xlink:href=\"#mda109ed0a5\" y=\"120.930187\"/>\n     <use style=\"fill:#008000;stroke:#008000;\" x=\"335.261641\" xlink:href=\"#mda109ed0a5\" y=\"107.000779\"/>\n     <use style=\"fill:#008000;stroke:#008000;\" x=\"343.72077\" xlink:href=\"#mda109ed0a5\" y=\"127.719543\"/>\n     <use style=\"fill:#008000;stroke:#008000;\" x=\"343.01752\" xlink:href=\"#mda109ed0a5\" y=\"121.276438\"/>\n    </g>\n   </g>\n   <g id=\"PathCollection_4\">\n    <defs>\n     <path d=\"M 0 3 \nC 0.795609 3 1.55874 2.683901 2.12132 2.12132 \nC 2.683901 1.55874 3 0.795609 3 0 \nC 3 -0.795609 2.683901 -1.55874 2.12132 -2.12132 \nC 1.55874 -2.683901 0.795609 -3 0 -3 \nC -0.795609 -3 -1.55874 -2.683901 -2.12132 -2.12132 \nC -2.683901 -1.55874 -3 -0.795609 -3 0 \nC -3 0.795609 -2.683901 1.55874 -2.12132 2.12132 \nC -1.55874 2.683901 -0.795609 3 0 3 \nz\n\" id=\"m3fb8376147\" style=\"stroke:#ffa500;\"/>\n    </defs>\n    <g clip-path=\"url(#pf9f2e3f2a3)\">\n     <use style=\"fill:#ffa500;stroke:#ffa500;\" x=\"305.323765\" xlink:href=\"#m3fb8376147\" y=\"145.623479\"/>\n     <use style=\"fill:#ffa500;stroke:#ffa500;\" x=\"255.614715\" xlink:href=\"#m3fb8376147\" y=\"171.282098\"/>\n     <use style=\"fill:#ffa500;stroke:#ffa500;\" x=\"305.17178\" xlink:href=\"#m3fb8376147\" y=\"182.42022\"/>\n     <use style=\"fill:#ffa500;stroke:#ffa500;\" x=\"299.568557\" xlink:href=\"#m3fb8376147\" y=\"173.570408\"/>\n     <use style=\"fill:#ffa500;stroke:#ffa500;\" x=\"230.997329\" xlink:href=\"#m3fb8376147\" y=\"182.967236\"/>\n     <use style=\"fill:#ffa500;stroke:#ffa500;\" x=\"307.015744\" xlink:href=\"#m3fb8376147\" y=\"152.45344\"/>\n     <use style=\"fill:#ffa500;stroke:#ffa500;\" x=\"334.986531\" xlink:href=\"#m3fb8376147\" y=\"201.770857\"/>\n     <use style=\"fill:#ffa500;stroke:#ffa500;\" x=\"285.619233\" xlink:href=\"#m3fb8376147\" y=\"179.706113\"/>\n     <use style=\"fill:#ffa500;stroke:#ffa500;\" x=\"254.910927\" xlink:href=\"#m3fb8376147\" y=\"187.947635\"/>\n     <use style=\"fill:#ffa500;stroke:#ffa500;\" x=\"227.062647\" xlink:href=\"#m3fb8376147\" y=\"187.308726\"/>\n     <use style=\"fill:#ffa500;stroke:#ffa500;\" x=\"251.867781\" xlink:href=\"#m3fb8376147\" y=\"181.716605\"/>\n     <use style=\"fill:#ffa500;stroke:#ffa500;\" x=\"336.475695\" xlink:href=\"#m3fb8376147\" y=\"138.55207\"/>\n     <use style=\"fill:#ffa500;stroke:#ffa500;\" x=\"294.280002\" xlink:href=\"#m3fb8376147\" y=\"153.246238\"/>\n     <use style=\"fill:#ffa500;stroke:#ffa500;\" x=\"265.425932\" xlink:href=\"#m3fb8376147\" y=\"154.641793\"/>\n     <use style=\"fill:#ffa500;stroke:#ffa500;\" x=\"268.21\" xlink:href=\"#m3fb8376147\" y=\"164.010244\"/>\n     <use style=\"fill:#ffa500;stroke:#ffa500;\" x=\"248.560801\" xlink:href=\"#m3fb8376147\" y=\"208.464788\"/>\n     <use style=\"fill:#ffa500;stroke:#ffa500;\" x=\"267.009411\" xlink:href=\"#m3fb8376147\" y=\"193.574514\"/>\n     <use style=\"fill:#ffa500;stroke:#ffa500;\" x=\"255.005361\" xlink:href=\"#m3fb8376147\" y=\"214.756364\"/>\n     <use style=\"fill:#ffa500;stroke:#ffa500;\" x=\"292.28532\" xlink:href=\"#m3fb8376147\" y=\"161.383264\"/>\n     <use style=\"fill:#ffa500;stroke:#ffa500;\" x=\"266.683936\" xlink:href=\"#m3fb8376147\" y=\"197.315372\"/>\n     <use style=\"fill:#ffa500;stroke:#ffa500;\" x=\"299.756963\" xlink:href=\"#m3fb8376147\" y=\"180.689351\"/>\n     <use style=\"fill:#ffa500;stroke:#ffa500;\" x=\"328.084387\" xlink:href=\"#m3fb8376147\" y=\"184.735338\"/>\n     <use style=\"fill:#ffa500;stroke:#ffa500;\" x=\"295.603591\" xlink:href=\"#m3fb8376147\" y=\"174.21575\"/>\n     <use style=\"fill:#ffa500;stroke:#ffa500;\" x=\"335.007749\" xlink:href=\"#m3fb8376147\" y=\"194.731506\"/>\n     <use style=\"fill:#ffa500;stroke:#ffa500;\" x=\"286.221397\" xlink:href=\"#m3fb8376147\" y=\"176.969953\"/>\n     <use style=\"fill:#ffa500;stroke:#ffa500;\" x=\"256.708378\" xlink:href=\"#m3fb8376147\" y=\"166.04805\"/>\n     <use style=\"fill:#ffa500;stroke:#ffa500;\" x=\"286.858502\" xlink:href=\"#m3fb8376147\" y=\"159.058465\"/>\n     <use style=\"fill:#ffa500;stroke:#ffa500;\" x=\"266.625356\" xlink:href=\"#m3fb8376147\" y=\"159.613271\"/>\n     <use style=\"fill:#ffa500;stroke:#ffa500;\" x=\"273.582582\" xlink:href=\"#m3fb8376147\" y=\"152.263736\"/>\n     <use style=\"fill:#ffa500;stroke:#ffa500;\" x=\"283.721302\" xlink:href=\"#m3fb8376147\" y=\"202.38075\"/>\n     <use style=\"fill:#ffa500;stroke:#ffa500;\" x=\"273.623946\" xlink:href=\"#m3fb8376147\" y=\"172.674301\"/>\n     <use style=\"fill:#ffa500;stroke:#ffa500;\" x=\"313.287454\" xlink:href=\"#m3fb8376147\" y=\"158.825461\"/>\n     <use style=\"fill:#ffa500;stroke:#ffa500;\" x=\"340.592327\" xlink:href=\"#m3fb8376147\" y=\"161.302872\"/>\n     <use style=\"fill:#ffa500;stroke:#ffa500;\" x=\"320.442503\" xlink:href=\"#m3fb8376147\" y=\"148.994031\"/>\n     <use style=\"fill:#ffa500;stroke:#ffa500;\" x=\"223.386738\" xlink:href=\"#m3fb8376147\" y=\"175.853273\"/>\n     <use style=\"fill:#ffa500;stroke:#ffa500;\" x=\"293.538286\" xlink:href=\"#m3fb8376147\" y=\"156.300551\"/>\n     <use style=\"fill:#ffa500;stroke:#ffa500;\" x=\"281.515766\" xlink:href=\"#m3fb8376147\" y=\"198.903126\"/>\n     <use style=\"fill:#ffa500;stroke:#ffa500;\" x=\"282.333966\" xlink:href=\"#m3fb8376147\" y=\"196.049693\"/>\n     <use style=\"fill:#ffa500;stroke:#ffa500;\" x=\"211.193142\" xlink:href=\"#m3fb8376147\" y=\"173.531207\"/>\n     <use style=\"fill:#ffa500;stroke:#ffa500;\" x=\"235.202144\" xlink:href=\"#m3fb8376147\" y=\"160.461088\"/>\n     <use style=\"fill:#ffa500;stroke:#ffa500;\" x=\"280.898937\" xlink:href=\"#m3fb8376147\" y=\"186.972567\"/>\n     <use style=\"fill:#ffa500;stroke:#ffa500;\" x=\"279.420211\" xlink:href=\"#m3fb8376147\" y=\"206.652513\"/>\n     <use style=\"fill:#ffa500;stroke:#ffa500;\" x=\"259.968716\" xlink:href=\"#m3fb8376147\" y=\"189.818364\"/>\n     <use style=\"fill:#ffa500;stroke:#ffa500;\" x=\"263.569508\" xlink:href=\"#m3fb8376147\" y=\"171.614686\"/>\n     <use style=\"fill:#ffa500;stroke:#ffa500;\" x=\"247.909515\" xlink:href=\"#m3fb8376147\" y=\"193.879658\"/>\n     <use style=\"fill:#ffa500;stroke:#ffa500;\" x=\"267.187042\" xlink:href=\"#m3fb8376147\" y=\"141.425966\"/>\n     <use style=\"fill:#ffa500;stroke:#ffa500;\" x=\"241.379836\" xlink:href=\"#m3fb8376147\" y=\"179.010525\"/>\n     <use style=\"fill:#ffa500;stroke:#ffa500;\" x=\"228.340683\" xlink:href=\"#m3fb8376147\" y=\"172.63753\"/>\n     <use style=\"fill:#ffa500;stroke:#ffa500;\" x=\"331.255099\" xlink:href=\"#m3fb8376147\" y=\"148.274837\"/>\n     <use style=\"fill:#ffa500;stroke:#ffa500;\" x=\"302.810394\" xlink:href=\"#m3fb8376147\" y=\"160.058591\"/>\n     <use style=\"fill:#ffa500;stroke:#ffa500;\" x=\"270.981028\" xlink:href=\"#m3fb8376147\" y=\"188.396423\"/>\n     <use style=\"fill:#ffa500;stroke:#ffa500;\" x=\"300.902108\" xlink:href=\"#m3fb8376147\" y=\"187.445292\"/>\n     <use style=\"fill:#ffa500;stroke:#ffa500;\" x=\"335.100432\" xlink:href=\"#m3fb8376147\" y=\"164.821213\"/>\n     <use style=\"fill:#ffa500;stroke:#ffa500;\" x=\"308.708511\" xlink:href=\"#m3fb8376147\" y=\"187.151827\"/>\n     <use style=\"fill:#ffa500;stroke:#ffa500;\" x=\"273.466725\" xlink:href=\"#m3fb8376147\" y=\"156.867874\"/>\n     <use style=\"fill:#ffa500;stroke:#ffa500;\" x=\"277.400251\" xlink:href=\"#m3fb8376147\" y=\"176.767738\"/>\n     <use style=\"fill:#ffa500;stroke:#ffa500;\" x=\"251.061429\" xlink:href=\"#m3fb8376147\" y=\"175.682994\"/>\n     <use style=\"fill:#ffa500;stroke:#ffa500;\" x=\"280.74679\" xlink:href=\"#m3fb8376147\" y=\"177.77366\"/>\n     <use style=\"fill:#ffa500;stroke:#ffa500;\" x=\"232.453886\" xlink:href=\"#m3fb8376147\" y=\"184.206011\"/>\n     <use style=\"fill:#ffa500;stroke:#ffa500;\" x=\"258.252214\" xlink:href=\"#m3fb8376147\" y=\"176.115626\"/>\n     <use style=\"fill:#ffa500;stroke:#ffa500;\" x=\"302.831449\" xlink:href=\"#m3fb8376147\" y=\"201.17433\"/>\n     <use style=\"fill:#ffa500;stroke:#ffa500;\" x=\"280.648198\" xlink:href=\"#m3fb8376147\" y=\"169.775913\"/>\n     <use style=\"fill:#ffa500;stroke:#ffa500;\" x=\"262.494335\" xlink:href=\"#m3fb8376147\" y=\"184.735691\"/>\n     <use style=\"fill:#ffa500;stroke:#ffa500;\" x=\"254.378697\" xlink:href=\"#m3fb8376147\" y=\"192.401176\"/>\n     <use style=\"fill:#ffa500;stroke:#ffa500;\" x=\"268.172044\" xlink:href=\"#m3fb8376147\" y=\"204.556567\"/>\n     <use style=\"fill:#ffa500;stroke:#ffa500;\" x=\"274.577098\" xlink:href=\"#m3fb8376147\" y=\"145.889738\"/>\n     <use style=\"fill:#ffa500;stroke:#ffa500;\" x=\"234.830143\" xlink:href=\"#m3fb8376147\" y=\"174.179145\"/>\n     <use style=\"fill:#ffa500;stroke:#ffa500;\" x=\"308.136653\" xlink:href=\"#m3fb8376147\" y=\"197.271601\"/>\n     <use style=\"fill:#ffa500;stroke:#ffa500;\" x=\"286.259089\" xlink:href=\"#m3fb8376147\" y=\"174.058088\"/>\n     <use style=\"fill:#ffa500;stroke:#ffa500;\" x=\"264.820514\" xlink:href=\"#m3fb8376147\" y=\"173.877144\"/>\n     <use style=\"fill:#ffa500;stroke:#ffa500;\" x=\"240.751041\" xlink:href=\"#m3fb8376147\" y=\"175.260324\"/>\n     <use style=\"fill:#ffa500;stroke:#ffa500;\" x=\"280.647663\" xlink:href=\"#m3fb8376147\" y=\"141.204258\"/>\n     <use style=\"fill:#ffa500;stroke:#ffa500;\" x=\"302.626099\" xlink:href=\"#m3fb8376147\" y=\"177.564001\"/>\n     <use style=\"fill:#ffa500;stroke:#ffa500;\" x=\"273.210603\" xlink:href=\"#m3fb8376147\" y=\"196.621557\"/>\n     <use style=\"fill:#ffa500;stroke:#ffa500;\" x=\"242.119839\" xlink:href=\"#m3fb8376147\" y=\"157.101717\"/>\n     <use style=\"fill:#ffa500;stroke:#ffa500;\" x=\"294.716629\" xlink:href=\"#m3fb8376147\" y=\"182.137124\"/>\n     <use style=\"fill:#ffa500;stroke:#ffa500;\" x=\"243.710559\" xlink:href=\"#m3fb8376147\" y=\"174.832684\"/>\n     <use style=\"fill:#ffa500;stroke:#ffa500;\" x=\"278.877532\" xlink:href=\"#m3fb8376147\" y=\"180.69324\"/>\n     <use style=\"fill:#ffa500;stroke:#ffa500;\" x=\"258.205151\" xlink:href=\"#m3fb8376147\" y=\"146.830116\"/>\n     <use style=\"fill:#ffa500;stroke:#ffa500;\" x=\"310.178732\" xlink:href=\"#m3fb8376147\" y=\"159.742509\"/>\n     <use style=\"fill:#ffa500;stroke:#ffa500;\" x=\"249.900789\" xlink:href=\"#m3fb8376147\" y=\"167.043872\"/>\n     <use style=\"fill:#ffa500;stroke:#ffa500;\" x=\"299.637104\" xlink:href=\"#m3fb8376147\" y=\"147.772113\"/>\n     <use style=\"fill:#ffa500;stroke:#ffa500;\" x=\"263.235408\" xlink:href=\"#m3fb8376147\" y=\"197.749867\"/>\n     <use style=\"fill:#ffa500;stroke:#ffa500;\" x=\"266.044681\" xlink:href=\"#m3fb8376147\" y=\"190.496579\"/>\n     <use style=\"fill:#ffa500;stroke:#ffa500;\" x=\"307.660602\" xlink:href=\"#m3fb8376147\" y=\"144.034263\"/>\n     <use style=\"fill:#ffa500;stroke:#ffa500;\" x=\"286.87952\" xlink:href=\"#m3fb8376147\" y=\"190.661908\"/>\n     <use style=\"fill:#ffa500;stroke:#ffa500;\" x=\"238.904212\" xlink:href=\"#m3fb8376147\" y=\"191.778596\"/>\n     <use style=\"fill:#ffa500;stroke:#ffa500;\" x=\"254.458547\" xlink:href=\"#m3fb8376147\" y=\"198.276071\"/>\n     <use style=\"fill:#ffa500;stroke:#ffa500;\" x=\"256.672613\" xlink:href=\"#m3fb8376147\" y=\"157.882176\"/>\n     <use style=\"fill:#ffa500;stroke:#ffa500;\" x=\"292.723663\" xlink:href=\"#m3fb8376147\" y=\"212.78224\"/>\n     <use style=\"fill:#ffa500;stroke:#ffa500;\" x=\"253.38932\" xlink:href=\"#m3fb8376147\" y=\"179.859292\"/>\n     <use style=\"fill:#ffa500;stroke:#ffa500;\" x=\"268.55723\" xlink:href=\"#m3fb8376147\" y=\"176.519609\"/>\n     <use style=\"fill:#ffa500;stroke:#ffa500;\" x=\"279.086401\" xlink:href=\"#m3fb8376147\" y=\"165.56896\"/>\n     <use style=\"fill:#ffa500;stroke:#ffa500;\" x=\"251.446403\" xlink:href=\"#m3fb8376147\" y=\"189.624662\"/>\n     <use style=\"fill:#ffa500;stroke:#ffa500;\" x=\"230.688784\" xlink:href=\"#m3fb8376147\" y=\"208.021191\"/>\n     <use style=\"fill:#ffa500;stroke:#ffa500;\" x=\"278.079132\" xlink:href=\"#m3fb8376147\" y=\"136.657407\"/>\n     <use style=\"fill:#ffa500;stroke:#ffa500;\" x=\"319.48322\" xlink:href=\"#m3fb8376147\" y=\"179.36923\"/>\n     <use style=\"fill:#ffa500;stroke:#ffa500;\" x=\"294.797193\" xlink:href=\"#m3fb8376147\" y=\"204.772234\"/>\n     <use style=\"fill:#ffa500;stroke:#ffa500;\" x=\"316.903472\" xlink:href=\"#m3fb8376147\" y=\"158.771412\"/>\n     <use style=\"fill:#ffa500;stroke:#ffa500;\" x=\"244.431075\" xlink:href=\"#m3fb8376147\" y=\"147.179844\"/>\n    </g>\n   </g>\n   <g id=\"matplotlib.axis_1\">\n    <g id=\"xtick_1\">\n     <g id=\"line2d_1\">\n      <defs>\n       <path d=\"M 0 0 \nL 0 3.5 \n\" id=\"mf36d398f7b\" style=\"stroke:#000000;stroke-width:0.8;\"/>\n      </defs>\n      <g>\n       <use style=\"stroke:#000000;stroke-width:0.8;\" x=\"70.329068\" xlink:href=\"#mf36d398f7b\" y=\"224.64\"/>\n      </g>\n     </g>\n     <g id=\"text_1\">\n      <!-- −40 -->\n      <g transform=\"translate(59.776725 239.238438)scale(0.1 -0.1)\">\n       <defs>\n        <path d=\"M 10.59375 35.5 \nL 73.1875 35.5 \nL 73.1875 27.203125 \nL 10.59375 27.203125 \nz\n\" id=\"DejaVuSans-8722\"/>\n        <path d=\"M 37.796875 64.3125 \nL 12.890625 25.390625 \nL 37.796875 25.390625 \nz\nM 35.203125 72.90625 \nL 47.609375 72.90625 \nL 47.609375 25.390625 \nL 58.015625 25.390625 \nL 58.015625 17.1875 \nL 47.609375 17.1875 \nL 47.609375 0 \nL 37.796875 0 \nL 37.796875 17.1875 \nL 4.890625 17.1875 \nL 4.890625 26.703125 \nz\n\" id=\"DejaVuSans-52\"/>\n        <path d=\"M 31.78125 66.40625 \nQ 24.171875 66.40625 20.328125 58.90625 \nQ 16.5 51.421875 16.5 36.375 \nQ 16.5 21.390625 20.328125 13.890625 \nQ 24.171875 6.390625 31.78125 6.390625 \nQ 39.453125 6.390625 43.28125 13.890625 \nQ 47.125 21.390625 47.125 36.375 \nQ 47.125 51.421875 43.28125 58.90625 \nQ 39.453125 66.40625 31.78125 66.40625 \nz\nM 31.78125 74.21875 \nQ 44.046875 74.21875 50.515625 64.515625 \nQ 56.984375 54.828125 56.984375 36.375 \nQ 56.984375 17.96875 50.515625 8.265625 \nQ 44.046875 -1.421875 31.78125 -1.421875 \nQ 19.53125 -1.421875 13.0625 8.265625 \nQ 6.59375 17.96875 6.59375 36.375 \nQ 6.59375 54.828125 13.0625 64.515625 \nQ 19.53125 74.21875 31.78125 74.21875 \nz\n\" id=\"DejaVuSans-48\"/>\n       </defs>\n       <use xlink:href=\"#DejaVuSans-8722\"/>\n       <use x=\"83.789062\" xlink:href=\"#DejaVuSans-52\"/>\n       <use x=\"147.412109\" xlink:href=\"#DejaVuSans-48\"/>\n      </g>\n     </g>\n    </g>\n    <g id=\"xtick_2\">\n     <g id=\"line2d_2\">\n      <g>\n       <use style=\"stroke:#000000;stroke-width:0.8;\" x=\"108.85167\" xlink:href=\"#mf36d398f7b\" y=\"224.64\"/>\n      </g>\n     </g>\n     <g id=\"text_2\">\n      <!-- −30 -->\n      <g transform=\"translate(98.299326 239.238438)scale(0.1 -0.1)\">\n       <defs>\n        <path d=\"M 40.578125 39.3125 \nQ 47.65625 37.796875 51.625 33 \nQ 55.609375 28.21875 55.609375 21.1875 \nQ 55.609375 10.40625 48.1875 4.484375 \nQ 40.765625 -1.421875 27.09375 -1.421875 \nQ 22.515625 -1.421875 17.65625 -0.515625 \nQ 12.796875 0.390625 7.625 2.203125 \nL 7.625 11.71875 \nQ 11.71875 9.328125 16.59375 8.109375 \nQ 21.484375 6.890625 26.8125 6.890625 \nQ 36.078125 6.890625 40.9375 10.546875 \nQ 45.796875 14.203125 45.796875 21.1875 \nQ 45.796875 27.640625 41.28125 31.265625 \nQ 36.765625 34.90625 28.71875 34.90625 \nL 20.21875 34.90625 \nL 20.21875 43.015625 \nL 29.109375 43.015625 \nQ 36.375 43.015625 40.234375 45.921875 \nQ 44.09375 48.828125 44.09375 54.296875 \nQ 44.09375 59.90625 40.109375 62.90625 \nQ 36.140625 65.921875 28.71875 65.921875 \nQ 24.65625 65.921875 20.015625 65.03125 \nQ 15.375 64.15625 9.8125 62.3125 \nL 9.8125 71.09375 \nQ 15.4375 72.65625 20.34375 73.4375 \nQ 25.25 74.21875 29.59375 74.21875 \nQ 40.828125 74.21875 47.359375 69.109375 \nQ 53.90625 64.015625 53.90625 55.328125 \nQ 53.90625 49.265625 50.4375 45.09375 \nQ 46.96875 40.921875 40.578125 39.3125 \nz\n\" id=\"DejaVuSans-51\"/>\n       </defs>\n       <use xlink:href=\"#DejaVuSans-8722\"/>\n       <use x=\"83.789062\" xlink:href=\"#DejaVuSans-51\"/>\n       <use x=\"147.412109\" xlink:href=\"#DejaVuSans-48\"/>\n      </g>\n     </g>\n    </g>\n    <g id=\"xtick_3\">\n     <g id=\"line2d_3\">\n      <g>\n       <use style=\"stroke:#000000;stroke-width:0.8;\" x=\"147.374271\" xlink:href=\"#mf36d398f7b\" y=\"224.64\"/>\n      </g>\n     </g>\n     <g id=\"text_3\">\n      <!-- −20 -->\n      <g transform=\"translate(136.821928 239.238438)scale(0.1 -0.1)\">\n       <defs>\n        <path d=\"M 19.1875 8.296875 \nL 53.609375 8.296875 \nL 53.609375 0 \nL 7.328125 0 \nL 7.328125 8.296875 \nQ 12.9375 14.109375 22.625 23.890625 \nQ 32.328125 33.6875 34.8125 36.53125 \nQ 39.546875 41.84375 41.421875 45.53125 \nQ 43.3125 49.21875 43.3125 52.78125 \nQ 43.3125 58.59375 39.234375 62.25 \nQ 35.15625 65.921875 28.609375 65.921875 \nQ 23.96875 65.921875 18.8125 64.3125 \nQ 13.671875 62.703125 7.8125 59.421875 \nL 7.8125 69.390625 \nQ 13.765625 71.78125 18.9375 73 \nQ 24.125 74.21875 28.421875 74.21875 \nQ 39.75 74.21875 46.484375 68.546875 \nQ 53.21875 62.890625 53.21875 53.421875 \nQ 53.21875 48.921875 51.53125 44.890625 \nQ 49.859375 40.875 45.40625 35.40625 \nQ 44.1875 33.984375 37.640625 27.21875 \nQ 31.109375 20.453125 19.1875 8.296875 \nz\n\" id=\"DejaVuSans-50\"/>\n       </defs>\n       <use xlink:href=\"#DejaVuSans-8722\"/>\n       <use x=\"83.789062\" xlink:href=\"#DejaVuSans-50\"/>\n       <use x=\"147.412109\" xlink:href=\"#DejaVuSans-48\"/>\n      </g>\n     </g>\n    </g>\n    <g id=\"xtick_4\">\n     <g id=\"line2d_4\">\n      <g>\n       <use style=\"stroke:#000000;stroke-width:0.8;\" x=\"185.896873\" xlink:href=\"#mf36d398f7b\" y=\"224.64\"/>\n      </g>\n     </g>\n     <g id=\"text_4\">\n      <!-- −10 -->\n      <g transform=\"translate(175.344529 239.238438)scale(0.1 -0.1)\">\n       <defs>\n        <path d=\"M 12.40625 8.296875 \nL 28.515625 8.296875 \nL 28.515625 63.921875 \nL 10.984375 60.40625 \nL 10.984375 69.390625 \nL 28.421875 72.90625 \nL 38.28125 72.90625 \nL 38.28125 8.296875 \nL 54.390625 8.296875 \nL 54.390625 0 \nL 12.40625 0 \nz\n\" id=\"DejaVuSans-49\"/>\n       </defs>\n       <use xlink:href=\"#DejaVuSans-8722\"/>\n       <use x=\"83.789062\" xlink:href=\"#DejaVuSans-49\"/>\n       <use x=\"147.412109\" xlink:href=\"#DejaVuSans-48\"/>\n      </g>\n     </g>\n    </g>\n    <g id=\"xtick_5\">\n     <g id=\"line2d_5\">\n      <g>\n       <use style=\"stroke:#000000;stroke-width:0.8;\" x=\"224.419474\" xlink:href=\"#mf36d398f7b\" y=\"224.64\"/>\n      </g>\n     </g>\n     <g id=\"text_5\">\n      <!-- 0 -->\n      <g transform=\"translate(221.238224 239.238438)scale(0.1 -0.1)\">\n       <use xlink:href=\"#DejaVuSans-48\"/>\n      </g>\n     </g>\n    </g>\n    <g id=\"xtick_6\">\n     <g id=\"line2d_6\">\n      <g>\n       <use style=\"stroke:#000000;stroke-width:0.8;\" x=\"262.942076\" xlink:href=\"#mf36d398f7b\" y=\"224.64\"/>\n      </g>\n     </g>\n     <g id=\"text_6\">\n      <!-- 10 -->\n      <g transform=\"translate(256.579576 239.238438)scale(0.1 -0.1)\">\n       <use xlink:href=\"#DejaVuSans-49\"/>\n       <use x=\"63.623047\" xlink:href=\"#DejaVuSans-48\"/>\n      </g>\n     </g>\n    </g>\n    <g id=\"xtick_7\">\n     <g id=\"line2d_7\">\n      <g>\n       <use style=\"stroke:#000000;stroke-width:0.8;\" x=\"301.464677\" xlink:href=\"#mf36d398f7b\" y=\"224.64\"/>\n      </g>\n     </g>\n     <g id=\"text_7\">\n      <!-- 20 -->\n      <g transform=\"translate(295.102177 239.238438)scale(0.1 -0.1)\">\n       <use xlink:href=\"#DejaVuSans-50\"/>\n       <use x=\"63.623047\" xlink:href=\"#DejaVuSans-48\"/>\n      </g>\n     </g>\n    </g>\n    <g id=\"xtick_8\">\n     <g id=\"line2d_8\">\n      <g>\n       <use style=\"stroke:#000000;stroke-width:0.8;\" x=\"339.987279\" xlink:href=\"#mf36d398f7b\" y=\"224.64\"/>\n      </g>\n     </g>\n     <g id=\"text_8\">\n      <!-- 30 -->\n      <g transform=\"translate(333.624779 239.238438)scale(0.1 -0.1)\">\n       <use xlink:href=\"#DejaVuSans-51\"/>\n       <use x=\"63.623047\" xlink:href=\"#DejaVuSans-48\"/>\n      </g>\n     </g>\n    </g>\n   </g>\n   <g id=\"matplotlib.axis_2\">\n    <g id=\"ytick_1\">\n     <g id=\"line2d_9\">\n      <defs>\n       <path d=\"M 0 0 \nL -3.5 0 \n\" id=\"m900bdb7fa8\" style=\"stroke:#000000;stroke-width:0.8;\"/>\n      </defs>\n      <g>\n       <use style=\"stroke:#000000;stroke-width:0.8;\" x=\"35.304688\" xlink:href=\"#m900bdb7fa8\" y=\"204.949352\"/>\n      </g>\n     </g>\n     <g id=\"text_9\">\n      <!-- −30 -->\n      <g transform=\"translate(7.2 208.748571)scale(0.1 -0.1)\">\n       <use xlink:href=\"#DejaVuSans-8722\"/>\n       <use x=\"83.789062\" xlink:href=\"#DejaVuSans-51\"/>\n       <use x=\"147.412109\" xlink:href=\"#DejaVuSans-48\"/>\n      </g>\n     </g>\n    </g>\n    <g id=\"ytick_2\">\n     <g id=\"line2d_10\">\n      <g>\n       <use style=\"stroke:#000000;stroke-width:0.8;\" x=\"35.304688\" xlink:href=\"#m900bdb7fa8\" y=\"178.291559\"/>\n      </g>\n     </g>\n     <g id=\"text_10\">\n      <!-- −20 -->\n      <g transform=\"translate(7.2 182.090778)scale(0.1 -0.1)\">\n       <use xlink:href=\"#DejaVuSans-8722\"/>\n       <use x=\"83.789062\" xlink:href=\"#DejaVuSans-50\"/>\n       <use x=\"147.412109\" xlink:href=\"#DejaVuSans-48\"/>\n      </g>\n     </g>\n    </g>\n    <g id=\"ytick_3\">\n     <g id=\"line2d_11\">\n      <g>\n       <use style=\"stroke:#000000;stroke-width:0.8;\" x=\"35.304688\" xlink:href=\"#m900bdb7fa8\" y=\"151.633766\"/>\n      </g>\n     </g>\n     <g id=\"text_11\">\n      <!-- −10 -->\n      <g transform=\"translate(7.2 155.432985)scale(0.1 -0.1)\">\n       <use xlink:href=\"#DejaVuSans-8722\"/>\n       <use x=\"83.789062\" xlink:href=\"#DejaVuSans-49\"/>\n       <use x=\"147.412109\" xlink:href=\"#DejaVuSans-48\"/>\n      </g>\n     </g>\n    </g>\n    <g id=\"ytick_4\">\n     <g id=\"line2d_12\">\n      <g>\n       <use style=\"stroke:#000000;stroke-width:0.8;\" x=\"35.304688\" xlink:href=\"#m900bdb7fa8\" y=\"124.975973\"/>\n      </g>\n     </g>\n     <g id=\"text_12\">\n      <!-- 0 -->\n      <g transform=\"translate(21.942188 128.775191)scale(0.1 -0.1)\">\n       <use xlink:href=\"#DejaVuSans-48\"/>\n      </g>\n     </g>\n    </g>\n    <g id=\"ytick_5\">\n     <g id=\"line2d_13\">\n      <g>\n       <use style=\"stroke:#000000;stroke-width:0.8;\" x=\"35.304688\" xlink:href=\"#m900bdb7fa8\" y=\"98.31818\"/>\n      </g>\n     </g>\n     <g id=\"text_13\">\n      <!-- 10 -->\n      <g transform=\"translate(15.579688 102.117398)scale(0.1 -0.1)\">\n       <use xlink:href=\"#DejaVuSans-49\"/>\n       <use x=\"63.623047\" xlink:href=\"#DejaVuSans-48\"/>\n      </g>\n     </g>\n    </g>\n    <g id=\"ytick_6\">\n     <g id=\"line2d_14\">\n      <g>\n       <use style=\"stroke:#000000;stroke-width:0.8;\" x=\"35.304688\" xlink:href=\"#m900bdb7fa8\" y=\"71.660386\"/>\n      </g>\n     </g>\n     <g id=\"text_14\">\n      <!-- 20 -->\n      <g transform=\"translate(15.579688 75.459605)scale(0.1 -0.1)\">\n       <use xlink:href=\"#DejaVuSans-50\"/>\n       <use x=\"63.623047\" xlink:href=\"#DejaVuSans-48\"/>\n      </g>\n     </g>\n    </g>\n    <g id=\"ytick_7\">\n     <g id=\"line2d_15\">\n      <g>\n       <use style=\"stroke:#000000;stroke-width:0.8;\" x=\"35.304688\" xlink:href=\"#m900bdb7fa8\" y=\"45.002593\"/>\n      </g>\n     </g>\n     <g id=\"text_15\">\n      <!-- 30 -->\n      <g transform=\"translate(15.579688 48.801812)scale(0.1 -0.1)\">\n       <use xlink:href=\"#DejaVuSans-51\"/>\n       <use x=\"63.623047\" xlink:href=\"#DejaVuSans-48\"/>\n      </g>\n     </g>\n    </g>\n    <g id=\"ytick_8\">\n     <g id=\"line2d_16\">\n      <g>\n       <use style=\"stroke:#000000;stroke-width:0.8;\" x=\"35.304688\" xlink:href=\"#m900bdb7fa8\" y=\"18.3448\"/>\n      </g>\n     </g>\n     <g id=\"text_16\">\n      <!-- 40 -->\n      <g transform=\"translate(15.579688 22.144019)scale(0.1 -0.1)\">\n       <use xlink:href=\"#DejaVuSans-52\"/>\n       <use x=\"63.623047\" xlink:href=\"#DejaVuSans-48\"/>\n      </g>\n     </g>\n    </g>\n   </g>\n   <g id=\"patch_3\">\n    <path d=\"M 35.304688 224.64 \nL 35.304688 7.2 \n\" style=\"fill:none;stroke:#000000;stroke-linecap:square;stroke-linejoin:miter;stroke-width:0.8;\"/>\n   </g>\n   <g id=\"patch_4\">\n    <path d=\"M 370.104688 224.64 \nL 370.104688 7.2 \n\" style=\"fill:none;stroke:#000000;stroke-linecap:square;stroke-linejoin:miter;stroke-width:0.8;\"/>\n   </g>\n   <g id=\"patch_5\">\n    <path d=\"M 35.304688 224.64 \nL 370.104688 224.64 \n\" style=\"fill:none;stroke:#000000;stroke-linecap:square;stroke-linejoin:miter;stroke-width:0.8;\"/>\n   </g>\n   <g id=\"patch_6\">\n    <path d=\"M 35.304688 7.2 \nL 370.104688 7.2 \n\" style=\"fill:none;stroke:#000000;stroke-linecap:square;stroke-linejoin:miter;stroke-width:0.8;\"/>\n   </g>\n  </g>\n </g>\n <defs>\n  <clipPath id=\"pf9f2e3f2a3\">\n   <rect height=\"217.44\" width=\"334.8\" x=\"35.304688\" y=\"7.2\"/>\n  </clipPath>\n </defs>\n</svg>\n",
      "text/plain": [
       "<Figure size 432x288 with 1 Axes>"
      ]
     },
     "metadata": {
      "needs_background": "light"
     },
     "output_type": "display_data"
    }
   ],
   "source": [
    "embedding = MDS(n_components=2)\n",
    "solution = embedding.fit_transform(np.concatenate((birdTestReps, dogTestReps, carTestReps, busTestReps)))\n",
    "plt.scatter(solution[0:100, 0], solution[0:100, 1], c='blue')\n",
    "plt.scatter(solution[100:200, 0], solution[100:200, 1], c='red')\n",
    "plt.scatter(solution[200:300, 0], solution[200:300, 1], c='green')\n",
    "plt.scatter(solution[300:400, 0], solution[300:400, 1], c='orange')"
   ]
  },
  {
   "cell_type": "markdown",
   "metadata": {},
   "source": [
    "# Category Verification Ecoset Model + GCM"
   ]
  },
  {
   "cell_type": "code",
   "execution_count": 19,
   "metadata": {},
   "outputs": [],
   "source": [
    "# Reimplementation of task to confirmation task\n",
    "maxExem = birdTrainReps.shape[0]\n",
    "criterion = 25\n",
    "\n",
    "verifData = pd.DataFrame(columns=['level', 'cat', 'resp', 'rt'])\n",
    "for rep in birdTestReps:\n",
    "    evidence = cat.get_evidence(rep, birdTrainReps, cat.gcm_sim, maxExem)\n",
    "    drift = evidence / (evidence + criterion)\n",
    "    resp, rt = cat.LBA_deterministic(drift, 1 - drift, b=.5)\n",
    "    resp = 'yes' if resp == 1 else 'no'\n",
    "    \n",
    "    # Add row\n",
    "    verifData = verifData.append({\n",
    "        'level': 'basic',\n",
    "        'cat': 'bird',\n",
    "        'resp': resp,\n",
    "        'rt': rt\n",
    "    }, ignore_index=True)\n",
    "\n",
    "for rep in dogTestReps:\n",
    "    evidence = cat.get_evidence(rep, dogTrainReps, cat.gcm_sim, maxExem)\n",
    "    drift = evidence / (evidence + criterion)\n",
    "    resp, rt = cat.LBA_deterministic(drift, 1 - drift, b=.5)\n",
    "    resp = 'yes' if resp == 1 else 'no'\n",
    "    \n",
    "    # Add row\n",
    "    verifData = verifData.append({\n",
    "        'level': 'basic',\n",
    "        'cat': 'dog',\n",
    "        'resp': resp,\n",
    "        'rt': rt\n",
    "    }, ignore_index=True)\n",
    "\n",
    "for rep in carTestReps:\n",
    "    evidence = cat.get_evidence(rep, carTrainReps, cat.gcm_sim, maxExem)\n",
    "    drift = evidence / (evidence + criterion)\n",
    "    resp, rt = cat.LBA_deterministic(drift, 1 - drift, b=.5)\n",
    "    resp = 'yes' if resp == 1 else 'no'\n",
    "    \n",
    "    # Add row\n",
    "    verifData = verifData.append({\n",
    "        'level': 'basic',\n",
    "        'cat': 'car',\n",
    "        'resp': resp,\n",
    "        'rt': rt\n",
    "    }, ignore_index=True)\n",
    "\n",
    "for rep in busTestReps:\n",
    "    evidence = cat.get_evidence(rep, busTrainReps, cat.gcm_sim, maxExem)\n",
    "    drift = evidence / (evidence + criterion)\n",
    "    resp, rt = cat.LBA_deterministic(drift, 1 - drift, b=.5)\n",
    "    resp = 'yes' if resp == 1 else 'no'\n",
    "    \n",
    "    # Add row\n",
    "    verifData = verifData.append({\n",
    "        'level': 'basic',\n",
    "        'cat': 'bus',\n",
    "        'resp': resp,\n",
    "        'rt': rt\n",
    "    }, ignore_index=True)\n",
    "\n",
    "for rep in animalTestReps:\n",
    "    evidence = cat.get_evidence(rep, animalTrainReps, cat.gcm_sim, maxExem)\n",
    "    drift = evidence / (evidence + criterion)\n",
    "    resp, rt = cat.LBA_deterministic(drift, 1 - drift, b=.5)\n",
    "    resp = 'yes' if resp == 1 else 'no'\n",
    "    \n",
    "    # Add row\n",
    "    verifData = verifData.append({\n",
    "        'level': 'super',\n",
    "        'cat': 'animal',\n",
    "        'resp': resp,\n",
    "        'rt': rt\n",
    "    }, ignore_index=True)\n",
    "\n",
    "for rep in vehicleTestReps:\n",
    "    evidence = cat.get_evidence(rep, vehicleTrainReps, cat.gcm_sim, maxExem)\n",
    "    drift = evidence / (evidence + criterion)\n",
    "    resp, rt = cat.LBA_deterministic(drift, 1 - drift, b=.5)\n",
    "    resp = 'yes' if resp == 1 else 'no'\n",
    "    \n",
    "    # Add row\n",
    "    verifData = verifData.append({\n",
    "        'level': 'super',\n",
    "        'cat': 'vehicle',\n",
    "        'resp': resp,\n",
    "        'rt': rt\n",
    "    }, ignore_index=True)"
   ]
  },
  {
   "cell_type": "code",
   "execution_count": 20,
   "metadata": {},
   "outputs": [
    {
     "data": {
      "text/plain": [
       "level  resp\n",
       "basic  yes     379\n",
       "       no       21\n",
       "super  yes     356\n",
       "       no       44\n",
       "Name: resp, dtype: int64"
      ]
     },
     "execution_count": 20,
     "metadata": {},
     "output_type": "execute_result"
    }
   ],
   "source": [
    "# Group data basic on level and count responses\n",
    "verifData.groupby(['level'])['resp'].value_counts()"
   ]
  },
  {
   "cell_type": "code",
   "execution_count": 21,
   "metadata": {},
   "outputs": [
    {
     "data": {
      "text/plain": [
       "level\n",
       "basic    0.869541\n",
       "super    0.895626\n",
       "Name: rt, dtype: float64"
      ]
     },
     "execution_count": 21,
     "metadata": {},
     "output_type": "execute_result"
    }
   ],
   "source": [
    "verifData.groupby(['level'])['rt'].mean()"
   ]
  },
  {
   "cell_type": "markdown",
   "metadata": {},
   "source": [
    "# Category Choice Ecoset Model + GCM Sim"
   ]
  },
  {
   "cell_type": "code",
   "execution_count": 7,
   "metadata": {},
   "outputs": [],
   "source": [
    "# Perform cat comparing against only the most similar category\n",
    "withinCatEcosetData = pd.DataFrame(columns=['level', 'cat', 'resp', 'rt'])\n",
    "\n",
    "for rep in birdTestReps:\n",
    "    probs = cat.sim_prob(rep, birdTrainReps, dogTrainReps, cat.gcm_sim)\n",
    "    resp, rt = cat.LBA_deterministic(probs[0], probs[1])\n",
    "    resp = 'yes' if resp == 1 else 'no'\n",
    "    \n",
    "    # Add row\n",
    "    withinCatEcosetData = withinCatEcosetData.append({\n",
    "        'level': 'basic',\n",
    "        'cat': 'bird',\n",
    "        'resp': resp,\n",
    "        'rt': rt\n",
    "    }, ignore_index=True)\n",
    "\n",
    "for rep in dogTestReps:\n",
    "    probs = cat.sim_prob(rep, dogTrainReps, birdTrainReps, cat.gcm_sim)\n",
    "    resp, rt = cat.LBA_deterministic(probs[0], probs[1])\n",
    "    resp = 'yes' if resp == 1 else 'no'\n",
    "\n",
    "    # Add row\n",
    "    withinCatEcosetData = withinCatEcosetData.append({\n",
    "        'level': 'basic',\n",
    "        'cat': 'dog',\n",
    "        'resp': resp,\n",
    "        'rt': rt\n",
    "    }, ignore_index=True)\n",
    "\n",
    "for rep in carTestReps:\n",
    "    probs = cat.sim_prob(rep, carTrainReps, busTrainReps, cat.gcm_sim)\n",
    "    resp, rt = cat.LBA_deterministic(probs[0], probs[1])\n",
    "    resp = 'yes' if resp == 1 else 'no'\n",
    "\n",
    "    # Add row\n",
    "    withinCatEcosetData = withinCatEcosetData.append({\n",
    "        'level': 'basic',\n",
    "        'cat': 'car',\n",
    "        'resp': resp,\n",
    "        'rt': rt\n",
    "    }, ignore_index=True)\n",
    "\n",
    "for rep in busTestReps:\n",
    "    probs = cat.sim_prob(rep, busTrainReps, carTrainReps, cat.gcm_sim)\n",
    "    resp, rt = cat.LBA_deterministic(probs[0], probs[1])\n",
    "    resp = 'yes' if resp == 1 else 'no'\n",
    "\n",
    "    # Add row\n",
    "    withinCatEcosetData = withinCatEcosetData.append({\n",
    "        'level': 'basic',\n",
    "        'cat': 'bus',\n",
    "        'resp': resp,\n",
    "        'rt': rt\n",
    "    }, ignore_index=True)\n",
    "\n",
    "for rep in np.concatenate((birdTestReps, dogTestReps)):\n",
    "    probs = cat.sim_prob(rep, [birdTrainReps, dogTrainReps], [carTrainReps, busTrainReps], cat.gcm_sim)\n",
    "    resp, rt = cat.LBA_deterministic(probs[0], probs[1])\n",
    "    resp = 'yes' if resp == 1 else 'no'\n",
    "\n",
    "    # Add row\n",
    "    withinCatEcosetData = withinCatEcosetData.append({\n",
    "        'level': 'super',\n",
    "        'cat': 'animal',\n",
    "        'resp': resp,\n",
    "        'rt': rt\n",
    "    }, ignore_index=True)\n",
    "\n",
    "for rep in np.concatenate((carTrainReps, busTrainReps)):\n",
    "    probs = cat.sim_prob(rep, [carTrainReps, busTrainReps], [birdTrainReps, dogTrainReps], cat.gcm_sim)\n",
    "    resp, rt = cat.LBA_deterministic(probs[0], probs[1])\n",
    "    resp = 'yes' if resp == 1 else 'no'\n",
    "\n",
    "    # Add row\n",
    "    withinCatEcosetData = withinCatEcosetData.append({\n",
    "        'level': 'super',\n",
    "        'cat': 'vehicle',\n",
    "        'resp': resp,\n",
    "        'rt': rt\n",
    "    }, ignore_index=True)"
   ]
  },
  {
   "cell_type": "code",
   "execution_count": 8,
   "metadata": {},
   "outputs": [
    {
     "data": {
      "text/plain": [
       "level  resp\n",
       "basic  yes     369\n",
       "       no       31\n",
       "super  yes     396\n",
       "       no        4\n",
       "Name: resp, dtype: int64"
      ]
     },
     "execution_count": 8,
     "metadata": {},
     "output_type": "execute_result"
    }
   ],
   "source": [
    "# Group data basic on level and count responses\n",
    "withinCatEcosetData.groupby(['level'])['resp'].value_counts()"
   ]
  },
  {
   "cell_type": "code",
   "execution_count": 9,
   "metadata": {},
   "outputs": [
    {
     "data": {
      "text/plain": [
       "level\n",
       "basic    1.828109\n",
       "super    1.549011\n",
       "Name: rt, dtype: float64"
      ]
     },
     "execution_count": 9,
     "metadata": {},
     "output_type": "execute_result"
    }
   ],
   "source": [
    "# Group data basic on level and get mean RTs\n",
    "withinCatEcosetData.groupby(['level'])['rt'].mean()"
   ]
  },
  {
   "cell_type": "code",
   "execution_count": 11,
   "metadata": {},
   "outputs": [],
   "source": [
    "# Perform cat comparing against all other categories\n",
    "betweenCatEcosetData = pd.DataFrame(columns=['level', 'cat', 'resp', 'rt'])\n",
    "\n",
    "for rep in birdTestReps:\n",
    "    probs = cat.sim_prob(rep, birdTrainReps, [dogTrainReps, carTrainReps, busTrainReps], cat.gcm_sim, equalize=True)\n",
    "    resp, rt = cat.LBA_deterministic(probs[0], probs[1])\n",
    "    resp = 'yes' if resp == 1 else 'no'\n",
    "    \n",
    "    # Add row\n",
    "    betweenCatEcosetData = betweenCatEcosetData.append({\n",
    "        'level': 'basic',\n",
    "        'cat': 'bird',\n",
    "        'resp': resp,\n",
    "        'rt': rt\n",
    "    }, ignore_index=True)\n",
    "\n",
    "for rep in dogTestReps:\n",
    "    probs = cat.sim_prob(rep, dogTrainReps, [birdTrainReps, carTrainReps, busTrainReps], cat.gcm_sim, equalize=True)\n",
    "    resp, rt = cat.LBA_deterministic(probs[0], probs[1])\n",
    "    resp = 'yes' if resp == 1 else 'no'\n",
    "\n",
    "    # Add row\n",
    "    betweenCatEcosetData = betweenCatEcosetData.append({\n",
    "        'level': 'basic',\n",
    "        'cat': 'dog',\n",
    "        'resp': resp,\n",
    "        'rt': rt\n",
    "    }, ignore_index=True)\n",
    "\n",
    "for rep in carTestReps:\n",
    "    probs = cat.sim_prob(rep, carTrainReps, [busTrainReps, dogTrainReps, birdTrainReps], cat.gcm_sim, equalize=True)\n",
    "    resp, rt = cat.LBA_deterministic(probs[0], probs[1])\n",
    "    resp = 'yes' if resp == 1 else 'no'\n",
    "\n",
    "    # Add row\n",
    "    betweenCatEcosetData = betweenCatEcosetData.append({\n",
    "        'level': 'basic',\n",
    "        'cat': 'car',\n",
    "        'resp': resp,\n",
    "        'rt': rt\n",
    "    }, ignore_index=True)\n",
    "\n",
    "for rep in busTestReps:\n",
    "    probs = cat.sim_prob(rep, busTrainReps, [carTrainReps, dogTrainReps, birdTrainReps], cat.gcm_sim, equalize=True)\n",
    "    resp, rt = cat.LBA_deterministic(probs[0], probs[1])\n",
    "    resp = 'yes' if resp == 1 else 'no'\n",
    "\n",
    "    # Add row\n",
    "    betweenCatEcosetData = betweenCatEcosetData.append({\n",
    "        'level': 'basic',\n",
    "        'cat': 'bus',\n",
    "        'resp': resp,\n",
    "        'rt': rt\n",
    "    }, ignore_index=True)\n",
    "\n",
    "for rep in np.concatenate((birdTestReps, dogTestReps)):\n",
    "    probs = cat.sim_prob(rep, [birdTrainReps, dogTrainReps], [carTrainReps, busTrainReps], cat.gcm_sim)\n",
    "    resp, rt = cat.LBA_deterministic(probs[0], probs[1])\n",
    "    resp = 'yes' if resp == 1 else 'no'\n",
    "\n",
    "    # Add row\n",
    "    betweenCatEcosetData = betweenCatEcosetData.append({\n",
    "        'level': 'super',\n",
    "        'cat': 'animal',\n",
    "        'resp': resp,\n",
    "        'rt': rt\n",
    "    }, ignore_index=True)\n",
    "\n",
    "for rep in np.concatenate((carTrainReps, busTrainReps)):\n",
    "    probs = cat.sim_prob(rep, [carTrainReps, busTrainReps], [birdTrainReps, dogTrainReps], cat.gcm_sim)\n",
    "    resp, rt = cat.LBA_deterministic(probs[0], probs[1])\n",
    "    resp = 'yes' if resp == 1 else 'no'\n",
    "\n",
    "    # Add row\n",
    "    betweenCatEcosetData = betweenCatEcosetData.append({\n",
    "        'level': 'super',\n",
    "        'cat': 'vehicle',\n",
    "        'resp': resp,\n",
    "        'rt': rt\n",
    "    }, ignore_index=True)"
   ]
  },
  {
   "cell_type": "code",
   "execution_count": 12,
   "metadata": {},
   "outputs": [
    {
     "data": {
      "text/plain": [
       "level  resp\n",
       "basic  yes     398\n",
       "       no        2\n",
       "super  yes     396\n",
       "       no        4\n",
       "Name: resp, dtype: int64"
      ]
     },
     "execution_count": 12,
     "metadata": {},
     "output_type": "execute_result"
    }
   ],
   "source": [
    "# Group data basic on level and count responses\n",
    "betweenCatEcosetData.groupby(['level'])['resp'].value_counts()"
   ]
  },
  {
   "cell_type": "code",
   "execution_count": 13,
   "metadata": {},
   "outputs": [
    {
     "data": {
      "text/plain": [
       "level\n",
       "basic    1.360280\n",
       "super    1.218595\n",
       "Name: rt, dtype: float64"
      ]
     },
     "execution_count": 13,
     "metadata": {},
     "output_type": "execute_result"
    }
   ],
   "source": [
    "# Group data basic on level and get mean RTs\n",
    "betweenCatEcosetData.groupby(['level'])['rt'].mean()"
   ]
  },
  {
   "cell_type": "markdown",
   "metadata": {},
   "source": [
    "# Category Choice Ecoset Model + Redist Sim"
   ]
  },
  {
   "cell_type": "code",
   "execution_count": 54,
   "metadata": {},
   "outputs": [],
   "source": [
    "# Perform cat comparing against all other categories\n",
    "withinCatEcosetRedistData = pd.DataFrame(columns=['level', 'cat', 'resp', 'rt'])\n",
    "simFun = lambda x, y: cat.gcm_sim(x, y, p=1)\n",
    "\n",
    "for rep in birdTestReps:\n",
    "    birdEvidence = cat.redist_evidence(rep, birdTrainReps, dogTrainReps, simFun, dist_penalty=False)\n",
    "    dogEvidence = cat.redist_evidence(rep, dogTrainReps, birdTrainReps, simFun, dist_penalty=False)\n",
    "    birdProb = birdEvidence / (birdEvidence + dogEvidence)\n",
    "    dogProb = dogEvidence / (birdEvidence + dogEvidence)\n",
    "    resp, rt = cat.LBA_deterministic(birdProb, dogProb)\n",
    "    resp = 'yes' if resp == 1 else 'no'\n",
    "    \n",
    "    # Add row\n",
    "    withinCatEcosetRedistData = withinCatEcosetRedistData.append({\n",
    "        'level': 'basic',\n",
    "        'cat': 'bird',\n",
    "        'resp': resp,\n",
    "        'rt': rt\n",
    "    }, ignore_index=True)\n",
    "\n",
    "for rep in dogTestReps:\n",
    "    birdEvidence = cat.redist_evidence(rep, birdTrainReps, dogTrainReps, simFun, dist_penalty=False)\n",
    "    dogEvidence = cat.redist_evidence(rep, dogTrainReps, birdTrainReps, simFun, dist_penalty=False)\n",
    "    birdProb = birdEvidence / (birdEvidence + dogEvidence)\n",
    "    dogProb = dogEvidence / (birdEvidence + dogEvidence)\n",
    "\n",
    "    resp, rt = cat.LBA_deterministic(dogProb, birdProb)\n",
    "    resp = 'yes' if resp == 1 else 'no'\n",
    "\n",
    "    # Add row\n",
    "    withinCatEcosetRedistData = withinCatEcosetRedistData.append({\n",
    "        'level': 'basic',\n",
    "        'cat': 'dog',\n",
    "        'resp': resp,\n",
    "        'rt': rt\n",
    "    }, ignore_index=True)\n",
    "\n",
    "for rep in carTestReps:\n",
    "    carEvidence = cat.redist_evidence(rep, carTrainReps, busTrainReps, simFun, dist_penalty=False)\n",
    "    busEvidence = cat.redist_evidence(rep, busTrainReps, carTrainReps, simFun, dist_penalty=False)\n",
    "    carProb = carEvidence / (carEvidence + busEvidence)\n",
    "    busProb = busEvidence / (carEvidence + busEvidence)\n",
    "\n",
    "    resp, rt = cat.LBA_deterministic(carProb, busProb)\n",
    "    resp = 'yes' if resp == 1 else 'no'\n",
    "\n",
    "    # Add row\n",
    "    withinCatEcosetRedistData = withinCatEcosetRedistData.append({\n",
    "        'level': 'basic',\n",
    "        'cat': 'car',\n",
    "        'resp': resp,\n",
    "        'rt': rt\n",
    "    }, ignore_index=True)\n",
    "\n",
    "for rep in busTestReps:\n",
    "    carEvidence = cat.redist_evidence(rep, carTrainReps, busTrainReps, simFun, dist_penalty=False)\n",
    "    busEvidence = cat.redist_evidence(rep, busTrainReps, carTrainReps, simFun, dist_penalty=False)\n",
    "    carProb = carEvidence / (carEvidence + busEvidence)\n",
    "    busProb = busEvidence / (carEvidence + busEvidence)\n",
    "\n",
    "    resp, rt = cat.LBA_deterministic(busProb, carProb)\n",
    "    resp = 'yes' if resp == 1 else 'no'\n",
    "\n",
    "    # Add row\n",
    "    withinCatEcosetRedistData = withinCatEcosetRedistData.append({\n",
    "        'level': 'basic',\n",
    "        'cat': 'bus',\n",
    "        'resp': resp,\n",
    "        'rt': rt\n",
    "    }, ignore_index=True)\n",
    "\n",
    "for rep in np.concatenate((birdTestReps, dogTestReps)):\n",
    "    animalEvidence = cat.redist_evidence(rep, animalTrainReps, vehicleTrainReps, simFun, dist_penalty=False)\n",
    "    vehicleEvidence = cat.redist_evidence(rep, vehicleTrainReps, animalTrainReps, simFun, dist_penalty=False)\n",
    "    animalProb = animalEvidence / (animalEvidence + vehicleEvidence)\n",
    "    vehicleProb = vehicleEvidence / (animalEvidence + vehicleEvidence)\n",
    "\n",
    "    resp, rt = cat.LBA_deterministic(animalProb, vehicleProb)\n",
    "    resp = 'yes' if resp == 1 else 'no'\n",
    "\n",
    "    # Add row\n",
    "    withinCatEcosetRedistData = withinCatEcosetRedistData.append({\n",
    "        'level': 'super',\n",
    "        'cat': 'animal',\n",
    "        'resp': resp,\n",
    "        'rt': rt\n",
    "    }, ignore_index=True)\n",
    "\n",
    "for rep in np.concatenate((carTrainReps, busTrainReps)):\n",
    "    animalEvidence = cat.redist_evidence(rep, animalTrainReps, vehicleTrainReps, simFun, dist_penalty=False)\n",
    "    vehicleEvidence = cat.redist_evidence(rep, vehicleTrainReps, animalTrainReps, simFun, dist_penalty=False)\n",
    "    animalProb = animalEvidence / (animalEvidence + vehicleEvidence)\n",
    "    vehicleProb = vehicleEvidence / (animalEvidence + vehicleEvidence)\n",
    "\n",
    "    resp, rt = cat.LBA_deterministic(vehicleProb, animalProb)\n",
    "    resp = 'yes' if resp == 1 else 'no'\n",
    "\n",
    "    # Add row\n",
    "    withinCatEcosetRedistData = withinCatEcosetRedistData.append({\n",
    "        'level': 'super',\n",
    "        'cat': 'vehicle',\n",
    "        'resp': resp,\n",
    "        'rt': rt\n",
    "    }, ignore_index=True)"
   ]
  },
  {
   "cell_type": "code",
   "execution_count": 55,
   "metadata": {},
   "outputs": [
    {
     "data": {
      "text/plain": [
       "level  resp\n",
       "basic  yes     375\n",
       "       no       25\n",
       "super  yes     392\n",
       "       no        8\n",
       "Name: resp, dtype: int64"
      ]
     },
     "execution_count": 55,
     "metadata": {},
     "output_type": "execute_result"
    }
   ],
   "source": [
    "# Group data basic on level and count responses\n",
    "withinCatEcosetRedistData.groupby(['level'])['resp'].value_counts()"
   ]
  },
  {
   "cell_type": "code",
   "execution_count": 56,
   "metadata": {},
   "outputs": [
    {
     "data": {
      "text/plain": [
       "level\n",
       "basic    1.908248\n",
       "super    1.848217\n",
       "Name: rt, dtype: float64"
      ]
     },
     "execution_count": 56,
     "metadata": {},
     "output_type": "execute_result"
    }
   ],
   "source": [
    "# Group data basic on level and get mean RTs\n",
    "withinCatEcosetRedistData.groupby(['level'])['rt'].mean()"
   ]
  },
  {
   "cell_type": "markdown",
   "metadata": {},
   "source": [
    "# Category Choice Ecoset Model + Prod Sim"
   ]
  },
  {
   "cell_type": "code",
   "execution_count": 14,
   "metadata": {},
   "outputs": [],
   "source": [
    "# Perform cat comparing against only the most similar category\n",
    "withinCatEcosetProdData = pd.DataFrame(columns=['level', 'cat', 'resp', 'rt'])\n",
    "\n",
    "for rep in birdTestReps:\n",
    "    probs = cat.sim_prob(rep, birdTrainReps, dogTrainReps, cat.prod_sim)\n",
    "    resp, rt = cat.LBA_deterministic(probs[0], probs[1])\n",
    "    resp = 'yes' if resp == 1 else 'no'\n",
    "    \n",
    "    # Add row\n",
    "    withinCatEcosetProdData = withinCatEcosetProdData.append({\n",
    "        'level': 'basic',\n",
    "        'cat': 'bird',\n",
    "        'resp': resp,\n",
    "        'rt': rt\n",
    "    }, ignore_index=True)\n",
    "\n",
    "for rep in dogTestReps:\n",
    "    probs = cat.sim_prob(rep, dogTrainReps, birdTrainReps, cat.prod_sim)\n",
    "    resp, rt = cat.LBA_deterministic(probs[0], probs[1])\n",
    "    resp = 'yes' if resp == 1 else 'no'\n",
    "\n",
    "    # Add row\n",
    "    withinCatEcosetProdData = withinCatEcosetProdData.append({\n",
    "        'level': 'basic',\n",
    "        'cat': 'dog',\n",
    "        'resp': resp,\n",
    "        'rt': rt\n",
    "    }, ignore_index=True)\n",
    "\n",
    "for rep in carTestReps:\n",
    "    probs = cat.sim_prob(rep, carTrainReps, busTrainReps, cat.prod_sim)\n",
    "    resp, rt = cat.LBA_deterministic(probs[0], probs[1])\n",
    "    resp = 'yes' if resp == 1 else 'no'\n",
    "\n",
    "    # Add row\n",
    "    withinCatEcosetProdData = withinCatEcosetProdData.append({\n",
    "        'level': 'basic',\n",
    "        'cat': 'car',\n",
    "        'resp': resp,\n",
    "        'rt': rt\n",
    "    }, ignore_index=True)\n",
    "\n",
    "for rep in busTestReps:\n",
    "    probs = cat.sim_prob(rep, busTrainReps, carTrainReps, cat.prod_sim)\n",
    "    resp, rt = cat.LBA_deterministic(probs[0], probs[1])\n",
    "    resp = 'yes' if resp == 1 else 'no'\n",
    "\n",
    "    # Add row\n",
    "    withinCatEcosetProdData = withinCatEcosetProdData.append({\n",
    "        'level': 'basic',\n",
    "        'cat': 'bus',\n",
    "        'resp': resp,\n",
    "        'rt': rt\n",
    "    }, ignore_index=True)\n",
    "\n",
    "for rep in np.concatenate((birdTestReps, dogTestReps)):\n",
    "    probs = cat.sim_prob(rep, [birdTrainReps, dogTrainReps], [carTrainReps, busTrainReps], cat.prod_sim)\n",
    "    resp, rt = cat.LBA_deterministic(probs[0], probs[1])\n",
    "    resp = 'yes' if resp == 1 else 'no'\n",
    "\n",
    "    # Add row\n",
    "    withinCatEcosetProdData = withinCatEcosetProdData.append({\n",
    "        'level': 'super',\n",
    "        'cat': 'animal',\n",
    "        'resp': resp,\n",
    "        'rt': rt\n",
    "    }, ignore_index=True)\n",
    "\n",
    "for rep in np.concatenate((carTrainReps, busTrainReps)):\n",
    "    probs = cat.sim_prob(rep, [carTrainReps, busTrainReps], [birdTrainReps, dogTrainReps], cat.prod_sim)\n",
    "    resp, rt = cat.LBA_deterministic(probs[0], probs[1])\n",
    "    resp = 'yes' if resp == 1 else 'no'\n",
    "\n",
    "    # Add row\n",
    "    withinCatEcosetProdData = withinCatEcosetProdData.append({\n",
    "        'level': 'super',\n",
    "        'cat': 'vehicle',\n",
    "        'resp': resp,\n",
    "        'rt': rt\n",
    "    }, ignore_index=True)"
   ]
  },
  {
   "cell_type": "code",
   "execution_count": 15,
   "metadata": {},
   "outputs": [
    {
     "data": {
      "text/plain": [
       "level  resp\n",
       "basic  yes     361\n",
       "       no       39\n",
       "super  yes     390\n",
       "       no       10\n",
       "Name: resp, dtype: int64"
      ]
     },
     "execution_count": 15,
     "metadata": {},
     "output_type": "execute_result"
    }
   ],
   "source": [
    "# Group data basic on level and count responses\n",
    "withinCatEcosetProdData.groupby(['level'])['resp'].value_counts()"
   ]
  },
  {
   "cell_type": "code",
   "execution_count": 16,
   "metadata": {},
   "outputs": [
    {
     "data": {
      "text/plain": [
       "level\n",
       "basic    1.858523\n",
       "super    1.585520\n",
       "Name: rt, dtype: float64"
      ]
     },
     "execution_count": 16,
     "metadata": {},
     "output_type": "execute_result"
    }
   ],
   "source": [
    "# Group data basic on level and get mean RTs\n",
    "withinCatEcosetProdData.groupby(['level'])['rt'].mean()"
   ]
  },
  {
   "cell_type": "markdown",
   "metadata": {},
   "source": [
    "# Category Choice VGG16 Model + GCM Sim"
   ]
  },
  {
   "cell_type": "code",
   "execution_count": 2,
   "metadata": {},
   "outputs": [
    {
     "name": "stderr",
     "output_type": "stream",
     "text": [
      "2022-07-05 21:04:02.931333: I tensorflow/stream_executor/platform/default/dso_loader.cc:53] Successfully opened dynamic library libcuda.so.1\n",
      "2022-07-05 21:04:02.964976: I tensorflow/stream_executor/cuda/cuda_gpu_executor.cc:937] successful NUMA node read from SysFS had negative value (-1), but there must be at least one NUMA node, so returning NUMA node zero\n",
      "2022-07-05 21:04:02.965526: I tensorflow/core/common_runtime/gpu/gpu_device.cc:1733] Found device 0 with properties: \n",
      "pciBusID: 0000:01:00.0 name: NVIDIA GeForce GTX 970 computeCapability: 5.2\n",
      "coreClock: 1.253GHz coreCount: 13 deviceMemorySize: 3.95GiB deviceMemoryBandwidth: 208.91GiB/s\n",
      "2022-07-05 21:04:02.965543: I tensorflow/stream_executor/platform/default/dso_loader.cc:53] Successfully opened dynamic library libcudart.so.11.0\n",
      "2022-07-05 21:04:02.968642: I tensorflow/stream_executor/platform/default/dso_loader.cc:53] Successfully opened dynamic library libcublas.so.11\n",
      "2022-07-05 21:04:02.968685: I tensorflow/stream_executor/platform/default/dso_loader.cc:53] Successfully opened dynamic library libcublasLt.so.11\n",
      "2022-07-05 21:04:02.970206: I tensorflow/stream_executor/platform/default/dso_loader.cc:53] Successfully opened dynamic library libcufft.so.10\n",
      "2022-07-05 21:04:02.970433: I tensorflow/stream_executor/platform/default/dso_loader.cc:53] Successfully opened dynamic library libcurand.so.10\n",
      "2022-07-05 21:04:02.970867: I tensorflow/stream_executor/platform/default/dso_loader.cc:53] Successfully opened dynamic library libcusolver.so.11\n",
      "2022-07-05 21:04:02.971520: I tensorflow/stream_executor/platform/default/dso_loader.cc:53] Successfully opened dynamic library libcusparse.so.11\n",
      "2022-07-05 21:04:02.971629: I tensorflow/stream_executor/platform/default/dso_loader.cc:53] Successfully opened dynamic library libcudnn.so.8\n",
      "2022-07-05 21:04:02.971731: I tensorflow/stream_executor/cuda/cuda_gpu_executor.cc:937] successful NUMA node read from SysFS had negative value (-1), but there must be at least one NUMA node, so returning NUMA node zero\n",
      "2022-07-05 21:04:02.972349: I tensorflow/stream_executor/cuda/cuda_gpu_executor.cc:937] successful NUMA node read from SysFS had negative value (-1), but there must be at least one NUMA node, so returning NUMA node zero\n",
      "2022-07-05 21:04:02.972753: I tensorflow/core/common_runtime/gpu/gpu_device.cc:1871] Adding visible gpu devices: 0\n",
      "2022-07-05 21:04:02.973042: I tensorflow/core/platform/cpu_feature_guard.cc:142] This TensorFlow binary is optimized with oneAPI Deep Neural Network Library (oneDNN) to use the following CPU instructions in performance-critical operations:  AVX2 FMA\n",
      "To enable them in other operations, rebuild TensorFlow with the appropriate compiler flags.\n",
      "2022-07-05 21:04:02.973272: I tensorflow/stream_executor/cuda/cuda_gpu_executor.cc:937] successful NUMA node read from SysFS had negative value (-1), but there must be at least one NUMA node, so returning NUMA node zero\n",
      "2022-07-05 21:04:02.973820: I tensorflow/core/common_runtime/gpu/gpu_device.cc:1733] Found device 0 with properties: \n",
      "pciBusID: 0000:01:00.0 name: NVIDIA GeForce GTX 970 computeCapability: 5.2\n",
      "coreClock: 1.253GHz coreCount: 13 deviceMemorySize: 3.95GiB deviceMemoryBandwidth: 208.91GiB/s\n",
      "2022-07-05 21:04:02.973896: I tensorflow/stream_executor/cuda/cuda_gpu_executor.cc:937] successful NUMA node read from SysFS had negative value (-1), but there must be at least one NUMA node, so returning NUMA node zero\n",
      "2022-07-05 21:04:02.974387: I tensorflow/stream_executor/cuda/cuda_gpu_executor.cc:937] successful NUMA node read from SysFS had negative value (-1), but there must be at least one NUMA node, so returning NUMA node zero\n",
      "2022-07-05 21:04:02.974778: I tensorflow/core/common_runtime/gpu/gpu_device.cc:1871] Adding visible gpu devices: 0\n",
      "2022-07-05 21:04:02.974815: I tensorflow/stream_executor/platform/default/dso_loader.cc:53] Successfully opened dynamic library libcudart.so.11.0\n",
      "2022-07-05 21:04:03.363060: I tensorflow/core/common_runtime/gpu/gpu_device.cc:1258] Device interconnect StreamExecutor with strength 1 edge matrix:\n",
      "2022-07-05 21:04:03.363084: I tensorflow/core/common_runtime/gpu/gpu_device.cc:1264]      0 \n",
      "2022-07-05 21:04:03.363090: I tensorflow/core/common_runtime/gpu/gpu_device.cc:1277] 0:   N \n",
      "2022-07-05 21:04:03.363256: I tensorflow/stream_executor/cuda/cuda_gpu_executor.cc:937] successful NUMA node read from SysFS had negative value (-1), but there must be at least one NUMA node, so returning NUMA node zero\n",
      "2022-07-05 21:04:03.363560: I tensorflow/stream_executor/cuda/cuda_gpu_executor.cc:937] successful NUMA node read from SysFS had negative value (-1), but there must be at least one NUMA node, so returning NUMA node zero\n",
      "2022-07-05 21:04:03.363841: I tensorflow/stream_executor/cuda/cuda_gpu_executor.cc:937] successful NUMA node read from SysFS had negative value (-1), but there must be at least one NUMA node, so returning NUMA node zero\n",
      "2022-07-05 21:04:03.364091: I tensorflow/core/common_runtime/gpu/gpu_device.cc:1418] Created TensorFlow device (/job:localhost/replica:0/task:0/device:GPU:0 with 3344 MB memory) -> physical GPU (device: 0, name: NVIDIA GeForce GTX 970, pci bus id: 0000:01:00.0, compute capability: 5.2)\n"
     ]
    },
    {
     "name": "stdout",
     "output_type": "stream",
     "text": [
      "Model: \"model\"\n",
      "_________________________________________________________________\n",
      "Layer (type)                 Output Shape              Param #   \n",
      "=================================================================\n",
      "input_1 (InputLayer)         [(None, 224, 224, 3)]     0         \n",
      "_________________________________________________________________\n",
      "block1_conv1 (Conv2D)        (None, 224, 224, 64)      1792      \n",
      "_________________________________________________________________\n",
      "block1_conv2 (Conv2D)        (None, 224, 224, 64)      36928     \n",
      "_________________________________________________________________\n",
      "block1_pool (MaxPooling2D)   (None, 112, 112, 64)      0         \n",
      "_________________________________________________________________\n",
      "block2_conv1 (Conv2D)        (None, 112, 112, 128)     73856     \n",
      "_________________________________________________________________\n",
      "block2_conv2 (Conv2D)        (None, 112, 112, 128)     147584    \n",
      "_________________________________________________________________\n",
      "block2_pool (MaxPooling2D)   (None, 56, 56, 128)       0         \n",
      "_________________________________________________________________\n",
      "block3_conv1 (Conv2D)        (None, 56, 56, 256)       295168    \n",
      "_________________________________________________________________\n",
      "block3_conv2 (Conv2D)        (None, 56, 56, 256)       590080    \n",
      "_________________________________________________________________\n",
      "block3_conv3 (Conv2D)        (None, 56, 56, 256)       590080    \n",
      "_________________________________________________________________\n",
      "block3_pool (MaxPooling2D)   (None, 28, 28, 256)       0         \n",
      "_________________________________________________________________\n",
      "block4_conv1 (Conv2D)        (None, 28, 28, 512)       1180160   \n",
      "_________________________________________________________________\n",
      "block4_conv2 (Conv2D)        (None, 28, 28, 512)       2359808   \n",
      "_________________________________________________________________\n",
      "block4_conv3 (Conv2D)        (None, 28, 28, 512)       2359808   \n",
      "_________________________________________________________________\n",
      "block4_pool (MaxPooling2D)   (None, 14, 14, 512)       0         \n",
      "_________________________________________________________________\n",
      "block5_conv1 (Conv2D)        (None, 14, 14, 512)       2359808   \n",
      "_________________________________________________________________\n",
      "block5_conv2 (Conv2D)        (None, 14, 14, 512)       2359808   \n",
      "_________________________________________________________________\n",
      "block5_conv3 (Conv2D)        (None, 14, 14, 512)       2359808   \n",
      "_________________________________________________________________\n",
      "block5_pool (MaxPooling2D)   (None, 7, 7, 512)         0         \n",
      "_________________________________________________________________\n",
      "flatten (Flatten)            (None, 25088)             0         \n",
      "_________________________________________________________________\n",
      "fc1 (Dense)                  (None, 4096)              102764544 \n",
      "_________________________________________________________________\n",
      "fc2 (Dense)                  (None, 4096)              16781312  \n",
      "=================================================================\n",
      "Total params: 134,260,544\n",
      "Trainable params: 134,260,544\n",
      "Non-trainable params: 0\n",
      "_________________________________________________________________\n"
     ]
    },
    {
     "name": "stderr",
     "output_type": "stream",
     "text": [
      "2022-07-05 21:04:04.472638: W tensorflow/core/framework/cpu_allocator_impl.cc:80] Allocation of 411041792 exceeds 10% of free system memory.\n"
     ]
    }
   ],
   "source": [
    "model = tf.keras.applications.vgg16.VGG16(include_top=True)\n",
    "\n",
    "# Get output from penultimate layer\n",
    "model = tf.keras.Model(inputs=model.input, outputs=model.layers[-2].output)\n",
    "\n",
    "model.summary()"
   ]
  },
  {
   "cell_type": "code",
   "execution_count": 26,
   "metadata": {},
   "outputs": [],
   "source": [
    "trainCats, trainCounts = cat.build_categories_from_ecoset(\n",
    "    './images/train', \n",
    "    includeSub=False,\n",
    "    maxImgs=100\n",
    "    )\n",
    "testCats, testCounts = cat.build_categories_from_ecoset(\n",
    "    './images/val+test',\n",
    "    includeSub=False,\n",
    "    maxImgs=100\n",
    ")\n",
    "\n",
    "def vggPreprocess(img):\n",
    "    if isinstance(img, Image.Image):\n",
    "        img = img.convert(\"RGB\")\n",
    "    img = np.array(img)\n",
    "    img = tf.keras.preprocessing.image.smart_resize(img, (224, 224))\n",
    "    img = tf.keras.applications.vgg16.preprocess_input(img)\n",
    "    img = np.expand_dims(img, axis=0)\n",
    "    return img\n",
    "    \n",
    "trainImages = cat.get_images_from_cat(trainCats, preprocFun = vggPreprocess)\n",
    "testImages = cat.get_images_from_cat(testCats, preprocFun = vggPreprocess)"
   ]
  },
  {
   "cell_type": "code",
   "execution_count": 24,
   "metadata": {},
   "outputs": [],
   "source": [
    "image = Image.open(trainCats['animal']['0085_bird'][0])\n",
    "image = image.convert('RGB')\n",
    "image = np.array(image)\n",
    "image = tf.keras.preprocessing.image.smart_resize(image, (224, 224))\n",
    "image = tf.keras.applications.vgg16.preprocess_input(image)\n",
    "image = np.expand_dims(image, axis=0)"
   ]
  },
  {
   "cell_type": "code",
   "execution_count": 32,
   "metadata": {},
   "outputs": [],
   "source": [
    "birdTrainReps = model.predict(trainImages['animal']['0085_bird'])\n",
    "dogTrainReps = model.predict(trainImages['animal']['0039_dog'])\n",
    "carTrainReps = model.predict(trainImages['vehicle']['0009_car'])\n",
    "busTrainReps = model.predict(trainImages['vehicle']['0089_bus'])\n",
    "\n",
    "birdTestReps = model.predict(testImages['animal']['0085_bird'])\n",
    "dogTestReps = model.predict(testImages['animal']['0039_dog'])\n",
    "carTestReps = model.predict(testImages['vehicle']['0009_car'])\n",
    "busTestReps = model.predict(testImages['vehicle']['0089_bus'])"
   ]
  },
  {
   "cell_type": "code",
   "execution_count": 36,
   "metadata": {},
   "outputs": [],
   "source": [
    "# Perform cat comparing against only the most similar category\n",
    "withinCatVGGData = pd.DataFrame(columns=['level', 'cat', 'resp', 'rt'])\n",
    "\n",
    "for rep in birdTestReps:\n",
    "    probs = cat.sim_prob(rep, birdTrainReps, dogTrainReps, cat.gcm_sim)\n",
    "    resp, rt = cat.LBA_deterministic(probs[0], probs[1])\n",
    "    resp = 'yes' if resp == 1 else 'no'\n",
    "    \n",
    "    # Add row\n",
    "    withinCatVGGData = withinCatVGGData.append({\n",
    "        'level': 'basic',\n",
    "        'cat': 'bird',\n",
    "        'resp': resp,\n",
    "        'rt': rt\n",
    "    }, ignore_index=True)\n",
    "\n",
    "for rep in dogTestReps:\n",
    "    probs = cat.sim_prob(rep, dogTrainReps, birdTrainReps, cat.gcm_sim)\n",
    "    resp, rt = cat.LBA_deterministic(probs[0], probs[1])\n",
    "    resp = 'yes' if resp == 1 else 'no'\n",
    "\n",
    "    # Add row\n",
    "    withinCatVGGData = withinCatVGGData.append({\n",
    "        'level': 'basic',\n",
    "        'cat': 'dog',\n",
    "        'resp': resp,\n",
    "        'rt': rt\n",
    "    }, ignore_index=True)\n",
    "\n",
    "for rep in carTestReps:\n",
    "    probs = cat.sim_prob(rep, carTrainReps, busTrainReps, cat.gcm_sim)\n",
    "    resp, rt = cat.LBA_deterministic(probs[0], probs[1])\n",
    "    resp = 'yes' if resp == 1 else 'no'\n",
    "\n",
    "    # Add row\n",
    "    withinCatVGGData = withinCatVGGData.append({\n",
    "        'level': 'basic',\n",
    "        'cat': 'car',\n",
    "        'resp': resp,\n",
    "        'rt': rt\n",
    "    }, ignore_index=True)\n",
    "\n",
    "for rep in busTestReps:\n",
    "    probs = cat.sim_prob(rep, busTrainReps, carTrainReps, cat.gcm_sim)\n",
    "    resp, rt = cat.LBA_deterministic(probs[0], probs[1])\n",
    "    resp = 'yes' if resp == 1 else 'no'\n",
    "\n",
    "    # Add row\n",
    "    withinCatVGGData = withinCatVGGData.append({\n",
    "        'level': 'basic',\n",
    "        'cat': 'bus',\n",
    "        'resp': resp,\n",
    "        'rt': rt\n",
    "    }, ignore_index=True)\n",
    "\n",
    "for rep in np.concatenate((birdTestReps, dogTestReps)):\n",
    "    probs = cat.sim_prob(rep, [birdTrainReps, dogTrainReps], [carTrainReps, busTrainReps], cat.gcm_sim)\n",
    "    resp, rt = cat.LBA_deterministic(probs[0], probs[1])\n",
    "    resp = 'yes' if resp == 1 else 'no'\n",
    "\n",
    "    # Add row\n",
    "    withinCatVGGData = withinCatVGGData.append({\n",
    "        'level': 'super',\n",
    "        'cat': 'animal',\n",
    "        'resp': resp,\n",
    "        'rt': rt\n",
    "    }, ignore_index=True)\n",
    "\n",
    "for rep in np.concatenate((carTrainReps, busTrainReps)):\n",
    "    probs = cat.sim_prob(rep, [carTrainReps, busTrainReps], [birdTrainReps, dogTrainReps], cat.gcm_sim)\n",
    "    resp, rt = cat.LBA_deterministic(probs[0], probs[1])\n",
    "    resp = 'yes' if resp == 1 else 'no'\n",
    "\n",
    "    # Add row\n",
    "    withinCatVGGData = withinCatVGGData.append({\n",
    "        'level': 'super',\n",
    "        'cat': 'vehicle',\n",
    "        'resp': resp,\n",
    "        'rt': rt\n",
    "    }, ignore_index=True)"
   ]
  },
  {
   "cell_type": "code",
   "execution_count": 37,
   "metadata": {},
   "outputs": [
    {
     "data": {
      "text/plain": [
       "level  resp\n",
       "basic  yes     381\n",
       "       no       19\n",
       "super  yes     267\n",
       "       no      133\n",
       "Name: resp, dtype: int64"
      ]
     },
     "execution_count": 37,
     "metadata": {},
     "output_type": "execute_result"
    }
   ],
   "source": [
    "# Group data basic on level and count responses\n",
    "withinCatVGGData.groupby(['level'])['resp'].value_counts()"
   ]
  },
  {
   "cell_type": "code",
   "execution_count": 38,
   "metadata": {},
   "outputs": [
    {
     "data": {
      "text/plain": [
       "level\n",
       "basic    1.602942\n",
       "super    1.588251\n",
       "Name: rt, dtype: float64"
      ]
     },
     "execution_count": 38,
     "metadata": {},
     "output_type": "execute_result"
    }
   ],
   "source": [
    "withinCatVGGData.groupby(['level'])['rt'].mean()"
   ]
  },
  {
   "cell_type": "code",
   "execution_count": 39,
   "metadata": {},
   "outputs": [
    {
     "data": {
      "text/plain": [
       "<matplotlib.collections.PathCollection at 0x7f7c86038850>"
      ]
     },
     "execution_count": 39,
     "metadata": {},
     "output_type": "execute_result"
    },
    {
     "data": {
      "image/png": "[encoded data removed]",
      "image/svg+xml": "<?xml version=\"1.0\" encoding=\"utf-8\" standalone=\"no\"?>\n<!DOCTYPE svg PUBLIC \"-//W3C//DTD SVG 1.1//EN\"\n  \"http://www.w3.org/Graphics/SVG/1.1/DTD/svg11.dtd\">\n<!-- Created with matplotlib (https://matplotlib.org/) -->\n<svg height=\"248.518125pt\" version=\"1.1\" viewBox=\"0 0 387.636749 248.518125\" width=\"387.636749pt\" xmlns=\"http://www.w3.org/2000/svg\" xmlns:xlink=\"http://www.w3.org/1999/xlink\">\n <metadata>\n  <rdf:RDF xmlns:cc=\"http://creativecommons.org/ns#\" xmlns:dc=\"http://purl.org/dc/elements/1.1/\" xmlns:rdf=\"http://www.w3.org/1999/02/22-rdf-syntax-ns#\">\n   <cc:Work>\n    <dc:type rdf:resource=\"http://purl.org/dc/dcmitype/StillImage\"/>\n    <dc:date>2022-07-05T21:15:27.223985</dc:date>\n    <dc:format>image/svg+xml</dc:format>\n    <dc:creator>\n     <cc:Agent>\n      <dc:title>Matplotlib v3.3.2, https://matplotlib.org/</dc:title>\n     </cc:Agent>\n    </dc:creator>\n   </cc:Work>\n  </rdf:RDF>\n </metadata>\n <defs>\n  <style type=\"text/css\">*{stroke-linecap:butt;stroke-linejoin:round;}</style>\n </defs>\n <g id=\"figure_1\">\n  <g id=\"patch_1\">\n   <path d=\"M 0 248.518125 \nL 387.636749 248.518125 \nL 387.636749 0 \nL 0 0 \nz\n\" style=\"fill:none;\"/>\n  </g>\n  <g id=\"axes_1\">\n   <g id=\"patch_2\">\n    <path d=\"M 41.667188 224.64 \nL 376.467188 224.64 \nL 376.467188 7.2 \nL 41.667188 7.2 \nz\n\" style=\"fill:#ffffff;\"/>\n   </g>\n   <g id=\"PathCollection_1\">\n    <defs>\n     <path d=\"M 0 3 \nC 0.795609 3 1.55874 2.683901 2.12132 2.12132 \nC 2.683901 1.55874 3 0.795609 3 0 \nC 3 -0.795609 2.683901 -1.55874 2.12132 -2.12132 \nC 1.55874 -2.683901 0.795609 -3 0 -3 \nC -0.795609 -3 -1.55874 -2.683901 -2.12132 -2.12132 \nC -2.683901 -1.55874 -3 -0.795609 -3 0 \nC -3 0.795609 -2.683901 1.55874 -2.12132 2.12132 \nC -1.55874 2.683901 -0.795609 3 0 3 \nz\n\" id=\"me390a31b77\" style=\"stroke:#0000ff;\"/>\n    </defs>\n    <g clip-path=\"url(#p800b546988)\">\n     <use style=\"fill:#0000ff;stroke:#0000ff;\" x=\"207.850335\" xlink:href=\"#me390a31b77\" y=\"72.584845\"/>\n     <use style=\"fill:#0000ff;stroke:#0000ff;\" x=\"204.843642\" xlink:href=\"#me390a31b77\" y=\"102.019503\"/>\n     <use style=\"fill:#0000ff;stroke:#0000ff;\" x=\"238.65925\" xlink:href=\"#me390a31b77\" y=\"100.658885\"/>\n     <use style=\"fill:#0000ff;stroke:#0000ff;\" x=\"148.797006\" xlink:href=\"#me390a31b77\" y=\"82.687349\"/>\n     <use style=\"fill:#0000ff;stroke:#0000ff;\" x=\"274.72076\" xlink:href=\"#me390a31b77\" y=\"110.503501\"/>\n     <use style=\"fill:#0000ff;stroke:#0000ff;\" x=\"215.082299\" xlink:href=\"#me390a31b77\" y=\"41.104398\"/>\n     <use style=\"fill:#0000ff;stroke:#0000ff;\" x=\"296.675157\" xlink:href=\"#me390a31b77\" y=\"112.754286\"/>\n     <use style=\"fill:#0000ff;stroke:#0000ff;\" x=\"176.170927\" xlink:href=\"#me390a31b77\" y=\"104.901773\"/>\n     <use style=\"fill:#0000ff;stroke:#0000ff;\" x=\"175.840101\" xlink:href=\"#me390a31b77\" y=\"114.888096\"/>\n     <use style=\"fill:#0000ff;stroke:#0000ff;\" x=\"146.845164\" xlink:href=\"#me390a31b77\" y=\"93.266055\"/>\n     <use style=\"fill:#0000ff;stroke:#0000ff;\" x=\"115.149171\" xlink:href=\"#me390a31b77\" y=\"81.968344\"/>\n     <use style=\"fill:#0000ff;stroke:#0000ff;\" x=\"194.784666\" xlink:href=\"#me390a31b77\" y=\"101.840115\"/>\n     <use style=\"fill:#0000ff;stroke:#0000ff;\" x=\"280.450441\" xlink:href=\"#me390a31b77\" y=\"82.116857\"/>\n     <use style=\"fill:#0000ff;stroke:#0000ff;\" x=\"182.35242\" xlink:href=\"#me390a31b77\" y=\"93.74557\"/>\n     <use style=\"fill:#0000ff;stroke:#0000ff;\" x=\"209.029837\" xlink:href=\"#me390a31b77\" y=\"80.916055\"/>\n     <use style=\"fill:#0000ff;stroke:#0000ff;\" x=\"361.249006\" xlink:href=\"#me390a31b77\" y=\"91.177352\"/>\n     <use style=\"fill:#0000ff;stroke:#0000ff;\" x=\"254.256499\" xlink:href=\"#me390a31b77\" y=\"121.085139\"/>\n     <use style=\"fill:#0000ff;stroke:#0000ff;\" x=\"229.291291\" xlink:href=\"#me390a31b77\" y=\"108.680083\"/>\n     <use style=\"fill:#0000ff;stroke:#0000ff;\" x=\"213.756953\" xlink:href=\"#me390a31b77\" y=\"121.43816\"/>\n     <use style=\"fill:#0000ff;stroke:#0000ff;\" x=\"247.663148\" xlink:href=\"#me390a31b77\" y=\"121.304287\"/>\n     <use style=\"fill:#0000ff;stroke:#0000ff;\" x=\"250.982187\" xlink:href=\"#me390a31b77\" y=\"110.65707\"/>\n     <use style=\"fill:#0000ff;stroke:#0000ff;\" x=\"183.118658\" xlink:href=\"#me390a31b77\" y=\"17.083636\"/>\n     <use style=\"fill:#0000ff;stroke:#0000ff;\" x=\"234.709353\" xlink:href=\"#me390a31b77\" y=\"120.16558\"/>\n     <use style=\"fill:#0000ff;stroke:#0000ff;\" x=\"234.746598\" xlink:href=\"#me390a31b77\" y=\"98.648386\"/>\n     <use style=\"fill:#0000ff;stroke:#0000ff;\" x=\"233.595724\" xlink:href=\"#me390a31b77\" y=\"109.913778\"/>\n     <use style=\"fill:#0000ff;stroke:#0000ff;\" x=\"258.751974\" xlink:href=\"#me390a31b77\" y=\"106.912617\"/>\n     <use style=\"fill:#0000ff;stroke:#0000ff;\" x=\"201.657963\" xlink:href=\"#me390a31b77\" y=\"113.581603\"/>\n     <use style=\"fill:#0000ff;stroke:#0000ff;\" x=\"233.354305\" xlink:href=\"#me390a31b77\" y=\"88.501158\"/>\n     <use style=\"fill:#0000ff;stroke:#0000ff;\" x=\"347.941264\" xlink:href=\"#me390a31b77\" y=\"99.796883\"/>\n     <use style=\"fill:#0000ff;stroke:#0000ff;\" x=\"155.081752\" xlink:href=\"#me390a31b77\" y=\"90.398396\"/>\n     <use style=\"fill:#0000ff;stroke:#0000ff;\" x=\"291.554988\" xlink:href=\"#me390a31b77\" y=\"113.842505\"/>\n     <use style=\"fill:#0000ff;stroke:#0000ff;\" x=\"196.81813\" xlink:href=\"#me390a31b77\" y=\"122.91588\"/>\n     <use style=\"fill:#0000ff;stroke:#0000ff;\" x=\"164.273615\" xlink:href=\"#me390a31b77\" y=\"107.949658\"/>\n     <use style=\"fill:#0000ff;stroke:#0000ff;\" x=\"244.975497\" xlink:href=\"#me390a31b77\" y=\"95.739396\"/>\n     <use style=\"fill:#0000ff;stroke:#0000ff;\" x=\"262.050161\" xlink:href=\"#me390a31b77\" y=\"86.945848\"/>\n     <use style=\"fill:#0000ff;stroke:#0000ff;\" x=\"264.20047\" xlink:href=\"#me390a31b77\" y=\"117.741028\"/>\n     <use style=\"fill:#0000ff;stroke:#0000ff;\" x=\"131.884568\" xlink:href=\"#me390a31b77\" y=\"89.384287\"/>\n     <use style=\"fill:#0000ff;stroke:#0000ff;\" x=\"198.744914\" xlink:href=\"#me390a31b77\" y=\"91.273732\"/>\n     <use style=\"fill:#0000ff;stroke:#0000ff;\" x=\"127.463536\" xlink:href=\"#me390a31b77\" y=\"113.514497\"/>\n     <use style=\"fill:#0000ff;stroke:#0000ff;\" x=\"234.841217\" xlink:href=\"#me390a31b77\" y=\"113.067515\"/>\n     <use style=\"fill:#0000ff;stroke:#0000ff;\" x=\"206.686865\" xlink:href=\"#me390a31b77\" y=\"94.690467\"/>\n     <use style=\"fill:#0000ff;stroke:#0000ff;\" x=\"205.257156\" xlink:href=\"#me390a31b77\" y=\"110.41358\"/>\n     <use style=\"fill:#0000ff;stroke:#0000ff;\" x=\"239.216469\" xlink:href=\"#me390a31b77\" y=\"125.02246\"/>\n     <use style=\"fill:#0000ff;stroke:#0000ff;\" x=\"186.68986\" xlink:href=\"#me390a31b77\" y=\"102.284747\"/>\n     <use style=\"fill:#0000ff;stroke:#0000ff;\" x=\"215.107576\" xlink:href=\"#me390a31b77\" y=\"128.222707\"/>\n     <use style=\"fill:#0000ff;stroke:#0000ff;\" x=\"217.648919\" xlink:href=\"#me390a31b77\" y=\"100.446757\"/>\n     <use style=\"fill:#0000ff;stroke:#0000ff;\" x=\"230.9303\" xlink:href=\"#me390a31b77\" y=\"127.919156\"/>\n     <use style=\"fill:#0000ff;stroke:#0000ff;\" x=\"188.160892\" xlink:href=\"#me390a31b77\" y=\"114.460893\"/>\n     <use style=\"fill:#0000ff;stroke:#0000ff;\" x=\"208.058974\" xlink:href=\"#me390a31b77\" y=\"98.422841\"/>\n     <use style=\"fill:#0000ff;stroke:#0000ff;\" x=\"99.036033\" xlink:href=\"#me390a31b77\" y=\"101.062266\"/>\n     <use style=\"fill:#0000ff;stroke:#0000ff;\" x=\"174.561142\" xlink:href=\"#me390a31b77\" y=\"75.251156\"/>\n     <use style=\"fill:#0000ff;stroke:#0000ff;\" x=\"123.030207\" xlink:href=\"#me390a31b77\" y=\"58.296091\"/>\n     <use style=\"fill:#0000ff;stroke:#0000ff;\" x=\"164.135679\" xlink:href=\"#me390a31b77\" y=\"82.256397\"/>\n     <use style=\"fill:#0000ff;stroke:#0000ff;\" x=\"110.215553\" xlink:href=\"#me390a31b77\" y=\"104.283634\"/>\n     <use style=\"fill:#0000ff;stroke:#0000ff;\" x=\"242.125971\" xlink:href=\"#me390a31b77\" y=\"110.118345\"/>\n     <use style=\"fill:#0000ff;stroke:#0000ff;\" x=\"224.097116\" xlink:href=\"#me390a31b77\" y=\"121.956945\"/>\n     <use style=\"fill:#0000ff;stroke:#0000ff;\" x=\"214.673196\" xlink:href=\"#me390a31b77\" y=\"111.489747\"/>\n     <use style=\"fill:#0000ff;stroke:#0000ff;\" x=\"182.269288\" xlink:href=\"#me390a31b77\" y=\"82.753534\"/>\n     <use style=\"fill:#0000ff;stroke:#0000ff;\" x=\"251.293371\" xlink:href=\"#me390a31b77\" y=\"85.53823\"/>\n     <use style=\"fill:#0000ff;stroke:#0000ff;\" x=\"139.366677\" xlink:href=\"#me390a31b77\" y=\"87.384688\"/>\n     <use style=\"fill:#0000ff;stroke:#0000ff;\" x=\"157.944898\" xlink:href=\"#me390a31b77\" y=\"98.868648\"/>\n     <use style=\"fill:#0000ff;stroke:#0000ff;\" x=\"181.234013\" xlink:href=\"#me390a31b77\" y=\"100.596519\"/>\n     <use style=\"fill:#0000ff;stroke:#0000ff;\" x=\"171.711344\" xlink:href=\"#me390a31b77\" y=\"95.438739\"/>\n     <use style=\"fill:#0000ff;stroke:#0000ff;\" x=\"269.162313\" xlink:href=\"#me390a31b77\" y=\"93.042258\"/>\n     <use style=\"fill:#0000ff;stroke:#0000ff;\" x=\"197.291762\" xlink:href=\"#me390a31b77\" y=\"87.33278\"/>\n     <use style=\"fill:#0000ff;stroke:#0000ff;\" x=\"217.323082\" xlink:href=\"#me390a31b77\" y=\"133.68302\"/>\n     <use style=\"fill:#0000ff;stroke:#0000ff;\" x=\"273.018409\" xlink:href=\"#me390a31b77\" y=\"117.847398\"/>\n     <use style=\"fill:#0000ff;stroke:#0000ff;\" x=\"203.40284\" xlink:href=\"#me390a31b77\" y=\"69.942707\"/>\n     <use style=\"fill:#0000ff;stroke:#0000ff;\" x=\"276.417448\" xlink:href=\"#me390a31b77\" y=\"95.116118\"/>\n     <use style=\"fill:#0000ff;stroke:#0000ff;\" x=\"194.696411\" xlink:href=\"#me390a31b77\" y=\"117.304177\"/>\n     <use style=\"fill:#0000ff;stroke:#0000ff;\" x=\"225.109874\" xlink:href=\"#me390a31b77\" y=\"128.561113\"/>\n     <use style=\"fill:#0000ff;stroke:#0000ff;\" x=\"201.005243\" xlink:href=\"#me390a31b77\" y=\"121.641704\"/>\n     <use style=\"fill:#0000ff;stroke:#0000ff;\" x=\"220.696835\" xlink:href=\"#me390a31b77\" y=\"108.860855\"/>\n     <use style=\"fill:#0000ff;stroke:#0000ff;\" x=\"236.716533\" xlink:href=\"#me390a31b77\" y=\"80.06552\"/>\n     <use style=\"fill:#0000ff;stroke:#0000ff;\" x=\"56.885369\" xlink:href=\"#me390a31b77\" y=\"73.61699\"/>\n     <use style=\"fill:#0000ff;stroke:#0000ff;\" x=\"206.815393\" xlink:href=\"#me390a31b77\" y=\"128.662064\"/>\n     <use style=\"fill:#0000ff;stroke:#0000ff;\" x=\"155.798592\" xlink:href=\"#me390a31b77\" y=\"111.619489\"/>\n     <use style=\"fill:#0000ff;stroke:#0000ff;\" x=\"251.743408\" xlink:href=\"#me390a31b77\" y=\"103.08341\"/>\n     <use style=\"fill:#0000ff;stroke:#0000ff;\" x=\"214.862876\" xlink:href=\"#me390a31b77\" y=\"81.480582\"/>\n     <use style=\"fill:#0000ff;stroke:#0000ff;\" x=\"192.853688\" xlink:href=\"#me390a31b77\" y=\"80.262856\"/>\n     <use style=\"fill:#0000ff;stroke:#0000ff;\" x=\"190.493343\" xlink:href=\"#me390a31b77\" y=\"93.849061\"/>\n     <use style=\"fill:#0000ff;stroke:#0000ff;\" x=\"291.719661\" xlink:href=\"#me390a31b77\" y=\"90.07563\"/>\n     <use style=\"fill:#0000ff;stroke:#0000ff;\" x=\"255.916945\" xlink:href=\"#me390a31b77\" y=\"111.415114\"/>\n     <use style=\"fill:#0000ff;stroke:#0000ff;\" x=\"172.749224\" xlink:href=\"#me390a31b77\" y=\"77.946944\"/>\n     <use style=\"fill:#0000ff;stroke:#0000ff;\" x=\"166.827068\" xlink:href=\"#me390a31b77\" y=\"113.731436\"/>\n     <use style=\"fill:#0000ff;stroke:#0000ff;\" x=\"184.693009\" xlink:href=\"#me390a31b77\" y=\"110.683728\"/>\n     <use style=\"fill:#0000ff;stroke:#0000ff;\" x=\"163.099328\" xlink:href=\"#me390a31b77\" y=\"96.498992\"/>\n     <use style=\"fill:#0000ff;stroke:#0000ff;\" x=\"256.395863\" xlink:href=\"#me390a31b77\" y=\"104.750078\"/>\n     <use style=\"fill:#0000ff;stroke:#0000ff;\" x=\"296.935239\" xlink:href=\"#me390a31b77\" y=\"89.021834\"/>\n     <use style=\"fill:#0000ff;stroke:#0000ff;\" x=\"205.614017\" xlink:href=\"#me390a31b77\" y=\"119.909231\"/>\n     <use style=\"fill:#0000ff;stroke:#0000ff;\" x=\"249.850467\" xlink:href=\"#me390a31b77\" y=\"126.843842\"/>\n     <use style=\"fill:#0000ff;stroke:#0000ff;\" x=\"193.30461\" xlink:href=\"#me390a31b77\" y=\"135.11656\"/>\n     <use style=\"fill:#0000ff;stroke:#0000ff;\" x=\"207.065521\" xlink:href=\"#me390a31b77\" y=\"106.621371\"/>\n     <use style=\"fill:#0000ff;stroke:#0000ff;\" x=\"138.218508\" xlink:href=\"#me390a31b77\" y=\"105.912374\"/>\n     <use style=\"fill:#0000ff;stroke:#0000ff;\" x=\"219.553657\" xlink:href=\"#me390a31b77\" y=\"91.574309\"/>\n     <use style=\"fill:#0000ff;stroke:#0000ff;\" x=\"196.198162\" xlink:href=\"#me390a31b77\" y=\"110.062897\"/>\n     <use style=\"fill:#0000ff;stroke:#0000ff;\" x=\"123.99081\" xlink:href=\"#me390a31b77\" y=\"96.159037\"/>\n     <use style=\"fill:#0000ff;stroke:#0000ff;\" x=\"218.926075\" xlink:href=\"#me390a31b77\" y=\"118.737304\"/>\n     <use style=\"fill:#0000ff;stroke:#0000ff;\" x=\"275.01468\" xlink:href=\"#me390a31b77\" y=\"64.971569\"/>\n     <use style=\"fill:#0000ff;stroke:#0000ff;\" x=\"133.3723\" xlink:href=\"#me390a31b77\" y=\"102.450388\"/>\n    </g>\n   </g>\n   <g id=\"PathCollection_2\">\n    <defs>\n     <path d=\"M 0 3 \nC 0.795609 3 1.55874 2.683901 2.12132 2.12132 \nC 2.683901 1.55874 3 0.795609 3 0 \nC 3 -0.795609 2.683901 -1.55874 2.12132 -2.12132 \nC 1.55874 -2.683901 0.795609 -3 0 -3 \nC -0.795609 -3 -1.55874 -2.683901 -2.12132 -2.12132 \nC -2.683901 -1.55874 -3 -0.795609 -3 0 \nC -3 0.795609 -2.683901 1.55874 -2.12132 2.12132 \nC -1.55874 2.683901 -0.795609 3 0 3 \nz\n\" id=\"m6907c70a13\" style=\"stroke:#ff0000;\"/>\n    </defs>\n    <g clip-path=\"url(#p800b546988)\">\n     <use style=\"fill:#ff0000;stroke:#ff0000;\" x=\"259.657355\" xlink:href=\"#m6907c70a13\" y=\"131.212176\"/>\n     <use style=\"fill:#ff0000;stroke:#ff0000;\" x=\"211.901896\" xlink:href=\"#m6907c70a13\" y=\"133.935538\"/>\n     <use style=\"fill:#ff0000;stroke:#ff0000;\" x=\"248.825118\" xlink:href=\"#m6907c70a13\" y=\"130.550794\"/>\n     <use style=\"fill:#ff0000;stroke:#ff0000;\" x=\"129.719915\" xlink:href=\"#m6907c70a13\" y=\"127.570404\"/>\n     <use style=\"fill:#ff0000;stroke:#ff0000;\" x=\"97.049562\" xlink:href=\"#m6907c70a13\" y=\"135.56636\"/>\n     <use style=\"fill:#ff0000;stroke:#ff0000;\" x=\"92.956959\" xlink:href=\"#m6907c70a13\" y=\"129.320757\"/>\n     <use style=\"fill:#ff0000;stroke:#ff0000;\" x=\"258.920855\" xlink:href=\"#m6907c70a13\" y=\"147.326514\"/>\n     <use style=\"fill:#ff0000;stroke:#ff0000;\" x=\"112.49842\" xlink:href=\"#m6907c70a13\" y=\"141.815654\"/>\n     <use style=\"fill:#ff0000;stroke:#ff0000;\" x=\"124.251562\" xlink:href=\"#m6907c70a13\" y=\"121.004191\"/>\n     <use style=\"fill:#ff0000;stroke:#ff0000;\" x=\"124.123222\" xlink:href=\"#m6907c70a13\" y=\"140.751353\"/>\n     <use style=\"fill:#ff0000;stroke:#ff0000;\" x=\"121.335159\" xlink:href=\"#m6907c70a13\" y=\"125.85617\"/>\n     <use style=\"fill:#ff0000;stroke:#ff0000;\" x=\"170.167408\" xlink:href=\"#m6907c70a13\" y=\"129.488459\"/>\n     <use style=\"fill:#ff0000;stroke:#ff0000;\" x=\"291.286208\" xlink:href=\"#m6907c70a13\" y=\"154.949194\"/>\n     <use style=\"fill:#ff0000;stroke:#ff0000;\" x=\"154.64294\" xlink:href=\"#m6907c70a13\" y=\"121.644863\"/>\n     <use style=\"fill:#ff0000;stroke:#ff0000;\" x=\"171.656127\" xlink:href=\"#m6907c70a13\" y=\"124.184698\"/>\n     <use style=\"fill:#ff0000;stroke:#ff0000;\" x=\"136.964094\" xlink:href=\"#m6907c70a13\" y=\"138.705648\"/>\n     <use style=\"fill:#ff0000;stroke:#ff0000;\" x=\"266.892589\" xlink:href=\"#m6907c70a13\" y=\"138.022225\"/>\n     <use style=\"fill:#ff0000;stroke:#ff0000;\" x=\"152.546173\" xlink:href=\"#m6907c70a13\" y=\"135.627088\"/>\n     <use style=\"fill:#ff0000;stroke:#ff0000;\" x=\"145.054095\" xlink:href=\"#m6907c70a13\" y=\"124.793723\"/>\n     <use style=\"fill:#ff0000;stroke:#ff0000;\" x=\"233.092298\" xlink:href=\"#m6907c70a13\" y=\"138.223986\"/>\n     <use style=\"fill:#ff0000;stroke:#ff0000;\" x=\"149.009335\" xlink:href=\"#m6907c70a13\" y=\"130.087834\"/>\n     <use style=\"fill:#ff0000;stroke:#ff0000;\" x=\"336.031618\" xlink:href=\"#m6907c70a13\" y=\"144.561758\"/>\n     <use style=\"fill:#ff0000;stroke:#ff0000;\" x=\"79.012348\" xlink:href=\"#m6907c70a13\" y=\"149.180965\"/>\n     <use style=\"fill:#ff0000;stroke:#ff0000;\" x=\"286.390835\" xlink:href=\"#m6907c70a13\" y=\"160.82192\"/>\n     <use style=\"fill:#ff0000;stroke:#ff0000;\" x=\"303.117469\" xlink:href=\"#m6907c70a13\" y=\"144.349251\"/>\n     <use style=\"fill:#ff0000;stroke:#ff0000;\" x=\"120.254989\" xlink:href=\"#m6907c70a13\" y=\"128.178307\"/>\n     <use style=\"fill:#ff0000;stroke:#ff0000;\" x=\"111.54495\" xlink:href=\"#m6907c70a13\" y=\"129.246908\"/>\n     <use style=\"fill:#ff0000;stroke:#ff0000;\" x=\"200.346906\" xlink:href=\"#m6907c70a13\" y=\"138.62088\"/>\n     <use style=\"fill:#ff0000;stroke:#ff0000;\" x=\"262.76771\" xlink:href=\"#m6907c70a13\" y=\"133.80555\"/>\n     <use style=\"fill:#ff0000;stroke:#ff0000;\" x=\"236.084758\" xlink:href=\"#m6907c70a13\" y=\"133.200916\"/>\n     <use style=\"fill:#ff0000;stroke:#ff0000;\" x=\"325.537477\" xlink:href=\"#m6907c70a13\" y=\"164.923378\"/>\n     <use style=\"fill:#ff0000;stroke:#ff0000;\" x=\"69.711246\" xlink:href=\"#m6907c70a13\" y=\"134.76857\"/>\n     <use style=\"fill:#ff0000;stroke:#ff0000;\" x=\"222.318685\" xlink:href=\"#m6907c70a13\" y=\"136.425807\"/>\n     <use style=\"fill:#ff0000;stroke:#ff0000;\" x=\"244.309443\" xlink:href=\"#m6907c70a13\" y=\"135.058256\"/>\n     <use style=\"fill:#ff0000;stroke:#ff0000;\" x=\"147.952158\" xlink:href=\"#m6907c70a13\" y=\"121.46979\"/>\n     <use style=\"fill:#ff0000;stroke:#ff0000;\" x=\"302.378986\" xlink:href=\"#m6907c70a13\" y=\"173.702445\"/>\n     <use style=\"fill:#ff0000;stroke:#ff0000;\" x=\"321.778331\" xlink:href=\"#m6907c70a13\" y=\"182.887083\"/>\n     <use style=\"fill:#ff0000;stroke:#ff0000;\" x=\"213.875697\" xlink:href=\"#m6907c70a13\" y=\"134.588909\"/>\n     <use style=\"fill:#ff0000;stroke:#ff0000;\" x=\"301.873835\" xlink:href=\"#m6907c70a13\" y=\"129.318083\"/>\n     <use style=\"fill:#ff0000;stroke:#ff0000;\" x=\"250.921344\" xlink:href=\"#m6907c70a13\" y=\"141.100851\"/>\n     <use style=\"fill:#ff0000;stroke:#ff0000;\" x=\"261.844198\" xlink:href=\"#m6907c70a13\" y=\"142.706881\"/>\n     <use style=\"fill:#ff0000;stroke:#ff0000;\" x=\"158.612252\" xlink:href=\"#m6907c70a13\" y=\"128.185312\"/>\n     <use style=\"fill:#ff0000;stroke:#ff0000;\" x=\"352.296176\" xlink:href=\"#m6907c70a13\" y=\"178.894377\"/>\n     <use style=\"fill:#ff0000;stroke:#ff0000;\" x=\"328.792504\" xlink:href=\"#m6907c70a13\" y=\"135.344928\"/>\n     <use style=\"fill:#ff0000;stroke:#ff0000;\" x=\"113.752358\" xlink:href=\"#m6907c70a13\" y=\"117.96092\"/>\n     <use style=\"fill:#ff0000;stroke:#ff0000;\" x=\"304.589181\" xlink:href=\"#m6907c70a13\" y=\"157.874846\"/>\n     <use style=\"fill:#ff0000;stroke:#ff0000;\" x=\"246.135084\" xlink:href=\"#m6907c70a13\" y=\"137.524187\"/>\n     <use style=\"fill:#ff0000;stroke:#ff0000;\" x=\"263.801418\" xlink:href=\"#m6907c70a13\" y=\"125.537407\"/>\n     <use style=\"fill:#ff0000;stroke:#ff0000;\" x=\"133.950547\" xlink:href=\"#m6907c70a13\" y=\"121.312399\"/>\n     <use style=\"fill:#ff0000;stroke:#ff0000;\" x=\"123.744823\" xlink:href=\"#m6907c70a13\" y=\"134.653983\"/>\n     <use style=\"fill:#ff0000;stroke:#ff0000;\" x=\"186.551375\" xlink:href=\"#m6907c70a13\" y=\"135.676512\"/>\n     <use style=\"fill:#ff0000;stroke:#ff0000;\" x=\"116.115475\" xlink:href=\"#m6907c70a13\" y=\"139.426793\"/>\n     <use style=\"fill:#ff0000;stroke:#ff0000;\" x=\"179.442439\" xlink:href=\"#m6907c70a13\" y=\"118.840287\"/>\n     <use style=\"fill:#ff0000;stroke:#ff0000;\" x=\"179.24087\" xlink:href=\"#m6907c70a13\" y=\"135.317502\"/>\n     <use style=\"fill:#ff0000;stroke:#ff0000;\" x=\"171.289638\" xlink:href=\"#m6907c70a13\" y=\"133.95373\"/>\n     <use style=\"fill:#ff0000;stroke:#ff0000;\" x=\"105.51046\" xlink:href=\"#m6907c70a13\" y=\"122.340999\"/>\n     <use style=\"fill:#ff0000;stroke:#ff0000;\" x=\"167.612681\" xlink:href=\"#m6907c70a13\" y=\"117.773094\"/>\n     <use style=\"fill:#ff0000;stroke:#ff0000;\" x=\"98.781269\" xlink:href=\"#m6907c70a13\" y=\"143.578672\"/>\n     <use style=\"fill:#ff0000;stroke:#ff0000;\" x=\"179.289274\" xlink:href=\"#m6907c70a13\" y=\"128.257672\"/>\n     <use style=\"fill:#ff0000;stroke:#ff0000;\" x=\"293.512267\" xlink:href=\"#m6907c70a13\" y=\"137.871622\"/>\n     <use style=\"fill:#ff0000;stroke:#ff0000;\" x=\"300.998188\" xlink:href=\"#m6907c70a13\" y=\"164.256546\"/>\n     <use style=\"fill:#ff0000;stroke:#ff0000;\" x=\"289.610954\" xlink:href=\"#m6907c70a13\" y=\"128.010316\"/>\n     <use style=\"fill:#ff0000;stroke:#ff0000;\" x=\"152.526974\" xlink:href=\"#m6907c70a13\" y=\"130.51123\"/>\n     <use style=\"fill:#ff0000;stroke:#ff0000;\" x=\"109.042383\" xlink:href=\"#m6907c70a13\" y=\"134.485099\"/>\n     <use style=\"fill:#ff0000;stroke:#ff0000;\" x=\"274.033877\" xlink:href=\"#m6907c70a13\" y=\"159.903881\"/>\n     <use style=\"fill:#ff0000;stroke:#ff0000;\" x=\"200.737918\" xlink:href=\"#m6907c70a13\" y=\"131.165474\"/>\n     <use style=\"fill:#ff0000;stroke:#ff0000;\" x=\"277.272743\" xlink:href=\"#m6907c70a13\" y=\"155.128171\"/>\n     <use style=\"fill:#ff0000;stroke:#ff0000;\" x=\"138.843878\" xlink:href=\"#m6907c70a13\" y=\"117.77801\"/>\n     <use style=\"fill:#ff0000;stroke:#ff0000;\" x=\"303.414464\" xlink:href=\"#m6907c70a13\" y=\"161.834519\"/>\n     <use style=\"fill:#ff0000;stroke:#ff0000;\" x=\"102.512445\" xlink:href=\"#m6907c70a13\" y=\"137.533292\"/>\n     <use style=\"fill:#ff0000;stroke:#ff0000;\" x=\"304.276557\" xlink:href=\"#m6907c70a13\" y=\"214.756364\"/>\n     <use style=\"fill:#ff0000;stroke:#ff0000;\" x=\"271.409229\" xlink:href=\"#m6907c70a13\" y=\"132.002345\"/>\n     <use style=\"fill:#ff0000;stroke:#ff0000;\" x=\"266.578842\" xlink:href=\"#m6907c70a13\" y=\"148.154143\"/>\n     <use style=\"fill:#ff0000;stroke:#ff0000;\" x=\"302.898879\" xlink:href=\"#m6907c70a13\" y=\"152.082929\"/>\n     <use style=\"fill:#ff0000;stroke:#ff0000;\" x=\"309.060008\" xlink:href=\"#m6907c70a13\" y=\"129.840018\"/>\n     <use style=\"fill:#ff0000;stroke:#ff0000;\" x=\"277.931276\" xlink:href=\"#m6907c70a13\" y=\"163.573019\"/>\n     <use style=\"fill:#ff0000;stroke:#ff0000;\" x=\"183.902495\" xlink:href=\"#m6907c70a13\" y=\"126.505421\"/>\n     <use style=\"fill:#ff0000;stroke:#ff0000;\" x=\"284.556074\" xlink:href=\"#m6907c70a13\" y=\"132.052993\"/>\n     <use style=\"fill:#ff0000;stroke:#ff0000;\" x=\"329.877188\" xlink:href=\"#m6907c70a13\" y=\"143.397623\"/>\n     <use style=\"fill:#ff0000;stroke:#ff0000;\" x=\"201.929849\" xlink:href=\"#m6907c70a13\" y=\"136.225097\"/>\n     <use style=\"fill:#ff0000;stroke:#ff0000;\" x=\"307.1079\" xlink:href=\"#m6907c70a13\" y=\"146.568967\"/>\n     <use style=\"fill:#ff0000;stroke:#ff0000;\" x=\"282.103245\" xlink:href=\"#m6907c70a13\" y=\"140.442231\"/>\n     <use style=\"fill:#ff0000;stroke:#ff0000;\" x=\"95.946769\" xlink:href=\"#m6907c70a13\" y=\"125.982735\"/>\n     <use style=\"fill:#ff0000;stroke:#ff0000;\" x=\"139.427479\" xlink:href=\"#m6907c70a13\" y=\"137.446866\"/>\n     <use style=\"fill:#ff0000;stroke:#ff0000;\" x=\"156.877461\" xlink:href=\"#m6907c70a13\" y=\"133.483352\"/>\n     <use style=\"fill:#ff0000;stroke:#ff0000;\" x=\"158.657133\" xlink:href=\"#m6907c70a13\" y=\"124.043938\"/>\n     <use style=\"fill:#ff0000;stroke:#ff0000;\" x=\"96.568795\" xlink:href=\"#m6907c70a13\" y=\"147.191228\"/>\n     <use style=\"fill:#ff0000;stroke:#ff0000;\" x=\"278.093939\" xlink:href=\"#m6907c70a13\" y=\"146.217553\"/>\n     <use style=\"fill:#ff0000;stroke:#ff0000;\" x=\"286.377382\" xlink:href=\"#m6907c70a13\" y=\"141.814293\"/>\n     <use style=\"fill:#ff0000;stroke:#ff0000;\" x=\"191.228468\" xlink:href=\"#m6907c70a13\" y=\"130.415594\"/>\n     <use style=\"fill:#ff0000;stroke:#ff0000;\" x=\"286.516496\" xlink:href=\"#m6907c70a13\" y=\"151.923653\"/>\n     <use style=\"fill:#ff0000;stroke:#ff0000;\" x=\"274.914066\" xlink:href=\"#m6907c70a13\" y=\"142.18638\"/>\n     <use style=\"fill:#ff0000;stroke:#ff0000;\" x=\"253.846871\" xlink:href=\"#m6907c70a13\" y=\"143.369976\"/>\n     <use style=\"fill:#ff0000;stroke:#ff0000;\" x=\"214.327745\" xlink:href=\"#m6907c70a13\" y=\"201.536536\"/>\n     <use style=\"fill:#ff0000;stroke:#ff0000;\" x=\"276.407947\" xlink:href=\"#m6907c70a13\" y=\"129.887609\"/>\n     <use style=\"fill:#ff0000;stroke:#ff0000;\" x=\"138.495188\" xlink:href=\"#m6907c70a13\" y=\"127.582119\"/>\n     <use style=\"fill:#ff0000;stroke:#ff0000;\" x=\"276.592917\" xlink:href=\"#m6907c70a13\" y=\"149.110552\"/>\n     <use style=\"fill:#ff0000;stroke:#ff0000;\" x=\"95.015465\" xlink:href=\"#m6907c70a13\" y=\"124.325328\"/>\n     <use style=\"fill:#ff0000;stroke:#ff0000;\" x=\"74.544063\" xlink:href=\"#m6907c70a13\" y=\"140.157907\"/>\n     <use style=\"fill:#ff0000;stroke:#ff0000;\" x=\"137.104577\" xlink:href=\"#m6907c70a13\" y=\"111.575408\"/>\n    </g>\n   </g>\n   <g id=\"PathCollection_3\">\n    <defs>\n     <path d=\"M 0 3 \nC 0.795609 3 1.55874 2.683901 2.12132 2.12132 \nC 2.683901 1.55874 3 0.795609 3 0 \nC 3 -0.795609 2.683901 -1.55874 2.12132 -2.12132 \nC 1.55874 -2.683901 0.795609 -3 0 -3 \nC -0.795609 -3 -1.55874 -2.683901 -2.12132 -2.12132 \nC -2.683901 -1.55874 -3 -0.795609 -3 0 \nC -3 0.795609 -2.683901 1.55874 -2.12132 2.12132 \nC -1.55874 2.683901 -0.795609 3 0 3 \nz\n\" id=\"m9394dc5985\" style=\"stroke:#008000;\"/>\n    </defs>\n    <g clip-path=\"url(#p800b546988)\">\n     <use style=\"fill:#008000;stroke:#008000;\" x=\"245.250646\" xlink:href=\"#m9394dc5985\" y=\"190.065595\"/>\n     <use style=\"fill:#008000;stroke:#008000;\" x=\"113.87818\" xlink:href=\"#m9394dc5985\" y=\"154.718283\"/>\n     <use style=\"fill:#008000;stroke:#008000;\" x=\"228.731474\" xlink:href=\"#m9394dc5985\" y=\"160.998764\"/>\n     <use style=\"fill:#008000;stroke:#008000;\" x=\"214.168216\" xlink:href=\"#m9394dc5985\" y=\"184.674756\"/>\n     <use style=\"fill:#008000;stroke:#008000;\" x=\"208.938563\" xlink:href=\"#m9394dc5985\" y=\"160.773832\"/>\n     <use style=\"fill:#008000;stroke:#008000;\" x=\"216.483542\" xlink:href=\"#m9394dc5985\" y=\"152.167135\"/>\n     <use style=\"fill:#008000;stroke:#008000;\" x=\"150.753982\" xlink:href=\"#m9394dc5985\" y=\"148.111418\"/>\n     <use style=\"fill:#008000;stroke:#008000;\" x=\"236.376052\" xlink:href=\"#m9394dc5985\" y=\"203.039342\"/>\n     <use style=\"fill:#008000;stroke:#008000;\" x=\"255.470056\" xlink:href=\"#m9394dc5985\" y=\"184.975408\"/>\n     <use style=\"fill:#008000;stroke:#008000;\" x=\"243.658718\" xlink:href=\"#m9394dc5985\" y=\"163.341513\"/>\n     <use style=\"fill:#008000;stroke:#008000;\" x=\"204.994043\" xlink:href=\"#m9394dc5985\" y=\"171.677069\"/>\n     <use style=\"fill:#008000;stroke:#008000;\" x=\"216.343422\" xlink:href=\"#m9394dc5985\" y=\"191.326916\"/>\n     <use style=\"fill:#008000;stroke:#008000;\" x=\"275.757181\" xlink:href=\"#m9394dc5985\" y=\"189.191714\"/>\n     <use style=\"fill:#008000;stroke:#008000;\" x=\"252.788262\" xlink:href=\"#m9394dc5985\" y=\"170.922389\"/>\n     <use style=\"fill:#008000;stroke:#008000;\" x=\"224.204961\" xlink:href=\"#m9394dc5985\" y=\"155.931101\"/>\n     <use style=\"fill:#008000;stroke:#008000;\" x=\"230.862277\" xlink:href=\"#m9394dc5985\" y=\"168.264391\"/>\n     <use style=\"fill:#008000;stroke:#008000;\" x=\"233.795373\" xlink:href=\"#m9394dc5985\" y=\"149.239055\"/>\n     <use style=\"fill:#008000;stroke:#008000;\" x=\"223.091906\" xlink:href=\"#m9394dc5985\" y=\"149.236151\"/>\n     <use style=\"fill:#008000;stroke:#008000;\" x=\"174.267693\" xlink:href=\"#m9394dc5985\" y=\"143.864186\"/>\n     <use style=\"fill:#008000;stroke:#008000;\" x=\"146.80458\" xlink:href=\"#m9394dc5985\" y=\"153.088085\"/>\n     <use style=\"fill:#008000;stroke:#008000;\" x=\"214.288439\" xlink:href=\"#m9394dc5985\" y=\"173.444713\"/>\n     <use style=\"fill:#008000;stroke:#008000;\" x=\"253.691376\" xlink:href=\"#m9394dc5985\" y=\"162.554053\"/>\n     <use style=\"fill:#008000;stroke:#008000;\" x=\"128.754007\" xlink:href=\"#m9394dc5985\" y=\"153.894396\"/>\n     <use style=\"fill:#008000;stroke:#008000;\" x=\"251.485921\" xlink:href=\"#m9394dc5985\" y=\"197.205793\"/>\n     <use style=\"fill:#008000;stroke:#008000;\" x=\"246.814121\" xlink:href=\"#m9394dc5985\" y=\"181.97993\"/>\n     <use style=\"fill:#008000;stroke:#008000;\" x=\"204.098335\" xlink:href=\"#m9394dc5985\" y=\"160.571736\"/>\n     <use style=\"fill:#008000;stroke:#008000;\" x=\"225.864589\" xlink:href=\"#m9394dc5985\" y=\"170.397549\"/>\n     <use style=\"fill:#008000;stroke:#008000;\" x=\"239.564395\" xlink:href=\"#m9394dc5985\" y=\"176.830308\"/>\n     <use style=\"fill:#008000;stroke:#008000;\" x=\"264.688288\" xlink:href=\"#m9394dc5985\" y=\"189.570627\"/>\n     <use style=\"fill:#008000;stroke:#008000;\" x=\"198.952977\" xlink:href=\"#m9394dc5985\" y=\"164.999732\"/>\n     <use style=\"fill:#008000;stroke:#008000;\" x=\"235.18555\" xlink:href=\"#m9394dc5985\" y=\"194.757822\"/>\n     <use style=\"fill:#008000;stroke:#008000;\" x=\"249.202748\" xlink:href=\"#m9394dc5985\" y=\"175.196045\"/>\n     <use style=\"fill:#008000;stroke:#008000;\" x=\"214.499242\" xlink:href=\"#m9394dc5985\" y=\"182.142754\"/>\n     <use style=\"fill:#008000;stroke:#008000;\" x=\"194.933358\" xlink:href=\"#m9394dc5985\" y=\"151.319728\"/>\n     <use style=\"fill:#008000;stroke:#008000;\" x=\"214.315518\" xlink:href=\"#m9394dc5985\" y=\"162.039515\"/>\n     <use style=\"fill:#008000;stroke:#008000;\" x=\"209.361386\" xlink:href=\"#m9394dc5985\" y=\"191.124308\"/>\n     <use style=\"fill:#008000;stroke:#008000;\" x=\"228.463738\" xlink:href=\"#m9394dc5985\" y=\"190.49846\"/>\n     <use style=\"fill:#008000;stroke:#008000;\" x=\"141.875768\" xlink:href=\"#m9394dc5985\" y=\"148.248513\"/>\n     <use style=\"fill:#008000;stroke:#008000;\" x=\"223.500024\" xlink:href=\"#m9394dc5985\" y=\"198.886717\"/>\n     <use style=\"fill:#008000;stroke:#008000;\" x=\"98.061832\" xlink:href=\"#m9394dc5985\" y=\"162.534419\"/>\n     <use style=\"fill:#008000;stroke:#008000;\" x=\"236.345194\" xlink:href=\"#m9394dc5985\" y=\"164.374323\"/>\n     <use style=\"fill:#008000;stroke:#008000;\" x=\"217.312988\" xlink:href=\"#m9394dc5985\" y=\"170.790522\"/>\n     <use style=\"fill:#008000;stroke:#008000;\" x=\"213.548097\" xlink:href=\"#m9394dc5985\" y=\"158.451296\"/>\n     <use style=\"fill:#008000;stroke:#008000;\" x=\"221.092682\" xlink:href=\"#m9394dc5985\" y=\"183.82288\"/>\n     <use style=\"fill:#008000;stroke:#008000;\" x=\"227.450609\" xlink:href=\"#m9394dc5985\" y=\"175.312011\"/>\n     <use style=\"fill:#008000;stroke:#008000;\" x=\"201.456259\" xlink:href=\"#m9394dc5985\" y=\"174.166708\"/>\n     <use style=\"fill:#008000;stroke:#008000;\" x=\"208.573466\" xlink:href=\"#m9394dc5985\" y=\"170.209456\"/>\n     <use style=\"fill:#008000;stroke:#008000;\" x=\"258.732996\" xlink:href=\"#m9394dc5985\" y=\"179.578263\"/>\n     <use style=\"fill:#008000;stroke:#008000;\" x=\"243.751291\" xlink:href=\"#m9394dc5985\" y=\"157.684796\"/>\n     <use style=\"fill:#008000;stroke:#008000;\" x=\"240.0859\" xlink:href=\"#m9394dc5985\" y=\"156.674041\"/>\n     <use style=\"fill:#008000;stroke:#008000;\" x=\"164.841445\" xlink:href=\"#m9394dc5985\" y=\"148.407842\"/>\n     <use style=\"fill:#008000;stroke:#008000;\" x=\"197.455686\" xlink:href=\"#m9394dc5985\" y=\"162.489918\"/>\n     <use style=\"fill:#008000;stroke:#008000;\" x=\"215.591132\" xlink:href=\"#m9394dc5985\" y=\"168.151802\"/>\n     <use style=\"fill:#008000;stroke:#008000;\" x=\"213.55935\" xlink:href=\"#m9394dc5985\" y=\"179.987883\"/>\n     <use style=\"fill:#008000;stroke:#008000;\" x=\"133.273064\" xlink:href=\"#m9394dc5985\" y=\"150.65616\"/>\n     <use style=\"fill:#008000;stroke:#008000;\" x=\"225.715595\" xlink:href=\"#m9394dc5985\" y=\"193.635341\"/>\n     <use style=\"fill:#008000;stroke:#008000;\" x=\"194.142161\" xlink:href=\"#m9394dc5985\" y=\"153.959096\"/>\n     <use style=\"fill:#008000;stroke:#008000;\" x=\"221.921073\" xlink:href=\"#m9394dc5985\" y=\"158.62481\"/>\n     <use style=\"fill:#008000;stroke:#008000;\" x=\"261.058067\" xlink:href=\"#m9394dc5985\" y=\"195.356819\"/>\n     <use style=\"fill:#008000;stroke:#008000;\" x=\"220.225425\" xlink:href=\"#m9394dc5985\" y=\"157.209208\"/>\n     <use style=\"fill:#008000;stroke:#008000;\" x=\"240.244989\" xlink:href=\"#m9394dc5985\" y=\"166.038359\"/>\n     <use style=\"fill:#008000;stroke:#008000;\" x=\"257.239341\" xlink:href=\"#m9394dc5985\" y=\"162.265997\"/>\n     <use style=\"fill:#008000;stroke:#008000;\" x=\"269.991245\" xlink:href=\"#m9394dc5985\" y=\"182.058604\"/>\n     <use style=\"fill:#008000;stroke:#008000;\" x=\"240.162552\" xlink:href=\"#m9394dc5985\" y=\"170.163463\"/>\n     <use style=\"fill:#008000;stroke:#008000;\" x=\"238.305994\" xlink:href=\"#m9394dc5985\" y=\"154.123067\"/>\n     <use style=\"fill:#008000;stroke:#008000;\" x=\"244.411583\" xlink:href=\"#m9394dc5985\" y=\"192.246285\"/>\n     <use style=\"fill:#008000;stroke:#008000;\" x=\"186.78765\" xlink:href=\"#m9394dc5985\" y=\"150.690408\"/>\n     <use style=\"fill:#008000;stroke:#008000;\" x=\"275.907657\" xlink:href=\"#m9394dc5985\" y=\"184.535191\"/>\n     <use style=\"fill:#008000;stroke:#008000;\" x=\"280.81404\" xlink:href=\"#m9394dc5985\" y=\"179.09262\"/>\n     <use style=\"fill:#008000;stroke:#008000;\" x=\"234.818234\" xlink:href=\"#m9394dc5985\" y=\"171.29857\"/>\n     <use style=\"fill:#008000;stroke:#008000;\" x=\"232.339577\" xlink:href=\"#m9394dc5985\" y=\"171.365683\"/>\n     <use style=\"fill:#008000;stroke:#008000;\" x=\"123.548326\" xlink:href=\"#m9394dc5985\" y=\"156.563774\"/>\n     <use style=\"fill:#008000;stroke:#008000;\" x=\"205.706742\" xlink:href=\"#m9394dc5985\" y=\"158.150196\"/>\n     <use style=\"fill:#008000;stroke:#008000;\" x=\"222.450831\" xlink:href=\"#m9394dc5985\" y=\"201.250296\"/>\n     <use style=\"fill:#008000;stroke:#008000;\" x=\"224.359672\" xlink:href=\"#m9394dc5985\" y=\"176.206405\"/>\n     <use style=\"fill:#008000;stroke:#008000;\" x=\"196.797171\" xlink:href=\"#m9394dc5985\" y=\"146.107636\"/>\n     <use style=\"fill:#008000;stroke:#008000;\" x=\"203.677059\" xlink:href=\"#m9394dc5985\" y=\"151.956075\"/>\n     <use style=\"fill:#008000;stroke:#008000;\" x=\"210.740842\" xlink:href=\"#m9394dc5985\" y=\"150.26712\"/>\n     <use style=\"fill:#008000;stroke:#008000;\" x=\"239.312493\" xlink:href=\"#m9394dc5985\" y=\"188.588929\"/>\n     <use style=\"fill:#008000;stroke:#008000;\" x=\"210.309749\" xlink:href=\"#m9394dc5985\" y=\"152.25454\"/>\n     <use style=\"fill:#008000;stroke:#008000;\" x=\"236.623372\" xlink:href=\"#m9394dc5985\" y=\"160.918559\"/>\n     <use style=\"fill:#008000;stroke:#008000;\" x=\"247.71151\" xlink:href=\"#m9394dc5985\" y=\"168.607949\"/>\n     <use style=\"fill:#008000;stroke:#008000;\" x=\"216.507801\" xlink:href=\"#m9394dc5985\" y=\"155.255312\"/>\n     <use style=\"fill:#008000;stroke:#008000;\" x=\"243.891721\" xlink:href=\"#m9394dc5985\" y=\"170.637563\"/>\n     <use style=\"fill:#008000;stroke:#008000;\" x=\"235.241993\" xlink:href=\"#m9394dc5985\" y=\"180.78274\"/>\n     <use style=\"fill:#008000;stroke:#008000;\" x=\"136.207659\" xlink:href=\"#m9394dc5985\" y=\"152.896051\"/>\n     <use style=\"fill:#008000;stroke:#008000;\" x=\"204.739733\" xlink:href=\"#m9394dc5985\" y=\"146.728874\"/>\n     <use style=\"fill:#008000;stroke:#008000;\" x=\"201.937006\" xlink:href=\"#m9394dc5985\" y=\"154.375012\"/>\n     <use style=\"fill:#008000;stroke:#008000;\" x=\"257.185632\" xlink:href=\"#m9394dc5985\" y=\"176.75463\"/>\n     <use style=\"fill:#008000;stroke:#008000;\" x=\"223.380575\" xlink:href=\"#m9394dc5985\" y=\"164.021962\"/>\n     <use style=\"fill:#008000;stroke:#008000;\" x=\"217.023895\" xlink:href=\"#m9394dc5985\" y=\"174.38192\"/>\n     <use style=\"fill:#008000;stroke:#008000;\" x=\"237.391579\" xlink:href=\"#m9394dc5985\" y=\"190.945215\"/>\n     <use style=\"fill:#008000;stroke:#008000;\" x=\"200.918243\" xlink:href=\"#m9394dc5985\" y=\"159.185022\"/>\n     <use style=\"fill:#008000;stroke:#008000;\" x=\"225.506677\" xlink:href=\"#m9394dc5985\" y=\"150.025479\"/>\n     <use style=\"fill:#008000;stroke:#008000;\" x=\"226.737387\" xlink:href=\"#m9394dc5985\" y=\"180.626999\"/>\n     <use style=\"fill:#008000;stroke:#008000;\" x=\"260.577783\" xlink:href=\"#m9394dc5985\" y=\"191.411706\"/>\n     <use style=\"fill:#008000;stroke:#008000;\" x=\"236.333702\" xlink:href=\"#m9394dc5985\" y=\"192.408736\"/>\n     <use style=\"fill:#008000;stroke:#008000;\" x=\"207.360573\" xlink:href=\"#m9394dc5985\" y=\"155.895978\"/>\n     <use style=\"fill:#008000;stroke:#008000;\" x=\"210.938966\" xlink:href=\"#m9394dc5985\" y=\"166.38027\"/>\n     <use style=\"fill:#008000;stroke:#008000;\" x=\"227.584666\" xlink:href=\"#m9394dc5985\" y=\"156.46496\"/>\n    </g>\n   </g>\n   <g id=\"PathCollection_4\">\n    <defs>\n     <path d=\"M 0 3 \nC 0.795609 3 1.55874 2.683901 2.12132 2.12132 \nC 2.683901 1.55874 3 0.795609 3 0 \nC 3 -0.795609 2.683901 -1.55874 2.12132 -2.12132 \nC 1.55874 -2.683901 0.795609 -3 0 -3 \nC -0.795609 -3 -1.55874 -2.683901 -2.12132 -2.12132 \nC -2.683901 -1.55874 -3 -0.795609 -3 0 \nC -3 0.795609 -2.683901 1.55874 -2.12132 2.12132 \nC -1.55874 2.683901 -0.795609 3 0 3 \nz\n\" id=\"m7d2c8b7503\" style=\"stroke:#ffa500;\"/>\n    </defs>\n    <g clip-path=\"url(#p800b546988)\">\n     <use style=\"fill:#ffa500;stroke:#ffa500;\" x=\"190.15069\" xlink:href=\"#m7d2c8b7503\" y=\"190.107323\"/>\n     <use style=\"fill:#ffa500;stroke:#ffa500;\" x=\"180.524567\" xlink:href=\"#m7d2c8b7503\" y=\"158.767772\"/>\n     <use style=\"fill:#ffa500;stroke:#ffa500;\" x=\"140.093955\" xlink:href=\"#m7d2c8b7503\" y=\"173.152502\"/>\n     <use style=\"fill:#ffa500;stroke:#ffa500;\" x=\"179.036564\" xlink:href=\"#m7d2c8b7503\" y=\"154.916034\"/>\n     <use style=\"fill:#ffa500;stroke:#ffa500;\" x=\"173.396192\" xlink:href=\"#m7d2c8b7503\" y=\"154.177067\"/>\n     <use style=\"fill:#ffa500;stroke:#ffa500;\" x=\"152.224635\" xlink:href=\"#m7d2c8b7503\" y=\"173.154096\"/>\n     <use style=\"fill:#ffa500;stroke:#ffa500;\" x=\"170.330019\" xlink:href=\"#m7d2c8b7503\" y=\"197.962579\"/>\n     <use style=\"fill:#ffa500;stroke:#ffa500;\" x=\"150.602835\" xlink:href=\"#m7d2c8b7503\" y=\"162.546685\"/>\n     <use style=\"fill:#ffa500;stroke:#ffa500;\" x=\"120.377796\" xlink:href=\"#m7d2c8b7503\" y=\"189.996367\"/>\n     <use style=\"fill:#ffa500;stroke:#ffa500;\" x=\"155.561953\" xlink:href=\"#m7d2c8b7503\" y=\"193.042778\"/>\n     <use style=\"fill:#ffa500;stroke:#ffa500;\" x=\"179.576756\" xlink:href=\"#m7d2c8b7503\" y=\"171.395527\"/>\n     <use style=\"fill:#ffa500;stroke:#ffa500;\" x=\"196.709108\" xlink:href=\"#m7d2c8b7503\" y=\"186.72076\"/>\n     <use style=\"fill:#ffa500;stroke:#ffa500;\" x=\"167.567485\" xlink:href=\"#m7d2c8b7503\" y=\"165.427669\"/>\n     <use style=\"fill:#ffa500;stroke:#ffa500;\" x=\"149.526015\" xlink:href=\"#m7d2c8b7503\" y=\"194.108842\"/>\n     <use style=\"fill:#ffa500;stroke:#ffa500;\" x=\"114.723428\" xlink:href=\"#m7d2c8b7503\" y=\"177.60364\"/>\n     <use style=\"fill:#ffa500;stroke:#ffa500;\" x=\"149.41273\" xlink:href=\"#m7d2c8b7503\" y=\"181.091718\"/>\n     <use style=\"fill:#ffa500;stroke:#ffa500;\" x=\"164.084079\" xlink:href=\"#m7d2c8b7503\" y=\"170.518837\"/>\n     <use style=\"fill:#ffa500;stroke:#ffa500;\" x=\"147.87705\" xlink:href=\"#m7d2c8b7503\" y=\"185.328994\"/>\n     <use style=\"fill:#ffa500;stroke:#ffa500;\" x=\"173.055305\" xlink:href=\"#m7d2c8b7503\" y=\"164.707507\"/>\n     <use style=\"fill:#ffa500;stroke:#ffa500;\" x=\"153.620987\" xlink:href=\"#m7d2c8b7503\" y=\"184.051375\"/>\n     <use style=\"fill:#ffa500;stroke:#ffa500;\" x=\"120.492592\" xlink:href=\"#m7d2c8b7503\" y=\"179.406913\"/>\n     <use style=\"fill:#ffa500;stroke:#ffa500;\" x=\"104.673581\" xlink:href=\"#m7d2c8b7503\" y=\"172.092669\"/>\n     <use style=\"fill:#ffa500;stroke:#ffa500;\" x=\"183.341373\" xlink:href=\"#m7d2c8b7503\" y=\"208.169364\"/>\n     <use style=\"fill:#ffa500;stroke:#ffa500;\" x=\"184.565471\" xlink:href=\"#m7d2c8b7503\" y=\"195.218334\"/>\n     <use style=\"fill:#ffa500;stroke:#ffa500;\" x=\"179.630055\" xlink:href=\"#m7d2c8b7503\" y=\"193.426005\"/>\n     <use style=\"fill:#ffa500;stroke:#ffa500;\" x=\"168.353241\" xlink:href=\"#m7d2c8b7503\" y=\"183.67711\"/>\n     <use style=\"fill:#ffa500;stroke:#ffa500;\" x=\"157.210512\" xlink:href=\"#m7d2c8b7503\" y=\"153.482464\"/>\n     <use style=\"fill:#ffa500;stroke:#ffa500;\" x=\"174.391916\" xlink:href=\"#m7d2c8b7503\" y=\"182.138412\"/>\n     <use style=\"fill:#ffa500;stroke:#ffa500;\" x=\"171.323433\" xlink:href=\"#m7d2c8b7503\" y=\"175.833688\"/>\n     <use style=\"fill:#ffa500;stroke:#ffa500;\" x=\"157.180724\" xlink:href=\"#m7d2c8b7503\" y=\"199.196366\"/>\n     <use style=\"fill:#ffa500;stroke:#ffa500;\" x=\"181.773602\" xlink:href=\"#m7d2c8b7503\" y=\"147.994481\"/>\n     <use style=\"fill:#ffa500;stroke:#ffa500;\" x=\"193.481951\" xlink:href=\"#m7d2c8b7503\" y=\"173.080402\"/>\n     <use style=\"fill:#ffa500;stroke:#ffa500;\" x=\"169.160744\" xlink:href=\"#m7d2c8b7503\" y=\"150.007508\"/>\n     <use style=\"fill:#ffa500;stroke:#ffa500;\" x=\"179.588695\" xlink:href=\"#m7d2c8b7503\" y=\"150.880759\"/>\n     <use style=\"fill:#ffa500;stroke:#ffa500;\" x=\"179.576826\" xlink:href=\"#m7d2c8b7503\" y=\"168.827353\"/>\n     <use style=\"fill:#ffa500;stroke:#ffa500;\" x=\"165.634365\" xlink:href=\"#m7d2c8b7503\" y=\"180.936136\"/>\n     <use style=\"fill:#ffa500;stroke:#ffa500;\" x=\"164.491427\" xlink:href=\"#m7d2c8b7503\" y=\"189.016921\"/>\n     <use style=\"fill:#ffa500;stroke:#ffa500;\" x=\"148.739053\" xlink:href=\"#m7d2c8b7503\" y=\"187.927066\"/>\n     <use style=\"fill:#ffa500;stroke:#ffa500;\" x=\"200.291188\" xlink:href=\"#m7d2c8b7503\" y=\"191.92609\"/>\n     <use style=\"fill:#ffa500;stroke:#ffa500;\" x=\"168.297364\" xlink:href=\"#m7d2c8b7503\" y=\"157.050525\"/>\n     <use style=\"fill:#ffa500;stroke:#ffa500;\" x=\"141.129715\" xlink:href=\"#m7d2c8b7503\" y=\"175.616898\"/>\n     <use style=\"fill:#ffa500;stroke:#ffa500;\" x=\"153.315945\" xlink:href=\"#m7d2c8b7503\" y=\"159.670977\"/>\n     <use style=\"fill:#ffa500;stroke:#ffa500;\" x=\"152.812262\" xlink:href=\"#m7d2c8b7503\" y=\"188.660011\"/>\n     <use style=\"fill:#ffa500;stroke:#ffa500;\" x=\"157.744367\" xlink:href=\"#m7d2c8b7503\" y=\"176.698936\"/>\n     <use style=\"fill:#ffa500;stroke:#ffa500;\" x=\"159.926567\" xlink:href=\"#m7d2c8b7503\" y=\"164.120298\"/>\n     <use style=\"fill:#ffa500;stroke:#ffa500;\" x=\"152.763695\" xlink:href=\"#m7d2c8b7503\" y=\"151.485195\"/>\n     <use style=\"fill:#ffa500;stroke:#ffa500;\" x=\"133.684366\" xlink:href=\"#m7d2c8b7503\" y=\"169.488553\"/>\n     <use style=\"fill:#ffa500;stroke:#ffa500;\" x=\"190.063944\" xlink:href=\"#m7d2c8b7503\" y=\"169.806431\"/>\n     <use style=\"fill:#ffa500;stroke:#ffa500;\" x=\"152.811167\" xlink:href=\"#m7d2c8b7503\" y=\"165.327479\"/>\n     <use style=\"fill:#ffa500;stroke:#ffa500;\" x=\"155.647253\" xlink:href=\"#m7d2c8b7503\" y=\"171.918482\"/>\n     <use style=\"fill:#ffa500;stroke:#ffa500;\" x=\"169.43804\" xlink:href=\"#m7d2c8b7503\" y=\"161.67052\"/>\n     <use style=\"fill:#ffa500;stroke:#ffa500;\" x=\"121.480679\" xlink:href=\"#m7d2c8b7503\" y=\"203.32867\"/>\n     <use style=\"fill:#ffa500;stroke:#ffa500;\" x=\"162.662812\" xlink:href=\"#m7d2c8b7503\" y=\"198.280255\"/>\n     <use style=\"fill:#ffa500;stroke:#ffa500;\" x=\"177.00534\" xlink:href=\"#m7d2c8b7503\" y=\"177.344767\"/>\n     <use style=\"fill:#ffa500;stroke:#ffa500;\" x=\"182.905323\" xlink:href=\"#m7d2c8b7503\" y=\"160.629678\"/>\n     <use style=\"fill:#ffa500;stroke:#ffa500;\" x=\"175.045558\" xlink:href=\"#m7d2c8b7503\" y=\"166.203173\"/>\n     <use style=\"fill:#ffa500;stroke:#ffa500;\" x=\"108.678292\" xlink:href=\"#m7d2c8b7503\" y=\"187.902339\"/>\n     <use style=\"fill:#ffa500;stroke:#ffa500;\" x=\"123.443828\" xlink:href=\"#m7d2c8b7503\" y=\"183.523206\"/>\n     <use style=\"fill:#ffa500;stroke:#ffa500;\" x=\"176.408093\" xlink:href=\"#m7d2c8b7503\" y=\"167.764934\"/>\n     <use style=\"fill:#ffa500;stroke:#ffa500;\" x=\"173.70039\" xlink:href=\"#m7d2c8b7503\" y=\"199.460793\"/>\n     <use style=\"fill:#ffa500;stroke:#ffa500;\" x=\"138.58773\" xlink:href=\"#m7d2c8b7503\" y=\"209.889006\"/>\n     <use style=\"fill:#ffa500;stroke:#ffa500;\" x=\"141.245057\" xlink:href=\"#m7d2c8b7503\" y=\"169.349427\"/>\n     <use style=\"fill:#ffa500;stroke:#ffa500;\" x=\"172.497004\" xlink:href=\"#m7d2c8b7503\" y=\"161.795758\"/>\n     <use style=\"fill:#ffa500;stroke:#ffa500;\" x=\"123.815249\" xlink:href=\"#m7d2c8b7503\" y=\"174.913669\"/>\n     <use style=\"fill:#ffa500;stroke:#ffa500;\" x=\"141.422919\" xlink:href=\"#m7d2c8b7503\" y=\"196.297478\"/>\n     <use style=\"fill:#ffa500;stroke:#ffa500;\" x=\"187.298282\" xlink:href=\"#m7d2c8b7503\" y=\"184.847361\"/>\n     <use style=\"fill:#ffa500;stroke:#ffa500;\" x=\"190.153731\" xlink:href=\"#m7d2c8b7503\" y=\"155.964608\"/>\n     <use style=\"fill:#ffa500;stroke:#ffa500;\" x=\"135.566674\" xlink:href=\"#m7d2c8b7503\" y=\"180.97516\"/>\n     <use style=\"fill:#ffa500;stroke:#ffa500;\" x=\"112.76713\" xlink:href=\"#m7d2c8b7503\" y=\"182.79857\"/>\n     <use style=\"fill:#ffa500;stroke:#ffa500;\" x=\"193.713629\" xlink:href=\"#m7d2c8b7503\" y=\"183.069178\"/>\n     <use style=\"fill:#ffa500;stroke:#ffa500;\" x=\"154.568526\" xlink:href=\"#m7d2c8b7503\" y=\"166.83207\"/>\n     <use style=\"fill:#ffa500;stroke:#ffa500;\" x=\"184.192037\" xlink:href=\"#m7d2c8b7503\" y=\"179.460966\"/>\n     <use style=\"fill:#ffa500;stroke:#ffa500;\" x=\"172.850445\" xlink:href=\"#m7d2c8b7503\" y=\"179.001319\"/>\n     <use style=\"fill:#ffa500;stroke:#ffa500;\" x=\"129.78168\" xlink:href=\"#m7d2c8b7503\" y=\"168.81988\"/>\n     <use style=\"fill:#ffa500;stroke:#ffa500;\" x=\"169.50351\" xlink:href=\"#m7d2c8b7503\" y=\"193.99415\"/>\n     <use style=\"fill:#ffa500;stroke:#ffa500;\" x=\"166.312845\" xlink:href=\"#m7d2c8b7503\" y=\"172.793396\"/>\n     <use style=\"fill:#ffa500;stroke:#ffa500;\" x=\"142.269367\" xlink:href=\"#m7d2c8b7503\" y=\"183.77937\"/>\n     <use style=\"fill:#ffa500;stroke:#ffa500;\" x=\"111.446451\" xlink:href=\"#m7d2c8b7503\" y=\"178.554941\"/>\n     <use style=\"fill:#ffa500;stroke:#ffa500;\" x=\"165.594419\" xlink:href=\"#m7d2c8b7503\" y=\"159.150995\"/>\n     <use style=\"fill:#ffa500;stroke:#ffa500;\" x=\"138.239224\" xlink:href=\"#m7d2c8b7503\" y=\"195.46971\"/>\n     <use style=\"fill:#ffa500;stroke:#ffa500;\" x=\"134.394802\" xlink:href=\"#m7d2c8b7503\" y=\"163.450063\"/>\n     <use style=\"fill:#ffa500;stroke:#ffa500;\" x=\"130.275733\" xlink:href=\"#m7d2c8b7503\" y=\"161.453115\"/>\n     <use style=\"fill:#ffa500;stroke:#ffa500;\" x=\"156.930214\" xlink:href=\"#m7d2c8b7503\" y=\"195.897509\"/>\n     <use style=\"fill:#ffa500;stroke:#ffa500;\" x=\"150.039875\" xlink:href=\"#m7d2c8b7503\" y=\"174.92596\"/>\n     <use style=\"fill:#ffa500;stroke:#ffa500;\" x=\"188.869776\" xlink:href=\"#m7d2c8b7503\" y=\"179.154474\"/>\n     <use style=\"fill:#ffa500;stroke:#ffa500;\" x=\"140.720386\" xlink:href=\"#m7d2c8b7503\" y=\"179.180987\"/>\n     <use style=\"fill:#ffa500;stroke:#ffa500;\" x=\"126.251665\" xlink:href=\"#m7d2c8b7503\" y=\"191.118406\"/>\n     <use style=\"fill:#ffa500;stroke:#ffa500;\" x=\"183.30738\" xlink:href=\"#m7d2c8b7503\" y=\"187.371842\"/>\n     <use style=\"fill:#ffa500;stroke:#ffa500;\" x=\"163.435493\" xlink:href=\"#m7d2c8b7503\" y=\"145.65429\"/>\n     <use style=\"fill:#ffa500;stroke:#ffa500;\" x=\"141.026334\" xlink:href=\"#m7d2c8b7503\" y=\"191.928008\"/>\n     <use style=\"fill:#ffa500;stroke:#ffa500;\" x=\"187.675481\" xlink:href=\"#m7d2c8b7503\" y=\"200.973989\"/>\n     <use style=\"fill:#ffa500;stroke:#ffa500;\" x=\"154.639863\" xlink:href=\"#m7d2c8b7503\" y=\"168.330405\"/>\n     <use style=\"fill:#ffa500;stroke:#ffa500;\" x=\"139.094218\" xlink:href=\"#m7d2c8b7503\" y=\"163.421876\"/>\n     <use style=\"fill:#ffa500;stroke:#ffa500;\" x=\"157.998451\" xlink:href=\"#m7d2c8b7503\" y=\"160.4897\"/>\n     <use style=\"fill:#ffa500;stroke:#ffa500;\" x=\"177.344662\" xlink:href=\"#m7d2c8b7503\" y=\"182.572807\"/>\n     <use style=\"fill:#ffa500;stroke:#ffa500;\" x=\"162.90073\" xlink:href=\"#m7d2c8b7503\" y=\"173.170612\"/>\n     <use style=\"fill:#ffa500;stroke:#ffa500;\" x=\"126.679731\" xlink:href=\"#m7d2c8b7503\" y=\"206.860024\"/>\n     <use style=\"fill:#ffa500;stroke:#ffa500;\" x=\"126.006895\" xlink:href=\"#m7d2c8b7503\" y=\"184.810728\"/>\n     <use style=\"fill:#ffa500;stroke:#ffa500;\" x=\"161.09848\" xlink:href=\"#m7d2c8b7503\" y=\"166.282816\"/>\n     <use style=\"fill:#ffa500;stroke:#ffa500;\" x=\"193.578373\" xlink:href=\"#m7d2c8b7503\" y=\"208.336056\"/>\n    </g>\n   </g>\n   <g id=\"matplotlib.axis_1\">\n    <g id=\"xtick_1\">\n     <g id=\"line2d_1\">\n      <defs>\n       <path d=\"M 0 0 \nL 0 3.5 \n\" id=\"md021066a2f\" style=\"stroke:#000000;stroke-width:0.8;\"/>\n      </defs>\n      <g>\n       <use style=\"stroke:#000000;stroke-width:0.8;\" x=\"83.755039\" xlink:href=\"#md021066a2f\" y=\"224.64\"/>\n      </g>\n     </g>\n     <g id=\"text_1\">\n      <!-- −100 -->\n      <g transform=\"translate(70.021446 239.238437)scale(0.1 -0.1)\">\n       <defs>\n        <path d=\"M 10.59375 35.5 \nL 73.1875 35.5 \nL 73.1875 27.203125 \nL 10.59375 27.203125 \nz\n\" id=\"DejaVuSans-8722\"/>\n        <path d=\"M 12.40625 8.296875 \nL 28.515625 8.296875 \nL 28.515625 63.921875 \nL 10.984375 60.40625 \nL 10.984375 69.390625 \nL 28.421875 72.90625 \nL 38.28125 72.90625 \nL 38.28125 8.296875 \nL 54.390625 8.296875 \nL 54.390625 0 \nL 12.40625 0 \nz\n\" id=\"DejaVuSans-49\"/>\n        <path d=\"M 31.78125 66.40625 \nQ 24.171875 66.40625 20.328125 58.90625 \nQ 16.5 51.421875 16.5 36.375 \nQ 16.5 21.390625 20.328125 13.890625 \nQ 24.171875 6.390625 31.78125 6.390625 \nQ 39.453125 6.390625 43.28125 13.890625 \nQ 47.125 21.390625 47.125 36.375 \nQ 47.125 51.421875 43.28125 58.90625 \nQ 39.453125 66.40625 31.78125 66.40625 \nz\nM 31.78125 74.21875 \nQ 44.046875 74.21875 50.515625 64.515625 \nQ 56.984375 54.828125 56.984375 36.375 \nQ 56.984375 17.96875 50.515625 8.265625 \nQ 44.046875 -1.421875 31.78125 -1.421875 \nQ 19.53125 -1.421875 13.0625 8.265625 \nQ 6.59375 17.96875 6.59375 36.375 \nQ 6.59375 54.828125 13.0625 64.515625 \nQ 19.53125 74.21875 31.78125 74.21875 \nz\n\" id=\"DejaVuSans-48\"/>\n       </defs>\n       <use xlink:href=\"#DejaVuSans-8722\"/>\n       <use x=\"83.789062\" xlink:href=\"#DejaVuSans-49\"/>\n       <use x=\"147.412109\" xlink:href=\"#DejaVuSans-48\"/>\n       <use x=\"211.035156\" xlink:href=\"#DejaVuSans-48\"/>\n      </g>\n     </g>\n    </g>\n    <g id=\"xtick_2\">\n     <g id=\"line2d_2\">\n      <g>\n       <use style=\"stroke:#000000;stroke-width:0.8;\" x=\"141.182631\" xlink:href=\"#md021066a2f\" y=\"224.64\"/>\n      </g>\n     </g>\n     <g id=\"text_2\">\n      <!-- −50 -->\n      <g transform=\"translate(130.630288 239.238437)scale(0.1 -0.1)\">\n       <defs>\n        <path d=\"M 10.796875 72.90625 \nL 49.515625 72.90625 \nL 49.515625 64.59375 \nL 19.828125 64.59375 \nL 19.828125 46.734375 \nQ 21.96875 47.46875 24.109375 47.828125 \nQ 26.265625 48.1875 28.421875 48.1875 \nQ 40.625 48.1875 47.75 41.5 \nQ 54.890625 34.8125 54.890625 23.390625 \nQ 54.890625 11.625 47.5625 5.09375 \nQ 40.234375 -1.421875 26.90625 -1.421875 \nQ 22.3125 -1.421875 17.546875 -0.640625 \nQ 12.796875 0.140625 7.71875 1.703125 \nL 7.71875 11.625 \nQ 12.109375 9.234375 16.796875 8.0625 \nQ 21.484375 6.890625 26.703125 6.890625 \nQ 35.15625 6.890625 40.078125 11.328125 \nQ 45.015625 15.765625 45.015625 23.390625 \nQ 45.015625 31 40.078125 35.4375 \nQ 35.15625 39.890625 26.703125 39.890625 \nQ 22.75 39.890625 18.8125 39.015625 \nQ 14.890625 38.140625 10.796875 36.28125 \nz\n\" id=\"DejaVuSans-53\"/>\n       </defs>\n       <use xlink:href=\"#DejaVuSans-8722\"/>\n       <use x=\"83.789062\" xlink:href=\"#DejaVuSans-53\"/>\n       <use x=\"147.412109\" xlink:href=\"#DejaVuSans-48\"/>\n      </g>\n     </g>\n    </g>\n    <g id=\"xtick_3\">\n     <g id=\"line2d_3\">\n      <g>\n       <use style=\"stroke:#000000;stroke-width:0.8;\" x=\"198.610223\" xlink:href=\"#md021066a2f\" y=\"224.64\"/>\n      </g>\n     </g>\n     <g id=\"text_3\">\n      <!-- 0 -->\n      <g transform=\"translate(195.428973 239.238437)scale(0.1 -0.1)\">\n       <use xlink:href=\"#DejaVuSans-48\"/>\n      </g>\n     </g>\n    </g>\n    <g id=\"xtick_4\">\n     <g id=\"line2d_4\">\n      <g>\n       <use style=\"stroke:#000000;stroke-width:0.8;\" x=\"256.037815\" xlink:href=\"#md021066a2f\" y=\"224.64\"/>\n      </g>\n     </g>\n     <g id=\"text_4\">\n      <!-- 50 -->\n      <g transform=\"translate(249.675315 239.238437)scale(0.1 -0.1)\">\n       <use xlink:href=\"#DejaVuSans-53\"/>\n       <use x=\"63.623047\" xlink:href=\"#DejaVuSans-48\"/>\n      </g>\n     </g>\n    </g>\n    <g id=\"xtick_5\">\n     <g id=\"line2d_5\">\n      <g>\n       <use style=\"stroke:#000000;stroke-width:0.8;\" x=\"313.465407\" xlink:href=\"#md021066a2f\" y=\"224.64\"/>\n      </g>\n     </g>\n     <g id=\"text_5\">\n      <!-- 100 -->\n      <g transform=\"translate(303.921657 239.238437)scale(0.1 -0.1)\">\n       <use xlink:href=\"#DejaVuSans-49\"/>\n       <use x=\"63.623047\" xlink:href=\"#DejaVuSans-48\"/>\n       <use x=\"127.246094\" xlink:href=\"#DejaVuSans-48\"/>\n      </g>\n     </g>\n    </g>\n    <g id=\"xtick_6\">\n     <g id=\"line2d_6\">\n      <g>\n       <use style=\"stroke:#000000;stroke-width:0.8;\" x=\"370.892999\" xlink:href=\"#md021066a2f\" y=\"224.64\"/>\n      </g>\n     </g>\n     <g id=\"text_6\">\n      <!-- 150 -->\n      <g transform=\"translate(361.349249 239.238437)scale(0.1 -0.1)\">\n       <use xlink:href=\"#DejaVuSans-49\"/>\n       <use x=\"63.623047\" xlink:href=\"#DejaVuSans-53\"/>\n       <use x=\"127.246094\" xlink:href=\"#DejaVuSans-48\"/>\n      </g>\n     </g>\n    </g>\n   </g>\n   <g id=\"matplotlib.axis_2\">\n    <g id=\"ytick_1\">\n     <g id=\"line2d_7\">\n      <defs>\n       <path d=\"M 0 0 \nL -3.5 0 \n\" id=\"mab9a1b6e91\" style=\"stroke:#000000;stroke-width:0.8;\"/>\n      </defs>\n      <g>\n       <use style=\"stroke:#000000;stroke-width:0.8;\" x=\"41.667188\" xlink:href=\"#mab9a1b6e91\" y=\"211.562173\"/>\n      </g>\n     </g>\n     <g id=\"text_7\">\n      <!-- −100 -->\n      <g transform=\"translate(7.2 215.361391)scale(0.1 -0.1)\">\n       <use xlink:href=\"#DejaVuSans-8722\"/>\n       <use x=\"83.789062\" xlink:href=\"#DejaVuSans-49\"/>\n       <use x=\"147.412109\" xlink:href=\"#DejaVuSans-48\"/>\n       <use x=\"211.035156\" xlink:href=\"#DejaVuSans-48\"/>\n      </g>\n     </g>\n    </g>\n    <g id=\"ytick_2\">\n     <g id=\"line2d_8\">\n      <g>\n       <use style=\"stroke:#000000;stroke-width:0.8;\" x=\"41.667188\" xlink:href=\"#mab9a1b6e91\" y=\"179.038624\"/>\n      </g>\n     </g>\n     <g id=\"text_8\">\n      <!-- −50 -->\n      <g transform=\"translate(13.5625 182.837843)scale(0.1 -0.1)\">\n       <use xlink:href=\"#DejaVuSans-8722\"/>\n       <use x=\"83.789062\" xlink:href=\"#DejaVuSans-53\"/>\n       <use x=\"147.412109\" xlink:href=\"#DejaVuSans-48\"/>\n      </g>\n     </g>\n    </g>\n    <g id=\"ytick_3\">\n     <g id=\"line2d_9\">\n      <g>\n       <use style=\"stroke:#000000;stroke-width:0.8;\" x=\"41.667188\" xlink:href=\"#mab9a1b6e91\" y=\"146.515075\"/>\n      </g>\n     </g>\n     <g id=\"text_9\">\n      <!-- 0 -->\n      <g transform=\"translate(28.304688 150.314294)scale(0.1 -0.1)\">\n       <use xlink:href=\"#DejaVuSans-48\"/>\n      </g>\n     </g>\n    </g>\n    <g id=\"ytick_4\">\n     <g id=\"line2d_10\">\n      <g>\n       <use style=\"stroke:#000000;stroke-width:0.8;\" x=\"41.667188\" xlink:href=\"#mab9a1b6e91\" y=\"113.991526\"/>\n      </g>\n     </g>\n     <g id=\"text_10\">\n      <!-- 50 -->\n      <g transform=\"translate(21.942188 117.790745)scale(0.1 -0.1)\">\n       <use xlink:href=\"#DejaVuSans-53\"/>\n       <use x=\"63.623047\" xlink:href=\"#DejaVuSans-48\"/>\n      </g>\n     </g>\n    </g>\n    <g id=\"ytick_5\">\n     <g id=\"line2d_11\">\n      <g>\n       <use style=\"stroke:#000000;stroke-width:0.8;\" x=\"41.667188\" xlink:href=\"#mab9a1b6e91\" y=\"81.467977\"/>\n      </g>\n     </g>\n     <g id=\"text_11\">\n      <!-- 100 -->\n      <g transform=\"translate(15.579688 85.267196)scale(0.1 -0.1)\">\n       <use xlink:href=\"#DejaVuSans-49\"/>\n       <use x=\"63.623047\" xlink:href=\"#DejaVuSans-48\"/>\n       <use x=\"127.246094\" xlink:href=\"#DejaVuSans-48\"/>\n      </g>\n     </g>\n    </g>\n    <g id=\"ytick_6\">\n     <g id=\"line2d_12\">\n      <g>\n       <use style=\"stroke:#000000;stroke-width:0.8;\" x=\"41.667188\" xlink:href=\"#mab9a1b6e91\" y=\"48.944428\"/>\n      </g>\n     </g>\n     <g id=\"text_12\">\n      <!-- 150 -->\n      <g transform=\"translate(15.579688 52.743647)scale(0.1 -0.1)\">\n       <use xlink:href=\"#DejaVuSans-49\"/>\n       <use x=\"63.623047\" xlink:href=\"#DejaVuSans-53\"/>\n       <use x=\"127.246094\" xlink:href=\"#DejaVuSans-48\"/>\n      </g>\n     </g>\n    </g>\n    <g id=\"ytick_7\">\n     <g id=\"line2d_13\">\n      <g>\n       <use style=\"stroke:#000000;stroke-width:0.8;\" x=\"41.667188\" xlink:href=\"#mab9a1b6e91\" y=\"16.420879\"/>\n      </g>\n     </g>\n     <g id=\"text_13\">\n      <!-- 200 -->\n      <g transform=\"translate(15.579688 20.220098)scale(0.1 -0.1)\">\n       <defs>\n        <path d=\"M 19.1875 8.296875 \nL 53.609375 8.296875 \nL 53.609375 0 \nL 7.328125 0 \nL 7.328125 8.296875 \nQ 12.9375 14.109375 22.625 23.890625 \nQ 32.328125 33.6875 34.8125 36.53125 \nQ 39.546875 41.84375 41.421875 45.53125 \nQ 43.3125 49.21875 43.3125 52.78125 \nQ 43.3125 58.59375 39.234375 62.25 \nQ 35.15625 65.921875 28.609375 65.921875 \nQ 23.96875 65.921875 18.8125 64.3125 \nQ 13.671875 62.703125 7.8125 59.421875 \nL 7.8125 69.390625 \nQ 13.765625 71.78125 18.9375 73 \nQ 24.125 74.21875 28.421875 74.21875 \nQ 39.75 74.21875 46.484375 68.546875 \nQ 53.21875 62.890625 53.21875 53.421875 \nQ 53.21875 48.921875 51.53125 44.890625 \nQ 49.859375 40.875 45.40625 35.40625 \nQ 44.1875 33.984375 37.640625 27.21875 \nQ 31.109375 20.453125 19.1875 8.296875 \nz\n\" id=\"DejaVuSans-50\"/>\n       </defs>\n       <use xlink:href=\"#DejaVuSans-50\"/>\n       <use x=\"63.623047\" xlink:href=\"#DejaVuSans-48\"/>\n       <use x=\"127.246094\" xlink:href=\"#DejaVuSans-48\"/>\n      </g>\n     </g>\n    </g>\n   </g>\n   <g id=\"patch_3\">\n    <path d=\"M 41.667188 224.64 \nL 41.667188 7.2 \n\" style=\"fill:none;stroke:#000000;stroke-linecap:square;stroke-linejoin:miter;stroke-width:0.8;\"/>\n   </g>\n   <g id=\"patch_4\">\n    <path d=\"M 376.467188 224.64 \nL 376.467188 7.2 \n\" style=\"fill:none;stroke:#000000;stroke-linecap:square;stroke-linejoin:miter;stroke-width:0.8;\"/>\n   </g>\n   <g id=\"patch_5\">\n    <path d=\"M 41.667188 224.64 \nL 376.467188 224.64 \n\" style=\"fill:none;stroke:#000000;stroke-linecap:square;stroke-linejoin:miter;stroke-width:0.8;\"/>\n   </g>\n   <g id=\"patch_6\">\n    <path d=\"M 41.667188 7.2 \nL 376.467188 7.2 \n\" style=\"fill:none;stroke:#000000;stroke-linecap:square;stroke-linejoin:miter;stroke-width:0.8;\"/>\n   </g>\n  </g>\n </g>\n <defs>\n  <clipPath id=\"p800b546988\">\n   <rect height=\"217.44\" width=\"334.8\" x=\"41.667188\" y=\"7.2\"/>\n  </clipPath>\n </defs>\n</svg>\n",
      "text/plain": [
       "<Figure size 432x288 with 1 Axes>"
      ]
     },
     "metadata": {
      "needs_background": "light"
     },
     "output_type": "display_data"
    }
   ],
   "source": [
    "embedding = MDS(n_components=2)\n",
    "solution = embedding.fit_transform(np.concatenate((birdTestReps, dogTestReps, carTestReps, busTestReps)))\n",
    "plt.scatter(solution[0:100, 0], solution[0:100, 1], c='blue')\n",
    "plt.scatter(solution[100:200, 0], solution[100:200, 1], c='red')\n",
    "plt.scatter(solution[200:300, 0], solution[200:300, 1], c='green')\n",
    "plt.scatter(solution[300:400, 0], solution[300:400, 1], c='orange')"
   ]
  },
  {
   "cell_type": "markdown",
   "metadata": {},
   "source": [
    "# Sandbox"
   ]
  },
  {
   "cell_type": "code",
   "execution_count": 7,
   "metadata": {},
   "outputs": [],
   "source": [
    "# Reimplementation of task to confirmation task\n",
    "maxExem = birdTrainReps.shape[0]\n",
    "criterion = 25\n",
    "\n",
    "verifData = pd.DataFrame(columns=['level', 'cat', 'resp', 'rt'])\n",
    "for rep in birdTestReps:\n",
    "    evidence = cat.get_evidence(rep, birdTrainReps, cat.gcm_sim, maxExem)\n",
    "    drift = evidence / (evidence + criterion)\n",
    "    resp, rt = cat.LBA_deterministic(drift, 1 - drift, b=.3)\n",
    "    resp = 'yes' if resp == 1 else 'no'\n",
    "    \n",
    "    # Add row\n",
    "    verifData = verifData.append({\n",
    "        'level': 'basic',\n",
    "        'cat': 'bird',\n",
    "        'resp': resp,\n",
    "        'rt': rt\n",
    "    }, ignore_index=True)\n",
    "\n",
    "for rep in dogTestReps:\n",
    "    evidence = cat.get_evidence(rep, dogTrainReps, cat.gcm_sim, maxExem)\n",
    "    drift = evidence / (evidence + criterion)\n",
    "    resp, rt = cat.LBA_deterministic(drift, 1 - drift, b=.3)\n",
    "    resp = 'yes' if resp == 1 else 'no'\n",
    "    \n",
    "    # Add row\n",
    "    verifData = verifData.append({\n",
    "        'level': 'basic',\n",
    "        'cat': 'dog',\n",
    "        'resp': resp,\n",
    "        'rt': rt\n",
    "    }, ignore_index=True)\n",
    "\n",
    "for rep in carTestReps:\n",
    "    evidence = cat.get_evidence(rep, carTrainReps, cat.gcm_sim, maxExem)\n",
    "    drift = evidence / (evidence + criterion)\n",
    "    resp, rt = cat.LBA_deterministic(drift, 1 - drift, b=.3)\n",
    "    resp = 'yes' if resp == 1 else 'no'\n",
    "    \n",
    "    # Add row\n",
    "    verifData = verifData.append({\n",
    "        'level': 'basic',\n",
    "        'cat': 'car',\n",
    "        'resp': resp,\n",
    "        'rt': rt\n",
    "    }, ignore_index=True)\n",
    "\n",
    "for rep in busTestReps:\n",
    "    evidence = cat.get_evidence(rep, busTrainReps, cat.gcm_sim, maxExem)\n",
    "    drift = evidence / (evidence + criterion)\n",
    "    resp, rt = cat.LBA_deterministic(drift, 1 - drift, b=.3)\n",
    "    resp = 'yes' if resp == 1 else 'no'\n",
    "    \n",
    "    # Add row\n",
    "    verifData = verifData.append({\n",
    "        'level': 'basic',\n",
    "        'cat': 'bus',\n",
    "        'resp': resp,\n",
    "        'rt': rt\n",
    "    }, ignore_index=True)\n",
    "\n",
    "for rep in animalTestReps:\n",
    "    evidence = cat.get_evidence(rep, animalTrainReps, cat.gcm_sim, maxExem)\n",
    "    drift = evidence / (evidence + criterion)\n",
    "    resp, rt = cat.LBA_deterministic(drift, 1 - drift, b=.3)\n",
    "    resp = 'yes' if resp == 1 else 'no'\n",
    "    \n",
    "    # Add row\n",
    "    verifData = verifData.append({\n",
    "        'level': 'super',\n",
    "        'cat': 'animal',\n",
    "        'resp': resp,\n",
    "        'rt': rt\n",
    "    }, ignore_index=True)\n",
    "\n",
    "for rep in vehicleTestReps:\n",
    "    evidence = cat.get_evidence(rep, vehicleTrainReps, cat.gcm_sim, maxExem)\n",
    "    drift = evidence / (evidence + criterion)\n",
    "    resp, rt = cat.LBA_deterministic(drift, 1 - drift, b=.3)\n",
    "    resp = 'yes' if resp == 1 else 'no'\n",
    "    \n",
    "    # Add row\n",
    "    verifData = verifData.append({\n",
    "        'level': 'super',\n",
    "        'cat': 'vehicle',\n",
    "        'resp': resp,\n",
    "        'rt': rt\n",
    "    }, ignore_index=True)\n"
   ]
  },
  {
   "cell_type": "code",
   "execution_count": 8,
   "metadata": {},
   "outputs": [
    {
     "data": {
      "text/plain": [
       "level  resp\n",
       "basic  yes     379\n",
       "       no       21\n",
       "super  yes     354\n",
       "       no       46\n",
       "Name: resp, dtype: int64"
      ]
     },
     "execution_count": 8,
     "metadata": {},
     "output_type": "execute_result"
    }
   ],
   "source": [
    "# Group data basic on level and count responses\n",
    "verifData.groupby(['level'])['resp'].value_counts()"
   ]
  },
  {
   "cell_type": "code",
   "execution_count": 9,
   "metadata": {},
   "outputs": [
    {
     "data": {
      "text/plain": [
       "level\n",
       "basic    0.521725\n",
       "super    0.537252\n",
       "Name: rt, dtype: float64"
      ]
     },
     "execution_count": 9,
     "metadata": {},
     "output_type": "execute_result"
    }
   ],
   "source": [
    "verifData.groupby(['level'])['rt'].mean()"
   ]
  }
 ],
 "metadata": {
  "kernelspec": {
   "display_name": "research",
   "language": "python",
   "name": "research"
  },
  "language_info": {
   "codemirror_mode": {
    "name": "ipython",
    "version": 3
   },
   "file_extension": ".py",
   "mimetype": "text/x-python",
   "name": "python",
   "nbconvert_exporter": "python",
   "pygments_lexer": "ipython3",
   "version": "3.8.10"
  },
  "orig_nbformat": 4
 },
 "nbformat": 4,
 "nbformat_minor": 2
}
