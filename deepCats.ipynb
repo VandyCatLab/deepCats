{
 "cells": [
  {
   "cell_type": "code",
   "execution_count": 1,
   "metadata": {
    "notebookRunGroups": {
     "groupValue": "12"
    }
   },
   "outputs": [
    {
     "name": "stderr",
     "output_type": "stream",
     "text": [
      "2022-06-23 22:05:27.518417: I tensorflow/stream_executor/platform/default/dso_loader.cc:53] Successfully opened dynamic library libcudart.so.11.0\n"
     ]
    }
   ],
   "source": [
    "import tensorflow as tf\n",
    "from tensorflow.keras import layers\n",
    "import numpy as np\n",
    "import tensorflow_addons as tfa\n",
    "import os\n",
    "from PIL import Image\n",
    "import pandas as pd\n",
    "\n",
    "import ecoset\n",
    "import categorization\n",
    "import utils"
   ]
  },
  {
   "cell_type": "code",
   "execution_count": 2,
   "metadata": {
    "notebookRunGroups": {
     "groupValue": "1"
    }
   },
   "outputs": [
    {
     "name": "stderr",
     "output_type": "stream",
     "text": [
      "2022-06-23 22:05:28.627952: I tensorflow/stream_executor/platform/default/dso_loader.cc:53] Successfully opened dynamic library libcuda.so.1\n",
      "2022-06-23 22:05:28.657108: I tensorflow/stream_executor/cuda/cuda_gpu_executor.cc:937] successful NUMA node read from SysFS had negative value (-1), but there must be at least one NUMA node, so returning NUMA node zero\n",
      "2022-06-23 22:05:28.657440: I tensorflow/core/common_runtime/gpu/gpu_device.cc:1733] Found device 0 with properties: \n",
      "pciBusID: 0000:01:00.0 name: NVIDIA GeForce GTX 970 computeCapability: 5.2\n",
      "coreClock: 1.253GHz coreCount: 13 deviceMemorySize: 3.95GiB deviceMemoryBandwidth: 208.91GiB/s\n",
      "2022-06-23 22:05:28.657459: I tensorflow/stream_executor/platform/default/dso_loader.cc:53] Successfully opened dynamic library libcudart.so.11.0\n",
      "2022-06-23 22:05:28.661096: I tensorflow/stream_executor/platform/default/dso_loader.cc:53] Successfully opened dynamic library libcublas.so.11\n",
      "2022-06-23 22:05:28.661142: I tensorflow/stream_executor/platform/default/dso_loader.cc:53] Successfully opened dynamic library libcublasLt.so.11\n",
      "2022-06-23 22:05:28.662989: I tensorflow/stream_executor/platform/default/dso_loader.cc:53] Successfully opened dynamic library libcufft.so.10\n",
      "2022-06-23 22:05:28.663243: I tensorflow/stream_executor/platform/default/dso_loader.cc:53] Successfully opened dynamic library libcurand.so.10\n",
      "2022-06-23 22:05:28.663822: I tensorflow/stream_executor/platform/default/dso_loader.cc:53] Successfully opened dynamic library libcusolver.so.11\n",
      "2022-06-23 22:05:28.664571: I tensorflow/stream_executor/platform/default/dso_loader.cc:53] Successfully opened dynamic library libcusparse.so.11\n",
      "2022-06-23 22:05:28.664678: I tensorflow/stream_executor/platform/default/dso_loader.cc:53] Successfully opened dynamic library libcudnn.so.8\n",
      "2022-06-23 22:05:28.664768: I tensorflow/stream_executor/cuda/cuda_gpu_executor.cc:937] successful NUMA node read from SysFS had negative value (-1), but there must be at least one NUMA node, so returning NUMA node zero\n",
      "2022-06-23 22:05:28.665085: I tensorflow/stream_executor/cuda/cuda_gpu_executor.cc:937] successful NUMA node read from SysFS had negative value (-1), but there must be at least one NUMA node, so returning NUMA node zero\n",
      "2022-06-23 22:05:28.665344: I tensorflow/core/common_runtime/gpu/gpu_device.cc:1871] Adding visible gpu devices: 0\n",
      "2022-06-23 22:05:28.665704: I tensorflow/core/platform/cpu_feature_guard.cc:142] This TensorFlow binary is optimized with oneAPI Deep Neural Network Library (oneDNN) to use the following CPU instructions in performance-critical operations:  AVX2 FMA\n",
      "To enable them in other operations, rebuild TensorFlow with the appropriate compiler flags.\n",
      "2022-06-23 22:05:28.665906: I tensorflow/stream_executor/cuda/cuda_gpu_executor.cc:937] successful NUMA node read from SysFS had negative value (-1), but there must be at least one NUMA node, so returning NUMA node zero\n",
      "2022-06-23 22:05:28.666162: I tensorflow/core/common_runtime/gpu/gpu_device.cc:1733] Found device 0 with properties: \n",
      "pciBusID: 0000:01:00.0 name: NVIDIA GeForce GTX 970 computeCapability: 5.2\n",
      "coreClock: 1.253GHz coreCount: 13 deviceMemorySize: 3.95GiB deviceMemoryBandwidth: 208.91GiB/s\n",
      "2022-06-23 22:05:28.666215: I tensorflow/stream_executor/cuda/cuda_gpu_executor.cc:937] successful NUMA node read from SysFS had negative value (-1), but there must be at least one NUMA node, so returning NUMA node zero\n",
      "2022-06-23 22:05:28.666486: I tensorflow/stream_executor/cuda/cuda_gpu_executor.cc:937] successful NUMA node read from SysFS had negative value (-1), but there must be at least one NUMA node, so returning NUMA node zero\n",
      "2022-06-23 22:05:28.666719: I tensorflow/core/common_runtime/gpu/gpu_device.cc:1871] Adding visible gpu devices: 0\n",
      "2022-06-23 22:05:28.666745: I tensorflow/stream_executor/platform/default/dso_loader.cc:53] Successfully opened dynamic library libcudart.so.11.0\n",
      "2022-06-23 22:05:29.052396: I tensorflow/core/common_runtime/gpu/gpu_device.cc:1258] Device interconnect StreamExecutor with strength 1 edge matrix:\n",
      "2022-06-23 22:05:29.052420: I tensorflow/core/common_runtime/gpu/gpu_device.cc:1264]      0 \n",
      "2022-06-23 22:05:29.052426: I tensorflow/core/common_runtime/gpu/gpu_device.cc:1277] 0:   N \n",
      "2022-06-23 22:05:29.052572: I tensorflow/stream_executor/cuda/cuda_gpu_executor.cc:937] successful NUMA node read from SysFS had negative value (-1), but there must be at least one NUMA node, so returning NUMA node zero\n",
      "2022-06-23 22:05:29.052868: I tensorflow/stream_executor/cuda/cuda_gpu_executor.cc:937] successful NUMA node read from SysFS had negative value (-1), but there must be at least one NUMA node, so returning NUMA node zero\n",
      "2022-06-23 22:05:29.053143: I tensorflow/stream_executor/cuda/cuda_gpu_executor.cc:937] successful NUMA node read from SysFS had negative value (-1), but there must be at least one NUMA node, so returning NUMA node zero\n",
      "2022-06-23 22:05:29.053393: I tensorflow/core/common_runtime/gpu/gpu_device.cc:1418] Created TensorFlow device (/job:localhost/replica:0/task:0/device:GPU:0 with 3344 MB memory) -> physical GPU (device: 0, name: NVIDIA GeForce GTX 970, pci bus id: 0000:01:00.0, compute capability: 5.2)\n"
     ]
    },
    {
     "name": "stdout",
     "output_type": "stream",
     "text": [
      "Weights from ./models/AlexNet/ecoset_training_seeds_01_to_10/training_seed_01/model.ckpt_epoch89 loaded successfully.\n",
      "Weights from ./models/AlexNet/ILSVRC_training_seeds_01_to_10/training_seed_01/model.ckpt_epoch89 loaded successfully.\n",
      "Model: \"model\"\n",
      "_________________________________________________________________\n",
      "Layer (type)                 Output Shape              Param #   \n",
      "=================================================================\n",
      "input_1 (InputLayer)         [(None, 224, 224, 3)]     0         \n",
      "_________________________________________________________________\n",
      "conv1 (Conv2D)               (None, 54, 54, 64)        23296     \n",
      "_________________________________________________________________\n",
      "pool1 (MaxPooling2D)         (None, 26, 26, 64)        0         \n",
      "_________________________________________________________________\n",
      "conv2 (Conv2D)               (None, 26, 26, 192)       307392    \n",
      "_________________________________________________________________\n",
      "pool2 (MaxPooling2D)         (None, 12, 12, 192)       0         \n",
      "_________________________________________________________________\n",
      "conv3 (Conv2D)               (None, 12, 12, 384)       663936    \n",
      "_________________________________________________________________\n",
      "conv4 (Conv2D)               (None, 12, 12, 384)       1327488   \n",
      "_________________________________________________________________\n",
      "conv5 (Conv2D)               (None, 12, 12, 256)       884992    \n",
      "_________________________________________________________________\n",
      "pool5 (MaxPooling2D)         (None, 5, 5, 256)         0         \n",
      "_________________________________________________________________\n",
      "fc6 (Conv2D)                 (None, 5, 5, 4096)        26218496  \n",
      "_________________________________________________________________\n",
      "dropout (Dropout)            (None, 5, 5, 4096)        0         \n",
      "_________________________________________________________________\n",
      "fc7 (Conv2D)                 (None, 5, 5, 4096)        16781312  \n",
      "_________________________________________________________________\n",
      "dropout_1 (Dropout)          (None, 5, 5, 4096)        0         \n",
      "_________________________________________________________________\n",
      "fc8 (Conv2D)                 (None, 5, 5, 565)         2314805   \n",
      "_________________________________________________________________\n",
      "global_average_pooling2d (Gl (None, 565)               0         \n",
      "_________________________________________________________________\n",
      "flatten (Flatten)            (None, 565)               0         \n",
      "=================================================================\n",
      "Total params: 48,521,717\n",
      "Trainable params: 48,521,717\n",
      "Non-trainable params: 0\n",
      "_________________________________________________________________\n"
     ]
    }
   ],
   "source": [
    "# Load model\n",
    "ecosetModel = ecoset.make_alex_net_v2(\n",
    "    weights_path='./models/AlexNet/ecoset_training_seeds_01_to_10/training_seed_01/model.ckpt_epoch89',\n",
    ")\n",
    "imagenetModel = ecoset.make_alex_net_v2(\n",
    "    output_shape=1000, \n",
    "    weights_path='./models/AlexNet/ILSVRC_training_seeds_01_to_10/training_seed_01/model.ckpt_epoch89',\n",
    ")\n",
    "ecosetModel.summary()"
   ]
  },
  {
   "cell_type": "code",
   "execution_count": 3,
   "metadata": {
    "notebookRunGroups": {
     "groupValue": "2"
    }
   },
   "outputs": [],
   "source": [
    "# model = ecoset.make_vNet(\n",
    "#     weights_path='./models/vNET/ecoset_training_seeds_01_to_10/training_seed_01/model.ckpt_epoch79',\n",
    "#     softmax=True,)\n",
    "# model = Imagenet.make_vNet(\n",
    "#     output_shape=1000, \n",
    "#     weights_path='./models/vNET/ILSVRC_training_seeds_01_to_10/training_seed_01/model.ckpt_epoch79',\n",
    "#     softmax=True,\n",
    "# )\n",
    "# model.summary()"
   ]
  },
  {
   "cell_type": "code",
   "execution_count": 4,
   "metadata": {},
   "outputs": [],
   "source": [
    "trainCats, trainCounts = categorization.build_categories_from_ecoset(\n",
    "    './images/train', \n",
    "    includeSub=False,\n",
    "    maxImgs=100\n",
    "    )\n",
    "testCats, testCounts = categorization.build_categories_from_ecoset(\n",
    "    './images/val+test',\n",
    "    includeSub=False,\n",
    "    maxImgs=100\n",
    ")\n",
    "\n",
    "trainImages = categorization.get_images_from_cat(trainCats, preprocFun=ecoset.preprocess_alexnet)\n",
    "testImages = categorization.get_images_from_cat(testCats, preprocFun=ecoset.preprocess_alexnet)"
   ]
  },
  {
   "cell_type": "code",
   "execution_count": 5,
   "metadata": {},
   "outputs": [],
   "source": [
    "ecosetModel = utils.make_output_model(ecosetModel)\n",
    "imagenetModel = utils.make_output_model(imagenetModel)"
   ]
  },
  {
   "cell_type": "code",
   "execution_count": 42,
   "metadata": {},
   "outputs": [],
   "source": [
    "birdTrainReps = ecosetModel.predict(trainImages['animal']['0085_bird'])[-3]\n",
    "dogTrainReps = ecosetModel.predict(trainImages['animal']['0039_dog'])[-3]\n",
    "carTrainReps = ecosetModel.predict(trainImages['vehicle']['0009_car'])[-3]\n",
    "busTrainReps = ecosetModel.predict(trainImages['vehicle']['0089_bus'])[-3]\n",
    "\n",
    "birdTestReps = ecosetModel.predict(testImages['animal']['0085_bird'])[-3]\n",
    "dogTestReps = ecosetModel.predict(testImages['animal']['0039_dog'])[-3]\n",
    "carTestReps = ecosetModel.predict(testImages['vehicle']['0009_car'])[-3]\n",
    "busTestReps = ecosetModel.predict(testImages['vehicle']['0089_bus'])[-3]"
   ]
  },
  {
   "cell_type": "code",
   "execution_count": 43,
   "metadata": {},
   "outputs": [],
   "source": [
    "# Perform categorization comparing against only the most similar category\n",
    "withinCatEcosetData = pd.DataFrame(columns=['level', 'cat', 'resp', 'rt'])\n",
    "\n",
    "for rep in birdTestReps:\n",
    "    probs = categorization.sim_prob(rep, birdTrainReps, dogTrainReps)\n",
    "    resp, rt = categorization.LBA_deterministic(probs[0], probs[1])\n",
    "    resp = 'yes' if resp == 1 else 'no'\n",
    "    \n",
    "    # Add row\n",
    "    withinCatEcosetData = withinCatEcosetData.append({\n",
    "        'level': 'basic',\n",
    "        'cat': 'bird',\n",
    "        'resp': resp,\n",
    "        'rt': rt\n",
    "    }, ignore_index=True)\n",
    "\n",
    "for rep in dogTestReps:\n",
    "    probs = categorization.sim_prob(rep, dogTrainReps, birdTrainReps)\n",
    "    resp, rt = categorization.LBA_deterministic(probs[0], probs[1])\n",
    "    resp = 'yes' if resp == 1 else 'no'\n",
    "\n",
    "    # Add row\n",
    "    withinCatEcosetData = withinCatEcosetData.append({\n",
    "        'level': 'basic',\n",
    "        'cat': 'dog',\n",
    "        'resp': resp,\n",
    "        'rt': rt\n",
    "    }, ignore_index=True)\n",
    "\n",
    "for rep in carTestReps:\n",
    "    probs = categorization.sim_prob(rep, carTrainReps, busTrainReps)\n",
    "    resp, rt = categorization.LBA_deterministic(probs[0], probs[1])\n",
    "    resp = 'yes' if resp == 1 else 'no'\n",
    "\n",
    "    # Add row\n",
    "    withinCatEcosetData = withinCatEcosetData.append({\n",
    "        'level': 'basic',\n",
    "        'cat': 'car',\n",
    "        'resp': resp,\n",
    "        'rt': rt\n",
    "    }, ignore_index=True)\n",
    "\n",
    "for rep in busTestReps:\n",
    "    probs = categorization.sim_prob(rep, busTrainReps, carTrainReps)\n",
    "    resp, rt = categorization.LBA_deterministic(probs[0], probs[1])\n",
    "    resp = 'yes' if resp == 1 else 'no'\n",
    "\n",
    "    # Add row\n",
    "    withinCatEcosetData = withinCatEcosetData.append({\n",
    "        'level': 'basic',\n",
    "        'cat': 'bus',\n",
    "        'resp': resp,\n",
    "        'rt': rt\n",
    "    }, ignore_index=True)\n",
    "\n",
    "for rep in np.concatenate((birdTestReps, dogTestReps)):\n",
    "    probs = categorization.sim_prob(rep, [birdTrainReps, dogTrainReps], [carTrainReps, busTrainReps])\n",
    "    resp, rt = categorization.LBA_deterministic(probs[0], probs[1])\n",
    "    resp = 'yes' if resp == 1 else 'no'\n",
    "\n",
    "    # Add row\n",
    "    withinCatEcosetData = withinCatEcosetData.append({\n",
    "        'level': 'super',\n",
    "        'cat': 'animal',\n",
    "        'resp': resp,\n",
    "        'rt': rt\n",
    "    }, ignore_index=True)\n",
    "\n",
    "for rep in np.concatenate((carTrainReps, busTrainReps)):\n",
    "    probs = categorization.sim_prob(rep, [carTrainReps, busTrainReps], [birdTrainReps, dogTrainReps])\n",
    "    resp, rt = categorization.LBA_deterministic(probs[0], probs[1])\n",
    "    resp = 'yes' if resp == 1 else 'no'\n",
    "\n",
    "    # Add row\n",
    "    withinCatEcosetData = withinCatEcosetData.append({\n",
    "        'level': 'super',\n",
    "        'cat': 'vehicle',\n",
    "        'resp': resp,\n",
    "        'rt': rt\n",
    "    }, ignore_index=True)"
   ]
  },
  {
   "cell_type": "code",
   "execution_count": 44,
   "metadata": {},
   "outputs": [
    {
     "data": {
      "text/plain": [
       "level  resp\n",
       "basic  yes     344\n",
       "       no       56\n",
       "super  yes     397\n",
       "       no        3\n",
       "Name: resp, dtype: int64"
      ]
     },
     "execution_count": 44,
     "metadata": {},
     "output_type": "execute_result"
    }
   ],
   "source": [
    "# Group data basic on level and count responses\n",
    "withinCatEcosetData.groupby(['level'])['resp'].value_counts()"
   ]
  },
  {
   "cell_type": "code",
   "execution_count": 45,
   "metadata": {},
   "outputs": [
    {
     "data": {
      "text/plain": [
       "level\n",
       "basic    1.934697\n",
       "super    1.871480\n",
       "Name: rt, dtype: float64"
      ]
     },
     "execution_count": 45,
     "metadata": {},
     "output_type": "execute_result"
    }
   ],
   "source": [
    "# Group data basic on level and get mean RTs\n",
    "withinCatEcosetData.groupby(['level'])['rt'].mean()"
   ]
  },
  {
   "cell_type": "code",
   "execution_count": 46,
   "metadata": {},
   "outputs": [],
   "source": [
    "birdTrainReps = imagenetModel.predict(trainImages['animal']['0085_bird'])[-3]\n",
    "dogTrainReps = imagenetModel.predict(trainImages['animal']['0039_dog'])[-3]\n",
    "carTrainReps = imagenetModel.predict(trainImages['vehicle']['0009_car'])[-3]\n",
    "busTrainReps = imagenetModel.predict(trainImages['vehicle']['0089_bus'])[-3]\n",
    "\n",
    "birdTestReps = imagenetModel.predict(testImages['animal']['0085_bird'])[-3]\n",
    "dogTestReps = imagenetModel.predict(testImages['animal']['0039_dog'])[-3]\n",
    "carTestReps = imagenetModel.predict(testImages['vehicle']['0009_car'])[-3]\n",
    "busTestReps = imagenetModel.predict(testImages['vehicle']['0089_bus'])[-3]"
   ]
  },
  {
   "cell_type": "code",
   "execution_count": 47,
   "metadata": {},
   "outputs": [],
   "source": [
    "# Perform categorization comparing against only the most similar category\n",
    "withinCatImagenetData = pd.DataFrame(columns=['level', 'cat', 'resp', 'rt'])\n",
    "\n",
    "for rep in birdTestReps:\n",
    "    probs = categorization.sim_prob(rep, birdTrainReps, dogTrainReps)\n",
    "    resp, rt = categorization.LBA_deterministic(probs[0], probs[1])\n",
    "    resp = 'yes' if resp == 1 else 'no'\n",
    "    \n",
    "    # Add row\n",
    "    withinCatImagenetData = withinCatImagenetData.append({\n",
    "        'level': 'basic',\n",
    "        'cat': 'bird',\n",
    "        'resp': resp,\n",
    "        'rt': rt\n",
    "    }, ignore_index=True)\n",
    "\n",
    "for rep in dogTestReps:\n",
    "    probs = categorization.sim_prob(rep, dogTrainReps, birdTrainReps)\n",
    "    resp, rt = categorization.LBA_deterministic(probs[0], probs[1])\n",
    "    resp = 'yes' if resp == 1 else 'no'\n",
    "\n",
    "    # Add row\n",
    "    withinCatImagenetData = withinCatImagenetData.append({\n",
    "        'level': 'basic',\n",
    "        'cat': 'dog',\n",
    "        'resp': resp,\n",
    "        'rt': rt\n",
    "    }, ignore_index=True)\n",
    "\n",
    "for rep in carTestReps:\n",
    "    probs = categorization.sim_prob(rep, carTrainReps, busTrainReps)\n",
    "    resp, rt = categorization.LBA_deterministic(probs[0], probs[1])\n",
    "    resp = 'yes' if resp == 1 else 'no'\n",
    "\n",
    "    # Add row\n",
    "    withinCatImagenetData = withinCatImagenetData.append({\n",
    "        'level': 'basic',\n",
    "        'cat': 'car',\n",
    "        'resp': resp,\n",
    "        'rt': rt\n",
    "    }, ignore_index=True)\n",
    "\n",
    "for rep in busTestReps:\n",
    "    probs = categorization.sim_prob(rep, busTrainReps, carTrainReps)\n",
    "    resp, rt = categorization.LBA_deterministic(probs[0], probs[1])\n",
    "    resp = 'yes' if resp == 1 else 'no'\n",
    "\n",
    "    # Add row\n",
    "    withinCatImagenetData = withinCatImagenetData.append({\n",
    "        'level': 'basic',\n",
    "        'cat': 'bus',\n",
    "        'resp': resp,\n",
    "        'rt': rt\n",
    "    }, ignore_index=True)\n",
    "\n",
    "for rep in np.concatenate((birdTestReps, dogTestReps)):\n",
    "    probs = categorization.sim_prob(rep, [birdTrainReps, dogTrainReps], [carTrainReps, busTrainReps])\n",
    "    resp, rt = categorization.LBA_deterministic(probs[0], probs[1])\n",
    "    resp = 'yes' if resp == 1 else 'no'\n",
    "\n",
    "    # Add row\n",
    "    withinCatImagenetData = withinCatImagenetData.append({\n",
    "        'level': 'super',\n",
    "        'cat': 'animal',\n",
    "        'resp': resp,\n",
    "        'rt': rt\n",
    "    }, ignore_index=True)\n",
    "\n",
    "for rep in np.concatenate((carTrainReps, busTrainReps)):\n",
    "    probs = categorization.sim_prob(rep, [carTrainReps, busTrainReps], [birdTrainReps, dogTrainReps])\n",
    "    resp, rt = categorization.LBA_deterministic(probs[0], probs[1])\n",
    "    resp = 'yes' if resp == 1 else 'no'\n",
    "\n",
    "    # Add row\n",
    "    withinCatImagenetData = withinCatImagenetData.append({\n",
    "        'level': 'super',\n",
    "        'cat': 'vehicle',\n",
    "        'resp': resp,\n",
    "        'rt': rt\n",
    "    }, ignore_index=True)"
   ]
  },
  {
   "cell_type": "code",
   "execution_count": 48,
   "metadata": {},
   "outputs": [
    {
     "data": {
      "text/plain": [
       "level  resp\n",
       "basic  yes     354\n",
       "       no       46\n",
       "super  yes     357\n",
       "       no       43\n",
       "Name: resp, dtype: int64"
      ]
     },
     "execution_count": 48,
     "metadata": {},
     "output_type": "execute_result"
    }
   ],
   "source": [
    "# Group data basic on level and count responses\n",
    "withinCatImagenetData.groupby(['level'])['resp'].value_counts()"
   ]
  },
  {
   "cell_type": "code",
   "execution_count": 49,
   "metadata": {},
   "outputs": [
    {
     "data": {
      "text/plain": [
       "level\n",
       "basic    1.923832\n",
       "super    1.889256\n",
       "Name: rt, dtype: float64"
      ]
     },
     "execution_count": 49,
     "metadata": {},
     "output_type": "execute_result"
    }
   ],
   "source": [
    "# Group data basic on level and get mean RTs\n",
    "withinCatImagenetData.groupby(['level'])['rt'].mean()"
   ]
  },
  {
   "cell_type": "code",
   "execution_count": 50,
   "metadata": {},
   "outputs": [],
   "source": [
    "birdTrainReps = ecosetModel.predict(trainImages['animal']['0085_bird'])[-3]\n",
    "dogTrainReps = ecosetModel.predict(trainImages['animal']['0039_dog'])[-3]\n",
    "carTrainReps = ecosetModel.predict(trainImages['vehicle']['0009_car'])[-3]\n",
    "busTrainReps = ecosetModel.predict(trainImages['vehicle']['0089_bus'])[-3]\n",
    "\n",
    "birdTestReps = ecosetModel.predict(testImages['animal']['0085_bird'])[-3]\n",
    "dogTestReps = ecosetModel.predict(testImages['animal']['0039_dog'])[-3]\n",
    "carTestReps = ecosetModel.predict(testImages['vehicle']['0009_car'])[-3]\n",
    "busTestReps = ecosetModel.predict(testImages['vehicle']['0089_bus'])[-3]"
   ]
  },
  {
   "cell_type": "code",
   "execution_count": 51,
   "metadata": {},
   "outputs": [],
   "source": [
    "# Perform categorization comparing against all other categories\n",
    "betweenCatEcosetData = pd.DataFrame(columns=['level', 'cat', 'resp', 'rt'])\n",
    "\n",
    "for rep in birdTestReps:\n",
    "    probs = categorization.sim_prob(rep, birdTrainReps, [dogTrainReps, carTrainReps, busTrainReps], equalize=True)\n",
    "    resp, rt = categorization.LBA_deterministic(probs[0], probs[1])\n",
    "    resp = 'yes' if resp == 1 else 'no'\n",
    "    \n",
    "    # Add row\n",
    "    betweenCatEcosetData = betweenCatEcosetData.append({\n",
    "        'level': 'basic',\n",
    "        'cat': 'bird',\n",
    "        'resp': resp,\n",
    "        'rt': rt\n",
    "    }, ignore_index=True)\n",
    "\n",
    "for rep in dogTestReps:\n",
    "    probs = categorization.sim_prob(rep, dogTrainReps, [birdTrainReps, carTrainReps, busTrainReps], equalize=True)\n",
    "    resp, rt = categorization.LBA_deterministic(probs[0], probs[1])\n",
    "    resp = 'yes' if resp == 1 else 'no'\n",
    "\n",
    "    # Add row\n",
    "    betweenCatEcosetData = betweenCatEcosetData.append({\n",
    "        'level': 'basic',\n",
    "        'cat': 'dog',\n",
    "        'resp': resp,\n",
    "        'rt': rt\n",
    "    }, ignore_index=True)\n",
    "\n",
    "for rep in carTestReps:\n",
    "    probs = categorization.sim_prob(rep, carTrainReps, [busTrainReps, dogTrainReps, birdTrainReps], equalize=True)\n",
    "    resp, rt = categorization.LBA_deterministic(probs[0], probs[1])\n",
    "    resp = 'yes' if resp == 1 else 'no'\n",
    "\n",
    "    # Add row\n",
    "    betweenCatEcosetData = betweenCatEcosetData.append({\n",
    "        'level': 'basic',\n",
    "        'cat': 'car',\n",
    "        'resp': resp,\n",
    "        'rt': rt\n",
    "    }, ignore_index=True)\n",
    "\n",
    "for rep in busTestReps:\n",
    "    probs = categorization.sim_prob(rep, busTrainReps, [carTrainReps, dogTrainReps, birdTrainReps], equalize=True)\n",
    "    resp, rt = categorization.LBA_deterministic(probs[0], probs[1])\n",
    "    resp = 'yes' if resp == 1 else 'no'\n",
    "\n",
    "    # Add row\n",
    "    betweenCatEcosetData = betweenCatEcosetData.append({\n",
    "        'level': 'basic',\n",
    "        'cat': 'bus',\n",
    "        'resp': resp,\n",
    "        'rt': rt\n",
    "    }, ignore_index=True)\n",
    "\n",
    "for rep in np.concatenate((birdTestReps, dogTestReps)):\n",
    "    probs = categorization.sim_prob(rep, [birdTrainReps, dogTrainReps], [carTrainReps, busTrainReps])\n",
    "    resp, rt = categorization.LBA_deterministic(probs[0], probs[1])\n",
    "    resp = 'yes' if resp == 1 else 'no'\n",
    "\n",
    "    # Add row\n",
    "    betweenCatEcosetData = betweenCatEcosetData.append({\n",
    "        'level': 'super',\n",
    "        'cat': 'animal',\n",
    "        'resp': resp,\n",
    "        'rt': rt\n",
    "    }, ignore_index=True)\n",
    "\n",
    "for rep in np.concatenate((carTrainReps, busTrainReps)):\n",
    "    probs = categorization.sim_prob(rep, [carTrainReps, busTrainReps], [birdTrainReps, dogTrainReps])\n",
    "    resp, rt = categorization.LBA_deterministic(probs[0], probs[1])\n",
    "    resp = 'yes' if resp == 1 else 'no'\n",
    "\n",
    "    # Add row\n",
    "    betweenCatEcosetData = betweenCatEcosetData.append({\n",
    "        'level': 'super',\n",
    "        'cat': 'vehicle',\n",
    "        'resp': resp,\n",
    "        'rt': rt\n",
    "    }, ignore_index=True)"
   ]
  },
  {
   "cell_type": "code",
   "execution_count": 52,
   "metadata": {},
   "outputs": [
    {
     "data": {
      "text/plain": [
       "level  resp\n",
       "basic  yes     395\n",
       "       no        5\n",
       "super  yes     397\n",
       "       no        3\n",
       "Name: resp, dtype: int64"
      ]
     },
     "execution_count": 52,
     "metadata": {},
     "output_type": "execute_result"
    }
   ],
   "source": [
    "# Group data basic on level and count responses\n",
    "betweenCatEcosetData.groupby(['level'])['resp'].value_counts()"
   ]
  },
  {
   "cell_type": "code",
   "execution_count": 53,
   "metadata": {},
   "outputs": [
    {
     "data": {
      "text/plain": [
       "level\n",
       "basic    1.881294\n",
       "super    1.871480\n",
       "Name: rt, dtype: float64"
      ]
     },
     "execution_count": 53,
     "metadata": {},
     "output_type": "execute_result"
    }
   ],
   "source": [
    "# Group data basic on level and get mean RTs\n",
    "betweenCatEcosetData.groupby(['level'])['rt'].mean()"
   ]
  },
  {
   "cell_type": "code",
   "execution_count": 54,
   "metadata": {},
   "outputs": [],
   "source": [
    "birdTrainReps = imagenetModel.predict(trainImages['animal']['0085_bird'])[-3]\n",
    "dogTrainReps = imagenetModel.predict(trainImages['animal']['0039_dog'])[-3]\n",
    "carTrainReps = imagenetModel.predict(trainImages['vehicle']['0009_car'])[-3]\n",
    "busTrainReps = imagenetModel.predict(trainImages['vehicle']['0089_bus'])[-3]\n",
    "\n",
    "birdTestReps = imagenetModel.predict(testImages['animal']['0085_bird'])[-3]\n",
    "dogTestReps = imagenetModel.predict(testImages['animal']['0039_dog'])[-3]\n",
    "carTestReps = imagenetModel.predict(testImages['vehicle']['0009_car'])[-3]\n",
    "busTestReps = imagenetModel.predict(testImages['vehicle']['0089_bus'])[-3]"
   ]
  },
  {
   "cell_type": "code",
   "execution_count": 55,
   "metadata": {},
   "outputs": [],
   "source": [
    "# Perform categorization comparing against all other categories\n",
    "betweenCatImagenetData = pd.DataFrame(columns=['level', 'cat', 'resp', 'rt'])\n",
    "\n",
    "for rep in birdTestReps:\n",
    "    probs = categorization.sim_prob(rep, birdTrainReps, [dogTrainReps, carTrainReps, busTrainReps], equalize=True)\n",
    "    resp, rt = categorization.LBA_deterministic(probs[0], probs[1])\n",
    "    resp = 'yes' if resp == 1 else 'no'\n",
    "    \n",
    "    # Add row\n",
    "    betweenCatImagenetData = betweenCatImagenetData.append({\n",
    "        'level': 'basic',\n",
    "        'cat': 'bird',\n",
    "        'resp': resp,\n",
    "        'rt': rt\n",
    "    }, ignore_index=True)\n",
    "\n",
    "for rep in dogTestReps:\n",
    "    probs = categorization.sim_prob(rep, dogTrainReps, [birdTrainReps, carTrainReps, busTrainReps], equalize=True)\n",
    "    resp, rt = categorization.LBA_deterministic(probs[0], probs[1])\n",
    "    resp = 'yes' if resp == 1 else 'no'\n",
    "\n",
    "    # Add row\n",
    "    betweenCatImagenetData = betweenCatImagenetData.append({\n",
    "        'level': 'basic',\n",
    "        'cat': 'dog',\n",
    "        'resp': resp,\n",
    "        'rt': rt\n",
    "    }, ignore_index=True)\n",
    "\n",
    "for rep in carTestReps:\n",
    "    probs = categorization.sim_prob(rep, carTrainReps, [busTrainReps, dogTrainReps, birdTrainReps], equalize=True)\n",
    "    resp, rt = categorization.LBA_deterministic(probs[0], probs[1])\n",
    "    resp = 'yes' if resp == 1 else 'no'\n",
    "\n",
    "    # Add row\n",
    "    betweenCatImagenetData = betweenCatImagenetData.append({\n",
    "        'level': 'basic',\n",
    "        'cat': 'car',\n",
    "        'resp': resp,\n",
    "        'rt': rt\n",
    "    }, ignore_index=True)\n",
    "\n",
    "for rep in busTestReps:\n",
    "    probs = categorization.sim_prob(rep, busTrainReps, [carTrainReps, dogTrainReps, birdTrainReps], equalize=True)\n",
    "    resp, rt = categorization.LBA_deterministic(probs[0], probs[1])\n",
    "    resp = 'yes' if resp == 1 else 'no'\n",
    "\n",
    "    # Add row\n",
    "    betweenCatImagenetData = betweenCatImagenetData.append({\n",
    "        'level': 'basic',\n",
    "        'cat': 'bus',\n",
    "        'resp': resp,\n",
    "        'rt': rt\n",
    "    }, ignore_index=True)\n",
    "\n",
    "for rep in np.concatenate((birdTestReps, dogTestReps)):\n",
    "    probs = categorization.sim_prob(rep, [birdTrainReps, dogTrainReps], [carTrainReps, busTrainReps])\n",
    "    resp, rt = categorization.LBA_deterministic(probs[0], probs[1])\n",
    "    resp = 'yes' if resp == 1 else 'no'\n",
    "\n",
    "    # Add row\n",
    "    betweenCatImagenetData = betweenCatImagenetData.append({\n",
    "        'level': 'super',\n",
    "        'cat': 'animal',\n",
    "        'resp': resp,\n",
    "        'rt': rt\n",
    "    }, ignore_index=True)\n",
    "\n",
    "for rep in np.concatenate((carTrainReps, busTrainReps)):\n",
    "    probs = categorization.sim_prob(rep, [carTrainReps, busTrainReps], [birdTrainReps, dogTrainReps])\n",
    "    resp, rt = categorization.LBA_deterministic(probs[0], probs[1])\n",
    "    resp = 'yes' if resp == 1 else 'no'\n",
    "\n",
    "    # Add row\n",
    "    betweenCatImagenetData = betweenCatImagenetData.append({\n",
    "        'level': 'super',\n",
    "        'cat': 'vehicle',\n",
    "        'resp': resp,\n",
    "        'rt': rt\n",
    "    }, ignore_index=True)"
   ]
  },
  {
   "cell_type": "code",
   "execution_count": 56,
   "metadata": {},
   "outputs": [
    {
     "data": {
      "text/plain": [
       "level  resp\n",
       "basic  yes     377\n",
       "       no       23\n",
       "super  yes     357\n",
       "       no       43\n",
       "Name: resp, dtype: int64"
      ]
     },
     "execution_count": 56,
     "metadata": {},
     "output_type": "execute_result"
    }
   ],
   "source": [
    "# Group data basic on level and count responses\n",
    "betweenCatImagenetData.groupby(['level'])['resp'].value_counts()"
   ]
  },
  {
   "cell_type": "code",
   "execution_count": 57,
   "metadata": {},
   "outputs": [
    {
     "data": {
      "text/plain": [
       "level\n",
       "basic    1.881294\n",
       "super    1.871480\n",
       "Name: rt, dtype: float64"
      ]
     },
     "execution_count": 57,
     "metadata": {},
     "output_type": "execute_result"
    }
   ],
   "source": [
    "# Group data basic on level and get mean RTs\n",
    "betweenCatEcosetData.groupby(['level'])['rt'].mean()"
   ]
  }
 ],
 "metadata": {
  "kernelspec": {
   "display_name": "research",
   "language": "python",
   "name": "research"
  },
  "language_info": {
   "codemirror_mode": {
    "name": "ipython",
    "version": 3
   },
   "file_extension": ".py",
   "mimetype": "text/x-python",
   "name": "python",
   "nbconvert_exporter": "python",
   "pygments_lexer": "ipython3",
   "version": "3.8.10"
  },
  "orig_nbformat": 4
 },
 "nbformat": 4,
 "nbformat_minor": 2
}
